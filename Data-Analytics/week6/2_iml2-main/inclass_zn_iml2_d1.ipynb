{
 "cells": [
  {
   "cell_type": "markdown",
   "metadata": {},
   "source": [
    "<div style=\"padding: 20px;\n",
    "  text-align: center;\n",
    "  background: #cae7ed;\n",
    "  color: #003049;\n",
    "  font-size: 14px;\">\n",
    "  <h2><b>Inclass: Introduction to Machine Learning 2</b></h2>\n",
    "  <img src=\"https://miro.medium.com/v2/resize:fit:640/format:webp/0*tVCene42rgUTNv9Q.png\" alt=\"drawing\" width=\"150\"/>\n",
    "   <hr>\n",
    "</div>\n",
    "\n",
    "- Part 6 of Data Analytics Specialization\n",
    "- Course length: 9 Hours\n",
    "- Instructor: Rany Dwi Cahyaningtyas\n",
    "\n",
    "*Managed and developed by Algoritma Products Team Division*"
   ]
  },
  {
   "cell_type": "code",
   "execution_count": 1,
   "metadata": {},
   "outputs": [],
   "source": [
    "# library preparation\n",
    "import pandas as pd\n",
    "\n",
    "# pandas output display setup\n",
    "pd.options.display.float_format = '{:,.2f}'.format"
   ]
  },
  {
   "cell_type": "markdown",
   "metadata": {},
   "source": [
    "# Introduction\n",
    "\n",
    "## Time Series & Forecasting\n",
    "\n",
    "- **Time Series** merupakan data yang berhubungan dengan waktu yang memiliki interval waktu yang sama (memiliki periode pengambilan data sama). Contoh:\n",
    "    - Data harga saham\n",
    "    - Data kenaikan harga cabai\n",
    "    - Pendapatan bulanan\n",
    "    - Data curah hujan\n",
    "\n",
    "- **Forecasting** merupakan **proses prediksi** untuk data time series berdasarkan pola data historiknya."
   ]
  },
  {
   "cell_type": "markdown",
   "metadata": {},
   "source": [
    "## Regression vs Time Series\n",
    "\n",
    "| **Karakteristik** | **Regresi**                              | **Peramalan/Forecasting**                      |\n",
    "|-------------------|------------------------------------------|------------------------------------|\n",
    "| **Tujuan Utama**  | Menemukan hubungan antara variabel dependen dan independen.       | Meramalkan nilai masa depan berdasarkan data historis.        |\n",
    "| **Variabel**      | Terdapat variabel dependen (Y) dan variabel independen (X1, X2, ...)          | Mungkin hanya satu variabel dependen (misalnya, penjualan)        |\n",
    "| **Fungsi**        | Memprediksi nilai Y berdasarkan nilai-nilai X.          | Memprediksi nilai masa depan Y berdasarkan data masa lalu.     |\n",
    "| **Hubungan**      | Menunjukkan hubungan linear atau  non-linear antara variabel.       | Fokus pada tren, musiman, dan faktor lain yang memengaruhi.     |"
   ]
  },
  {
   "cell_type": "markdown",
   "metadata": {},
   "source": [
    "# Working with Time Series Data\n",
    "\n",
    "**Time Series Workflow**\n",
    "\n",
    "1. [Import Data](#0)\n",
    "2. [Data Wrangling](#1)\n",
    "3. [Exploratory Data Analyis](#2) \n",
    "4. [Modeling](#3)\n",
    "5. [Model Interpretation](#4)\n",
    "6. [Forecast Evaluation](#6)\n",
    "7. [Model Tuning](#6)"
   ]
  },
  {
   "cell_type": "markdown",
   "metadata": {},
   "source": [
    "## 1. Import Data <a id=\"0\" ></a>\n",
    "\n",
    "📍 **Dataset** : Data time series penjualan harian dari perusahaan perangkat lunak terbesar di Rusia bernama **1C Company** dari [Kaggle](https://www.kaggle.com/c/competitive-data-science-predict-future-sales/overview)\n",
    "> - Data mencakup beberapa tahun dan berisi tentang informasi penjualan harian berbagai produk perangkat lunak di berbagai toko\n",
    "\n",
    "📍 **Bussiness Problem** : Memprediksi total penjualan untuk setiap produk disuatu toko di bulan selanjutnya\n",
    "\n",
    "🎯 **Tujuan**: Membantu mengoptimalkan manajemen inventaris dan strategi penjualan"
   ]
  },
  {
   "cell_type": "code",
   "execution_count": null,
   "metadata": {},
   "outputs": [],
   "source": []
  },
  {
   "cell_type": "code",
   "execution_count": null,
   "metadata": {},
   "outputs": [],
   "source": []
  },
  {
   "cell_type": "markdown",
   "metadata": {},
   "source": [
    "Deskripsi data:\n",
    "- Data terdiri dari 2,935,849 observasi baris dan 8 variabel atau kolom\n",
    "- Glossary Data:\n",
    "    + `date`: tanggal dengan format **dd.mm.yyyy**\n",
    "    + `date_block_num`: urutan angka untuk bulan (Jan 2013 = 0, Feb 2013 = 1, ... Okt 2015 = 33)\n",
    "    + `shop_id`: nomor identitas toko (0-59)\n",
    "    + `ship_name`: nama toko\n",
    "    + `item_id`: nomor identitas produk\n",
    "    + `item_price`: harga barang di tanggal tersebut\n",
    "    + `item_cnt_day`: jumlah barang terjual di tanggal tersebut\n",
    "    + `total_revenue`: pendapatan kotor per hari (`item_cnt_day` * `item_price`)"
   ]
  },
  {
   "cell_type": "markdown",
   "metadata": {},
   "source": [
    "## 2. Data Wrangling <a id=\"1\" ></a>\n",
    "\n",
    "🔎 Data time series merupakan data yang dikumpulkan pada interval **waktu yang teratur**. Dalam kasus ini kita ingin menganalisis tentang **total penjualan** perangkat lunak yang dikumpulkan **setiap hari**.\n",
    "\n",
    "Beberapa hal yang wajib diperhatikan ketika melakukan analisis data time series yaitu:\n",
    "\n",
    "- Konversi tipe kolom **date** ke `datetime64[ns]`\n",
    "- Memastikan data terurut dengan baik (terlampau >> terbaru)\n",
    "- Membuat data menjadi interval yang tetap (harian)"
   ]
  },
  {
   "cell_type": "markdown",
   "metadata": {},
   "source": [
    "### Konversi tipe kolom **date** ke `datetime64[ns]`\n",
    "\n",
    "Kolom yang akan masuk ke dalam pemodelan `prophet` harus bertipe data `datetime64[ns]`, oleh sebab itu wajib kita lakukan perubahan tipe data terlebih dahulu."
   ]
  },
  {
   "cell_type": "code",
   "execution_count": null,
   "metadata": {},
   "outputs": [],
   "source": [
    "# cek tipe data sebelum konversi\n"
   ]
  },
  {
   "cell_type": "markdown",
   "metadata": {},
   "source": [
    "Sebelum melakukan konversi tipe data, kita perlu memeriksa cara penulisan tanggal pada data kita terlebih dahulu, agar tidak terjadi kesalahan pada saat konversi (misal, bulan menjadi tanggal, atau sebaliknya)."
   ]
  },
  {
   "cell_type": "code",
   "execution_count": null,
   "metadata": {},
   "outputs": [],
   "source": [
    "# cek cara penulisan tanggal\n",
    "sales.head(2)"
   ]
  },
  {
   "cell_type": "markdown",
   "metadata": {},
   "source": [
    "> Format: ____\n",
    "\n",
    "Jika kita sudah yakin, maka kita dapat melakukan konversi tipe data ke `datetime64[ns]`"
   ]
  },
  {
   "cell_type": "code",
   "execution_count": null,
   "metadata": {},
   "outputs": [],
   "source": [
    "# to datetime\n",
    "sales['date'] = "
   ]
  },
  {
   "cell_type": "code",
   "execution_count": null,
   "metadata": {},
   "outputs": [],
   "source": [
    "# cek tipe data setelah konversi\n",
    "sales.dtypes"
   ]
  },
  {
   "cell_type": "markdown",
   "metadata": {},
   "source": [
    "### Memastikan data terurut dengan baik\n",
    "\n",
    "Salah satu syarat dalam membuat model Time Series adalah data tanggal harus terurut dengan baik dari data **paling lampau** sampai dengan data **paling baru**.\n",
    "\n",
    "Untuk mengurutkan data, kita dapat menggunakan method `.sort_values()`"
   ]
  },
  {
   "cell_type": "code",
   "execution_count": null,
   "metadata": {},
   "outputs": [],
   "source": [
    "# Sort the data ascending by date column\n",
    "sales = "
   ]
  },
  {
   "cell_type": "markdown",
   "metadata": {},
   "source": [
    "Setelah tanggal sudah terurut, kita dapat melihat range tanggal pada data kita.\n",
    "- Penjualan paling awal: ___\n",
    "- Penjualan paling akhir: ___"
   ]
  },
  {
   "cell_type": "markdown",
   "metadata": {},
   "source": [
    "### Membuat data menjadi interval yang tetap\n",
    "\n",
    "Hal yang penting dari sebuah data time series adalah memiliki **interval waktu yang tetap**, seperti interval harian, mingguan ataupun bulanan. Tidak boleh ada data yang **berulang pada tanggal yang sama**.\n",
    "\n",
    "Pada data di atas, terdapat beberapa observasi dalam satu hari untuk toko yang sama, karena satu toko dapat menjual beberapa produk *software* yang berbeda dalam satu hari. Oleh karena itu, data kita masih dalam interval yang tidak tetap. "
   ]
  },
  {
   "cell_type": "markdown",
   "metadata": {},
   "source": [
    "🎯 Kita akan melakukan agregasi untuk menghitung jumlah penjualan (`item_cnt_day`) dan total pendapatan (`total_revenue`) untuk tiap tanggal `date` di masing-masing toko `shop_id`.\n",
    "\n",
    "❗️ Ubah data tersebut menjadi data yang diinginkan\n",
    "\n",
    "\n",
    "|     date    | shop_id | total_qty | total_revenue |\n",
    "|:-----------:|:-------:|:---------:|:-------------:|\n",
    "|  2013-01-01 |   2    |   24.00   | 31,886.00      |\n",
    "|  2013-01-01 |   7    |   89.00   | 59,993.00      |\n",
    "|  2013-01-01 |   8    |   50.00   | 44,516.00      |\n",
    "|  2013-01-01 |   13   |   31.00   | 6,043.00       |\n",
    "|  2013-01-01 |   14   |   66.00   | 48,847.00      |"
   ]
  },
  {
   "cell_type": "code",
   "execution_count": null,
   "metadata": {},
   "outputs": [],
   "source": [
    "# menghitung jumlah item & revenue per hari untuk tiap toko\n",
    "daily_sales = sales.groupby(['date', 'shop_id']).sum()[['item_cnt_day', 'total_revenue']].reset_index()\n",
    "\n",
    "# mengubah nama kolom\n",
    "daily_sales = daily_sales.rename(columns = {'item_cnt_day': 'total_qty'})\n",
    "\n",
    "daily_sales.head()"
   ]
  },
  {
   "cell_type": "markdown",
   "metadata": {},
   "source": [
    "Tiap toko akan memiliki data dengan tanggal yang berurutan dan tidak berulang. Untuk memastikan agregasi kita sudah benar, pastikan untuk `shop_id == 2`"
   ]
  },
  {
   "cell_type": "code",
   "execution_count": null,
   "metadata": {},
   "outputs": [],
   "source": [
    "daily_sales[daily_sales['shop_id'] == 2]"
   ]
  },
  {
   "cell_type": "markdown",
   "metadata": {},
   "source": [
    "## 3. Exploratory Data Analysis <a id=\"2\"></a>"
   ]
  },
  {
   "cell_type": "markdown",
   "metadata": {},
   "source": [
    "**❓ Task 1** Sebagai sebuah perusahaan software terbesar di Rusia, 1C Company menjual produknya ke berbagai toko. Ada berapa jumlah toko yang menjual software buatan 1C?"
   ]
  },
  {
   "cell_type": "code",
   "execution_count": null,
   "metadata": {},
   "outputs": [],
   "source": [
    "# code here\n"
   ]
  },
  {
   "cell_type": "markdown",
   "metadata": {},
   "source": [
    "📝 **Insight**: ___"
   ]
  },
  {
   "cell_type": "markdown",
   "metadata": {},
   "source": [
    "**❓ Task 2** Dari toko-toko tersebut, manakah Top 3 `shop_id` dengan `total_qty` terbanyak?"
   ]
  },
  {
   "cell_type": "code",
   "execution_count": null,
   "metadata": {},
   "outputs": [],
   "source": [
    "# code here\n",
    "daily_sales[[___, ___]].groupby(___).sum()"
   ]
  },
  {
   "cell_type": "code",
   "execution_count": null,
   "metadata": {},
   "outputs": [],
   "source": [
    "# sort_values()\n"
   ]
  },
  {
   "cell_type": "markdown",
   "metadata": {},
   "source": [
    "📝 **Insight**: Dari hasil analisis kita di atas, terlihat **toko ___, ___, dan ___** adalah 3 toko dengan penjualan produk terbanyak."
   ]
  },
  {
   "cell_type": "markdown",
   "metadata": {},
   "source": [
    "**❓ Task 3** Kita akan berfokus kepada 3 toko ini saja. Buat dataframe baru bernama `top_3` yang berisi 3 toko tadi saja!"
   ]
  },
  {
   "cell_type": "code",
   "execution_count": null,
   "metadata": {},
   "outputs": [],
   "source": [
    "# membuat syarat untuk conditional subseting\n",
    "conditions = (daily_sales['shop_id'] == ___) | (daily_sales['shop_id'] == ___) | (daily_sales['shop_id'] == ___)\n",
    "\n",
    "# filtering\n",
    "top_3 = daily_sales[conditions]\n",
    "top_3"
   ]
  },
  {
   "cell_type": "markdown",
   "metadata": {},
   "source": [
    "### Visualization: Multiple vs Multivariate Time Series\n",
    "\n",
    "Sebelum kita masuk ke tahapan pembuatan model, kita perlu melakukan analisis berdasarkan visualisasi datanya. Pada bagian ini kita akan menggunakan library **`matplotlib` dan `seaborn`**."
   ]
  },
  {
   "cell_type": "markdown",
   "metadata": {},
   "source": [
    "📌 Informasi tambahan tentang perbedaan *multiple* dengan *multivariate* pada kasus time series, berikut adalah definisi dari keduanya:\n",
    "\n",
    "| **Karakteristik**                   | **Data Time Series Multiple**                 | **Data Time Series Multivariate**         |\n",
    "|-------------------------------------|----------------------------------------------|------------------------------------------|\n",
    "| **Definisi**                        | Terdapat **satu variabel** dari **banyak objek** yang ditinjau dari waktu ke waktu.       | Terdapat **banyak variabel** dari hanya **satu objek** yang ditinjau dari waktu ke waktu |\n",
    "| **Tujuan**                          | Membandingkan pola dan tren beberapa object dari seri waktu. | Memahami hubungan antara variabel-variabel yang berubah seiring waktu dan mengidentifikasi interaksi antara variabel-variabel tersebut. |"
   ]
  },
  {
   "cell_type": "code",
   "execution_count": null,
   "metadata": {},
   "outputs": [],
   "source": [
    "# data visualization library\n",
    "import matplotlib.pyplot as plt\n",
    "import seaborn as sns"
   ]
  },
  {
   "cell_type": "markdown",
   "metadata": {},
   "source": [
    "#### Multiple Time Series\n",
    "\n",
    "Pada kasus kita, multiple time series adalah ketika kita meninjau fluktuasi dari variabel `total_qty` pada **tiga toko** terpopuler."
   ]
  },
  {
   "cell_type": "code",
   "execution_count": null,
   "metadata": {},
   "outputs": [],
   "source": [
    "multiple = top_3.pivot_table(index='date', # Kolom date\n",
    "                                   columns='shop_id', # Dipisah berdasarkan kode toko\n",
    "                                   values='total_qty', # Total produk terjual\n",
    "                                   aggfunc='sum')\n",
    "multiple.head()"
   ]
  },
  {
   "cell_type": "code",
   "execution_count": null,
   "metadata": {},
   "outputs": [],
   "source": [
    "multiple.plot(subplots=True, figsize=(10, 5));"
   ]
  },
  {
   "cell_type": "markdown",
   "metadata": {},
   "source": [
    "\n",
    "📈 Dengan melihat visualisasi tersebut kita mendapatkan:\n",
    "\n",
    "**1. Bagaimana pola penjualannya?**\n",
    "> ......\n",
    "\n",
    "**2. Bagaimana tren tiap toko?**\n",
    "> ......\n",
    "\n",
    "**3. Bagaimana fluktuasinya?**\n",
    "> ......\n"
   ]
  },
  {
   "cell_type": "markdown",
   "metadata": {},
   "source": [
    "#### Multivariate Time Series\n",
    "\n",
    "Pada kasus kita, multivariate time series adalah ketika kita meninjau pergerakan dari `total_qty` dan `total_revenue` dari toko 31 saja. Kita akan melakukan conditional subsetting dari data `daily_sales` untuk membuat `daily_sales_31`."
   ]
  },
  {
   "cell_type": "code",
   "execution_count": null,
   "metadata": {},
   "outputs": [],
   "source": [
    "daily_sales_31 = top_3[top_3['shop_id'] == 31].reset_index(drop=True)"
   ]
  },
  {
   "cell_type": "code",
   "execution_count": null,
   "metadata": {},
   "outputs": [],
   "source": [
    "daily_sales_31.set_index('date')[['total_qty', 'total_revenue']].plot(subplots=True,figsize=(10, 5))\n",
    "plt.suptitle('DAILY SOFTWARE SALES: STORE 31')\n",
    "plt.show()"
   ]
  },
  {
   "cell_type": "markdown",
   "metadata": {},
   "source": [
    "📈 Dengan melihat visualisasi tersebut kita mendapatkan:\n",
    "\n",
    "**1. Bagaimana fluktuasinya?**\n",
    ">  ......\n",
    "\n",
    "**2. Bagaimana hubungan antar variabelnya??**\n",
    "> ......\n",
    "\n"
   ]
  },
  {
   "cell_type": "markdown",
   "metadata": {},
   "source": [
    "## 4. Modelling using [`prophet`](https://facebook.github.io/prophet/) <a id=\"3\"></a>\n",
    "\n",
    "Konsep dasar dalam pemahaman kasus time series adalah dengan melakukan pemecahan komponen dari data time series (***decompose***). *Decompose* time series memiliki banyak macam dan algoritma yang dapat digunakan. Konsep yang digunakan oleh `Prophet` dalam melakukan decompose adalah metode **Generative Additive Model (GAM)**"
   ]
  },
  {
   "cell_type": "markdown",
   "metadata": {},
   "source": [
    "**General Additive Model (GAM)**\n",
    "\n",
    "> Salah satu kemajuan terbaru dalam pemodelan data time series yang memandang time series sebagai hasil penjumlahan dari komponennya: \n",
    ">> $Y(t) = T(t) + S(t) + E(t)$\n",
    "> - **Trend (T)**: Pergerakan jangka panjang dalam nilai rata-ratanya.\n",
    "> - **Seasonality (S)**: Efek musiman berulang.\n",
    "> - **Residuals (E)**: Komponen tak teratur atau fluktuasi acak yang tidak dijelaskan oleh tren dan musiman.\n",
    "\n",
    "**`prophet`**\n",
    "> - Dikembangkan oleh facebook untuk membuat pemodelan data time series lebih mudah diakses oleh non ekspert.\n",
    "> - Pendekatan yang sederhana sehingga mudah dipahami dan cocok untuk pemula\n",
    "> - `prophet` memanfaatkan GAM yang menambahkan efek hari libur untuk memodelkan jadwal yang tidak teratur."
   ]
  },
  {
   "cell_type": "markdown",
   "metadata": {},
   "source": [
    "<div class=\"alert\">\n",
    "\n",
    "📍 **Business Problem** :  Melakukan prediksi penjualan harian untuk toko 31.\n",
    "\n",
    "📍 **Tujuan**: Membantu mengoptimalkan manajemen inventaris dan strategi penjualan.\n",
    "\n",
    "📍 **Data**: Kita akan menggunakan data penjualan harian untuk toko 31. Toko ini cocok digunakan karena memiliki :\n",
    "\n",
    "1. Relevansi bisnis: sebagai toko dengan penjualan tertinggi.\n",
    "2. Sederhana dan terfokus: Meminimalkan kompleksitas model dan memudahkan pengembangan strategi forecasting yang dapat diimplementasikan dengan mudah.\n",
    "3. Ketersediaan data: toko 31 memiliki data yang lebih lengkap dan konsisten per hari dibandingkan toko lain.\n",
    "\n",
    "Catatan: Perlu diingat bahwa pemilihan toko ini dapat disesuaikan jika terdapat kebutuhan bisnis spesifik yang memerlukan analisis pada toko lain.\n",
    "\n",
    "</div>"
   ]
  },
  {
   "cell_type": "markdown",
   "metadata": {},
   "source": [
    "### **Data Preparation**\n",
    "\n",
    "Untuk menggunakan `prophet`, kita perlu mempersiapkan data time series ke dalam format yang spesifik sesuai kebutuhan library ini. \n",
    "\n",
    "<div class=\"alert\">\n",
    "\n",
    "- Data frame harus terdiri dari 2 kolom dengan nama sebagai berikut:\n",
    "    + `ds`: kolom penanda waktu, harus bertipe `datetime64`\n",
    "    + `y`: nilai yang ingin diprediksi\n",
    "\n",
    "</div>\n",
    "\n",
    "🔻 Pada contoh di bawah kita akan menggunakan `total_qty` pada toko 31 sebagai nilai yang ingin kita forecast."
   ]
  },
  {
   "cell_type": "code",
   "execution_count": null,
   "metadata": {},
   "outputs": [],
   "source": [
    "# hanya mengambil kolom date & total_qty\n",
    "daily_total_qty = daily_sales_31[['date', 'total_qty']]\n",
    "\n",
    "# mengganti nama kolom menjadi ds & y\n",
    "daily_total_qty = daily_total_qty.rename(\n",
    "    columns = {'date' : 'ds',\n",
    "               'total_qty' : 'y'})\n",
    "\n",
    "daily_total_qty.head()"
   ]
  },
  {
   "cell_type": "markdown",
   "metadata": {},
   "source": [
    "### **Fitting Model**\n",
    "\n",
    "🔻 Setelah semua persiapan data selesai. Kini kita tugaskan `prophet` untuk mencari pola dari data time series kita. Adapun langkah pembuatan model, yaitu:"
   ]
  },
  {
   "cell_type": "markdown",
   "metadata": {},
   "source": [
    "![](assets/fit-model.jpg)"
   ]
  },
  {
   "cell_type": "code",
   "execution_count": null,
   "metadata": {},
   "outputs": [],
   "source": [
    "# load library\n",
    "from prophet import Prophet"
   ]
  },
  {
   "cell_type": "markdown",
   "metadata": {},
   "source": [
    "🔻Inisiasi object model menggunakan fungsi `Prophet()`"
   ]
  },
  {
   "cell_type": "code",
   "execution_count": null,
   "metadata": {},
   "outputs": [],
   "source": []
  },
  {
   "cell_type": "markdown",
   "metadata": {},
   "source": [
    "🔻 Fitting data `daily_total_qty` menggunakan method `fit()`"
   ]
  },
  {
   "cell_type": "code",
   "execution_count": 1,
   "metadata": {},
   "outputs": [],
   "source": [
    "# melakukan fitting / training\n"
   ]
  },
  {
   "cell_type": "markdown",
   "metadata": {},
   "source": [
    "### **Forecast Model**\n",
    "\n",
    "Berikut untuk tahapan pada saat melakukan forecasting model Prophet:\n",
    "\n",
    "![](assets/forecast-model.jpg)\n"
   ]
  },
  {
   "cell_type": "markdown",
   "metadata": {},
   "source": [
    "🔻 **Menentukan Periode Forecasting**\n",
    "\n",
    "> Dalam kasus ini, kita melakukan forecasting selama **1 tahun kedepan**\n",
    "\n",
    "❗️ Membuat dataframe masa depan menggunakan method `make_future_dataframe()` dari objek model kita yaitu `model_31` dan tentukan parameter:\n",
    "\n",
    "- `periods` = banyaknya data yang akan kita forecast\n",
    "- `freq` = format data/frequency. `D` (day), `M` (month), dll"
   ]
  },
  {
   "cell_type": "code",
   "execution_count": null,
   "metadata": {},
   "outputs": [],
   "source": [
    "# dataframe baru berisikan data waktu lama disertai data waktu baru\n",
    "future_31 = ___                                        "
   ]
  },
  {
   "cell_type": "markdown",
   "metadata": {},
   "source": [
    "🔻 Prediksi data\n",
    "\n",
    "Kita akan menggunakan dataframe `future_31` ini untuk melakukan forecasting menggunakan method `.predict()`."
   ]
  },
  {
   "cell_type": "code",
   "execution_count": null,
   "metadata": {},
   "outputs": [],
   "source": [
    "forecast_31 = ___\n",
    "forecast_31.head()"
   ]
  },
  {
   "cell_type": "markdown",
   "metadata": {},
   "source": [
    "Dari berbagai nilai di atas kita akan mengambil beberapa informasi saja, yaitu:\n",
    "- `ds`: Tanggal\n",
    "- `trend`: Nilai trend\n",
    "- `weekly`: Nilai seasonal mingguan\n",
    "- `yearly`: Nilai seasonal tahunan\n",
    "- `yhat`: Nilai prediksi\n",
    "\n",
    "<details>\n",
    "    <summary>🔻 Detail deskripsi setiap kolom hasil predict </summary>\n",
    "    \n",
    "- `yhat_lower`: batas bawah dari nilai prediksi\n",
    "- `yhat_upper`: batas atas dari nilai prediksi\n",
    "\n",
    "- `trend_lower`: batas bawah dari tren\n",
    "- `trend_upper`: batas atas dari tren\n",
    "\n",
    "- `weekly_lower`: batas bawah dari komponen mingguan dari nilai prediksi\n",
    "- `weekly_upper`: batas atas dari komponen mingguan dari nilai prediksi\n",
    "\n",
    "\n",
    "- `yearly_lower`: batas bawah dari komponen tahunan dari nilai prediksi\n",
    "- `yearly_upper`: batas atas dari komponen tahunan dari nilai prediksi\n",
    "\n",
    "- `additive_terms`: komponen tambahan dari nilai prediksi\n",
    "- `additive_terms_lower`: batas bawah dari komponen tambahan dari nilai prediksi\n",
    "- `additive_terms_upper`: batas atas dari komponen tambahan dari nilai prediksi\n",
    "\n",
    "- `multiplicative_terms`: komponen perkalian dari nilai prediksi\n",
    "- `multiplicative_terms_lower`: batas bawah dari komponen perkalian dari nilai prediksi\n",
    "- `multiplicative_terms_upper`: batas atas dari komponen perkalian dari nilai prediksi\n",
    "    \n",
    "</details>"
   ]
  },
  {
   "cell_type": "code",
   "execution_count": null,
   "metadata": {},
   "outputs": [],
   "source": [
    "forecast_31[['ds', 'trend', 'weekly', 'yearly', 'yhat']]"
   ]
  },
  {
   "cell_type": "markdown",
   "metadata": {},
   "source": [
    "<div class=\"alert alert-danger\"><center>\n",
    "  <details>\n",
    "      <summary><b>💬 Ingat Kembali: Konsep GAM </b></summary>GAM merupakan model yang bersifat aditif, yang berarti <br> menjelaskan data time series sebagai hasil penjumlahan dari beberapa komponen.\n",
    "</div> "
   ]
  },
  {
   "cell_type": "markdown",
   "metadata": {},
   "source": [
    "💬 Pada kasus data kita, model kita telah mengekstrak 3 tipe komponen: `trend`, `weekly` seasonaliti, dan `yearly` seasonaliti. Oleh sebab itu, formulanya menjadi\n",
    "\n",
    "$yhat(t) = T(t) + S_{weekly}(t) + S_{yearly}(t)$"
   ]
  },
  {
   "cell_type": "markdown",
   "metadata": {},
   "source": [
    "❗️ Pembuktian bahwa `forecast_31` memuat fungsi berikut `yhat` = `trend` + `weekly` + `yearly`."
   ]
  },
  {
   "cell_type": "code",
   "execution_count": null,
   "metadata": {},
   "outputs": [],
   "source": [
    "# penjumlahan manual\n",
    "(forecast_31['trend'] + forecast_31['weekly'] + forecast_31['yearly']).head()"
   ]
  },
  {
   "cell_type": "code",
   "execution_count": null,
   "metadata": {},
   "outputs": [],
   "source": [
    "# sama dengan nilai yhat\n",
    "(forecast_31['yhat']).head()"
   ]
  },
  {
   "cell_type": "markdown",
   "metadata": {},
   "source": [
    "### **Visualisasi**"
   ]
  },
  {
   "cell_type": "markdown",
   "metadata": {},
   "source": [
    "Setelah membuat model dan melakukan forecast, kita akan melakukan visualisasi dari `model_31` dengan method `.plot()` yang diisi dengan hasil forecast-nya (`forecast_31`). \n",
    "\n",
    "Hasil plot akan menampilkan data asli berupa titik-titik hitam dan hasil model fitted serta forecast dengan garis biru."
   ]
  },
  {
   "cell_type": "code",
   "execution_count": null,
   "metadata": {},
   "outputs": [],
   "source": [
    "# your code here\n"
   ]
  },
  {
   "cell_type": "markdown",
   "metadata": {},
   "source": [
    "## 5. Model Interpretation <a id=\"4\" ></a>"
   ]
  },
  {
   "cell_type": "markdown",
   "metadata": {},
   "source": [
    "Model time series yang kita buat selain untuk dapat digunakan untuk meramalkan kejadian di masa depan juga dapat digunakan sebagai penarikan insight terhadap data historis.\n",
    "\n",
    "Dalam melakukan interpretasi, kita dapat melihat komponen time series dengan menggunakan fungsi `.plot_components()` dari objek `model_31`"
   ]
  },
  {
   "cell_type": "code",
   "execution_count": null,
   "metadata": {},
   "outputs": [],
   "source": [
    "# your code here\n"
   ]
  },
  {
   "cell_type": "markdown",
   "metadata": {},
   "source": [
    "🔻 Komponen:\n",
    "\n",
    "- **Trend:** Pergerakan jangka panjang dari data kita.\n",
    "\n",
    "- **Seasonal:** Pola berulang dalam periode tertentu (musiman)\n",
    "    - weekly: pola berulang mingguan\n",
    "    - yeayly: pola berulang tahunan"
   ]
  },
  {
   "cell_type": "markdown",
   "metadata": {},
   "source": [
    "❓ Insight apa saja yang dapat kita ambil dari visualisasi di atas?\n",
    "\n",
    "- **TREND COMPONENT**\n",
    "    - trendnya .... dari waktu ke waktu\n",
    "\n",
    "- **WEEKLY SEASONALITY**\n",
    "    - penjualan cenderung lebih tinggi di waktu ....\n",
    "    - Penjualan terendah di hari ....\n",
    "\n",
    "- **YEARLY SEASONALITY**\n",
    "    - ...."
   ]
  },
  {
   "cell_type": "markdown",
   "metadata": {},
   "source": [
    "## 6. Time Series Component\n",
    "\n",
    "| **Komponen** | **Penerapan Bisnis**                                                                                                                                                 |\n",
    "|--------------|----------------------------------------------------------------------------------------------------------------------------------------------------------------------|\n",
    "| **Trend**        | Bisnis dapat merencanakan pertumbuhan jangka panjang  dan mengidentifikasi perubahan pasar                                                                           |\n",
    "| **Seasonality**  | Dengan memahami musiman, bisnis dapat menyesuaikan strategi pemasaran,  persediaan, dan penawaran khusus untuk mengikuti pola musiman.                               |\n",
    "| **Holiday**      | Dengan memahami efek liburan, bisnis dapat merencanakan  persiapan khusus untuk menghadapi lonjakan permintaan atau  menawarkan promosi yang relevan selama liburan. |"
   ]
  },
  {
   "cell_type": "markdown",
   "metadata": {},
   "source": [
    "### Trend Component"
   ]
  },
  {
   "cell_type": "markdown",
   "metadata": {},
   "source": [
    "Trend adalah pergerakan data secara general dalam jangka panjang. `Prophet` menggunakan **linear regression** untuk mendapatkan trend yang dapat digambarkan sebagai berikut:\n",
    "\n",
    "![](assets/trend.png)\n",
    "\n",
    "📖 Further reading for [math behind trend in `prophet`](https://github.com/ranydwi/prophet_trend/blob/main/math_behind_trend.ipynb)"
   ]
  },
  {
   "cell_type": "markdown",
   "metadata": {},
   "source": [
    "Dari visualisasi di atas kita dapat melihat komponen trend data penjualan dari waktu ke waktu untuk shop_id 31. Kita dapat mengamati apakah trend tersebut meningkat, menurun, atau tetap."
   ]
  },
  {
   "cell_type": "markdown",
   "metadata": {},
   "source": [
    "#### Automatic Changepoint Detection"
   ]
  },
  {
   "cell_type": "markdown",
   "metadata": {},
   "source": [
    "<div class=\"alert alert-success\">\n",
    "Kelebihan dari `Prophet` yaitu dengan adanya <b>changepoint detection</b> yang bisa mendeteksi otomatis adanya perubahan signifikan pada trend. \n",
    "</div> \n",
    "\n",
    "`Prophet` akan membagi data kita pada beberapa titik dan menghitung trend per bagian secara terpisah.\n",
    "\n",
    "🔎 **Default Setting**\n",
    "> - `n_changepoints=25`: 25 jumlah changepoint\n",
    "> - `changepoint_range=0.8`: 80% data awal tempat changepoints berada\n",
    "\n",
    "> Ini berarti Prophet akan mencari hingga 25 changepoints yang mungkin dalam 80% awal data untuk membantu mengidentifikasi di mana tren mungkin berubah.\n",
    "\n",
    "Changepoint dapat divisualisasikan dengan menggunakan fungsi `add_changepoints_to_plot()`."
   ]
  },
  {
   "cell_type": "code",
   "execution_count": null,
   "metadata": {},
   "outputs": [],
   "source": [
    "# for illustration purposes only, threshold = 0\n",
    "from prophet.plot import add_changepoints_to_plot\n",
    "\n",
    "fig = model_31.plot(forecast_31)\n",
    "a = add_changepoints_to_plot(\n",
    "    ax = fig.gca(), # plot\n",
    "    m = model_31, # model\n",
    "    fcst = forecast_31,\n",
    "    threshold = 0) # hasil forecast"
   ]
  },
  {
   "cell_type": "markdown",
   "metadata": {},
   "source": [
    "Dari 25 changepoints prophet akan menghitung besarnya tingkat perubahan pada slope dan akan menentukan mana yang paling signifikan. \n",
    "\n",
    "🔻 Model ini mendeteksi 3 changepoints yang signifikan"
   ]
  },
  {
   "cell_type": "code",
   "execution_count": null,
   "metadata": {},
   "outputs": [],
   "source": [
    "fig = model_31.plot(forecast_31)\n",
    "a = add_changepoints_to_plot(fig.gca(), model_31, forecast_31)"
   ]
  },
  {
   "cell_type": "markdown",
   "metadata": {},
   "source": [
    "#### Adjusting Trend Flexibility"
   ]
  },
  {
   "cell_type": "markdown",
   "metadata": {},
   "source": [
    "Jika trend dirasa terlalu fleksibel (overfit) atau kaku (underfit), Prophet menyediakan hyperparameter untuk merubah fleksibilatas dari trend, yaitu:\n",
    "\n",
    "💬 **Parameter yang direkomendasikan untuk ditune**\n",
    "\n",
    "- `changepoint_prior_scale` (default = 0.05): Fleksibilitas dari trend. Semakin besar nilainya, maka trend akan semakin fleksibel, begitupun pula sebaliknya Rekomendasi: range[0.001, 0.5]"
   ]
  },
  {
   "cell_type": "markdown",
   "metadata": {},
   "source": [
    "1️⃣ Fitting Model\n",
    "\n",
    "❗️Mengatur parameter `changepoint_prior_scale = 0.5` akan membuat trend lebih fleksibel dalam mendeteksi titik perubahan trend. Membantu menangkap pola yang lebih kompleks dalam data, namun juga meningkatkan resiko overfitting"
   ]
  },
  {
   "cell_type": "code",
   "execution_count": null,
   "metadata": {},
   "outputs": [],
   "source": [
    "# membuat object trend tuning\n",
    "model_tuning_trend = ___\n",
    "\n",
    "# fitting model\n",
    "model_tuning_trend.fit(daily_total_qty)"
   ]
  },
  {
   "cell_type": "markdown",
   "metadata": {},
   "source": [
    "2️⃣ Forecasting"
   ]
  },
  {
   "cell_type": "code",
   "execution_count": null,
   "metadata": {},
   "outputs": [],
   "source": [
    "# forecasting\n",
    "future = model_tuning_trend.make_future_dataframe(periods = 365, freq = 'D')\n",
    "forecast_trend_tuning = model_tuning_trend.predict(future)"
   ]
  },
  {
   "cell_type": "markdown",
   "metadata": {},
   "source": [
    "3️⃣ Visualization"
   ]
  },
  {
   "cell_type": "code",
   "execution_count": null,
   "metadata": {},
   "outputs": [],
   "source": [
    "# visualize\n",
    "fig = model_tuning_trend.plot(forecast_tuning)\n",
    "a = add_changepoints_to_plot(fig.gca(), model_tuning_trend, forecast_tuning)"
   ]
  },
  {
   "cell_type": "markdown",
   "metadata": {},
   "source": [
    "📈 Dengan melihat visualisasi tersebut kita mendapatkan:\n",
    "\n",
    "**Bagaimana pengaruh pada hasil visualisasi?**\n",
    "> ......\n"
   ]
  },
  {
   "cell_type": "markdown",
   "metadata": {},
   "source": [
    "### Seasonality Component"
   ]
  },
  {
   "cell_type": "markdown",
   "metadata": {},
   "source": [
    "Selanjutnya kita akan membahas komponen time series lain yaitu seasonal. Seasonality adalah pola berulang untuk periode waktu tertentu. Seperti pola berulang untuk periode mingguan, bulanan atau tahunan. Berikut kita tinjau kembali plot masing-masing komponen pada data di toko 31."
   ]
  },
  {
   "cell_type": "code",
   "execution_count": null,
   "metadata": {},
   "outputs": [],
   "source": [
    "# lihat kembali plot komponen\n",
    "fig = model_31.plot_components(forecast_31)"
   ]
  },
  {
   "cell_type": "markdown",
   "metadata": {},
   "source": [
    "<div class=\"alert alert-success\">\n",
    "Kelebihan Prophet secara default, akan menentukan kondisi seasonal berdasarkan periodikal data yang disediakan. Serta kemudahan membentuk <b>multiple seasonality</b>\n",
    "</div> \n",
    "\n",
    "Pada kasus kita, data tersusun dari Januari 2013 sampai akhir 2015 Quarter 3.\n",
    "\n",
    "- Setiap data dengan periode harian akan memiliki **weekly seasonality**.\n",
    "- Jika terdapat data > 2 tahun observasi harian, model akan memiliki **yearly seasonality**.\n",
    "- Terdapat komponen seasonal lain, yaitu **daily seasonality** yang berusaha mencari pola tiap jam dalam 1 hari. Karena data kita tidak memiliki informasi jam, maka model kita tidak memiliki daily seasonality."
   ]
  },
  {
   "cell_type": "markdown",
   "metadata": {},
   "source": [
    "#### Fourier Order"
   ]
  },
  {
   "cell_type": "markdown",
   "metadata": {},
   "source": [
    "Prophet menggunakan deret Fourier untuk memperkirakan efek seasonal.\n",
    "\n",
    "💡 Fourier Order adalah parameter yang menentukan seberapa fluktuatif seasonality kita. Dengan meningkatkan order, kita dapat membuat seasonality yang dihasilkan menjadi lebih fleksibel (dan mungkin menyebabkan model menjadi overfit), begitu pula sebaliknya.\n",
    "\n",
    "Berikut gambaran interaktif tentang Fourier: http://www.jezzamon.com/fourier/\n",
    "\n",
    "![](assets/fourier.svg)"
   ]
  },
  {
   "cell_type": "markdown",
   "metadata": {},
   "source": [
    "Default Fourier Order pada Seasonality Prophet:\n",
    "- `weekly_seasonality = 3`\n",
    "- `yearly_seasonality = 10`\n",
    "\n",
    "[Reference Fourier Order](https://facebook.github.io/prophet/docs/seasonality,_holiday_effects,_and_regressors.html#fourier-order-for-seasonalities)"
   ]
  },
  {
   "cell_type": "code",
   "execution_count": null,
   "metadata": {},
   "outputs": [],
   "source": [
    "# create object\n",
    "model_tuning_seasonality = Prophet(\n",
    "    weekly_seasonality = 3, # default 3\n",
    "    yearly_seasonality = ___) # defaultnya 10, kita tuning jadi 100"
   ]
  },
  {
   "cell_type": "code",
   "execution_count": null,
   "metadata": {},
   "outputs": [],
   "source": [
    "# model fitting\n",
    "model_tuning_seasonality.fit(daily_total_qty)"
   ]
  },
  {
   "cell_type": "code",
   "execution_count": null,
   "metadata": {},
   "outputs": [],
   "source": [
    "# forecasting\n",
    "## make future dataset\n",
    "future = model_tuning_seasonality.make_future_dataframe(periods=365, freq='D')\n",
    "## predict\n",
    "forecast = model_tuning_seasonality.predict(future)"
   ]
  },
  {
   "cell_type": "code",
   "execution_count": null,
   "metadata": {},
   "outputs": [],
   "source": [
    "# visualize\n",
    "fig = model_tuning_seasonality.plot_components(forecast)"
   ]
  },
  {
   "cell_type": "markdown",
   "metadata": {},
   "source": [
    "📈 Dengan melihat visualisasi tersebut kita mendapatkan:\n",
    "\n",
    "**Bagaimana pengaruh pada hasil visualisasi?**\n",
    "> ...\n"
   ]
  },
  {
   "cell_type": "markdown",
   "metadata": {},
   "source": [
    "#### Custom Seasonality"
   ]
  },
  {
   "cell_type": "markdown",
   "metadata": {},
   "source": [
    "❓ Sebagai seorang data analyst, anda menemukan suatu kasus bisnis seperti berikut:\n",
    "> Penjualan di bisnis Anda sangat dipengaruhi oleh tanggal bulanan. Kebanyakan dari pembeli cenderung membeli barang berdasarkan waktu pembayaran gaji mereka. Karena hal ini tidak ditangkap pada kondisi seasonal weekly dan yearly, kita perlu mendefinisikan seasonal custom. \n",
    "\n",
    "Custom seasonality dapat dilakukan dengan cara:\n",
    "\n",
    "- **Menambahkan seasonality tambahan** dapat menggunakan method `.add_seasonality()` setelah membuat object Prophet dan sebelum melakukan fitting.\n",
    "\n",
    "  Pada fungsi `.add_seasonality()`, terdapat 3 parameter yang dapat kita gunakan, yaitu:\n",
    "  - `name`: Nama seasonality\n",
    "  - `period`: Pola seasonal yang ingin dianalisa\n",
    "  - `fourier_order`: Sebarapa cepat seasonality berubah\n",
    "\n",
    "- **Menghilangkan efek seasonal default** pada fungsi `Prophet()` jika dibutuhkan (contoh: `yearly_seasonality = False`)."
   ]
  },
  {
   "cell_type": "markdown",
   "metadata": {},
   "source": [
    "💡 Nilai Fourier order yang direkomendasikan berdasarkan seasonalnya:\n",
    "- weekly seasonality = 3\n",
    "- monthly seasonality = 5\n",
    "- yearly seasonality = 10"
   ]
  },
  {
   "cell_type": "markdown",
   "metadata": {},
   "source": [
    "**🔻 Task**\n",
    "\n",
    "Buatlah monthly seasonality dan coba tiadakan efek yearly seasonality.\n",
    "Sehingga formula yang dibentuk menjadi:\n",
    "\n",
    "$yhat(t) = T(t) + S_{weekly}(t) + S_{monthly}(t)$"
   ]
  },
  {
   "cell_type": "markdown",
   "metadata": {},
   "source": [
    "1️⃣ Menghapus yearly seasonality"
   ]
  },
  {
   "cell_type": "code",
   "execution_count": null,
   "metadata": {},
   "outputs": [],
   "source": [
    "# fitting model remove seasonality\n",
    "model_custom_seasonality = ___"
   ]
  },
  {
   "cell_type": "markdown",
   "metadata": {},
   "source": [
    "2️⃣ Menambahkan Custom Seasonality\n",
    "\n",
    "- Montly Seasonality\n",
    "- `period = 30.5` (rata-rata jumlah hari dalam satu bulan)\n",
    "- `fourier_order=5`\n",
    "    > - biasanya [3,5] untuk model yang sederhana\n",
    "    > - mengontrol seberapa kompleks model seasonality yang digunakan. Semakin tinggi semakin fleksibel modelnya (biasanya `fourier_order=10`\n",
    "    "
   ]
  },
  {
   "cell_type": "code",
   "execution_count": null,
   "metadata": {},
   "outputs": [],
   "source": [
    "## add seasonality\n",
    "\n",
    "\n",
    "## fitting model\n"
   ]
  },
  {
   "cell_type": "markdown",
   "metadata": {},
   "source": [
    "3️⃣ Forecasting & visualization"
   ]
  },
  {
   "cell_type": "code",
   "execution_count": null,
   "metadata": {},
   "outputs": [],
   "source": [
    "# forecasting\n",
    "## make_future_dataframe\n",
    "future = \n",
    "\n",
    "## predict\n",
    "forecast_custom_season = \n",
    "\n",
    "# visualize\n",
    "fig = model_custom_seasonality.plot_components(forecast_custom_season)"
   ]
  },
  {
   "cell_type": "markdown",
   "metadata": {},
   "source": [
    "📈 Dengan melihat visualisasi tersebut kita mendapatkan:\n",
    "\n",
    "**Bagaimana pengaruh pada hasil visualisasi?**\n",
    "> ..."
   ]
  },
  {
   "cell_type": "markdown",
   "metadata": {},
   "source": [
    "### Holiday Effects"
   ]
  },
  {
   "cell_type": "markdown",
   "metadata": {},
   "source": [
    "Prophet dapat memperhitungkan *holiday effect* ke dalam model time series. *Holiday effect* adalah kejadian tidak biasa yang mungkin berdampak signifikan pada rangkaian waktu, seperti **hari libur nasional** atau **promosi penjualan**.\n",
    "\n",
    "Berbeda dengan seasonality yang dapat terdeteksi secara otomatis, *holiday effect* perlu **ditentukan secara manual** oleh pengguna. Dengan memasukkan *holiday effect* ke dalam model, Prophet dapat menangkap dampak peristiwa penting ini dan memberikan forecast yang lebih baik."
   ]
  },
  {
   "cell_type": "markdown",
   "metadata": {},
   "source": [
    "🔻 Sekarang kita akan melihat data kita dari model pertama yang kita buat. Dari visualisasi kita dapat melihat adanya penjualan yang signifikan di setiap akhir tahun (mencapai lebih dari 800 penjualan per hari)."
   ]
  },
  {
   "cell_type": "code",
   "execution_count": null,
   "metadata": {},
   "outputs": [],
   "source": [
    "# for illustration purposes only\n",
    "fig = model_31.plot(forecast_31)\n",
    "plt.axhline(y=800, color='red', ls='--')\n",
    "plt.show()"
   ]
  },
  {
   "cell_type": "markdown",
   "metadata": {},
   "source": [
    "Mari kita lihat penjualan dengan jumlah di atas 800 menggunakan conditional subsetting."
   ]
  },
  {
   "cell_type": "code",
   "execution_count": null,
   "metadata": {},
   "outputs": [],
   "source": [
    "# conditional subseting y > 800 dari data daily_total_qty\n",
    "daily_total_qty[daily_total_qty['y'] > 800]"
   ]
  },
  {
   "cell_type": "markdown",
   "metadata": {},
   "source": [
    "Ternyata penjualan yang sangat tinggi terjadi antara tanggal **27-31 Desember** pada 2 tahun data kita. Dengan ini kita dapat mengasumsikan adanya fenomena tahun baru yaitu saat dimana orang-orang menggunakan bonus akhir tahun mereka untuk berbelanja.\n",
    "\n",
    "Dari sini kita dapat mempersiapkan sebuah dataframe baru yang memiliki informasi data holiday yang akan kita atur.\n",
    "\n",
    "Kolom-kolom yang harus dipersiapkan yaitu:\n",
    "- `holiday` : nama hari libur yang nilainya unik\n",
    "- `ds` : informasi waktu\n",
    "- `lower_window` : jumlah periode waktu **sebelum** tanggal hari libur yang diasumsikan memiliki pengaruh (<=0)\n",
    "- `upper_window` : jumlah periode waktu **setelah** tanggal hari libur yang diasumsikan memiliki pengaruh (>=0)\n",
    "\n",
    "⚠️ Informasi ini harus mencakup seluruh kejadian yang akan kita gunakan, baik pada model fitting maupun forecast (mundur sejauh historikal data kita, dan maju sejauh kita ingin melakukan prediksi)"
   ]
  },
  {
   "cell_type": "code",
   "execution_count": null,
   "metadata": {},
   "outputs": [],
   "source": [
    "new_year = pd.DataFrame({\n",
    "    'holiday' : 'new_year',\n",
    "    'ds' : pd.to_datetime(['2013-12-31', '2014-12-31', # tanggal historikal\n",
    "                           '2015-12-31']), # future date\n",
    "    'lower_window' : -4, # terhitung 27-30 des\n",
    "    'upper_window' : 0\n",
    "})\n",
    "new_year"
   ]
  },
  {
   "cell_type": "markdown",
   "metadata": {},
   "source": [
    "Setelah dataframe `hari_libur` dipersiapkan, kita perlu memasukkan informasi ini ke dalam `Prophet()` di parameter `holidays`."
   ]
  },
  {
   "cell_type": "code",
   "execution_count": null,
   "metadata": {},
   "outputs": [],
   "source": [
    "# model kosong\n",
    "model_holiday = ___\n",
    "\n",
    "# model fitting\n",
    "model_holiday.fit(daily_total_qty)\n",
    "\n",
    "# forecasting\n",
    "future = model_holiday.make_future_dataframe(periods = 365, freq = \"D\")\n",
    "forecast = model_holiday.predict(future)\n",
    "\n",
    "# visualize\n",
    "fig = model_holiday.plot(forecast)"
   ]
  },
  {
   "cell_type": "markdown",
   "metadata": {},
   "source": [
    "Dengan adanya informasi hari libur akhir tahun, terlihat bahwa model yang dihasilkan lebih baik menangkap pola di akhir tahun dibandingkan hanya menggunakan efek yearly seasonality. Jika kita plot komponennya, kita dapat melihat adanya efek komponen holiday yang terlampir:"
   ]
  },
  {
   "cell_type": "code",
   "execution_count": null,
   "metadata": {},
   "outputs": [],
   "source": [
    "fig = model_holiday.plot_components(forecast)"
   ]
  },
  {
   "cell_type": "markdown",
   "metadata": {},
   "source": [
    "# Time Series Workflow \n",
    "\n",
    "![workflow](assets/prophet-workflow.jpg)"
   ]
  },
  {
   "cell_type": "markdown",
   "metadata": {},
   "source": [
    "## Implemented - Time Series Workflow\n",
    "\n",
    "### Data Preparation\n",
    "\n",
    "Yang perlu diingat, Model Prophet mewajibkan membuat data ke dalam 2 kolom (**ds** dan **y**)\n",
    "\n",
    "[Link to section](#Data-Preparation)"
   ]
  },
  {
   "cell_type": "code",
   "execution_count": null,
   "metadata": {},
   "outputs": [],
   "source": [
    "daily_total_qty.head()"
   ]
  },
  {
   "cell_type": "markdown",
   "metadata": {},
   "source": [
    "### Time Series Cross Validation\n",
    "\n",
    "Seperti di kasus klasifikasi/regresi dimana dilakukan evaluasi untuk mengetahui sebaik apa performa model yang telah dibangun. Pada model time series, terdapat juga tahapan evaluasi model dimana kita akan membagi data kita menjadi **data train** dan **data test**\n",
    "\n",
    "💬 Evaluasi model forecasting dengan metode splitting melibatkan pembagian data menjadi dua bagian:\n",
    "> - **Data Latih (Train Data)**: Digunakan untuk melatih model time series untuk mengidentifikasi pola-pola dasar seperti tren dan seasonal\n",
    "> - **Data Uji (Test Data)**: berfungsi sebagai **unseen data** untuk melihat performa model"
   ]
  },
  {
   "cell_type": "markdown",
   "metadata": {},
   "source": [
    "Konsep CV untuk model TS akan sama dengan model klasifikasi maupun model regresi, dimana *data trainnya akan lebih banyak di bandingkan data test*. Akan tetapi terdapat satu kriteria lainnya yang harus dipenuhi yaitu, \n",
    "- **Data Train** akan menggunakan **data awal** \n",
    "- **Data Test** akan menggunakan **data akhir**\n",
    "\n",
    "![](assets/cv.png)"
   ]
  },
  {
   "cell_type": "markdown",
   "metadata": {},
   "source": [
    "Mari kita lihat kembali range data kita"
   ]
  },
  {
   "cell_type": "code",
   "execution_count": null,
   "metadata": {},
   "outputs": [],
   "source": [
    "daily_total_qty['ds'].describe()"
   ]
  },
  {
   "cell_type": "markdown",
   "metadata": {},
   "source": [
    "Pada data ini, kita memiliki range waktu dari Januari 2013 sampai Q3 tahun 2015. Misalkan kita ingin menggunakan data di tahun 2015 sebagai test data, sisanya untuk train data. Kita dapat memisahkan data kita dengan conditional subseting:"
   ]
  },
  {
   "cell_type": "code",
   "execution_count": null,
   "metadata": {},
   "outputs": [],
   "source": [
    "train = ___\n",
    "test = ___\n",
    "\n",
    "print(f'Train size: {train.shape}')\n",
    "print(f'Test size: {test.shape}')"
   ]
  },
  {
   "cell_type": "markdown",
   "metadata": {},
   "source": [
    "<div class=\"alert alert-danger\">\n",
    "Sekarang mari kita latih model kita menggunakan data tahun 2013-2014 dan forecast untuk tahun 2015 (<b>303 hari</b>).\n",
    "\n",
    "<hr>\n",
    "\n",
    "🔻 **Task**\n",
    "\n",
    "Buat model dengan spesifikasi berikut!\n",
    "- Atur `holidays` = dataframe holiday yang sudah dibuat\n",
    "- `yearly_seasonality` = True\n",
    "- tambahkan seasonality = `monthly` dengan `period = 30.5` dan `fourier_order = 5`\n",
    "</div> "
   ]
  },
  {
   "cell_type": "markdown",
   "metadata": {},
   "source": [
    "### Fitting Model "
   ]
  },
  {
   "cell_type": "code",
   "execution_count": null,
   "metadata": {},
   "outputs": [],
   "source": [
    "# add holiday & yearly seasonality\n",
    "model_final = Prophet(...)\n",
    "\n",
    "# add seasonality monthly\n",
    "model_final.add_seasonality(name = 'monthly',\n",
    "                            period = ___,\n",
    "                            fourier_order = ___)"
   ]
  },
  {
   "cell_type": "markdown",
   "metadata": {},
   "source": [
    "📍 Fitting model hanya untuk **train** data"
   ]
  },
  {
   "cell_type": "code",
   "execution_count": null,
   "metadata": {},
   "outputs": [],
   "source": [
    "# fitting model\n",
    "model_final.fit(___)"
   ]
  },
  {
   "cell_type": "markdown",
   "metadata": {},
   "source": [
    "### Forecast Model"
   ]
  },
  {
   "cell_type": "markdown",
   "metadata": {},
   "source": [
    "📍 Banyaknya periode forecast = sebanyak data test"
   ]
  },
  {
   "cell_type": "code",
   "execution_count": null,
   "metadata": {},
   "outputs": [],
   "source": [
    "future_final = \n",
    "forecast_final = "
   ]
  },
  {
   "cell_type": "markdown",
   "metadata": {},
   "source": [
    "### Model Interpretation - Visualize"
   ]
  },
  {
   "cell_type": "code",
   "execution_count": null,
   "metadata": {},
   "outputs": [],
   "source": [
    "# visualize\n",
    "fig = model_final.plot(forecast_final)\n",
    "plt.scatter(x=test['ds'], y=test['y'], s=10, color='red')\n",
    "plt.show()"
   ]
  },
  {
   "cell_type": "markdown",
   "metadata": {},
   "source": [
    "## 7. Evaluation Metrics\n",
    "\n",
    "Berdasarkan plot di atas model kita mampu untuk meramalkan kondisi di masa depan secara general, tetapi pada beberapa bagian masih berbeda antara data asli dengan data prediksi. **Perbedaan antara nilai asli dengan prediksi** disebut dengan **error** dan kita harus menghitung nilainya untuk mendapatkan kesimpulan evaluasi model. Berikut ini adalah beberapa metrics yang dapat digunakan:\n",
    "\n",
    "- Mean Absolute Error (MAE)\n",
    "\n",
    "    Rata-rata seberapa menyimpang hasil *forecast* terhadap data aktual.\n",
    "\n",
    "$$\n",
    "MAE = \\frac{\\sum_{i=1}^{n}\\left | y_{pred, i} - y_{real, i} \\right |}{n}\n",
    "$$\n",
    "\n",
    "> 🔎 **Interpretasi MAE**: MAE mengukur kesalahan rata-rata dalam satuan yang sama dengan data aktual. Misalnya, jika MAE adalah 10, ini berarti prediksi rata-rata selisih sebesar 10 unit dari data aktual.\n",
    "\n",
    "- Mean Precentage Absolute Error\n",
    "\n",
    "    Sama seperti MAE, namun dalam bentuk persentase, sehingga lebih mudah diinterpretasikan, namun tidak dapat digunakan ketika ada nilai 0 pada data kita\n",
    "$$\n",
    "MAPE = \\frac{1}{n}\\Sigma{\\frac{| y-\\hat y|}{y}} \\times 100\\%\n",
    "$$  \n",
    "\n",
    "> 🔎 **Interpretasi MAPE**:MAPE mengukur kesalahan rata-rata dalam bentuk persentase dari data aktual. Misalnya, jika MAPE adalah 5%, ini berarti prediksi rata-rata memiliki kesalahan sebesar 5% dari data aktual.\n"
   ]
  },
  {
   "cell_type": "markdown",
   "metadata": {},
   "source": [
    "Pada course ini kita akan menggunakan MAPE karena paling mudah diinterpretasikan, dengan catatan tidak ada nilai 0 pada data kita.\n",
    "\n",
    "Untuk menghitung MAPE kita dapat mengugnakan fungsi `mean_absolute_percentage_error` dari `scikit-learn`.\n",
    "\n",
    "💡 Nilai aktual adalah `y` pada data awal dan nilai prediksi adalah `yhat` pada data forecast"
   ]
  },
  {
   "cell_type": "code",
   "execution_count": null,
   "metadata": {},
   "outputs": [],
   "source": [
    "from sklearn.metrics import mean_absolute_percentage_error\n",
    "\n",
    "# hasil prediksi train\n",
    "forecast_train = \n",
    "\n",
    "# nilai MAPE train\n",
    "train_mape = mean_absolute_percentage_error(y_true = ...,\n",
    "                                            y_pred = ...)\n",
    "train_mape                                           "
   ]
  },
  {
   "cell_type": "code",
   "execution_count": null,
   "metadata": {},
   "outputs": [],
   "source": [
    "# hasil prediksi test\n",
    "forecast_test = \n",
    "\n",
    "# nilai MAPE test\n",
    "test_mape = mean_absolute_percentage_error(y_true = ...,\n",
    "                                           y_pred = ...)\n",
    "test_mape"
   ]
  },
  {
   "cell_type": "markdown",
   "metadata": {},
   "source": [
    "## 8. Tuning Model - Hyperparameter Tuning <a id=\"6\" ></a>\n",
    "\n",
    "*Hyperparameter tuning* adalah langkah penting dalam membangun model machine learning untuk mencapai performa terbaik.\n",
    "\n",
    "🎯 **Tujuan**: \n",
    "> Menemukan **kombinasi hyperparameter terbaik** yang **meminimalkan error**\n",
    "\n",
    "💬 **Metode Hyperpatameter Tuning**\n",
    "> - Menggunakan **Algoritma Grid Search**: metode *brute-force* yang membangun model untuk setiap kombinasi hyperparameter yang ditentukan dan kemudian mengevaluasinya.\n",
    "> - Metode ini bisa memakan waktu dan sumber daya komputasi, tetapi metode ini menjamin menemukan hyperparameter optimal yang sesuai dengan rentang nilai yang ditentukan.\n",
    "\n",
    "💬 **Langkah-langkah menggunakan Algoritma Grid Search untuk mencari hyperparameter terbaik**\n",
    "> 1.  Menentukan nilai-nilai dari hyperparameter yang ingin dicoba\n",
    "> 2.  Melakukan iterasi pembuatan model dan menghitung nilai MAPE-nya menggunakan *for-loop*\n",
    "> 3.  Mendapatkan kombinasi hyperparameter optimal yang memiliki MAPE terkecil\n",
    "\n",
    "💬 **Referensi**\n",
    "> - Silakan buka [link ini](https://facebook.github.io/prophet/docs/diagnostics.html#hyperparameter-tuning) untuk melihat rekomendasi hyperparameter yang dapat di-tuning pada model Prophet.<br>"
   ]
  },
  {
   "cell_type": "markdown",
   "metadata": {},
   "source": [
    "🔻 Sebagai seorang data analyst, kita akan mencoba beberapa kemungkinan hyperparameter. Beberapa diantaranya yaitu:\n",
    "- `changepoint_prior_scale` (range 0.001 - 0.5): mengatur trend, semakin besar semakin fluktuatif "
   ]
  },
  {
   "cell_type": "markdown",
   "metadata": {},
   "source": [
    "1️⃣ Tentukan hyperparameter dan masukkan beberapa nilai didalamnya. Serta buat variabel untuk mengisi kombinasi hyperparameter dan nilai MAPE"
   ]
  },
  {
   "cell_type": "code",
   "execution_count": null,
   "metadata": {},
   "outputs": [],
   "source": [
    "from sklearn.model_selection import ParameterGrid\n",
    "\n",
    "# Grid search parameters\n",
    "param_grid = {\n",
    "    'changepoint_prior_scale' : [0.005, 0.01, 0.05, 0.5],\n",
    "    'yearly_seasonality' : [10,20]\n",
    "}\n",
    "\n",
    "# generate all combinations of parameters\n",
    "all_params = list(ParameterGrid(param_grid))\n",
    "all_params"
   ]
  },
  {
   "cell_type": "markdown",
   "metadata": {},
   "source": [
    "2️⃣ Melakukan iterasi dengan memasukkan kedalam pembuatan model Prophet - Fitting Model - Evaluasi"
   ]
  },
  {
   "cell_type": "code",
   "execution_count": null,
   "metadata": {},
   "outputs": [],
   "source": [
    "mape = [] # store the result for each params here\n",
    "\n",
    "# iterate each parameter\n",
    "for parameter in all_params:\n",
    "    # print parameter\n",
    "    print(parameter)\n",
    "    # hyperparameter tuning\n",
    "    model = Prophet(\n",
    "        changepoint_prior_scale = parameter['changepoint_prior_scale'],\n",
    "        yearly_seasonality= parameter['yearly_seasonality'],\n",
    "        holidays = new_year\n",
    "    )\n",
    "\n",
    "    # train model with data train\n",
    "    model.fit(train)\n",
    "\n",
    "    # forecasting\n",
    "    future = model.make_future_dataframe(periods=303, freq='D') # 303 days (test size)\n",
    "    forecast = model.predict(future)\n",
    "    \n",
    "    # Evaluation metrics: MAPE\n",
    "    forecast_test = forecast[forecast['ds'] >= '2015-01-01']\n",
    "    test_mape = mean_absolute_percentage_error(y_true=test['y'],\n",
    "                                               y_pred=forecast_test['yhat'])\n",
    "    \n",
    "    mape.append(round(test_mape, 2))"
   ]
  },
  {
   "cell_type": "markdown",
   "metadata": {},
   "source": [
    "🔻 Dari variabel `all_params` dan `mape` kita dapat menyusun dataframe yang menyimpan kedua informasinya lalu mengurutkannya dari yang errornya paling kecil."
   ]
  },
  {
   "cell_type": "code",
   "execution_count": null,
   "metadata": {},
   "outputs": [],
   "source": [
    "tuning_results = pd.DataFrame(all_params)\n",
    "tuning_results['mape'] = mape\n",
    "\n",
    "tuning_results.sort_values(by = 'mape')"
   ]
  },
  {
   "cell_type": "markdown",
   "metadata": {},
   "source": [
    "3️⃣ Dengan informasi parameter terbaik ini, kita lakukan kembali fitting model yang akan digunakan untuk forecasting."
   ]
  },
  {
   "cell_type": "code",
   "execution_count": null,
   "metadata": {},
   "outputs": [],
   "source": [
    "import numpy as np\n",
    "\n",
    "# mengambil hyperparameter dengan mape terendah\n",
    "best_params = all_params[np.argmin(mape)]\n",
    "best_params"
   ]
  },
  {
   "cell_type": "markdown",
   "metadata": {},
   "source": [
    "4️⃣ **Buat ulang model** -> Dengan informasi parameter terbaik ini, kita lakukan kembali fitting model yang akan digunakan untuk forecasting."
   ]
  },
  {
   "cell_type": "code",
   "execution_count": null,
   "metadata": {},
   "outputs": [],
   "source": [
    "# model kosong\n",
    "model_best = Prophet(...)\n",
    "# model fitting\n",
    "model_best.fit(train)\n",
    "\n",
    "# forecasting\n",
    "future_best = model_best.make_future_dataframe(periods=365, freq='D')\n",
    "forecast_best = model_best.predict(future_best)\n",
    "\n",
    "# visualize\n",
    "fig = model_best.plot(forecast_best)"
   ]
  },
  {
   "cell_type": "markdown",
   "metadata": {},
   "source": [
    "# References\n",
    "\n",
    "- [Prophet Documentation](https://facebook.github.io/prophet/docs/quick_start.html)\n",
    "- [Paper: Forecasting at Scale](https://peerj.com/preprints/3190/)\n",
    "- [Prophet Hyperparameter Tuning](https://facebook.github.io/prophet/docs/diagnostics.html#hyperparameter-tuning)\n",
    "- [Algoritma: Time Series Forecasting using `prophet` in R](https://business-forecasting.netlify.app/#5_time_series_forecasting_using_prophet)\n",
    "- [Algoritma: Time Series Forecasting using `prophet` in Python](https://github.com/tomytjandra/tsf-prophet)"
   ]
  }
 ],
 "metadata": {
  "kernelspec": {
   "display_name": "zeus_da",
   "language": "python",
   "name": "python3"
  },
  "language_info": {
   "codemirror_mode": {
    "name": "ipython",
    "version": 3
   },
   "file_extension": ".py",
   "mimetype": "text/x-python",
   "name": "python",
   "nbconvert_exporter": "python",
   "pygments_lexer": "ipython3",
   "version": "3.12.4"
  }
 },
 "nbformat": 4,
 "nbformat_minor": 2
}
