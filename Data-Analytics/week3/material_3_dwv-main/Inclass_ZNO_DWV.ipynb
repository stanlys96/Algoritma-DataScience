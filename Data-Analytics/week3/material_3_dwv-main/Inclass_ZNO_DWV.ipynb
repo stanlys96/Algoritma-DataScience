{
 "cells": [
  {
   "cell_type": "markdown",
   "metadata": {},
   "source": [
    "**Inclass: Data Wrangling and Visualization**\n",
    "- Part 3 of Data Analytics Specialization\n",
    "- Course Length: 12 hours\n",
    "- Last Updated: August 2024\n",
    "___\n",
    "\n",
    "- Developed by [Algoritma](https://algorit.ma)'s product division and instructors team"
   ]
  },
  {
   "cell_type": "markdown",
   "metadata": {},
   "source": [
    "## Training Objectives\n",
    "\n",
    "![](assets/dwv_mindmap.png)\n",
    "\n",
    "- _Python Reproducible Environment_\n",
    "- _Working with Multi-Index DataFrames_\n",
    "- _Reshaping DataFrame_\n",
    "- _Visual Data Exploratory_\n",
    "- _Using Group By Effectively_\n",
    "\n",
    "----"
   ]
  },
  {
   "cell_type": "markdown",
   "metadata": {},
   "source": [
    "# Refresher: P4DA (Week 1) and EDA (Week 2)"
   ]
  },
  {
   "cell_type": "markdown",
   "metadata": {},
   "source": [
    "2 minggu sebelumnya, kita sudah mempelajari fungsi-fungsi untuk melakukan inspeksi awal dan analisis lanjut pada data:\n",
    "\n",
    "**_Python for Data Analyst: Data Inspection_**\n",
    "- `.head()` dan `.tail()`: menampilkan data teratas dan data terbawah.\n",
    "- `.describe()`: menampilkan nilai statistik pada data.\n",
    "- `.shape` and `.size`: menampilkan ukuran data.\n",
    "- `.axes`: menampilkan nama baris/indeks dan kolom.\n",
    "- `.dtypes`: menampilkan tipe data setiap kolom.\n",
    "- `.loc` dan `.iloc`: melakukan _indexing/subsetting/slicing_.\n",
    "\n",
    "**_Exploraroty Data Analysis: Diagnostic and Exploratory_**\n",
    "- _Tables_.\n",
    "- _Cross-Tables and Aggregates_.\n",
    "- _Using `aggfunc` for Aggregate Functions_.\n",
    "- _Pivot Tables_.\n",
    "- _Working with DateTime_.\n",
    "- _Working with Categorical Data_.\n",
    "- _Duplicates and Missing Value Treatment_."
   ]
  },
  {
   "cell_type": "markdown",
   "metadata": {},
   "source": [
    "---"
   ]
  },
  {
   "cell_type": "markdown",
   "metadata": {},
   "source": [
    "# Python Reproducible Environment"
   ]
  },
  {
   "cell_type": "markdown",
   "metadata": {},
   "source": [
    "\n",
    "<center>\n",
    "<img src=\"assets/venv.webp\" width=60%/>\n",
    "</center>\n",
    "\n",
    "Pada awal pembelajaran P4DA, kita sudah berkenalan dengan istilah ***virtual environment***.\n",
    "\n",
    "> ***Virtual environment*** adalah *environment* terisolasi yang memungkinkan setiap *environment* memiliki instalasi dan versi *package* yang khusus dan berbeda. "
   ]
  },
  {
   "cell_type": "markdown",
   "metadata": {},
   "source": [
    "Kita bisa menggunakan *virtual environment* saat memiliki banyak projek di mana setiap projek membutuhkan *library* dengan versi yang spesifik. Dengan menggunakan *virtual environment*, kita bisa menjalankan berbagai macam projek pada satu *device* yang sama tanpa perlu khawatir akan adanya permasalahan yang timbul karena perbedaan versi *library*."
   ]
  },
  {
   "cell_type": "markdown",
   "metadata": {},
   "source": [
    "## ✨Importing Requirements✨"
   ]
  },
  {
   "cell_type": "markdown",
   "metadata": {},
   "source": [
    "Anda adalah seorang *data scientist* pada sebuah perusahaan reksadana. Anda sedang memulai sebuah projek analisis saham di *device*-nya dan membuat *virtual environment* khusus untuk projek tersebut. Ia juga melakukan instalasi berbagai *library* yang digunakan untuk projek tersebut.\n",
    "\n",
    "> ❓ Anda ingin membagikan proyek analisis data tersebut kepada rekan-rekan kerja anda. Bagaimana cara projek tersebut dapat berjalan di *device* rekan anda tanpa menimbulkan *error*?\n",
    "\n",
    "> 💡 Anda dapat membuat *file* ✨`requirements.txt`✨ yang berisikan daftar *library* yang sudah ter-*install* di-*environment*-nya dan menyerahkan *file* tersebut kepada rekan anda.\n",
    "\n",
    "Lihat pada folder `/material_3_dwv_main`, anda akan menemukan *file* `requirements.txt` yang isinya seperti ini:\n",
    "\n",
    "```batch\n",
    "matplotlib==3.9.1\n",
    "numpy==1.26.4\n",
    "pandas==2.2.2\n",
    "seaborn==0.13.2\n",
    "yfinance==0.2.40\n",
    "```"
   ]
  },
  {
   "cell_type": "markdown",
   "metadata": {},
   "source": [
    "Setelah mendapatkan *file* `requirements.txt`, rekan anda dapat melakukan langkah berikut.\n",
    "\n",
    "1. Buka terminal pada VS Code.\n",
    "\n",
    "2. Aktifkan *environment* yang ingin digunakan.\n",
    "    ```batch\n",
    "    conda activate <ENV_NAME>\n",
    "    ```\n",
    "\n",
    "3. Instalasi seluruh *library* yang terdapat pada `requirements.txt`.\n",
    "    ```batch\n",
    "    pip install -r requirements.txt\n",
    "    ```"
   ]
  },
  {
   "cell_type": "markdown",
   "metadata": {},
   "source": [
    "## ✨Exporting Requirements✨"
   ]
  },
  {
   "cell_type": "markdown",
   "metadata": {},
   "source": [
    "Untuk membuat `requirements.txt`, kita dapat melakukan langkah-langkah berikut:\n",
    "\n",
    "1. Buka terminal pada VS Code\n",
    "\n",
    "2. Aktifkan *environment*.\n",
    "    ```batch\n",
    "    conda activate <ENV_NAME>\n",
    "    ```\n",
    "\n",
    "3. *Export environment*: membuat daftar *library* beserta versinya.\n",
    "    ```batch\n",
    "    pip list --format=freeze > requirements.txt\n",
    "    ```\n",
    "\n",
    "\n",
    ">💡 **Note**: Anda dapat menyimpan *file* dengan nama lain, namun nama yang umum digunakan adalah `requirements.txt`."
   ]
  },
  {
   "cell_type": "markdown",
   "metadata": {},
   "source": [
    "---"
   ]
  },
  {
   "cell_type": "markdown",
   "metadata": {},
   "source": [
    "# Working with Multi-Index DataFrames"
   ]
  },
  {
   "cell_type": "markdown",
   "metadata": {},
   "source": [
    "Pada pembelajaran kali ini, kita akan menggunakan *library* `yfinance` untuk mengakses data saham yang tersedia pada [Yahoo! Finance](https://finance.yahoo.com/markets/). Penarikan data menggunakan _library_ `yfinance` membutuhkan koneksi internet.\n",
    "\n",
    "> 📌 Dokumentasi *library* `yfinance`: https://pypi.org/project/yfinance/"
   ]
  },
  {
   "cell_type": "code",
   "execution_count": null,
   "metadata": {},
   "outputs": [],
   "source": [
    "# package untuk manipulasi data\n",
    "import pandas as pd\n",
    "# package untuk import data\n",
    "import yfinance\n",
    "# package untuk visualisasi data\n",
    "import matplotlib.pyplot as plt\n",
    "\n",
    "# atur format angka untuk float\n",
    "pd.options.display.float_format = '{:,.2f}'.format\n",
    "\n",
    "import warnings\n",
    "# Suppress FutureWarning messages\n",
    "warnings.simplefilter(action='ignore', category=FutureWarning)\n"
   ]
  },
  {
   "cell_type": "code",
   "execution_count": null,
   "metadata": {},
   "outputs": [],
   "source": [
    "# perusahaan yang akan ditarik datanya: BRI, Adaro, Telkom\n",
    "symbol = ['BBRI.JK', 'ADRO.JK', 'TLKM.JK']\n",
    "\n",
    "# range tanggal untuk mengambil data saham\n",
    "start_date = '2021-01-01' \n",
    "end_date = '2023-12-31'\n",
    "\n",
    "# penarikan data\n",
    "stock = yfinance.download(tickers = symbol, start = start_date, end = end_date)\n",
    "stock.columns.names = ['Attributes', 'Symbols']\n",
    "\n",
    "# 5 record teratas\n",
    "stock.head(10)"
   ]
  },
  {
   "cell_type": "markdown",
   "metadata": {},
   "source": [
    "**Penjelasan `Symbols`:**\n",
    "\n",
    "- `ADRO.JK`: PT Adaro Energy Indonesia Tbk.\n",
    "- `BBRI.JK`: PT Bank Rakyat Indonesia Tbk.\n",
    "- `TLKM.JK`: PT Telkom Indonesia Tbk.\n",
    "\n",
    "**Deskripsi Data:**\n",
    "\n",
    "- `Date`: tanggal dalam format `yyyy-mm-dd`.\n",
    "- `High`: nilai saham **tertinggi** di hari tersebut.\n",
    "- `Low`: nilai saham **terendah** di hari tersebut.\n",
    "- `Open`: nilai saham saat **_trading hours_ dibuka** di hari tersebut.\n",
    "- `Close`: nilai saham saat **_trading hours_ ditutup** di hari tersebut.\n",
    "- `Adj Close`: nilai `Close` yang telah disesuaikan _stock split_ dan pembagian dividen. \n",
    "- `Volume`: jumlah lembar saham yang berpindah tangan di hari tersebut (jumlah transaksi jual beli)."
   ]
  },
  {
   "cell_type": "markdown",
   "metadata": {},
   "source": [
    "## ✨Saving DataFrame to File✨"
   ]
  },
  {
   "cell_type": "markdown",
   "metadata": {},
   "source": [
    "Sebelumnya, kita sudah mempelajari bagaimana cara membaca data yang berformat `.csv` menggunakan fungsi `pd.read_csv()`. \n",
    "\n",
    "> 📌 **Method 1** : Menggunakan fungsi `.to_csv()` untuk data yang berformat `.csv`."
   ]
  },
  {
   "cell_type": "code",
   "execution_count": null,
   "metadata": {},
   "outputs": [],
   "source": [
    "# simpan data format CSV ke folder data_cache\n"
   ]
  },
  {
   "cell_type": "code",
   "execution_count": null,
   "metadata": {},
   "outputs": [],
   "source": [
    "# read data\n"
   ]
  },
  {
   "cell_type": "markdown",
   "metadata": {},
   "source": [
    "Ternyata struktur data menjadi tidak rapi setelah disimpan ke format `.csv` dan dipanggil kembali. Untuk mengatasi hal ini, kita bisa menyimpan *dataframe* menggunakan `pickle`."
   ]
  },
  {
   "cell_type": "markdown",
   "metadata": {},
   "source": [
    "> 📌 **Method 2** : menyimpan suatu objek Python ke sebuah file **Pickle**."
   ]
  },
  {
   "cell_type": "markdown",
   "metadata": {},
   "source": [
    "**🔎 Langkah-Langkah *Pickling***\n",
    "\n",
    "1. Menyimpan data dengan fungsi `.to_pickle()`.\n",
    "2. Membaca data dengan fungsi `pd.read_pickle()`."
   ]
  },
  {
   "cell_type": "code",
   "execution_count": null,
   "metadata": {},
   "outputs": [],
   "source": [
    "# simpan pickle ke folder data_cache\n"
   ]
  },
  {
   "cell_type": "code",
   "execution_count": null,
   "metadata": {},
   "outputs": [],
   "source": [
    "# read pickle\n"
   ]
  },
  {
   "cell_type": "markdown",
   "metadata": {},
   "source": [
    "**Pickle** juga membantu kita untuk mempertahankan tipe data dari setiap kolom pada _dataframe_."
   ]
  },
  {
   "cell_type": "code",
   "execution_count": null,
   "metadata": {},
   "outputs": [],
   "source": [
    "# membuat employee data lalu konversi tipe data\n",
    "employee = pd.DataFrame({\n",
    "    'id': [1, 2, 3, 4, 5, 6, 7],\n",
    "    'gender': ['Male', 'Female', 'Male', 'Female', 'Female', 'Female', 'Male'],\n",
    "    'blood_type': ['O', 'A', 'B', 'AB', 'B', 'B', 'O'],\n",
    "    'join_date': ['28 Jun 2021', '29 Jun 2021', '30 Jun 2021', '1 Jul 2021', '2 Jul 2021', '3 Jul 2021', '4 Jul 2021']\n",
    "})\n",
    "\n",
    "# ubah tipe data\n",
    "employee[['gender', 'blood_type']] = employee[['gender', 'blood_type']].astype('category')\n",
    "employee['join_date'] = employee['join_date'].astype('datetime64[ns]')\n",
    "employee.dtypes"
   ]
  },
  {
   "cell_type": "markdown",
   "metadata": {},
   "source": [
    "Kita akan mencoba untuk menyimpan dalam format `.csv`."
   ]
  },
  {
   "cell_type": "code",
   "execution_count": null,
   "metadata": {},
   "outputs": [],
   "source": [
    "# simpan ke file csv\n",
    "employee.to_csv('data_cache/employee.csv', index=False)\n",
    "\n",
    "# baca dari csv dan cek tipe data\n",
    "employee_csv = pd.read_csv('data_cache/employee.csv')\n",
    "employee_csv.dtypes"
   ]
  },
  {
   "cell_type": "markdown",
   "metadata": {},
   "source": [
    "> Terlihat bahwa tipe data dari kolom `gender`, `blood_type`, dan `join_date` terdeteksi sebagai `object`."
   ]
  },
  {
   "cell_type": "markdown",
   "metadata": {},
   "source": [
    "Kita akan mencoba untuk menyimpan dalam format `.pickle`."
   ]
  },
  {
   "cell_type": "code",
   "execution_count": null,
   "metadata": {},
   "outputs": [],
   "source": [
    "# simpan object dummy ke file pickle\n",
    "employee.to_pickle('data_cache/employee.pickle')\n",
    "\n",
    "# baca dari pickle dan cek tipe data\n",
    "employee_pickle = pd.read_pickle('data_cache/employee.pickle')\n",
    "employee_pickle.dtypes"
   ]
  },
  {
   "cell_type": "markdown",
   "metadata": {},
   "source": [
    "> Tipe data sebelum data disimpan dan setelah data disimpan adalah sama."
   ]
  },
  {
   "cell_type": "markdown",
   "metadata": {},
   "source": [
    "**⚠️*Pros & Cons Pickle File***\n",
    "\n",
    "Kelebihan:\n",
    "- Mempertahankan struktur dari _dataframe_.\n",
    "- Mempertahankan tipe data dari _dataframe_.\n",
    "\n",
    "Kekurangan:\n",
    "- Hanya bisa dibaca dengan Python dan tidak bisa langsung diakses dengan _double click_.\n",
    "- _Pickle_ dari sumber yang tidak terpercaya dapat digunakan untuk menyebarkan _malware_."
   ]
  },
  {
   "cell_type": "markdown",
   "metadata": {},
   "source": [
    "## ✨Slicing Multi-Index DataFrame✨"
   ]
  },
  {
   "cell_type": "markdown",
   "metadata": {},
   "source": [
    "Mari kita lihat kembali data `stock` sebelumnya."
   ]
  },
  {
   "cell_type": "code",
   "execution_count": null,
   "metadata": {},
   "outputs": [],
   "source": [
    "stock.tail()"
   ]
  },
  {
   "cell_type": "markdown",
   "metadata": {},
   "source": [
    "Perhatikan bahwa kolom pada data `stock` memiliki susunan kolom yang berbeda dari yang sudah kita pelajari di minggu-minggu sebelumnya. `stock` memiliki kolom yang terdiri dari 2 level:\n",
    "\n",
    "1. Level pertama (level 0): menunjukkan `Attributes`.\n",
    "2. Level kedua (level 1): menunjukkan `Symbols`.\n",
    "\n",
    "Data seperti ini disebut dengan ***multi-index dataframe***.\n",
    "\n",
    "> 📌 ***Multi-index dataframe*** adalah *dataframe* yang memiliki >1 level indeks baris dan/atau level indeks kolom."
   ]
  },
  {
   "cell_type": "markdown",
   "metadata": {},
   "source": [
    "> ❓ Perusahaan ingin menganalisis data harga saham BRI, Adaro, dan Telkom saat *trading hours* ditutup (`Close`). Bagaimana cara melakukan *slicing* dari data yang ada?"
   ]
  },
  {
   "cell_type": "code",
   "execution_count": null,
   "metadata": {},
   "outputs": [],
   "source": [
    "# subsetting dengan []\n"
   ]
  },
  {
   "cell_type": "markdown",
   "metadata": {},
   "source": [
    "> ❓ Perusahaan hanya ingin menganalisis harga saham BRI saat `Close`. Bagaimana cara mengambil detail `Close` untuk BRI saja?"
   ]
  },
  {
   "cell_type": "code",
   "execution_count": null,
   "metadata": {},
   "outputs": [],
   "source": [
    "# subsetting dengan []\n"
   ]
  },
  {
   "cell_type": "markdown",
   "metadata": {},
   "source": [
    "> ❓ Sekarang, perusahaan ingin menganalisis semua *attribute* untuk BRI, mulai dari `Adj.Close` hingga `Volume`. Bagaimana cara menampilkan seluruh attribute dari saham BRI?"
   ]
  },
  {
   "cell_type": "code",
   "execution_count": null,
   "metadata": {},
   "outputs": [],
   "source": [
    "# coba subsetting dengan []\n"
   ]
  },
  {
   "cell_type": "markdown",
   "metadata": {},
   "source": [
    "Kita akan mendapatkan _error_ seperti di atas. _Subsetting_ menggunakan kurung siku (`[ ]`) bisa kita gunakan untuk level paling atas, yakni `Attributes`. `BBRI.JK` berada di level di bawahnya, yaitu `Symbols`. Untuk menyelesaikan permasalahan tersebut, kita akan menggunakan **_cross section_**."
   ]
  },
  {
   "cell_type": "markdown",
   "metadata": {},
   "source": [
    "> 📌Kita dapat menggunakan fungsi `.xs()` untuk melakukan _cross section_."
   ]
  },
  {
   "cell_type": "markdown",
   "metadata": {},
   "source": [
    "**🔎 Parameter Penting Fungsi `.xs()`**\n",
    "\n",
    "* `key`: label apa yang akan dicari.\n",
    "* `level`: label tersebut berada di level apa/berapa.\n",
    "* `axis`: level berada di baris (`axis = 0`) atau di kolom (`axis = 1`).\n",
    "* Parameter lainnya dapat dilihat pada [dokumentasi berikut](https://pandas.pydata.org/docs/reference/api/pandas.DataFrame.xs.html)."
   ]
  },
  {
   "cell_type": "code",
   "execution_count": null,
   "metadata": {},
   "outputs": [],
   "source": [
    "stock.head()"
   ]
  },
  {
   "cell_type": "code",
   "execution_count": null,
   "metadata": {},
   "outputs": [],
   "source": [
    "# mengambil semua attributes untuk BBRI.JK dengan .xs()\n"
   ]
  },
  {
   "cell_type": "markdown",
   "metadata": {},
   "source": [
    "### 🧪 Knowledge Check: `.xs()` for Cross Section"
   ]
  },
  {
   "cell_type": "markdown",
   "metadata": {},
   "source": [
    "❓ Perusahaan ingin mencari nilai `High`, `Close`, dan `Volume` dari saham Telkom pada tanggal 31 Oktober 2023. \n",
    "\n",
    "***Hint***: Gunakan `.loc[]` setelah melakukan cross-section."
   ]
  },
  {
   "cell_type": "code",
   "execution_count": null,
   "metadata": {},
   "outputs": [],
   "source": [
    "# code here\n"
   ]
  },
  {
   "cell_type": "markdown",
   "metadata": {},
   "source": [
    "---"
   ]
  },
  {
   "cell_type": "markdown",
   "metadata": {},
   "source": [
    "# Reshaping DataFrame"
   ]
  },
  {
   "cell_type": "markdown",
   "metadata": {},
   "source": [
    "_Reshaping_ data adalah salah satu komponen penting dalam tahap _data wrangling_. _Reshaping_ memungkinkan seorang analis untuk mempersiapkan data menjadi bentuk yang sesuai untuk tahap analisis data berikutnya. Dalam hal ini, *reshaping* sering dilakukan sebelum visualisasi data. Fungsi-fungsi untuk _reshaping_ yang akan kita pelajari pada _course_ ini:\n",
    "\n",
    "- `.stack()`.\n",
    "- `.unstack()`.\n",
    "- `.melt()`.\n",
    "- `.pivot()`."
   ]
  },
  {
   "cell_type": "markdown",
   "metadata": {},
   "source": [
    "## ✨`.stack()`✨  "
   ]
  },
  {
   "cell_type": "markdown",
   "metadata": {},
   "source": [
    "<center>\n",
    "<img src=\"assets/stack.png\" width=60%/>\n",
    "</center>"
   ]
  },
  {
   "cell_type": "markdown",
   "metadata": {},
   "source": [
    "`.stack()` digunakan untuk **memindahkan level pada kolom menjadi level pada baris**."
   ]
  },
  {
   "cell_type": "markdown",
   "metadata": {},
   "source": [
    "**🔎 Parameter Penting Fungsi `.stack()`**\n",
    "\n",
    "* `level`: nama level/indeks level pada kolom yang akan dipindahkan.\n",
    "* Parameter lainnya dapat dilihat pada [dokumentasi berikut](https://pandas.pydata.org/docs/reference/api/pandas.DataFrame.stack.html)."
   ]
  },
  {
   "cell_type": "code",
   "execution_count": null,
   "metadata": {},
   "outputs": [],
   "source": [
    "# stock sebelum di-stack\n",
    "stock.head()"
   ]
  },
  {
   "cell_type": "code",
   "execution_count": null,
   "metadata": {},
   "outputs": [],
   "source": [
    "# stock setelah di-stack\n",
    "stacked_stock = ..."
   ]
  },
  {
   "cell_type": "markdown",
   "metadata": {},
   "source": [
    "Perhatikan bahwa:\n",
    "\n",
    "* Secara default, `.stack()` akan memindahkan level terbawah dari kolom menjadi level terkanan dari baris\n",
    "* Sebelum _stacking_, _index_ pada baris hanya berupa tanggal: `Date`.\n",
    "* Setelah _stacking_, _index_ pada baris bertambah menjadi tanggal dan simbol perusahaan: `Date` dan `Symbols`."
   ]
  },
  {
   "cell_type": "markdown",
   "metadata": {},
   "source": [
    "> ❓ Bagaimana cara agar `Attributes` yang dipindahkan menjadi baris?"
   ]
  },
  {
   "cell_type": "code",
   "execution_count": null,
   "metadata": {},
   "outputs": [],
   "source": [
    "# memindahkan level Attributes menjadi level pada baris\n"
   ]
  },
  {
   "cell_type": "markdown",
   "metadata": {},
   "source": [
    "## ✨`.unstack()`✨"
   ]
  },
  {
   "cell_type": "markdown",
   "metadata": {},
   "source": [
    "<center>\n",
    "<img src=\"assets/unstack.png\" width=60%/>\n",
    "</center>"
   ]
  },
  {
   "cell_type": "markdown",
   "metadata": {},
   "source": [
    "`.unstack()` digunakan untuk **memindahkan level pada baris menjadi level pada kolom**. Kebalikan dari `.stack()`."
   ]
  },
  {
   "cell_type": "markdown",
   "metadata": {},
   "source": [
    "**🔎 Parameter Penting Fungsi `.unstack()`**\n",
    "\n",
    "* `level`: nama level/indeks level pada baris yang akan dipindahkan.\n",
    "* Parameter lainnya dapat dilihat pada [dokumentasi berikut](https://pandas.pydata.org/docs/reference/api/pandas.DataFrame.unstack.html)."
   ]
  },
  {
   "cell_type": "code",
   "execution_count": null,
   "metadata": {},
   "outputs": [],
   "source": [
    "stacked_stock.head()"
   ]
  },
  {
   "cell_type": "code",
   "execution_count": null,
   "metadata": {},
   "outputs": [],
   "source": [
    "# unstack stacked_stock\n"
   ]
  },
  {
   "cell_type": "markdown",
   "metadata": {},
   "source": [
    "📝 **Note**: by default akan memindahkan level yang paling kanan pada index baris: `Symbols`"
   ]
  },
  {
   "cell_type": "markdown",
   "metadata": {},
   "source": [
    "Setelah kita melakukan _unstacking_ pada data yang sudah di-_stacking_, `stacked_stock`, kita mendapatkan data seperti semula."
   ]
  },
  {
   "cell_type": "markdown",
   "metadata": {},
   "source": [
    "> ❓ Bagaimana cara agar `Date` yang dipindahkan menjadi kolom pada `stacked_stock`?"
   ]
  },
  {
   "cell_type": "code",
   "execution_count": null,
   "metadata": {},
   "outputs": [],
   "source": [
    "# memindahkan level Date menjadi level pada kolom\n"
   ]
  },
  {
   "cell_type": "markdown",
   "metadata": {},
   "source": [
    "## 🧪 Knowledge Check: `.stack()` and `unstack()`\n",
    "\n",
    "Pernyataan mana sajakah dibawah ini yang tepat?\n",
    "\n",
    "- [ ] `.stack()` mengubah dataframe dari wide menjadi long\n",
    "- [ ] `.stack()` mengubah dataframe dari long menjadi wide\n",
    "- [ ] `.unstack()` mengubah dataframe dari wide menjadi long \n",
    "- [ ] `.unstack()` mengubah dataframe dari long menjadi wide"
   ]
  },
  {
   "cell_type": "markdown",
   "metadata": {},
   "source": [
    "## 🤿 Dive Deeper"
   ]
  },
  {
   "cell_type": "markdown",
   "metadata": {},
   "source": [
    "1. Bagaimana cara menukar level dari `Attributes` dan `Symbol` pada data `stock`?"
   ]
  },
  {
   "cell_type": "code",
   "execution_count": null,
   "metadata": {},
   "outputs": [],
   "source": [
    "# code here \n"
   ]
  },
  {
   "cell_type": "markdown",
   "metadata": {},
   "source": [
    "2. Perusahaan ingin menganalisis besar kenaikan/penurunan saham pada setiap harinya. Buatlah kolom baru pada data `stock` dengan nama `Diff`. Kolom `Diff` merupakan selisih dari kolom `Close` dan kolom `Open`.\n",
    "\n",
    "    💡 ***Hint***: \n",
    "    1. Gunakan `.stack()` untuk membuat hanya 1 level kolom pada data `stock` dan simpan pada variabel `new_stock`. \n",
    "    2. Buat kolom `diff` yang diminta pada variabel `new_stock`.\n",
    "    3. Gunakan `.unstack()` untuk mengembalikan data ke bentuk semula."
   ]
  },
  {
   "cell_type": "code",
   "execution_count": null,
   "metadata": {},
   "outputs": [],
   "source": [
    "# Step 1\n",
    "new_stock = ..."
   ]
  },
  {
   "cell_type": "code",
   "execution_count": null,
   "metadata": {},
   "outputs": [],
   "source": [
    "# Step 2\n",
    "new_stock['diff'] = ..."
   ]
  },
  {
   "cell_type": "code",
   "execution_count": null,
   "metadata": {},
   "outputs": [],
   "source": [
    "# Step 3\n"
   ]
  },
  {
   "cell_type": "markdown",
   "metadata": {},
   "source": [
    "**Quick Summary**\n",
    "\n",
    "- **_Reproducible Environment_**\n",
    "  * Meng-_install_ banyak _library_ sekaligus: `pip install -r requirements.txt`.  \n",
    "  * Membuat daftar _library_: `pip list --format=freeze > requirements.txt`.\n",
    "\n",
    "- **_Pickling_**\n",
    "  * Menyimpan data dalam format `.pickle`: `DataFrame.to_pickle(nama_file.pkl)`.\n",
    "  * Membaca data dalam format `.pickle`: `pd.read_pickle(nama_file.pkl)`.\n",
    "\n",
    "- **_Subsetting_ Data _Multi-Index_**\n",
    "  * Menggunakan fungsi `DataFrame.xs()`.\n",
    "  * Parameter:\n",
    "    - `key`: label yang akan dicari.\n",
    "    - `level`: label terdapat pada level berapa.\n",
    "    - `axis`: label yang akan dicari apakah berperan sebagai baris atau kolom.\n",
    "\t\n",
    "- **_Reshaping_**\n",
    "  * `DataFrame.stack()` mengubah level pada kolom menjadi level pada baris.\n",
    "    * Parameter:\n",
    "      - `level`: kolom yang akan dipindahkan menjadi baris.\n",
    "  * `DataFrame.unstack()` mengubah level pada baris menjadi level pada kolom.\n",
    "    * Parameter:\n",
    "      - `level`: baris yang akan dipindahkan menjadi kolom."
   ]
  },
  {
   "cell_type": "markdown",
   "metadata": {},
   "source": [
    "## ✨`.melt()`✨"
   ]
  },
  {
   "cell_type": "markdown",
   "metadata": {},
   "source": [
    "<center>\n",
    "<img src=\"assets/melt.png\" width=60%/>\n",
    "</center>"
   ]
  },
  {
   "cell_type": "markdown",
   "metadata": {},
   "source": [
    "`DataFrame.melt()` digunakan untuk **melebur beberapa kolom menjadi 1 kolom dan nilai di dalamnya menjadi 1 kolom lainnya**.\n",
    "\n",
    "📝 **Note**: Berbeda dengan `stack` dan `unstack`, `melt` hanya dapat digunakan untuk dataframe **single-index**, BUKAN **multi-index**"
   ]
  },
  {
   "cell_type": "markdown",
   "metadata": {},
   "source": [
    "**🔎 Parameter Penting Fungsi `.melt()`**\n",
    "\n",
    "* `id_vars`: kolom yang akan dipertahankan, berperan sebagai _identifier_.\n",
    "* `value_vars`: kolom yang akan dilebur.\n",
    "* `var_name`: nama kolom untuk variabel.\n",
    "* `value_name`: nama kolom untuk _value_.\n",
    "* Parameter lainnya dapat dilihat pada [dokumentasi berikut](https://pandas.pydata.org/docs/reference/api/pandas.DataFrame.melt.html)."
   ]
  },
  {
   "cell_type": "markdown",
   "metadata": {},
   "source": [
    "> ❓ Ambil semua detail yang berhubungan dengan perusahaan Adaro dan simpan pada variabel `adaro`."
   ]
  },
  {
   "cell_type": "code",
   "execution_count": null,
   "metadata": {},
   "outputs": [],
   "source": [
    "# ambil semua detail untuk ADRO.JK\n",
    "adaro = stock.xs(key = ... ,\n",
    "                 level = ... ,\n",
    "                 axis = ... )"
   ]
  },
  {
   "cell_type": "markdown",
   "metadata": {},
   "source": [
    "Gunakan fungsi `.melt()` untuk `adaro`."
   ]
  },
  {
   "cell_type": "code",
   "execution_count": null,
   "metadata": {},
   "outputs": [],
   "source": [
    "# code here\n"
   ]
  },
  {
   "cell_type": "markdown",
   "metadata": {},
   "source": [
    "Perhatikan bahwa setelah dilakukan *melting*, kita mendapatkan 2 kolom:\n",
    "\n",
    "* Kolom `Attributes`: menyimpan nama-nama kolom yang di-*melt*.\n",
    "* Kolom `value`: menyimpan nilai-nilai kolom yang di-*melt*."
   ]
  },
  {
   "cell_type": "markdown",
   "metadata": {},
   "source": [
    "> ❓ Setelah melakukan _melting_ di atas, detail tanggal pada data kita hilang. Bagaimana memunculkan tanggal walaupun sudah dilakukan _melting_?"
   ]
  },
  {
   "cell_type": "code",
   "execution_count": null,
   "metadata": {},
   "outputs": [],
   "source": [
    "# jadikan tanggal sebagai kolom biasa dengan fungsi .reset_index() kemudian dilanjutkan dengan melakukan .melt()\n"
   ]
  },
  {
   "cell_type": "markdown",
   "metadata": {},
   "source": [
    "Setelah kita me-_reset_ _index_ dan melakukan _melting_ dengan fungsi `.melt()` tanpa mengatur argumen apapun, data `Date` kita juga ikut di-_melt_. Bentuk data di atas tidak terlalu kita inginkan. Oleh karena itu, kita akan mencoba untuk mengatur parameter pada `.melt()`."
   ]
  },
  {
   "cell_type": "markdown",
   "metadata": {},
   "source": [
    "### ▶️ Identifier dan Value"
   ]
  },
  {
   "cell_type": "markdown",
   "metadata": {},
   "source": [
    "Terdapat 2 parameter pada `.melt()` yang sering digunakan:\n",
    "\n",
    "* `id_vars`: kolom yang akan dipertahankan, berperan sebagai _identifier_.\n",
    "* `value_vars`: kolom yang akan dilebur."
   ]
  },
  {
   "cell_type": "code",
   "execution_count": null,
   "metadata": {},
   "outputs": [],
   "source": [
    "# memunculkan tanggal, tetapi tanggal tidak di-melt: \n",
    "# 1. gunakan .reset_index()\n",
    "# 2. gunakan .melt dan masukkan `Date` sebagai id_vars\n"
   ]
  },
  {
   "cell_type": "markdown",
   "metadata": {},
   "source": [
    "> ❓ Lakukan _melting_ hanya pada kolom `Open` dan `Close`. Kolom `Date` digunakan sebagai *identifier*."
   ]
  },
  {
   "cell_type": "code",
   "execution_count": null,
   "metadata": {},
   "outputs": [],
   "source": [
    "# code here\n",
    "adaro_open_close = adaro.reset_index().melt(id_vars = ... ,\n",
    "                                            value_vars = ... )"
   ]
  },
  {
   "cell_type": "markdown",
   "metadata": {},
   "source": [
    "**Additional**: `var_name` dan `value_name` \n",
    "\n",
    "Kita dapat mengubah nama kolom `Attributes` (kolom yang menampung nama variabel) dengan parameter `var_name` dan mengubah nama kolom untuk *value* dengan parameter `value_name`."
   ]
  },
  {
   "cell_type": "code",
   "execution_count": null,
   "metadata": {},
   "outputs": [],
   "source": [
    "adaro.reset_index().melt(\n",
    "    id_vars = \"Date\",\n",
    "    value_vars = [\"Open\",\"Close\"],\n",
    "    var_name = \"Open or Close\",\n",
    "    value_name = \"Price\"\n",
    ")"
   ]
  },
  {
   "cell_type": "markdown",
   "metadata": {},
   "source": [
    "## ✨`.pivot()`✨"
   ]
  },
  {
   "cell_type": "markdown",
   "metadata": {},
   "source": [
    "<center>\n",
    "<img src=\"assets/pivot.png\" width=60%/>\n",
    "</center>"
   ]
  },
  {
   "cell_type": "markdown",
   "metadata": {},
   "source": [
    "`DataFrame.pivot()` merupakan kebalikan dari `DataFrame.melt()`."
   ]
  },
  {
   "cell_type": "markdown",
   "metadata": {},
   "source": [
    "**🔎 Parameter Penting Fungsi `.pivot()`**\n",
    "\n",
    "* `columns`: kolom yang akan diuraikan.\n",
    "* `index`: kolom yang dijadikan _index_.\n",
    "* `values`: kolom yang akan mengisi _value_ dari kolom yang baru dibuat.\n",
    "* Parameter lainnya dapat dilihat pada [dokumentasi berikut](https://pandas.pydata.org/docs/reference/api/pandas.DataFrame.pivot.html)."
   ]
  },
  {
   "cell_type": "markdown",
   "metadata": {},
   "source": [
    "Mari lihat kembali bagaimana data `adaro_open_close` kita sebelumnya."
   ]
  },
  {
   "cell_type": "code",
   "execution_count": null,
   "metadata": {},
   "outputs": [],
   "source": [
    "adaro_open_close.head()"
   ]
  },
  {
   "cell_type": "code",
   "execution_count": null,
   "metadata": {},
   "outputs": [],
   "source": [
    "# menggunakan .pivot() pada data adaro_open_close\n"
   ]
  },
  {
   "cell_type": "markdown",
   "metadata": {},
   "source": [
    "Terlihat pada kode di atas, setelah kita menggunakan fungsi `.pivot()`:\n",
    "\n",
    "* Kolom `Open` dan `Close` akan dipecah menjadi 2 kolom yang terpisah.\n",
    "* Nilai pada kolom `Close` dan `Open` berasal dari kolom `value`."
   ]
  },
  {
   "cell_type": "markdown",
   "metadata": {},
   "source": [
    "## 🧪 Knowledge Check: `.melt()` vs `.stack()`\n",
    "\n",
    "Persamaan antara `melt()` dan `stack()`: \n",
    "- ...\n",
    "\n",
    "Apa perbedaan antara `melt()` dan `stack()` ?\n",
    "- ..."
   ]
  },
  {
   "cell_type": "markdown",
   "metadata": {},
   "source": [
    "## 📝 Notes"
   ]
  },
  {
   "cell_type": "markdown",
   "metadata": {},
   "source": [
    "**▶️ Perbedaan `.pivot_table()` dan `.pivot()`**\n",
    " \n",
    "- `.pivot_table()` untuk membuat tabel agregasi (ada nilai yang dirangkum).\n",
    "- `.pivot()` hanya untuk _reshaping_ (tidak ada nilai yang dirangkum).\n",
    "\n",
    "**▶️ *Quick Summary***\n",
    "\n",
    "- Melakukan *slicing* pada *dataframe* yang *multi-index*: \n",
    "    + Menggunakan fungsi `.xs()`.\n",
    "- Melakukan *reshaping*:\n",
    "    + *Wide to Long*:\n",
    "       - Menggunakan fungsi `.stack()`: untuk *multi-index dataframe*.\n",
    "         - Fungsi: memindahkan kolom jadi baris.\n",
    "       - Menggunakan fungsi `.melt()`: untuk *single-index dataframe*.\n",
    "         - Fungsi: melebur/menyatukan beberapa kolom.\n",
    "    + *Long to Wide*:\n",
    "       - Menggunakan fungsi `.unstack()`: untuk *multi-index dataframe*.\n",
    "         - Fungsi: memindahkan baris jadi kolom.\n",
    "       - Menggunakan fungsi `.pivot()`: untuk *single-index dataframe*.\n",
    "         - Fungsi: menguraikan 1 kolom menjadi beberapa kolom.\n",
    "- Mengubah *index* menjadi kolom:\n",
    "    + Menggunakan fungsi `.reset_index()`."
   ]
  },
  {
   "cell_type": "markdown",
   "metadata": {},
   "source": [
    "---"
   ]
  },
  {
   "cell_type": "markdown",
   "metadata": {},
   "source": [
    "# Visual Data Exploratory"
   ]
  },
  {
   "cell_type": "markdown",
   "metadata": {},
   "source": [
    "🔎 **Tujuan Visualisasi**\n",
    "\n",
    "- ***Exploratory***: proses  **mengeksplorasi data** untuk **mendapatkan sebuah _insight_**. Visualisasi yang ditampilkan biasanya sederhana. Analogi: mencari dan mendapatkan batu permata di antara ratusan batu biasa.\n",
    "- ***Explanatory***: proses untuk menjelaskan atau **menyajikan _insight_** (*_explain_*) yang didapat dari hasil _exploratory_ kepada _user_/_audience_. Visualisasi yang ditampilkan biasanya lebih menarik dan meng-*highlight* _insight_ secara spesifik. Analogi: memoles batu permata tersebut dan menawarkannya kepada pembeli.\n",
    "\n",
    "Pada _course_ ini, kita akan fokus pada cara menampilkan visualisasi data yang **informatif dan tepat** (*exploratory*). Untuk memperindah tampilan visualisasi dapat didalami secara mandiri melalui dokumentasi yang tersedia."
   ]
  },
  {
   "cell_type": "markdown",
   "metadata": {},
   "source": [
    "## ✨`pandas` dan `matplotlib`✨"
   ]
  },
  {
   "cell_type": "markdown",
   "metadata": {},
   "source": [
    "`matplotlib` merupakan _package_ yang sering digunakan untuk membuat visualisasi data. Menariknya, kita dapat memanfaatkan fungsionalitas dari `matplotlib` melalui _method_ `.plot()` dari _dataframe_."
   ]
  },
  {
   "cell_type": "markdown",
   "metadata": {},
   "source": [
    "> ❓ Setelah mempersiapkan data, anda akan melakukan diskusi dengan rekan tim *data analyst* lainnya. Sehingga, anda ingin mempersiapkan berbagai visualisasi untuk dipresentasikan. Visualisasi pertama yang akan dibuat adalah pergerakan `Volume` saham dari ketiga perusahaan selama **50 hari terakhir**."
   ]
  },
  {
   "cell_type": "code",
   "execution_count": null,
   "metadata": {},
   "outputs": [],
   "source": [
    "# 50 data Volume terakhir\n",
    "stock_vol50 = stock['Volume'].tail(50)\n",
    "stock_vol50"
   ]
  },
  {
   "cell_type": "code",
   "execution_count": null,
   "metadata": {},
   "outputs": [],
   "source": [
    "# membuat visualisasi dari 50 data Volume terakhir\n"
   ]
  },
  {
   "cell_type": "markdown",
   "metadata": {},
   "source": [
    "Dari visualisasi di atas:\n",
    "\n",
    "* Sumbu x menunjukkan: nilai `Date`.\n",
    "* Sumbu y menunjukkan: nilai `Volume`.\n",
    "* Setiap garis mewakili perusahaan yang berbeda: `ADRO.JK`, `BBRI.JK`, dan `TLKM.JK`.    \n",
    "\n",
    "📝 **Note**: Secara default, `.plot()` akan menghasilkan **Line Plot**"
   ]
  },
  {
   "cell_type": "markdown",
   "metadata": {},
   "source": [
    "📈 ***Insight***:\n",
    "\n",
    "- ..."
   ]
  },
  {
   "cell_type": "markdown",
   "metadata": {},
   "source": [
    "Kita juga dapat mengatur _style_ dari visualisasi dengan fungsi `plt.style.use()`."
   ]
  },
  {
   "cell_type": "code",
   "execution_count": null,
   "metadata": {},
   "outputs": [],
   "source": [
    "# style yang tersedia\n",
    "print(plt.style.available)"
   ]
  },
  {
   "cell_type": "code",
   "execution_count": null,
   "metadata": {},
   "outputs": [],
   "source": [
    "# menggunakan style seaborn-v0_8\n"
   ]
  },
  {
   "cell_type": "code",
   "execution_count": null,
   "metadata": {},
   "outputs": [],
   "source": [
    "# visualisasi ulang setelah mengatur style\n"
   ]
  },
  {
   "cell_type": "markdown",
   "metadata": {},
   "source": [
    "> ❓ Berdasarkan sebelumnya, `ADRO.JK` adalah saham dengan angka volume yang cenderung terendah dibandingkan dengan dua perusahaannya. Selanjutnya, tim ingin membuat visualisasi pergerakan saham `ADRO.JK` selama tahun 2023."
   ]
  },
  {
   "cell_type": "code",
   "execution_count": null,
   "metadata": {},
   "outputs": [],
   "source": [
    "stock.head()"
   ]
  },
  {
   "cell_type": "code",
   "execution_count": null,
   "metadata": {},
   "outputs": [],
   "source": [
    "# subsetting untuk mendapatkan atribut ADRO.JK selama 2023\n",
    "adaro_2023 = stock.xs(\n",
    "    key = ... ,\n",
    "    level = ... ,\n",
    "    axis = ...\n",
    ").loc[ ... : ... ,:]"
   ]
  },
  {
   "cell_type": "code",
   "execution_count": null,
   "metadata": {},
   "outputs": [],
   "source": [
    "# visualisasi data adaro_2023\n"
   ]
  },
  {
   "cell_type": "markdown",
   "metadata": {},
   "source": [
    "💭 **Diskusi:** Apakah visualisasi tersebut sudah cukup informatif dan tepat?"
   ]
  },
  {
   "cell_type": "code",
   "execution_count": null,
   "metadata": {},
   "outputs": [],
   "source": [
    "# cek distribusi data untuk adaro_2023\n"
   ]
  },
  {
   "cell_type": "code",
   "execution_count": null,
   "metadata": {},
   "outputs": [],
   "source": [
    "# buat visualisasi dengan meng-exclude kolom Volume\n"
   ]
  },
  {
   "cell_type": "markdown",
   "metadata": {},
   "source": [
    "**Quick Summary**\n",
    "\n",
    "- **_Reshaping_**\n",
    "  * `DataFrame.melt()` melebur beberapa kolom menjadi 1 kolom.\n",
    "    * Parameter:\n",
    "      * `id_vars`: kolom yang akan dipertahankan, berperan sebagai _identifier_.\n",
    "      * `value_vars`: kolom yang akan dilebur.\n",
    "  * `DataFrame.pivot()` menguraikan 1 kolom menjadi beberapa kolom.\n",
    "    * Parameter:\n",
    "      * `columns`: kolom yang akan diuraikan.\n",
    "      * `index`: kolom yang dijadikan _index_.\n",
    "      * `values`: kolom yang akan mengisi _value_ dari kolom yang baru dibuat.\n",
    "- **Visualisasi**\n",
    "  * _Exploratory vs Explanatory_\n",
    "    - Visualisasi _exploratory_ digunakan untuk menemukan pola pada data (analisis pribadi).\n",
    "    - Visualisasi _explanatory_ digunakan untuk mengomunikasikan _insight_ yang sudah didapatkan.\n",
    "  * Fungsi untuk visualisasi dari _dataframe_: `.plot()`."
   ]
  },
  {
   "cell_type": "markdown",
   "metadata": {},
   "source": [
    "## ✨Tipe-Tipe Visualisasi✨"
   ]
  },
  {
   "cell_type": "markdown",
   "metadata": {},
   "source": [
    "Perhatikan bahwa kita tidak memasukkan argumen apapun ke dalam fungsi `.plot()`. _By default_, jenis visualisasi yang digunakan adalah _lineplot_. Terdapat beberapa jenis visualisasi lain yang bisa kita gunakan.\n",
    "\n",
    "* **Categorical Comparison**\n",
    "\t- **`.plot.bar()` untuk _bar plot_ (diagram batang)**.\n",
    "\t- **`.plot.barh()` untuk _horizontal bar plot_**.\n",
    "\t- `.plot.pie()` untuk _pie chart_.\n",
    "\n",
    "* **Numerical Distribution**\n",
    "    - **`.plot.hist()` untuk histogram**.\n",
    "\t- **`.plot.box()` untuk _box plot_**.\n",
    "\n",
    "* **Time Series Evolution**\n",
    "\t- `.plot.line()` untuk _line plot_.\n",
    "\n",
    "* **Correlation / Relationship**\n",
    "\t- `.plot.scatter()` untuk _scatter plot_.\n",
    "\t- `.plot.density()` untuk _density plot_.\n",
    "\n",
    "\n",
    "> 📌 Panduan untuk menentukan tipe visualisasi yang tepat: https://www.data-to-viz.com/.\n",
    "\n",
    "> 📌 Dokumentasi fungsi `.plot`: https://pandas.pydata.org/docs/reference/api/pandas.DataFrame.plot.html."
   ]
  },
  {
   "cell_type": "markdown",
   "metadata": {},
   "source": [
    "### 1️⃣ Barplot"
   ]
  },
  {
   "cell_type": "markdown",
   "metadata": {},
   "source": [
    "> 📌 **_Barplot_** digunakan untuk melihat **perbandingan** beberapa **kategori**."
   ]
  },
  {
   "cell_type": "markdown",
   "metadata": {},
   "source": [
    "> ❓ Selanjutnya, tim ingin **membandingkan tingkat fluktuasi** nilai `High` pada masing-masing perusahaan menggunakan *coefficient of variation*. *Insight* yang didapatkan pada analisis ini dapat dimanfaatkan untuk mengurutkan perusahaan mana yang pergerakan sahamnya yang cukup stabil dan mana yang tidak.\n",
    "\n",
    "> 📌 Info lebih lanjut terkait [coefficient of variation](https://www.investopedia.com/terms/c/coefficientofvariation.asp)\n",
    "\n",
    "$$CoV = \\frac{std}{mean}$$"
   ]
  },
  {
   "cell_type": "code",
   "execution_count": null,
   "metadata": {},
   "outputs": [],
   "source": [
    "# mengambil nilai coefficient of variation\n",
    "high_cov = "
   ]
  },
  {
   "cell_type": "code",
   "execution_count": null,
   "metadata": {},
   "outputs": [],
   "source": [
    "# membuat barplot \n"
   ]
  },
  {
   "cell_type": "markdown",
   "metadata": {},
   "source": [
    "📈 ***Insight***:\n",
    "\n",
    "* ..."
   ]
  },
  {
   "cell_type": "markdown",
   "metadata": {},
   "source": [
    "### 2️⃣ Horizontal Barplot"
   ]
  },
  {
   "cell_type": "markdown",
   "metadata": {},
   "source": [
    "> 📌 **_Horizontal barplot_** digunakan untuk melihat **perbandingan** beberapa **kategori secara horizontal** ."
   ]
  },
  {
   "cell_type": "code",
   "execution_count": null,
   "metadata": {},
   "outputs": [],
   "source": [
    "# membuat horizontal barplot dari data high_cov\n"
   ]
  },
  {
   "cell_type": "code",
   "execution_count": null,
   "metadata": {},
   "outputs": [],
   "source": [
    "# mengurutkan high_cov\n",
    "high_cov = ..."
   ]
  },
  {
   "cell_type": "code",
   "execution_count": null,
   "metadata": {},
   "outputs": [],
   "source": [
    "# membuat ulang horizontal barplot\n"
   ]
  },
  {
   "cell_type": "markdown",
   "metadata": {},
   "source": [
    "🔎 ***Barplot vs Horizontal Barplot***\n",
    "\n",
    "* _Barplot_ (Vertical): digunakan saat ingin membuat perbandingan yang sudah memiliki urutan, misalnya tingkat pendidikan dan waktu.\n",
    "* _Horizontal barplot_: digunakan saat ingin melihat perbandingan berdasarkan _ranking_/besar nilai.\n",
    "\n",
    "> ❓ Dengan contoh di atas, kita sebaiknya menggunakan ____"
   ]
  },
  {
   "cell_type": "markdown",
   "metadata": {},
   "source": [
    "### 3️⃣ Histogram"
   ]
  },
  {
   "cell_type": "markdown",
   "metadata": {},
   "source": [
    "> 📌 **Histogram** digunakan untuk melihat **persebaran** data."
   ]
  },
  {
   "cell_type": "markdown",
   "metadata": {},
   "source": [
    ">❓ Berdasarkan hasil analisis sebelumnya, `TLKM.JK` adalah perusahaan yang CoV-nya paling kecil dibandingkan BRI dan Adaro. Selanjutnya, tim ingin melihat lebih lanjut, bagaimanakah **persebaran** `Volume` pada saham `TLKM.JK`?"
   ]
  },
  {
   "cell_type": "code",
   "execution_count": null,
   "metadata": {},
   "outputs": [],
   "source": [
    "stock.head()"
   ]
  },
  {
   "cell_type": "code",
   "execution_count": null,
   "metadata": {},
   "outputs": [],
   "source": [
    "# ambil data Volume pada TLKM.JK dan simpan ke variabel vol_telkom\n",
    "vol_telkom = ..."
   ]
  },
  {
   "cell_type": "code",
   "execution_count": null,
   "metadata": {},
   "outputs": [],
   "source": [
    "# visualisasi histogram \n"
   ]
  },
  {
   "cell_type": "markdown",
   "metadata": {},
   "source": [
    "Gunakan parameter `bins` untuk mengubah jumlah bin dalam histogram:"
   ]
  },
  {
   "cell_type": "code",
   "execution_count": null,
   "metadata": {},
   "outputs": [],
   "source": [
    "# Histogram dengan 20 bins\n"
   ]
  },
  {
   "cell_type": "markdown",
   "metadata": {},
   "source": [
    "📈 ***Insight***:\n",
    "\n",
    "* ..."
   ]
  },
  {
   "cell_type": "markdown",
   "metadata": {},
   "source": [
    "### 🧪 Knowledge Check: Baplot vs Histogram"
   ]
  },
  {
   "cell_type": "markdown",
   "metadata": {},
   "source": [
    "Setelah mempelajari kedua jenis visualisasi di atas: _barplot_ dan histogram, apa perbedaan kedua visualisasi tersebut?\n"
   ]
  },
  {
   "cell_type": "markdown",
   "metadata": {},
   "source": [
    "### 4️⃣ Boxplot"
   ]
  },
  {
   "cell_type": "markdown",
   "metadata": {},
   "source": [
    "> 📌 ***Boxplot*** digunakan untuk melihat ***5 number summary*** & **membandingkan persebaran** dari suatu nilai numerik."
   ]
  },
  {
   "cell_type": "markdown",
   "metadata": {},
   "source": [
    "<center>\n",
    "<img src=\"assets/box_plot.png\" width=\"600\"/>\n",
    "<center/>"
   ]
  },
  {
   "cell_type": "markdown",
   "metadata": {},
   "source": [
    "- Q1: kuartil 1 (data ke 25%).\n",
    "- Median: kuartil 2 (data ke 50%).\n",
    "- Q3: kuartil 3 (data ke 75%).\n",
    "- _Lower whisker_: pagar bawah.\n",
    "- _Upper whisker_: pagar atas.\n",
    "- Data di luar pagar akan dianggap sebagai _outlier_ atau data pencilan."
   ]
  },
  {
   "cell_type": "markdown",
   "metadata": {},
   "source": [
    "> ❓ Untuk mendapatkan *insight* yang lebih lengkap, tim ingin **membandingkan persebaran** untuk ketiga saham menggunakan *boxplot*."
   ]
  },
  {
   "cell_type": "code",
   "execution_count": null,
   "metadata": {},
   "outputs": [],
   "source": [
    "# menampilan boxplot untuk membandingkan persebaran Volume dari ketiga saham\n"
   ]
  },
  {
   "cell_type": "markdown",
   "metadata": {},
   "source": [
    "Gunakan parameter `vert=False` untuk melihat _boxplot_ secara horizontal."
   ]
  },
  {
   "cell_type": "code",
   "execution_count": null,
   "metadata": {},
   "outputs": [],
   "source": [
    "# horizontal box plot\n"
   ]
  },
  {
   "cell_type": "markdown",
   "metadata": {},
   "source": [
    "📈 ***Insight***:\n",
    "\n",
    "* ..."
   ]
  },
  {
   "cell_type": "markdown",
   "metadata": {},
   "source": [
    "> ❓ Tim diminta perusahaan untuk membandingkan distribusi `Volume` dari `BBRI.JK` setiap quarter tahun 2023. Tampilkan dalam bentuk box plot!"
   ]
  },
  {
   "cell_type": "code",
   "execution_count": null,
   "metadata": {},
   "outputs": [],
   "source": [
    "# ambil data Volume BBRI.JK\n",
    "vol_bri = stock['Volume'][['BBRI.JK']].loc['2023-01-01':'2023-12-31'].copy()\n",
    "vol_bri.head()"
   ]
  },
  {
   "cell_type": "code",
   "execution_count": null,
   "metadata": {},
   "outputs": [],
   "source": [
    "# buat kolom baru, Quarter, yang menunjukkan kuarter dari waktu yang diberikan \n",
    "vol_bri['Quarter'] = ..."
   ]
  },
  {
   "cell_type": "markdown",
   "metadata": {},
   "source": [
    "Gunakan parameter `by='NAMA_KOLOM'` untuk memisahkan boxplot berdasarkan suatu kolom category:"
   ]
  },
  {
   "cell_type": "code",
   "execution_count": null,
   "metadata": {},
   "outputs": [],
   "source": [
    "# visualisasi\n"
   ]
  },
  {
   "cell_type": "markdown",
   "metadata": {},
   "source": [
    "📈 ***Insight***:\n",
    "\n",
    "- Berdasarkan nilai median: ___\n",
    "- Berdasarkan lebar box: ___\n",
    "- Berdasarkan outlier: ___"
   ]
  },
  {
   "cell_type": "markdown",
   "metadata": {},
   "source": [
    "### (Additional) Other Python Libraries for Visualization\n",
    "\n",
    "Apabila Anda tertarik mengenai visualisasi di Python, silakan eksplorasi lebih lanjut _package_-_package_ berikut.\n",
    "\n",
    "- `matplotlib`: semua elemen pada visualisasi dapat dikustomisasi, namun membutuhkan _code_ yang lebih panjang. [Dokumentasi Matplotlib](https://matplotlib.org/3.2.2/tutorials/index.html) \n",
    "- `seaborn`: dikembangkan dari `matplotlib`. Lebih sedikit yang dapat dikustomisasi, namun lebih mudah. [Dokumentasi Seaborn](https://seaborn.pydata.org/introduction.html)\n",
    "- `plotly`: plot interaktif serta kompatibilitas dengan bahasa lain yang tinggi. [Dokumentasi Plotly](https://plotly.com/python/)\n",
    "- `altair`: plot interaktif yang bersifat deklaratif dan _code_ relatif lebih mudah. [Dokumentasi Altair](https://altair-viz.github.io/index.html)\n",
    "\n",
    "Referensi perbandingan _library_ dapat Anda lihat [di sini](https://askalgo-py.netlify.app/faq/dwv#adakah-library-visualisasi-data-di-python-selain-matplotlib)."
   ]
  },
  {
   "cell_type": "markdown",
   "metadata": {},
   "source": [
    "---"
   ]
  },
  {
   "cell_type": "markdown",
   "metadata": {},
   "source": [
    "# Aggregation Visualization"
   ]
  },
  {
   "cell_type": "markdown",
   "metadata": {},
   "source": [
    "Misalkan kita punya *dataframe* `close_melted` yang menyimpan data `Close` harian dari setiap perusahaan."
   ]
  },
  {
   "cell_type": "code",
   "execution_count": null,
   "metadata": {},
   "outputs": [],
   "source": [
    "# membuat dataframe close_melted\n",
    "close_melted  = stock['Close'].reset_index().melt(id_vars = 'Date', \n",
    "                                                  var_name = 'Symbols',\n",
    "                                                  value_name='Close')\n",
    "close_melted"
   ]
  },
  {
   "cell_type": "markdown",
   "metadata": {},
   "source": [
    "> ❓ Untuk melengkapi analisis sebelumnya, tim ingin membandingkan, di antara `ADRO.JK`, `BBRI.JK`,  dan `TLKM.JK`, manakah saham yang memiliki **rata-rata** `Close` harian tertinggi? "
   ]
  },
  {
   "cell_type": "markdown",
   "metadata": {},
   "source": [
    "Untuk menyelesaikan *case* di atas, minggu lalu kita telah mempelajari metode pembuatan metode tabel agregasi. Buatlah tabel agregasi dengan `pd.crosstab()` atau `.pivot_table()`!"
   ]
  },
  {
   "cell_type": "code",
   "execution_count": null,
   "metadata": {},
   "outputs": [],
   "source": [
    "# code here\n"
   ]
  },
  {
   "cell_type": "markdown",
   "metadata": {},
   "source": [
    "Perbedaan antara `crosstab` dan `pivot_table` dapat dirangkum dalam tabel berikut:\n",
    "\n",
    "|                                                                                    | `.crosstab()` | `.pivot_table()` |\n",
    "|------------------------------------------------------------------------------------|-----------------|--------------------|\n",
    "|                                                                          **Input** | Array of values/Series |          DataFrame (parameter `data`)|\n",
    "|                                                              **Default `aggfunc`** |       `'count'` |           `'mean'` |\n",
    "|                                                          **Parameter `columns`** |       Mandatory |      Optional |\n",
    "|                                                          **Parameter `normalize`** |       Available |      Not Available |\n",
    "| [**Computation Time**](https://ramiro.org/notebook/pandas-crosstab-groupby-pivot/) | Relatively Slower |  Relatively Faster |"
   ]
  },
  {
   "cell_type": "markdown",
   "metadata": {},
   "source": [
    "Selain menggunakan `pd.crosstab()` atau `.pivot_table`, salah satu fungsi yang dapat dimanfaatkan untuk melakukan agregasi data adalah method `.groupby()`.\n",
    "\n",
    "### `.groupby()`\n",
    "\n",
    "Proses agregasi menggunakan **group by** merupakan gabungan dari proses:\n",
    "\n",
    "1. **Split**: memisahkan baris berdasarkan suatu kategori, contoh: dikelompokkan berdasarkan `format`\n",
    "2. **Apply**: menerapkan fungsi agregasi untuk masing-masing grup, contoh: dihitung `mean` untuk masing-masing `format`\n",
    "3. **Combine**: mengembalikan hasil dalam bentuk 1 tabel\n",
    "\n",
    "```python\n",
    "df.groupby('kolom_category').aggfunc()\n",
    "```\n",
    "\n",
    "atau\n",
    "\n",
    "```python\n",
    "df.groupby('kolom_category')['kolom_numerik'].aggfunc()\n",
    "```\n",
    "\n",
    "💡 Berikut beberapa fungsi agregasi yang dapat digunakan pada `pandas`:\n",
    "\n",
    "- `.count()`- Jumlah baris\n",
    "- `.sum()` - Penjumlahan\n",
    "- `.mean()` - Rata-rata \n",
    "- `.median()` - Median\n",
    "- `.min()` - Minimum\n",
    "- `.max()` - Maximum\n",
    "- `.mode()` - Modus\n",
    "- `.std()` - Standard Deviasi\n",
    "- `.var()`- Variansi"
   ]
  },
  {
   "cell_type": "markdown",
   "metadata": {},
   "source": [
    "> ❓ Gunakan `.groupby()` untuk menganalisis saham yang memiliki **rata-rata** `Close` harian tertinggi? "
   ]
  },
  {
   "cell_type": "code",
   "execution_count": null,
   "metadata": {},
   "outputs": [],
   "source": [
    "# code here\n"
   ]
  },
  {
   "cell_type": "markdown",
   "metadata": {},
   "source": [
    "💡 **Note**:\n",
    "\n",
    "Gunakan parameter `numeric_only=True` agar fungsi agregasi hanya menghitung kolom numerik saja. "
   ]
  },
  {
   "cell_type": "code",
   "execution_count": null,
   "metadata": {},
   "outputs": [],
   "source": [
    "# code here\n"
   ]
  },
  {
   "cell_type": "markdown",
   "metadata": {},
   "source": [
    "Jika kita tidak ingin melakukan agregasi pada seluruh kolom, maka lakukan subsetting menggunakan kurung siku (`['nama_kolom']`) terlebih dahulu setelah dilakukan `.groupby()`"
   ]
  },
  {
   "cell_type": "code",
   "execution_count": null,
   "metadata": {},
   "outputs": [],
   "source": [
    "# code here\n",
    "close_mean = ..."
   ]
  },
  {
   "cell_type": "markdown",
   "metadata": {},
   "source": [
    "Selanjutnya, buat visualisasi dengan *barchart*."
   ]
  },
  {
   "cell_type": "code",
   "execution_count": null,
   "metadata": {},
   "outputs": [],
   "source": [
    "# code here\n"
   ]
  },
  {
   "cell_type": "markdown",
   "metadata": {},
   "source": [
    "**Quick Summary**\n",
    "\n",
    "- **Visualisasi**\n",
    "  * _Barplot_\n",
    "    - Digunakan untuk membandingkan beberapa kategori terhadap variabel numerik.\n",
    "    - Sintaks: `DataFrame.plot(kind = 'bar')` atau `DataFrame.plot(kind = 'barh')`.\n",
    "  * _Histogram_\n",
    "    - Digunakan untuk melihat distribusi data.\n",
    "    - Sintaks: `DataFrame.plot(kind = 'hist')`.\n",
    "  * _Boxplot_\n",
    "    - Digunakan untuk melihat distribusi data dan nilai statistik data.\n",
    "    - Sintaks: `DataFrame.plot(kind = 'box')`.\n",
    "  * Parameter tambahan untuk `.plot()`:\n",
    "    - `title` untuk memberi judul plot.\n",
    "    - `xlabel` untuk memberi label pada sumbu x.\n",
    "    - `ylabel` untuk memberi label pada sumbu y.\n",
    "    - `color` untuk mengganti warna plot.\n",
    "    - `rot` untuk memutar tulisan pada sumbu.\n",
    "- **Agregasi dengan `.groupby()`**\n",
    "  * Penggunaannya mirip dengan `pd.crosstab()` dan `DataFrame.pivot_table()`.\n",
    "  * Sintaks: `DataFrame.groupby(by = 'kolom untuk agregasi').agg_func()`."
   ]
  },
  {
   "cell_type": "markdown",
   "metadata": {},
   "source": [
    "## ✨Grouped Barchart✨"
   ]
  },
  {
   "cell_type": "markdown",
   "metadata": {},
   "source": [
    "> ❓ Jika pada analisis sebelumnya tim hanya menghitung rata-rata nilai `Close` secara keseluruhan, kali ini, mereka ingin membuat visualisasi yang dapat membandingkan rata-rata nilai `Close` untu ketiga saham setiap bulannya. \n",
    "\n",
    "Untuk *case* di atas, kita bisa menggunakan ***grouped barchart***.\n",
    "\n",
    "* Buatlah *dataframe*  `closing_price` yang berisikan nilai `Close` untuk ketiga saham.\n",
    "* Tampilkan nilai rata-rata `Close` untuk setiap bulannya pada tabel agregasi `mean_closing`."
   ]
  },
  {
   "cell_type": "code",
   "execution_count": null,
   "metadata": {},
   "outputs": [],
   "source": [
    "# buat dataframe closing_price\n",
    "closing_price = stock['Close'].copy()\n",
    "closing_price.head()"
   ]
  },
  {
   "cell_type": "code",
   "execution_count": null,
   "metadata": {},
   "outputs": [],
   "source": [
    "# buat kolom baru pada closing_price: Month\n",
    "closing_price['Month'] = ..."
   ]
  },
  {
   "cell_type": "code",
   "execution_count": null,
   "metadata": {},
   "outputs": [],
   "source": [
    "# buat tabel agregasi mean_closing\n",
    "monthly_closing = ..."
   ]
  },
  {
   "cell_type": "markdown",
   "metadata": {},
   "source": [
    "Selanjutnya, kita akan membuat *grouped barchart*."
   ]
  },
  {
   "cell_type": "code",
   "execution_count": null,
   "metadata": {},
   "outputs": [],
   "source": [
    "# code here\n"
   ]
  },
  {
   "cell_type": "markdown",
   "metadata": {},
   "source": [
    "**Additional**: Sorting Month Name\n",
    "\n",
    "Secara default, `pandas` akan mengurutkan bulan berdasarkan urutan alphabetical. Untuk mengurutkan urutan bulan sesuai dengan urutan pada kalender, kita perlu mendefinisikan sebuah list berisi nama-nama bulan dengan urutan yang tepat dan menggunakan method `.reindex()`"
   ]
  },
  {
   "cell_type": "code",
   "execution_count": null,
   "metadata": {},
   "outputs": [],
   "source": [
    "# improvement visualisasi\n",
    "# perbaiki urutan bulan\n",
    "months = ['January', 'February', 'March', 'April', 'May', 'June', 'July', 'August', 'September', 'October', 'November', 'December']\n",
    "monthly_closing = monthly_closing.reindex(months)\n",
    "monthly_closing"
   ]
  },
  {
   "cell_type": "code",
   "execution_count": null,
   "metadata": {},
   "outputs": [],
   "source": [
    "monthly_closing.plot.bar()"
   ]
  },
  {
   "cell_type": "markdown",
   "metadata": {},
   "source": [
    "📈 ***Insight***:\n",
    "\n",
    "* ..."
   ]
  },
  {
   "cell_type": "markdown",
   "metadata": {},
   "source": [
    "### 🧪 Knowledge Check: `.groupby()`"
   ]
  },
  {
   "cell_type": "markdown",
   "metadata": {},
   "source": [
    "Tim dihadapi sebuah *long dataframe* seperti pada `closing_melt` berikut."
   ]
  },
  {
   "cell_type": "code",
   "execution_count": null,
   "metadata": {},
   "outputs": [],
   "source": [
    "closing_melt = closing_price.melt(id_vars='Month', value_name='Close')\n",
    "closing_melt"
   ]
  },
  {
   "cell_type": "markdown",
   "metadata": {},
   "source": [
    "Untuk membuat sebuah grouped bar chart, tim harus mengubah bentuk dari dataframe tersebut. Bagaimana cara kita mengubah bentuk `closing_melt` menjadi `monthly_closing`?\n",
    "\n",
    "***Hint:*** Gunakan teknik _group by_ dan juga _reshaping_."
   ]
  },
  {
   "cell_type": "code",
   "execution_count": null,
   "metadata": {},
   "outputs": [],
   "source": [
    "# code here\n"
   ]
  },
  {
   "cell_type": "markdown",
   "metadata": {},
   "source": [
    "## ✨Combining `.agg()` and `.groupby()`✨"
   ]
  },
  {
   "cell_type": "markdown",
   "metadata": {},
   "source": [
    "Pada bagian sebelumnya, kita sudah mengetahui bahwa penggunaan `.groupby()` diikuti dengan sebuah fungsi agregasi. Misalnya, jika ingin menghitung rata-rata, maka kita menggunakan `.mean()`. Terdapat fungsi lain, `.agg()` yang memungkinkan kita untuk menggunakan fungsi agregasi yang berbeda-beda.\n",
    "\n",
    "Misalkan terdapat memiliki data `stock_long` sebagai berikut."
   ]
  },
  {
   "cell_type": "code",
   "execution_count": null,
   "metadata": {},
   "outputs": [],
   "source": [
    "stock_long = stock.stack().reset_index()\n",
    "stock_long.head()"
   ]
  },
  {
   "cell_type": "markdown",
   "metadata": {},
   "source": [
    "❓ Jika pada analisis sebelumnya tim hanya terfokus pada satu kolom, kali ini, mereka ingin membandingkan beberapa aspek berikut dari ketiga perusahaan:\n",
    "\n",
    "- Harga maksimum dari `High` untuk ketiga perusahaan (`max` dari `High`)\n",
    "- Harga minimum dari `Low` untuk ketiga perusahaan  (`min` dari `Low`)\n",
    "- Rata-rata *closing price* untuk ketiga perusahaan (`mean` dari `Close`)\n",
    "\n",
    "Untuk mendapat hasil tersebut, kita harus melakukan _chaining_ `.groupby()` dengan method `.agg()`. Kita harus menyertakan _mapping_ (*dictionary*) untuk setiap kolom dengan fungsi agregasinya seperti berikut ini:\n",
    "\n",
    "```python\n",
    "df.groupby('kolom_category').agg({'kolom_numerik1' : 'aggfunc1',\n",
    "                                  'kolom_numerik2' : 'aggfunc2'})\n",
    "```"
   ]
  },
  {
   "cell_type": "code",
   "execution_count": null,
   "metadata": {},
   "outputs": [],
   "source": [
    "# code here\n",
    "summary_stock = ..."
   ]
  },
  {
   "cell_type": "markdown",
   "metadata": {},
   "source": [
    "Visualisasikan tabel agregasi di atas untuk membandingkan nilai tersebut."
   ]
  },
  {
   "cell_type": "code",
   "execution_count": null,
   "metadata": {},
   "outputs": [],
   "source": []
  },
  {
   "cell_type": "markdown",
   "metadata": {},
   "source": [
    "## 🧪 Knowledge Check: Visualization"
   ]
  },
  {
   "cell_type": "markdown",
   "metadata": {},
   "source": [
    "Perhatikan _dataframe_ `monthly_closing` berikut."
   ]
  },
  {
   "cell_type": "code",
   "execution_count": null,
   "metadata": {},
   "outputs": [],
   "source": [
    "stock['YearMonth'] = stock.index.to_period('M')\n",
    "monthly_closing = stock.groupby('YearMonth').mean()['Close']\n",
    "monthly_closing.head()"
   ]
  },
  {
   "cell_type": "markdown",
   "metadata": {},
   "source": [
    "Tipe plot mana yang paling sesuai untuk data di atas, apabila kita ingin melihat pergerakan nilai `Close` dari waktu ke waktu?\n",
    "\n",
    "- [ ] _Line plot_ `.plot()`\n",
    "- [ ] _Scatter plot_ `.plot.scatter(x, y)` --- relasi atau hubungan variabel.\n",
    "- [ ] _Bar plot_ `.plot.bar()` -- _ranking_/perbandingan kategori.\n",
    "- [ ] _Box plot_ `.plot.box()` -- persebaran/distribusi data, nilai statistiknya (min, max, Q1, Q2, Q3, _outlier_)."
   ]
  },
  {
   "cell_type": "markdown",
   "metadata": {},
   "source": [
    "---"
   ]
  },
  {
   "cell_type": "markdown",
   "metadata": {},
   "source": [
    "**Quick Summary**\n",
    "\n",
    "- ***Grouped Barchart***\n",
    "  * _Barchart_ dengan beberapa _bar_ untuk setiap kategori.\n",
    "  * Langkah membuat _grouped barchart_:\n",
    "    1. Dari data yang _long_, buat tabel agregasi.\n",
    "    2. Gunakan `.plot(kind = \"bar\")` atau `.plot(kind = \"barh\")`. _Grouped barchart_ akan otomatis terbentuk jika untuk satu baris ada beberapa kolom.\n",
    "- **Custom Aggregation with `.agg()`**\n",
    "  * Sintaks: `DataFrame.groupby(by = 'kolom untuk agregasi').agg({\n",
    "    'kolom1': 'fungsi_agg_kolom1',\n",
    "    'kolom2: 'fungsi_agg_kolom2',\n",
    "    dst..\n",
    "  })`."
   ]
  },
  {
   "cell_type": "markdown",
   "metadata": {},
   "source": [
    "# Referensi\n",
    "\n",
    "* Dokumentasi per Fungsi \n",
    "    * [Dokumentasi `.xs()`](https://pandas.pydata.org/docs/reference/api/pandas.DataFrame.xs.html)\n",
    "    * [Dokumentasi `.stack()`](https://pandas.pydata.org/docs/reference/api/pandas.DataFrame.stack.html)\n",
    "    * [Dokumentasi `.unstack()`](https://pandas.pydata.org/docs/reference/api/pandas.DataFrame.unstack.html)\n",
    "    * [Dokumentasi `.pivot()`](https://pandas.pydata.org/docs/reference/api/pandas.DataFrame.pivot.html)\n",
    "    * [Dokumentasi `.plot()`](https://pandas.pydata.org/docs/reference/api/pandas.DataFrame.plot.html)\n",
    "* Dokumentasi Resmi\n",
    "    * [Pandas](https://pandas.pydata.org/)\n",
    "    * [Matplotlib](https://matplotlib.org/)\n",
    "    * [Seaborn](https://seaborn.pydata.org/)\n",
    "    * [Plotly](https://plotly.com/)\n",
    "    * [Altair](https://altair-viz.github.io/)\n",
    "* From Algoritma\n",
    "    * [AskAlgo Python](https://askalgo-py.netlify.app/)"
   ]
  }
 ],
 "metadata": {
  "kernelspec": {
   "display_name": "Python 3 (ipykernel)",
   "language": "python",
   "name": "python3"
  },
  "language_info": {
   "codemirror_mode": {
    "name": "ipython",
    "version": 3
   },
   "file_extension": ".py",
   "mimetype": "text/x-python",
   "name": "python",
   "nbconvert_exporter": "python",
   "pygments_lexer": "ipython3",
   "version": "3.10.14"
  }
 },
 "nbformat": 4,
 "nbformat_minor": 2
}
