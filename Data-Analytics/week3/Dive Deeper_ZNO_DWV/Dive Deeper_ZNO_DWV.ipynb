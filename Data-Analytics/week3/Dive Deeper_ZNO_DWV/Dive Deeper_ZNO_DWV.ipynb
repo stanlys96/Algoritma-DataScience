{
 "cells": [
  {
   "cell_type": "code",
   "execution_count": 1,
   "metadata": {
    "ExecuteTime": {
     "end_time": "2023-03-31T08:21:53.679517Z",
     "start_time": "2023-03-31T08:21:53.676542Z"
    },
    "colab": {},
    "colab_type": "code",
    "id": "Zd-lrU1zZEn7"
   },
   "outputs": [
    {
     "name": "stdout",
     "output_type": "stream",
     "text": [
      "['Solarize_Light2', '_classic_test_patch', '_mpl-gallery', '_mpl-gallery-nogrid', 'bmh', 'classic', 'dark_background', 'fast', 'fivethirtyeight', 'ggplot', 'grayscale', 'seaborn-v0_8', 'seaborn-v0_8-bright', 'seaborn-v0_8-colorblind', 'seaborn-v0_8-dark', 'seaborn-v0_8-dark-palette', 'seaborn-v0_8-darkgrid', 'seaborn-v0_8-deep', 'seaborn-v0_8-muted', 'seaborn-v0_8-notebook', 'seaborn-v0_8-paper', 'seaborn-v0_8-pastel', 'seaborn-v0_8-poster', 'seaborn-v0_8-talk', 'seaborn-v0_8-ticks', 'seaborn-v0_8-white', 'seaborn-v0_8-whitegrid', 'tableau-colorblind10']\n"
     ]
    }
   ],
   "source": [
    "import pandas as pd\n",
    "import matplotlib.pyplot as plt\n",
    "print(plt.style.available)\n",
    "plt.style.use('seaborn-v0_8') # sesuaikan dengan tema yang diinginkan"
   ]
  },
  {
   "attachments": {},
   "cell_type": "markdown",
   "metadata": {
    "colab_type": "text",
    "id": "7Pguo3DPZEn_"
   },
   "source": [
    "# Tentang Kiva\n",
    "\n",
    "<img src=\"assets/kiva.jpg\" width=\"500\"/>\n",
    "\n",
    "[Kiva.org](https://www.kiva.org/) adalah sebuah platform online non-profit untuk crowdfunding yang memungkinkan individu dapat meminjam dana untuk keperluan bisnis. Misinya adalah untuk meningkatkan kesejahteraan warga marginal (terutama low-income entrepreneurs and students) di beberapa negara. Crowdfunding (urun dana) adalah aktivitas pengumpulan dana modal dari beberapa individu untuk membiayai usaha bisnis baru.\n",
    "\n",
    "**Role play:** Anda dan tim adalah seorang data analyst di organisasi Kiva ini."
   ]
  },
  {
   "attachments": {},
   "cell_type": "markdown",
   "metadata": {
    "colab_type": "text",
    "id": "uARWMlsIZEoA"
   },
   "source": [
    "# Data Preparation\n",
    "\n",
    "Pertama, load file `loan_kiva.csv` pada folder `data_input`:"
   ]
  },
  {
   "cell_type": "code",
   "execution_count": 9,
   "metadata": {
    "ExecuteTime": {
     "end_time": "2023-03-31T08:21:54.690838Z",
     "start_time": "2023-03-31T08:21:53.682672Z"
    },
    "colab": {},
    "colab_type": "code",
    "id": "TDZuN7RlZEoB",
    "outputId": "ca479d7b-3a2c-4751-c646-d986ff7894f8",
    "scrolled": false
   },
   "outputs": [
    {
     "data": {
      "text/html": [
       "<div>\n",
       "<style scoped>\n",
       "    .dataframe tbody tr th:only-of-type {\n",
       "        vertical-align: middle;\n",
       "    }\n",
       "\n",
       "    .dataframe tbody tr th {\n",
       "        vertical-align: top;\n",
       "    }\n",
       "\n",
       "    .dataframe thead th {\n",
       "        text-align: right;\n",
       "    }\n",
       "</style>\n",
       "<table border=\"1\" class=\"dataframe\">\n",
       "  <thead>\n",
       "    <tr style=\"text-align: right;\">\n",
       "      <th></th>\n",
       "      <th>id</th>\n",
       "      <th>funded_amount</th>\n",
       "      <th>loan_amount</th>\n",
       "      <th>activity</th>\n",
       "      <th>sector</th>\n",
       "      <th>country</th>\n",
       "      <th>region</th>\n",
       "      <th>partner_id</th>\n",
       "      <th>posted_time</th>\n",
       "      <th>funded_time</th>\n",
       "      <th>term_in_months</th>\n",
       "      <th>lender_count</th>\n",
       "      <th>repayment_interval</th>\n",
       "    </tr>\n",
       "  </thead>\n",
       "  <tbody>\n",
       "    <tr>\n",
       "      <th>0</th>\n",
       "      <td>653051</td>\n",
       "      <td>300.0</td>\n",
       "      <td>300.0</td>\n",
       "      <td>Fruits &amp; Vegetables</td>\n",
       "      <td>Food</td>\n",
       "      <td>Pakistan</td>\n",
       "      <td>Lahore</td>\n",
       "      <td>247</td>\n",
       "      <td>2014-01-01 06:12:39</td>\n",
       "      <td>2014-01-02 10:06:32</td>\n",
       "      <td>12</td>\n",
       "      <td>12</td>\n",
       "      <td>irregular</td>\n",
       "    </tr>\n",
       "    <tr>\n",
       "      <th>1</th>\n",
       "      <td>653053</td>\n",
       "      <td>575.0</td>\n",
       "      <td>575.0</td>\n",
       "      <td>Rickshaw</td>\n",
       "      <td>Transportation</td>\n",
       "      <td>Pakistan</td>\n",
       "      <td>Lahore</td>\n",
       "      <td>247</td>\n",
       "      <td>2014-01-01 06:51:08</td>\n",
       "      <td>2014-01-02 09:17:23</td>\n",
       "      <td>11</td>\n",
       "      <td>14</td>\n",
       "      <td>irregular</td>\n",
       "    </tr>\n",
       "    <tr>\n",
       "      <th>2</th>\n",
       "      <td>653068</td>\n",
       "      <td>150.0</td>\n",
       "      <td>150.0</td>\n",
       "      <td>Transportation</td>\n",
       "      <td>Transportation</td>\n",
       "      <td>India</td>\n",
       "      <td>Maynaguri</td>\n",
       "      <td>334</td>\n",
       "      <td>2014-01-01 09:58:07</td>\n",
       "      <td>2014-01-01 16:01:36</td>\n",
       "      <td>43</td>\n",
       "      <td>6</td>\n",
       "      <td>bullet</td>\n",
       "    </tr>\n",
       "    <tr>\n",
       "      <th>3</th>\n",
       "      <td>653063</td>\n",
       "      <td>200.0</td>\n",
       "      <td>200.0</td>\n",
       "      <td>Embroidery</td>\n",
       "      <td>Arts</td>\n",
       "      <td>Pakistan</td>\n",
       "      <td>Lahore</td>\n",
       "      <td>247</td>\n",
       "      <td>2014-01-01 08:03:11</td>\n",
       "      <td>2014-01-01 13:00:00</td>\n",
       "      <td>11</td>\n",
       "      <td>8</td>\n",
       "      <td>irregular</td>\n",
       "    </tr>\n",
       "    <tr>\n",
       "      <th>4</th>\n",
       "      <td>653084</td>\n",
       "      <td>400.0</td>\n",
       "      <td>400.0</td>\n",
       "      <td>Milk Sales</td>\n",
       "      <td>Food</td>\n",
       "      <td>Pakistan</td>\n",
       "      <td>Abdul Hakeem</td>\n",
       "      <td>245</td>\n",
       "      <td>2014-01-01 11:53:19</td>\n",
       "      <td>2014-01-01 19:18:51</td>\n",
       "      <td>14</td>\n",
       "      <td>16</td>\n",
       "      <td>monthly</td>\n",
       "    </tr>\n",
       "  </tbody>\n",
       "</table>\n",
       "</div>"
      ],
      "text/plain": [
       "       id  funded_amount  loan_amount             activity          sector  \\\n",
       "0  653051          300.0        300.0  Fruits & Vegetables            Food   \n",
       "1  653053          575.0        575.0             Rickshaw  Transportation   \n",
       "2  653068          150.0        150.0       Transportation  Transportation   \n",
       "3  653063          200.0        200.0           Embroidery            Arts   \n",
       "4  653084          400.0        400.0           Milk Sales            Food   \n",
       "\n",
       "    country        region  partner_id          posted_time  \\\n",
       "0  Pakistan        Lahore         247  2014-01-01 06:12:39   \n",
       "1  Pakistan        Lahore         247  2014-01-01 06:51:08   \n",
       "2     India     Maynaguri         334  2014-01-01 09:58:07   \n",
       "3  Pakistan        Lahore         247  2014-01-01 08:03:11   \n",
       "4  Pakistan  Abdul Hakeem         245  2014-01-01 11:53:19   \n",
       "\n",
       "           funded_time  term_in_months  lender_count repayment_interval  \n",
       "0  2014-01-02 10:06:32              12            12          irregular  \n",
       "1  2014-01-02 09:17:23              11            14          irregular  \n",
       "2  2014-01-01 16:01:36              43             6             bullet  \n",
       "3  2014-01-01 13:00:00              11             8          irregular  \n",
       "4  2014-01-01 19:18:51              14            16            monthly  "
      ]
     },
     "execution_count": 9,
     "metadata": {},
     "output_type": "execute_result"
    }
   ],
   "source": [
    "kiva = pd.read_csv('data_input/loan_kiva.csv')\n",
    "kiva.head()"
   ]
  },
  {
   "attachments": {},
   "cell_type": "markdown",
   "metadata": {
    "colab_type": "text",
    "id": "3Tg5zOivZEoF"
   },
   "source": [
    "Berikut adalah deskripsi dari masing-masing kolom:\n",
    "* `id`: Unique ID untuk masing-masing loan (loan ID)\n",
    "* `funded_amount`: Jumlah yang dicairkan oleh Kiva ke agen (USD)\n",
    "* `loan_amount`: Jumlah yang disalurkan oleh agen ke peminjam (USD)\n",
    "* `activity`: Kategori lebih spesifik dari `sector`\n",
    "* `sector`: Kategori dari loan\n",
    "* `country`: Nama negara lengkap, tempat pinjaman dicairkan\n",
    "* `region`: Nama wilayah lengkap dari `country`\n",
    "* `partner_id`: ID untuk organisasi partner\n",
    "* `posted_time`: Waktu pinjaman di-posting di Kiva oleh agen\n",
    "* `funded_time`: Waktu pinjaman telah sepenuhnya dibiayai oleh pemberi pinjaman\n",
    "* `term_in_months`: Durasi pencairan pinjaman (dalam satuan bulan)\n",
    "* `lender_count`: Banyaknya peminjam yang berkontribusi\n",
    "* `repayment_interval`: Cara pelunasan peminjaman"
   ]
  },
  {
   "attachments": {},
   "cell_type": "markdown",
   "metadata": {},
   "source": [
    "### Cek tipe data"
   ]
  },
  {
   "attachments": {},
   "cell_type": "markdown",
   "metadata": {},
   "source": [
    "Lakukan pengecekan tipe data dan ubah kolom-kolom yang belum sesuai tipe datanya."
   ]
  },
  {
   "cell_type": "code",
   "execution_count": null,
   "metadata": {
    "ExecuteTime": {
     "end_time": "2023-03-31T08:21:54.699865Z",
     "start_time": "2023-03-31T08:21:54.694360Z"
    },
    "colab": {},
    "colab_type": "code",
    "id": "SIiha3XAZEoG",
    "outputId": "a834074e-527c-48c5-b310-19e0bebd93de",
    "scrolled": false
   },
   "outputs": [],
   "source": [
    "# your code here\n"
   ]
  },
  {
   "attachments": {},
   "cell_type": "markdown",
   "metadata": {},
   "source": [
    "**Kolom yang belum sesuai tipe datanya**:\n",
    "- posted_time, funded_time : object to `datetime64`\n",
    "- sector, repayment_interval, country : object to `category`\n",
    "- id, partner_id : integer to `object`"
   ]
  },
  {
   "attachments": {},
   "cell_type": "markdown",
   "metadata": {
    "colab_type": "text",
    "id": "glze8cHfZEoN"
   },
   "source": [
    "Cek kembali tipe data untuk memastikan sudah berubah:"
   ]
  },
  {
   "cell_type": "code",
   "execution_count": null,
   "metadata": {
    "ExecuteTime": {
     "end_time": "2023-03-31T08:21:55.049534Z",
     "start_time": "2023-03-31T08:21:54.702380Z"
    },
    "colab": {},
    "colab_type": "code",
    "id": "IIAU4PFNZEoO",
    "outputId": "17850179-ed1d-4487-e626-5b318d66b6d6",
    "scrolled": true
   },
   "outputs": [],
   "source": [
    "# your code here\n"
   ]
  },
  {
   "cell_type": "code",
   "execution_count": null,
   "metadata": {
    "ExecuteTime": {
     "end_time": "2023-03-31T08:21:55.060571Z",
     "start_time": "2023-03-31T08:21:55.054237Z"
    }
   },
   "outputs": [],
   "source": [
    "kiva.dtypes"
   ]
  },
  {
   "attachments": {},
   "cell_type": "markdown",
   "metadata": {
    "colab_type": "text",
    "id": "CvaaxhDAZEoR"
   },
   "source": [
    "Lihat ada negara apa saja pada data `kiva`:"
   ]
  },
  {
   "cell_type": "code",
   "execution_count": null,
   "metadata": {
    "ExecuteTime": {
     "end_time": "2023-03-31T08:21:55.068605Z",
     "start_time": "2023-03-31T08:21:55.063096Z"
    },
    "colab": {},
    "colab_type": "code",
    "id": "St3XrgJRZEoS",
    "outputId": "53ff8f62-4cb1-46cc-d911-b1875df85441",
    "scrolled": true
   },
   "outputs": [],
   "source": [
    "#code ini hanya bisa dijalankan setelah Anda mengubah tipe data country menjadi category\n",
    "kiva.country.cat.categories"
   ]
  },
  {
   "attachments": {},
   "cell_type": "markdown",
   "metadata": {
    "colab_type": "text",
    "id": "Gi4Nk378ZEoW"
   },
   "source": [
    "# Dive Deeper: Data Wrangling and Reshaping"
   ]
  },
  {
   "attachments": {},
   "cell_type": "markdown",
   "metadata": {
    "colab_type": "text",
    "id": "r-SxjZkNZEoW"
   },
   "source": [
    "Pada bagian ini kita hanya tertarik untuk menganalisa data `kiva` di negara **Indonesia** saja. \n",
    "1. Lakukan `.copy()` data kiva sebelum melakukan langkah selanjutnya dan save kedalam objek `kiva_indo`\n",
    "2. Lakukan filter baris dan simpan kembali pada `kiva_indo`."
   ]
  },
  {
   "cell_type": "code",
   "execution_count": null,
   "metadata": {
    "ExecuteTime": {
     "end_time": "2023-03-31T08:21:55.099859Z",
     "start_time": "2023-03-31T08:21:55.071399Z"
    },
    "colab": {},
    "colab_type": "code",
    "id": "FWquTsbMZEoX",
    "scrolled": true
   },
   "outputs": [],
   "source": [
    "# your code here\n",
    "kiva_indo = ..."
   ]
  },
  {
   "attachments": {},
   "cell_type": "markdown",
   "metadata": {
    "colab_type": "text",
    "id": "pIuYRaADZEol"
   },
   "source": [
    "# Dive Deeper: Simple Visualization"
   ]
  },
  {
   "attachments": {},
   "cell_type": "markdown",
   "metadata": {
    "colab_type": "text",
    "id": "jW9c3Lf6ZEol"
   },
   "source": [
    "## Question 1️⃣\n",
    "\n",
    "❓ Kita ingin mengetahui sektor dengan pengajuan loan terbanyak?\n",
    "\n",
    "> Menggunakan data `kiva_indo`, visualisasikan top 10 `sector` dengan pengajuan loan terbanyak (frekuensi)."
   ]
  },
  {
   "cell_type": "code",
   "execution_count": null,
   "metadata": {
    "ExecuteTime": {
     "end_time": "2023-03-31T08:15:40.068191Z",
     "start_time": "2023-03-31T08:15:39.797439Z"
    },
    "colab": {},
    "colab_type": "code",
    "id": "-aTC8JUwZEom",
    "scrolled": true
   },
   "outputs": [],
   "source": [
    "# Agregasi untuk menghitung sektor terbanyak\n"
   ]
  },
  {
   "cell_type": "code",
   "execution_count": null,
   "metadata": {},
   "outputs": [],
   "source": [
    "# visualisasi dari hasil agregasi\n"
   ]
  },
  {
   "attachments": {},
   "cell_type": "markdown",
   "metadata": {
    "colab_type": "text",
    "id": "YZmV8LJqZEop"
   },
   "source": [
    "**Insight:** \n",
    "- ...."
   ]
  },
  {
   "attachments": {},
   "cell_type": "markdown",
   "metadata": {},
   "source": [
    "## Question 2️⃣\n",
    "\n",
    "❓ 2.1. Sektor dengan nilai tengah pinjaman yang paling tinggi?\n",
    "\n",
    "❓ 2.2. Sektor dengan jumlah pinjaman paling bervariasi?\n",
    "\n",
    "❓ 2.3. Sektor dengan outlier atas terbesar? Kemudian cari di daerah manakah pinjaman tersebut terjadi\n",
    "\n",
    "Menggunakan data `kiva_indo` silahkan melihat persebaran `funded_amount` berdasarkan `sector` nya untuk menjawab pertanyaan di atas\n",
    "\n",
    "> 💡 Hint: Gunakan parameter `column` pada boxplot untuk menentukan kolom numerik apa yang akan dilihat persebarannya!"
   ]
  },
  {
   "cell_type": "code",
   "execution_count": null,
   "metadata": {},
   "outputs": [],
   "source": [
    "# visualisasi funded amount dan sector\n"
   ]
  },
  {
   "cell_type": "code",
   "execution_count": null,
   "metadata": {},
   "outputs": [],
   "source": [
    "# Mencari pinjaman dengan pinjaman terbesar\n"
   ]
  },
  {
   "attachments": {},
   "cell_type": "markdown",
   "metadata": {
    "colab_type": "text",
    "id": "kF12Eoy8ZEos"
   },
   "source": [
    "**Insight:**\n",
    "- ...\n",
    "- ...\n",
    "- ..."
   ]
  },
  {
   "attachments": {},
   "cell_type": "markdown",
   "metadata": {},
   "source": [
    "## Question 3️⃣\n",
    "\n",
    "> ❓ Berdasarkan jawaban nomor satu, berdasarkan 3 sektor dengan frekuensi tertinggi, kita ingin mengetahui pada bulan apa saja masing-masing sektor tersebut memiliki rata-rata pinjaman tertinggi?\n",
    "\n",
    "> Buatlah **grouped barchart** untuk membandingkan rata-rata nilai `funded_amount` untuk ketiga `sector` dengan frekuensi terbanyak **setiap bulannya**.\n",
    "\n",
    "- Buatlah kolom baru yang berisikan nama bulan\n",
    "- Buatlah sebuah objek dataframe bernama `top3_sector` yang berisikan observasi ketiga sector dengan frekuensi pinjaman terbanyak\n",
    "    > Hint: Gunakan method `.isin()` untuk filter beberapa jenis kategori di kolom yang sama\n",
    "- Tampilkan nilai rata-rata `funded_amount` untuk setiap bulannya. Simpan tabel agregasi ke objek `top3_agg_month`"
   ]
  },
  {
   "cell_type": "code",
   "execution_count": null,
   "metadata": {},
   "outputs": [],
   "source": [
    "kiva_indo.head(2)"
   ]
  },
  {
   "cell_type": "code",
   "execution_count": null,
   "metadata": {},
   "outputs": [],
   "source": [
    "# Membuat kolom Month yang berisi nama bulan\n"
   ]
  },
  {
   "cell_type": "code",
   "execution_count": null,
   "metadata": {},
   "outputs": [],
   "source": [
    "# filter 3 sektor tertinggi\n",
    "top3_sector = ..."
   ]
  },
  {
   "cell_type": "code",
   "execution_count": null,
   "metadata": {},
   "outputs": [],
   "source": [
    "# membuat tabel agregasi\n"
   ]
  },
  {
   "cell_type": "code",
   "execution_count": null,
   "metadata": {},
   "outputs": [],
   "source": [
    "# Membuat visualisasi dari tabel agregasi\n"
   ]
  },
  {
   "cell_type": "code",
   "execution_count": null,
   "metadata": {},
   "outputs": [],
   "source": [
    "# Improvement visualisasi\n",
    "months = ['January', 'February', 'March', 'April', 'May', 'June', 'July', 'August', 'September', 'October', 'November', 'December']\n"
   ]
  },
  {
   "attachments": {},
   "cell_type": "markdown",
   "metadata": {},
   "source": [
    "**Insight:**\n",
    "- \n",
    "- \n",
    "- "
   ]
  },
  {
   "attachments": {},
   "cell_type": "markdown",
   "metadata": {},
   "source": [
    "## Question 4️⃣\n",
    "\n",
    "Selamat!!! Sampai di tahap ini Anda dan tim sudah berhasil untuk melakukan analisis data Kiva. Namun, kami paham bahwa Anda dan Tim ingin mengeksplor lebih banyak lagi data Kiva sehingga menghasilkan insight menarik yang dapat digunakan untuk mendukung pengambilan keputusan di perusahaan Kiva. Oleh karena itu, ini waktu yang tepat untuk Anda dan tim menggali insight menarik lainnya dari data `kiva` dan sajikan dalam bentuk visualisasi!\n",
    "\n",
    "Pilihan visualisasi dapat berupa:\n",
    "- line plot\n",
    "- bar plot\n",
    "- histogram\n",
    "- box plot\n",
    "- ataupun yang lainnya"
   ]
  },
  {
   "cell_type": "code",
   "execution_count": null,
   "metadata": {},
   "outputs": [],
   "source": []
  }
 ],
 "metadata": {
  "colab": {
   "name": "Dive_Deeper_Kiva.ipynb",
   "provenance": []
  },
  "kernelspec": {
   "display_name": "xion_da",
   "language": "python",
   "name": "python3"
  },
  "language_info": {
   "codemirror_mode": {
    "name": "ipython",
    "version": 3
   },
   "file_extension": ".py",
   "mimetype": "text/x-python",
   "name": "python",
   "nbconvert_exporter": "python",
   "pygments_lexer": "ipython3",
   "version": "3.10.14"
  },
  "toc": {
   "base_numbering": 1,
   "nav_menu": {},
   "number_sections": true,
   "sideBar": true,
   "skip_h1_title": false,
   "title_cell": "Table of Contents",
   "title_sidebar": "Contents",
   "toc_cell": false,
   "toc_position": {},
   "toc_section_display": true,
   "toc_window_display": false
  },
  "varInspector": {
   "cols": {
    "lenName": 16,
    "lenType": 16,
    "lenVar": 40
   },
   "kernels_config": {
    "python": {
     "delete_cmd_postfix": "",
     "delete_cmd_prefix": "del ",
     "library": "var_list.py",
     "varRefreshCmd": "print(var_dic_list())"
    },
    "r": {
     "delete_cmd_postfix": ") ",
     "delete_cmd_prefix": "rm(",
     "library": "var_list.r",
     "varRefreshCmd": "cat(var_dic_list()) "
    }
   },
   "types_to_exclude": [
    "module",
    "function",
    "builtin_function_or_method",
    "instance",
    "_Feature"
   ],
   "window_display": false
  }
 },
 "nbformat": 4,
 "nbformat_minor": 1
}
