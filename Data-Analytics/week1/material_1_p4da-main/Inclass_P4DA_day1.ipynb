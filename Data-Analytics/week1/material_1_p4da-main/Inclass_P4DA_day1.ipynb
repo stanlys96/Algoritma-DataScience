{
 "cells": [
  {
   "cell_type": "markdown",
   "metadata": {},
   "source": [
    "<div style=\"padding: 60px;\n",
    "  text-align: center;\n",
    "  background: #a0ced9;\n",
    "  color: #003049;\n",
    "  font-size: 20px;\">\n",
    "  <h2>Inclass: Python for Data Analysts</h2>\n",
    "   <hr>\n",
    "</div>\n",
    "\n",
    "\n",
    "- **This notebook based on main material**\n",
    "- **Course Length**: 12 hours\n",
    "- **Instructor** : Dwi Gustin Nurdialit\n",
    "- **Version**: Zeus Data Analytics - August 2024\n",
    "\n",
    "___\n"
   ]
  },
  {
   "cell_type": "markdown",
   "metadata": {},
   "source": [
    "**Table of contents**<a id='toc0_'></a>    \n",
    "- [Training Objectives](#toc1_1_)    \n",
    "- [Environment](#toc2_)    \n",
    "  - [Cara Membuat Environtment Baru](#toc2_1_)    \n",
    "  - [Install/ Update Package](#toc2_2_)    \n",
    "- [Introduction to Jupyter Notebook in VS Code](#toc3_)    \n",
    "  - [Markdown Cell and Code Cell](#toc3_1_)    \n",
    "    - [Markdown](#toc3_1_1_)    \n",
    "    - [Code](#toc3_1_2_)    \n",
    "  - [Shortcuts](#toc3_2_)    \n",
    "  - [🏄🏻‍♀️ Dive Deeper](#toc3_3_)    \n",
    "- [Introduction to Python](#toc4_)    \n",
    "  - [Variables](#toc4_1_)    \n",
    "  - [Python Data Types](#toc4_2_)    \n",
    "    - [String](#toc4_2_1_)    \n",
    "    - [Number](#toc4_2_2_)    \n",
    "    - [Boolean](#toc4_2_3_)    \n",
    "    - [List](#toc4_2_4_)    \n",
    "- [Introduction to Library (Package)](#toc5_)    \n",
    "  - [Import a Library](#toc5_1_)    \n",
    "- [Pandas Library](#toc6_)    \n",
    "  - [Working with DataFrame](#toc6_1_)    \n",
    "    - [🏄🏻‍♀️ Dive Deeper](#toc6_1_1_)    \n",
    "- [Exploratory Data Analysis I](#toc7_)    \n",
    "  - [`head()` and `tail()`](#toc7_1_)    \n",
    "  - [`shape` dan `size`](#toc7_2_)    \n",
    "  - [`axes`](#toc7_3_)    \n",
    "  - [`.describe()`](#toc7_4_)    \n",
    "  - [Tipe Data](#toc7_5_)    \n",
    "  - [`dtypes`: Check Tipe Data](#toc7_6_)    \n",
    "    - [Numerical and Categorical Variables](#toc7_6_1_)    \n",
    "      - [Numerical](#toc7_6_1_1_)    \n",
    "      - [Object & Categorical](#toc7_6_1_2_)    \n",
    "    - [Mengubah Tipe Data](#toc7_6_2_)    \n",
    "    - [Rangkuman Data Types](#toc7_6_3_)    \n",
    "  - [Knowledge Check: Data types](#toc7_7_)    \n",
    "    - [Summary Day-2](#toc7_7_1_)    \n",
    "- [Indexing and Subsetting with Pandas](#toc8_)    \n",
    "  - [`select_dtypes()`](#toc8_1_)    \n",
    "  - [`drop()`](#toc8_2_)    \n",
    "    - [Hapus berdasarkan index baris](#toc8_2_1_)    \n",
    "    - [Hapus berdasarkan index kolom](#toc8_2_2_)    \n",
    "  - [Slicing: **`[]` operator**](#toc8_3_)    \n",
    "  - [`.iloc` dan `.loc`](#toc8_4_)    \n",
    "      - [🏄🏻‍♀️ Dive Deeper:](#toc8_4_1_1_)    \n",
    "  - [Conditional Subsetting](#toc8_5_)    \n",
    "  - [Multiple Conditions](#toc8_6_)    \n",
    "  - [🏄🏻‍♀️ Dive Deeper](#toc8_7_)    \n",
    "- [Referencing and Copying](#toc9_)    \n",
    "  - [Reference](#toc9_1_)    \n",
    "  - [Copying](#toc9_2_)    \n",
    "- [Additional Information](#toc10_)    \n",
    "    - [Cara Membuat Kolom Baru](#toc10_1_1_)    \n",
    "- [Inclass Questions](#toc11_)    \n",
    "\n",
    "<!-- vscode-jupyter-toc-config\n",
    "\tnumbering=false\n",
    "\tanchor=true\n",
    "\tflat=false\n",
    "\tminLevel=1\n",
    "\tmaxLevel=6\n",
    "\t/vscode-jupyter-toc-config -->\n",
    "<!-- THIS CELL WILL BE REPLACED ON TOC UPDATE. DO NOT WRITE YOUR TEXT IN THIS CELL -->"
   ]
  },
  {
   "cell_type": "markdown",
   "metadata": {},
   "source": [
    "## <a id='toc1_1_'></a>[Training Objectives](#toc0_)\n",
    "\n",
    "This coursebook is intended for participants new to the world of data analysis and / or programming. No prior programming knowledge is assumed. \n",
    "\n",
    "The coursebook focuses on:\n",
    "- Introduction to the `pandas` library. \n",
    "- Introduction to `DataFrame`  \n",
    "- Data Types\n",
    "- Exploratory Data Analysis I\n",
    "- Indexing and Subsetting\n",
    "\n",
    "The final part of this course is a Graded Asssignment, where you are expected to apply all that you've learned on a new dataset, and attempt the given questions.\n",
    "\n"
   ]
  },
  {
   "cell_type": "markdown",
   "metadata": {},
   "source": [
    "# <a id='toc2_'></a>[Environment](#toc0_)\n",
    "\n",
    "## <a id='toc2_1_'></a>[Cara Membuat Environtment Baru](#toc0_)\n",
    "\n",
    "**1️⃣ Membuka Terminal pada Visual Studio Code**\n",
    "\n",
    "Saat pertama kali kita membuka Visual Studio Code, terdapat beberapa menu di pojok kiri atas. Silahkan kamu klik menu **Terminal** pada bagian kiri atas. Lalu, pilih **`New Terminal`**. Selesai, kamu berhasil membuka terminal baru.\n",
    "\n",
    "---\n",
    "\n",
    "**2️⃣ Buat Environment dengan Nama `ENV_NAME`**:\n",
    "   \n",
    "```python\n",
    "conda create -n <ENV_NAME> python=<PYTHON_VERSION>\n",
    "```\n",
    "Contoh: `conda create -n zeus_da python=3.12`\n",
    "\n",
    "Tujuan dari kita menuliskan `python=3.12` agar python yang terinstall pada virtual environtment yang kita buat adalah python dengan versi 3.12. \n",
    "\n",
    "---\n",
    "\n",
    "**3️⃣ Mengaktifkan Environment**\n",
    "\n",
    "Setelah virtual environtment yang baru kita buat sudah selesai, kita bisa mengaktifkan environtment yang sudah kita buat dengan code berikut.\n",
    "\n",
    "```python\n",
    "conda activate <ENV_NAME>\n",
    "```\n",
    "\n",
    "Contoh: `conda activate zeus_da`"
   ]
  },
  {
   "cell_type": "markdown",
   "metadata": {},
   "source": [
    "**Perintah `conda` yang sering digunakan:**\n",
    "\n",
    "- `conda env list`: cek daftar **environment** pada Anaconda\n",
    "- `conda list`: cek daftar **package** di dalam sebuah environment\n",
    "\n",
    "Referensi perintah lain: https://docs.conda.io/projects/conda/en/latest/commands.html"
   ]
  },
  {
   "cell_type": "markdown",
   "metadata": {},
   "source": [
    "## <a id='toc2_2_'></a>[Install/ Update Package](#toc0_)\n",
    "Sebelum melakukan instalasi package, pastikan Anda sudah melakukan aktivasi virtual environment tempat Anda mau menginstall package.\n",
    "```python\n",
    "pip install <PACKAGE_NAME>\n",
    "```\n",
    "Contoh: `pip install pandas==2.2.2`"
   ]
  },
  {
   "cell_type": "markdown",
   "metadata": {},
   "source": [
    "---\n",
    "\n",
    "Sebenarnya kita bisa memiliki **2 opsi** untuk menginstal package/library Python karena kita menggunakan Miniconda :\n",
    "1. **pip** \\\n",
    "Package manager yang digunakan untuk menginstal package dari [Python Package Index](https://pypi.org/) dan indeks lainnya.\n",
    "2. **conda** \\\n",
    "Package manager yang digunakan untuk menginstal package dari [Anaconda Package Repository](https://anaconda.org/anaconda/repo).\n",
    "\n",
    "Namun, memang `pip` yang paling sering mengikuti update dan sering digunakan.\n",
    "\n",
    "**✨ Additional: Perintah yang Sering Digunakan:**\n",
    "- `pip install --upgrade <PACKAGE_NAME>`: cara update package dari `pip`\n",
    "- `conda env list`: cek daftar **environment** pada Anaconda\n",
    "- `pip list`: cek daftar **package** di dalam sebuah environment"
   ]
  },
  {
   "cell_type": "markdown",
   "metadata": {},
   "source": [
    "# <a id='toc3_'></a>[Introduction to Jupyter Notebook in VS Code](#toc0_)\n",
    "\n",
    "- [Dokumentasi: Jupyter Notebook di VS Code](https://code.visualstudio.com/docs/datascience/jupyter-notebooks#_setting-up-your-environment)\n",
    "\n",
    "## <a id='toc3_1_'></a>[Markdown Cell and Code Cell](#toc0_)\n",
    "\n",
    "Tipe cell dalam notebook:\n",
    "1. Markdown\n",
    "2. Code"
   ]
  },
  {
   "cell_type": "markdown",
   "metadata": {},
   "source": [
    "### <a id='toc3_1_1_'></a>[Markdown](#toc0_)\n",
    "\n",
    "> - Digunakan untuk menambahkan teks format dan dokumentasi\n",
    "> - Tata cara penulisannya menggunakan sintaks markdown\n",
    "> - [Cheat sheet markdown](https://www.markdownguide.org/cheat-sheet/)"
   ]
  },
  {
   "cell_type": "markdown",
   "metadata": {},
   "source": [
    "### <a id='toc3_1_2_'></a>[Code](#toc0_)"
   ]
  },
  {
   "cell_type": "markdown",
   "metadata": {},
   "source": [
    "> - Digunakan untuk menulis dan menjalankan kode python\n",
    "> - Hanya bisa ditulis dengan kode python\n",
    "> - Akan mengeluarkan output apabila menjalankan suatu kode yang dapat mengeluarkan output"
   ]
  },
  {
   "cell_type": "markdown",
   "metadata": {},
   "source": [
    "## <a id='toc3_2_'></a>[Shortcuts](#toc0_)\n",
    "\n",
    "- `Ctrl+S`: Simpan\n",
    "\n",
    "1. Command mode\n",
    "    - `a` : Tambahkan sel di atas\n",
    "    - `b` : Tambahkan sel di bawah\n",
    "    - `d` + `d` : Hapus sel yang dipilih\n",
    "    - `x` : Cut sel yang dipilih\n",
    "    - `c` : Copy sel yang dipilih\n",
    "    - `v` : Paste sel yang dipilih\n",
    "    - `z` : Undo \n",
    "    - `m` : Ubah jenis sel ke Markdown\n",
    "    - `y` : Ubah jenis sel ke kode\n",
    "    - `enter` : enter Edit Mode\n",
    "\n",
    "\n",
    "2. Edit mode\n",
    "    - `Ctrl+Enter`: Jalankan sel yang saat ini dipilih\n",
    "    - `Shift+Enter`: Jalankan sel yang saat ini dipilih dan sisipkan sel baru di bawahnya (fokus beralih ke sel baru)\n",
    "    - `Alt+Enter`: Jalankan sel yang saat ini dipilih dan sisipkan sel baru di bawahnya (fokus tetap pada sel saat ini)\n",
    "    - `Esc`: Mengubah edit mode menjadi command mode"
   ]
  },
  {
   "cell_type": "markdown",
   "metadata": {},
   "source": [
    "## <a id='toc3_3_'></a>[🏄🏻‍♀️ Dive Deeper](#toc0_)\n",
    "\n",
    "Replikasilah `jupyter_notebook_practice.html` menggunakan notebook kosongan dan submit file `.ipynb` beserta `.html` ke assignment Google Classroom."
   ]
  },
  {
   "cell_type": "markdown",
   "metadata": {},
   "source": [
    "-----------"
   ]
  },
  {
   "cell_type": "markdown",
   "metadata": {},
   "source": [
    "# <a id='toc4_'></a>[Introduction to Python](#toc0_)\n"
   ]
  },
  {
   "cell_type": "markdown",
   "metadata": {},
   "source": [
    "## <a id='toc4_1_'></a>[Variables](#toc0_)\n",
    "\n",
    "**Variable** adalah sebuah nama yang dipakai untuk menunjukkan sebuah nilai. Tanda `=` dipakai untuk membuat variable baru. Proses ini sering disebut sebagai **assignment**.\n"
   ]
  },
  {
   "cell_type": "code",
   "execution_count": null,
   "metadata": {
    "ExecuteTime": {
     "end_time": "2023-04-11T04:59:29.832389Z",
     "start_time": "2023-04-11T04:59:29.829741Z"
    }
   },
   "outputs": [],
   "source": [
    "# code here\n"
   ]
  },
  {
   "cell_type": "markdown",
   "metadata": {},
   "source": [
    "<div class=\"alert-info alert\">\n",
    "<h5><b>Case Sensitive</b></h5>\n",
    "💡 Python adalah bahasa pemrograman yang <b>case-sensitive</b> sehingga penamaan variable menjadi hal yang perlu diperhatikan.\n",
    "\n",
    "`kota` dengan awalan huruf `k` kecil **TIDAK SAMA** dengan `Kota` yang diawali dengan huruf `K` besar.\n",
    "</div>"
   ]
  },
  {
   "cell_type": "code",
   "execution_count": null,
   "metadata": {
    "ExecuteTime": {
     "end_time": "2023-04-11T04:59:29.852720Z",
     "start_time": "2023-04-11T04:59:29.850211Z"
    }
   },
   "outputs": [],
   "source": [
    "# code here\n"
   ]
  },
  {
   "cell_type": "markdown",
   "metadata": {},
   "source": [
    "Berikut beberapa anjuran dalam memberikan nama variable pada Python:\n",
    "- Menggunakan kombinasi dari huruf kapital (A-Z), huruf nomina (a-z), angka (0-9).\n",
    "- Special character `!, $ , &, dll` tidak dapat digunakan dalam penamaan variabel.\n",
    "- Tidak boleh menggunakan angka di awal.\n",
    "- Tidak boleh menggunakan keyword pada Python\n",
    "- Bersifat case-sensitive sehingga penamaan variable `algoritma`, `ALGORITMA`, dan `Algoritma` adalah 3 variable yang berbeda"
   ]
  },
  {
   "cell_type": "markdown",
   "metadata": {},
   "source": [
    "<div class=\"alert alert-info\">\n",
    "  <b>💡 Keywords</b>\n",
    "    <p>adalah kata kunci yang sudah ditetapkan oleh Python sebagai nama yang tidak bisa dipakai baik untuk penamaan fungsi, variabel, dan lainnya. Keyword ditulis dalam lower-case (huruf kecil semua) kecuali keyword <code>True</code>, <code>False</code>, dan <code>None</code>. Sejauh ini (Python 3.10) keyword yang ada pada Python adalah sebagai berikut:</p>\n",
    "</div> \n",
    " "
   ]
  },
  {
   "cell_type": "code",
   "execution_count": null,
   "metadata": {},
   "outputs": [],
   "source": [
    "# Cek daftar keyword\n",
    "import keyword\n",
    "keyword.kwlist"
   ]
  },
  {
   "cell_type": "markdown",
   "metadata": {},
   "source": [
    "## <a id='toc4_2_'></a>[Python Data Types](#toc0_)"
   ]
  },
  {
   "cell_type": "markdown",
   "metadata": {},
   "source": [
    "### <a id='toc4_2_1_'></a>[String](#toc0_)\n",
    "\n",
    "Python mewakili string apa pun sebagai objek `str`. Ada beberapa cara untuk membuat nilai string:\n",
    "\n",
    "- menggunakan `''` (yaitu: `'cyber punk 2077'`)\n",
    "- menggunakan `\"\"` (yaitu : `\"Hari Jum'at\"`)\n",
    "- menggunakan `'''` atau `\"\"\"` (yaitu: `'''Andi berkata \"Jum'at Bersih\"'''`)"
   ]
  },
  {
   "cell_type": "code",
   "execution_count": null,
   "metadata": {},
   "outputs": [],
   "source": []
  },
  {
   "cell_type": "markdown",
   "metadata": {},
   "source": [
    "### <a id='toc4_2_2_'></a>[Number](#toc0_)\n",
    "\n",
    "Untuk menyimpan number, python memiliki dua tipe data asli yang disebut `int` dan `float`.\n",
    "- `int` digunakan untuk menyimpan bilangan bulat (yaitu: 1,2,-3)\n",
    "- `float` digunakan untuk menyimpan bilangan real (yaitu: 0.7, -1.8, -1000.0)."
   ]
  },
  {
   "cell_type": "code",
   "execution_count": null,
   "metadata": {},
   "outputs": [],
   "source": []
  },
  {
   "cell_type": "markdown",
   "metadata": {},
   "source": [
    "**Operasi Angka** \\\n",
    "Operator Aritmatika:\n",
    "- `+` - Penambahan\n",
    "- `-` - Pengurangan\n",
    "- `*` - Perkalian\n",
    "- `/` - Divisi\n",
    "- `//` - Pembagian Putaran\n",
    "- `%` - Modul\n",
    "- `**` - Eksponen\n",
    "\n",
    "Operator Perbandingan:\n",
    "- `<` - Lebih kecil dari (yaitu : a < b)\n",
    "- `<=` - Lebih kecil atau sama dengan (yaitu : a <= b)\n",
    "- `>` - Lebih besar dari (yaitu: a > b)\n",
    "- `>=` - Lebih besar atau sama dengan (yaitu: a >= b)\n",
    "- `==` - Sama dengan (yaitu: a == b)\n",
    "- `!=` - Tidak Sama dengan (yaitu: a != b)"
   ]
  },
  {
   "cell_type": "markdown",
   "metadata": {},
   "source": [
    "### <a id='toc4_2_3_'></a>[Boolean](#toc0_)\n",
    "\n",
    "Boolean menyimpan nilai yang sangat sederhana dalam komputer dan pemrograman, `True` atau `False`."
   ]
  },
  {
   "cell_type": "code",
   "execution_count": null,
   "metadata": {
    "ExecuteTime": {
     "end_time": "2023-04-11T04:59:29.866252Z",
     "start_time": "2023-04-11T04:59:29.863648Z"
    }
   },
   "outputs": [],
   "source": [
    "x = True \n",
    "y = False "
   ]
  },
  {
   "cell_type": "code",
   "execution_count": null,
   "metadata": {
    "ExecuteTime": {
     "end_time": "2023-04-11T04:59:29.873741Z",
     "start_time": "2023-04-11T04:59:29.868608Z"
    }
   },
   "outputs": [],
   "source": [
    "x"
   ]
  },
  {
   "cell_type": "markdown",
   "metadata": {},
   "source": [
    "**Operasi Boolean** \\\n",
    "Python menyediakan operator logika seperti:\n",
    "- and (yaitu: a and b)\n",
    "- or (yaitu: a or c)\n",
    "- not (yaitu: not a)"
   ]
  },
  {
   "cell_type": "markdown",
   "metadata": {},
   "source": [
    "### <a id='toc4_2_4_'></a>[List](#toc0_)\n",
    "\n",
    "`list` digunakan untuk menyimpan beberapa nilai dalam python. Untuk membuatnya, cukup letakkan nilai di dalam tanda kurung (yaitu: `x = [1,2,3]` )"
   ]
  },
  {
   "cell_type": "code",
   "execution_count": null,
   "metadata": {
    "ExecuteTime": {
     "end_time": "2023-04-11T04:59:29.880405Z",
     "start_time": "2023-04-11T04:59:29.877375Z"
    }
   },
   "outputs": [],
   "source": [
    "x = [1,2,3,4,5]\n",
    "y = [2,3,4,5,6]"
   ]
  },
  {
   "cell_type": "markdown",
   "metadata": {},
   "source": [
    "**Operasi List**\n",
    "- `x.append(a)` : tambahkan a ke x\n",
    "- `x.remove(a)` : hapus a dari x\n",
    "\n",
    "Selain operator yang dikenal sebelumnya, salah satu list yang paling berguna adalah dengan menerapkan fungsi agregasi seperti:\n",
    "- `len(x)` : ekstrak panjang daftar\n",
    "- `a in b` : memeriksa apakah nilai `a` ada di objek daftar `b`\n",
    "- `max(x)` : mendapatkan nilai tertinggi dalam x\n",
    "- `sum(x)` : mendapatkan jumlah nilai dalam x\n",
    "\n",
    "Operasi lain yang harus diketahui dalam daftar adalah pengindeksan:\n",
    "- `x[i]` : mengakses elemen ke-i dari x"
   ]
  },
  {
   "cell_type": "markdown",
   "metadata": {},
   "source": [
    "# <a id='toc5_'></a>[Introduction to Library (Package)](#toc0_)"
   ]
  },
  {
   "cell_type": "markdown",
   "metadata": {},
   "source": [
    "## <a id='toc5_1_'></a>[Import a Library](#toc0_)"
   ]
  },
  {
   "cell_type": "code",
   "execution_count": null,
   "metadata": {},
   "outputs": [],
   "source": [
    "# code here\n"
   ]
  },
  {
   "cell_type": "markdown",
   "metadata": {},
   "source": [
    "# <a id='toc6_'></a>[Pandas Library](#toc0_)\n",
    "## <a id='toc6_1_'></a>[Working with DataFrame](#toc0_)\n",
    "\n",
    "`pandas` adalah library yang powerful sebagai tools analisis data dan struktur pada Python. Dengan `pandas`, mengolah data menjadi mudah karena disediakan salah satu objek bernama **DataFrame**. Dengan dataframe kita dapat membaca sebuah file, mengolah suatu data dengan menggunakan operasi seperti join, distinct, group by, agregasi, dan teknik lainnya.\n",
    "\n",
    "> Lebih lengkapnya silahkan kunjungi [official documentation](https://pandas.pydata.org/)"
   ]
  },
  {
   "cell_type": "markdown",
   "metadata": {},
   "source": [
    "Semua method pada `pandas` dapat dipanggil dengan syntax seperti: `pandas.function_name()`. Langkah pertama yang akan kita lakukan adalah membaca data. Kita dapat menggunakan method `.read_csv()` untuk membaca sebuah file dengan format `.csv`."
   ]
  },
  {
   "cell_type": "code",
   "execution_count": null,
   "metadata": {
    "ExecuteTime": {
     "end_time": "2023-04-11T04:59:34.740792Z",
     "start_time": "2023-04-11T04:59:34.737731Z"
    }
   },
   "outputs": [],
   "source": [
    "# code ini untuk mengatur pemisah angka ribuan\n",
    "pd.options.display.float_format = '{:,.3f}'.format"
   ]
  },
  {
   "cell_type": "code",
   "execution_count": null,
   "metadata": {
    "ExecuteTime": {
     "end_time": "2023-04-11T04:59:34.790769Z",
     "start_time": "2023-04-11T04:59:34.743191Z"
    }
   },
   "outputs": [],
   "source": [
    "# read data\n"
   ]
  },
  {
   "cell_type": "markdown",
   "metadata": {},
   "source": [
    "🔻 Kita coba set kolom pertama `Unnamed: 0` menjadi index dari dataframe, dengan cara menambahkan **parameter** `index_col=0`."
   ]
  },
  {
   "cell_type": "code",
   "execution_count": null,
   "metadata": {
    "ExecuteTime": {
     "end_time": "2023-04-11T04:59:34.831042Z",
     "start_time": "2023-04-11T04:59:34.793675Z"
    }
   },
   "outputs": [],
   "source": [
    "# code here\n"
   ]
  },
  {
   "cell_type": "markdown",
   "metadata": {},
   "source": [
    "Intuisi dari parameter `index_col` pada `read_csv()` adalah menjadikan kolom pada Dataframe sebagai index pada baris. Berikut beberapa nilai yang dapat ditampung oleh parameter `index_col`.\n",
    "- (0, 1, 2, dst) : Menunjukkan index kolom yang akan dijadikan sebagai index baris.\n",
    "- `'nama_kolom'` : Selain menggunakan nilai index nya, kita juga dapat langsung mengetikkan nama kolomnya.\n",
    "- `False` : Menggunakan index yang disediakan oleh `pandas`."
   ]
  },
  {
   "cell_type": "markdown",
   "metadata": {},
   "source": [
    "**📌 Additional Information:**\n",
    "\n",
    "1. Python menggunakan sistem **zero based indexing** yang berarti, index pada python dimulai dari angka 0.\n",
    "2. Terdapat beberapa parameter dalam method `.read_csv()`, dokumentasi selengkapnya ada [di sini](https://pandas.pydata.org/pandas-docs/stable/reference/api/pandas.read_csv.html)"
   ]
  },
  {
   "cell_type": "markdown",
   "metadata": {},
   "source": [
    "### <a id='toc6_1_1_'></a>[🏄🏻‍♀️ Dive Deeper](#toc0_)"
   ]
  },
  {
   "cell_type": "code",
   "execution_count": null,
   "metadata": {
    "ExecuteTime": {
     "end_time": "2023-04-11T04:59:34.870408Z",
     "start_time": "2023-04-11T04:59:34.833614Z"
    }
   },
   "outputs": [],
   "source": [
    "# code here\n"
   ]
  },
  {
   "cell_type": "markdown",
   "metadata": {},
   "source": [
    "___"
   ]
  },
  {
   "cell_type": "markdown",
   "metadata": {},
   "source": [
    "____"
   ]
  },
  {
   "cell_type": "markdown",
   "metadata": {},
   "source": [
    "# <a id='toc7_'></a>[Exploratory Data Analysis I](#toc0_)\n",
    "\n",
    "Exploratory Data Analysis (**EDA**) mengacu pada proses melakukan investigasi awal pada data, seringkali dengan tujuan untuk lebih mengenal dengan karakteristik data tertentu. EDA dilakukan dengan bantuan ringkasan statistik dan teknik grafis sederhana untuk melihat struktur data yang kita miliki.\n",
    "\n",
    "EDA:\n",
    "- Cek data dengan melihat struktur/bentuk data\n",
    "- Cek data dengan melihat statistika data\n",
    "- Cek data dengan memvisualisasikan data\n",
    "\n",
    "\n",
    "Beberapa tools sederhana pada `pandas` yang dapat digunakan untuk melakukan EDA adalah sebagai berikut:\n",
    "- `.head()` and `.tail()`\n",
    "- `.shape` and `.size`\n",
    "- `.axes`\n",
    "- `.describe()`\n",
    "- `.dtypes`\n",
    "\n",
    "## <a id='toc7_1_'></a>[`head()` and `tail()`](#toc0_)\n",
    "\n",
    "- `head(n)` digunakan untuk inspeksi `n` data teratas dari sebuah dataframe.\n",
    "- `tail(n)` digunakan untuk inspeksi `n` data terbawah dari sebuah dataframe."
   ]
  },
  {
   "cell_type": "code",
   "execution_count": null,
   "metadata": {},
   "outputs": [],
   "source": []
  },
  {
   "cell_type": "markdown",
   "metadata": {},
   "source": [
    "## <a id='toc7_2_'></a>[`shape` dan `size`](#toc0_)\n",
    "\n",
    "`shape` dan `size` adalah atribut dari sebuah dataframe yang memberikan informasi terkait dimensi data dan ukuran data"
   ]
  },
  {
   "cell_type": "code",
   "execution_count": null,
   "metadata": {
    "ExecuteTime": {
     "end_time": "2023-04-11T04:59:35.056658Z",
     "start_time": "2023-04-11T04:59:35.051109Z"
    }
   },
   "outputs": [],
   "source": [
    "# check shape\n"
   ]
  },
  {
   "cell_type": "markdown",
   "metadata": {},
   "source": [
    "📌 Notes : "
   ]
  },
  {
   "cell_type": "code",
   "execution_count": null,
   "metadata": {
    "ExecuteTime": {
     "end_time": "2023-04-11T04:59:35.062463Z",
     "start_time": "2023-04-11T04:59:35.059585Z"
    }
   },
   "outputs": [],
   "source": [
    "# code here\n"
   ]
  },
  {
   "cell_type": "code",
   "execution_count": null,
   "metadata": {
    "ExecuteTime": {
     "end_time": "2023-04-11T04:59:35.067385Z",
     "start_time": "2023-04-11T04:59:35.064709Z"
    }
   },
   "outputs": [],
   "source": [
    "# code here\n"
   ]
  },
  {
   "cell_type": "markdown",
   "metadata": {},
   "source": [
    "___"
   ]
  },
  {
   "cell_type": "code",
   "execution_count": null,
   "metadata": {
    "ExecuteTime": {
     "end_time": "2023-04-11T04:59:35.076158Z",
     "start_time": "2023-04-11T04:59:35.071336Z"
    }
   },
   "outputs": [],
   "source": [
    "# check size\n"
   ]
  },
  {
   "cell_type": "markdown",
   "metadata": {},
   "source": [
    "___"
   ]
  },
  {
   "cell_type": "markdown",
   "metadata": {},
   "source": [
    "## <a id='toc7_3_'></a>[`axes`](#toc0_)\n",
    "\n",
    "`axes` adalah atribut dataframe yang memberikan informasi terkait index dataframe (baik index kolom maupun index baris)"
   ]
  },
  {
   "cell_type": "code",
   "execution_count": null,
   "metadata": {
    "ExecuteTime": {
     "end_time": "2023-04-11T04:59:35.094599Z",
     "start_time": "2023-04-11T04:59:35.088416Z"
    }
   },
   "outputs": [],
   "source": [
    "# check axes\n"
   ]
  },
  {
   "cell_type": "markdown",
   "metadata": {},
   "source": [
    "📝 Notes : "
   ]
  },
  {
   "cell_type": "code",
   "execution_count": null,
   "metadata": {
    "ExecuteTime": {
     "end_time": "2023-04-11T04:59:35.099561Z",
     "start_time": "2023-04-11T04:59:35.096883Z"
    }
   },
   "outputs": [],
   "source": [
    "# code here\n"
   ]
  },
  {
   "cell_type": "code",
   "execution_count": null,
   "metadata": {
    "ExecuteTime": {
     "end_time": "2023-04-11T04:59:35.105372Z",
     "start_time": "2023-04-11T04:59:35.101772Z"
    }
   },
   "outputs": [],
   "source": [
    "# code here\n"
   ]
  },
  {
   "cell_type": "markdown",
   "metadata": {},
   "source": [
    "___"
   ]
  },
  {
   "cell_type": "markdown",
   "metadata": {},
   "source": [
    "## <a id='toc7_4_'></a>[`.describe()`](#toc0_)\n",
    "\n",
    "Method `describe()` menampilkan 8 ringkasan statistika deskriptif. Secara default menampilkan ringkasan untuk kolom numerik. \n",
    "\n",
    "Ringkasan statistika yang dimaksud adalah sebagai berikut:\n",
    "- Count: banyaknya baris pada dataframe\n",
    "- Mean: rata-rata nilai\n",
    "- Standard Deviation: jarak rata-rata antara data ke mean (titik pusat data)\n",
    "- Minimum Value: nilai terkecil dari keseluruhan data\n",
    "- 25th Percentile (Q1)\n",
    "- 50th Percentile (Q2/Median)\n",
    "- 75th Percentile (Q3)\n",
    "- Maximum Value: nilai terbesar dari keseluruhan data"
   ]
  },
  {
   "cell_type": "code",
   "execution_count": null,
   "metadata": {},
   "outputs": [],
   "source": [
    "# deskripsi dari data rice\n"
   ]
  },
  {
   "cell_type": "markdown",
   "metadata": {},
   "source": [
    "📈  **Insight** : \n",
    "\n"
   ]
  },
  {
   "cell_type": "markdown",
   "metadata": {},
   "source": [
    "Ringkasan seperti count, mean, std, min, max, dan quantile() memiliki method nya masing-masing:"
   ]
  },
  {
   "cell_type": "code",
   "execution_count": null,
   "metadata": {},
   "outputs": [],
   "source": []
  },
  {
   "cell_type": "code",
   "execution_count": null,
   "metadata": {},
   "outputs": [],
   "source": []
  },
  {
   "cell_type": "markdown",
   "metadata": {},
   "source": [
    "___"
   ]
  },
  {
   "cell_type": "markdown",
   "metadata": {},
   "source": [
    "Kita bisa menambahkan parameter `include` ataupun `exclude` pada `describe()` untuk melihat statistika deskriptif dari variable non-numeric:"
   ]
  },
  {
   "cell_type": "code",
   "execution_count": null,
   "metadata": {},
   "outputs": [],
   "source": []
  },
  {
   "cell_type": "markdown",
   "metadata": {},
   "source": [
    "📈 **Insight** : \n"
   ]
  },
  {
   "cell_type": "markdown",
   "metadata": {},
   "source": [
    "___"
   ]
  },
  {
   "cell_type": "markdown",
   "metadata": {},
   "source": [
    "## <a id='toc7_5_'></a>[Tipe Data](#toc0_)\n",
    "\n",
    "Dataframe terdiri dari beberapa **Series** (mengacu pada satu kolom). Dalam satu series harus memiliki satu tipe data yang sama. `pandas` akan mencoba untuk infer tipe data dari masing-masing Series, tapi tidak selalu benar.\n",
    "\n",
    "## <a id='toc7_6_'></a>[`dtypes`: Check Tipe Data](#toc0_)\n",
    "\n",
    "Cara cek tipe data: `dtypes` atau `.info()` untuk lebih lengkapnya"
   ]
  },
  {
   "cell_type": "markdown",
   "metadata": {},
   "source": [
    "<div class=\"alert alert-secondary\">\n",
    "<p>\n",
    "🔎 Nice to Know: <b>Method vs. Atribut</b> 🔎 \n",
    "\n",
    "- Secara tampilan:\n",
    "\n",
    "    - **method** selalu diikuti dengan tanda kurung ()\n",
    "        \n",
    "        Contoh : `.head()`, `.tail()`, `.read_csv()`\n",
    "\n",
    "    - **atribut** tidak diikuti oleh tanda kurung\n",
    "        \n",
    "        Contoh : `.dtypes`\n",
    "        \n",
    "- Kepemilikan nilai/parameter yang bisa diganti-ganti\n",
    "\n",
    "    - **method**: ✅ memiliki parameter/nilai yang bisa diganti-ganti\n",
    "    \n",
    "        Contoh : `head(n=)` ➡️ parameter n bisa diganti/disesuaikan dengan jumlah baris yang mau ditampilkan\n",
    "        \n",
    "    - **atribut**: ❌ tidak ada \n",
    "</p>\n",
    "</div>"
   ]
  },
  {
   "cell_type": "code",
   "execution_count": null,
   "metadata": {},
   "outputs": [],
   "source": [
    "# read data rice\n",
    "rice = pd.read_csv('data_input/rice.csv', index_col=0)"
   ]
  },
  {
   "cell_type": "code",
   "execution_count": null,
   "metadata": {},
   "outputs": [],
   "source": [
    "# check tipe data\n"
   ]
  },
  {
   "cell_type": "markdown",
   "metadata": {},
   "source": [
    "### <a id='toc7_6_1_'></a>[Numerical and Categorical Variables](#toc0_)\n",
    "\n",
    "#### <a id='toc7_6_1_1_'></a>[Numerical](#toc0_)\n",
    "\n",
    "Terdapat dua jenis tipe data numerik, yaitu `float` dan `int`. Perhatian khusus terhadap tipe data ini sangat penting agar dapat memastikan kesesuaian dengan kebutuhan analisis. Alasannya:\n",
    "\n",
    "**Operasi Matematika yang Akurat:**\n",
    "   - Penting untuk memastikan bahwa kolom-kolom yang seharusnya berisi data numerik diidentifikasi dengan benar sebagai float atau int. Jika suatu kolom numerik tidak terbaca dengan tepat, operasi matematika seperti penjumlahan, pengurangan, perkalian, dan pembagian mungkin menghasilkan kesalahan atau hasil yang tidak akurat. Sebagai contoh, menganggap kolom numerik sebagai tipe data teks dapat mengakibatkan kesalahan perhitungan.\n",
    "\n",
    "\n",
    "Dengan memahami pentingnya tipe data numerik dan memastikan identifikasi yang benar, kita dapat meminimalkan risiko kesalahan dalam analisis data dan memastikan bahwa hasilnya dapat diandalkan.\n",
    "\n",
    "\n",
    "#### <a id='toc7_6_1_2_'></a>[Object & Categorical](#toc0_)\n",
    "\n",
    "**Karakteristik tipe data `object`**:\n",
    "- Mirip seperti tipe data string pada python\n",
    "- Kemunculannya unik (artinya setiap row kemunculannya hanya 1 atau beberapa)\n",
    "\n",
    "**Karakteristik tipe data `category`:**\n",
    "- Dapat dikelompokkan menjadi beberapa kelompok (category)\n",
    "- Kemunculannya berulang\n",
    "\n",
    "Dua alasan mengapa kita perlu menggunakan tipe data categorical:\n",
    "\n",
    "1. **Business Perspective Side**: dapat memandu seorang Analyst untuk memilih metode statistik atau tipe plot mana yang digunakan untuk mengolah data.\n",
    "\n",
    "2. **Technical Side**: tipe data categorical akan menghemat memori dan menambah kecepatan komputasional\n",
    "\n"
   ]
  },
  {
   "cell_type": "markdown",
   "metadata": {},
   "source": [
    "### <a id='toc7_6_2_'></a>[Mengubah Tipe Data](#toc0_)\n",
    "\n",
    "Untuk mengubah tipe data ke categorical pada pandas, Anda dapat melakukannya dengan method `astype()` berikut:\n",
    "\n",
    "**Formula** \n",
    "```\n",
    "df['column_name'] = df['column_name'].astype('new_data_types')\n",
    "```\n",
    "\n",
    "**Contoh**\n",
    "```\n",
    "employees['marital_status'] = employees['marital_status'].astype('category')\n",
    "```"
   ]
  },
  {
   "cell_type": "markdown",
   "metadata": {},
   "source": [
    "Perhatikan dataframe baru di bawah ini untuk contoh lain dari tipe data pada `pandas`!"
   ]
  },
  {
   "cell_type": "code",
   "execution_count": null,
   "metadata": {},
   "outputs": [],
   "source": [
    "employees = pd.DataFrame({\n",
    "    'name': ['Anita', 'Brian'],\n",
    "    'age': ['34', '29'],\n",
    "    'joined': [pd.Timestamp('20190410'), pd.Timestamp('20171128')],\n",
    "    'degree': [True, False],\n",
    "    'hourlyrate': [35.5, 29],\n",
    "    'division': ['HR', 'Product']\n",
    "})\n",
    "\n",
    "employees"
   ]
  },
  {
   "cell_type": "code",
   "execution_count": null,
   "metadata": {},
   "outputs": [],
   "source": [
    "employees.dtypes\n"
   ]
  },
  {
   "cell_type": "markdown",
   "metadata": {},
   "source": [
    "- `name` [`object`]: store text values\n",
    "- `age` [`object`]: store text values\n",
    "- `joined` [`datetime`]: date and time values\n",
    "- `degree` [`bool`]: True/False values\n",
    "- `hourlyrate` [`float`]: floating point values\n",
    "- `division` [`object`]: store text values"
   ]
  },
  {
   "cell_type": "markdown",
   "metadata": {},
   "source": [
    "❓Perhatikan dataframe `employees`. Adakah kolom yang tipe datanya belum tersimpan dengan benar? Ubahlah ke tipe data yang tepat dengan menggunakan method `astype()`!"
   ]
  },
  {
   "cell_type": "markdown",
   "metadata": {},
   "source": [
    "Kolom yang perlu diubah tipe datanya:\n",
    "- Age : object -> int\n",
    "- Division : object -> category\n"
   ]
  },
  {
   "cell_type": "code",
   "execution_count": null,
   "metadata": {},
   "outputs": [],
   "source": []
  },
  {
   "cell_type": "code",
   "execution_count": null,
   "metadata": {},
   "outputs": [],
   "source": [
    "employees.dtypes"
   ]
  },
  {
   "cell_type": "markdown",
   "metadata": {},
   "source": [
    "___"
   ]
  },
  {
   "cell_type": "markdown",
   "metadata": {},
   "source": [
    "### <a id='toc7_6_3_'></a>[Rangkuman Data Types](#toc0_)"
   ]
  },
  {
   "cell_type": "markdown",
   "metadata": {},
   "source": [
    "Fokus pada kolom Pandas dtype dan usage-nya:\n",
    "\n",
    "| Pandas dtype  | Python type  | NumPy type                                                     | Usage                                        |\n",
    "|---------------|--------------|----------------------------------------------------------------|----------------------------------------------|\n",
    "| object        | str or mixed | string_, unicode_, mixed types                                 | Text or mixed numeric and non-numeric values |\n",
    "| int64         | int          | int_, int8, int16, int32, int64, uint8, uint16, uint32, uint64 | Integer numbers                              |\n",
    "| float64       | float        | float_, float16, float32, float64                              | Floating point numbers                       |\n",
    "| bool          | bool         | bool_                                                          | True/False values                            |\n",
    "| datetime64    | NA           | datetime64[ns]                                                 | Date and time values                         |\n",
    "| timedelta[ns] | NA           | NA                                                             | Differences between two datetimes            |\n",
    "| category      | NA           | NA                                                             | Finite list of text values                   |\n",
    "\n",
    "Referensi: [Overview of Pandas Data Types](https://pbpython.com/pandas_dtypes.html)"
   ]
  },
  {
   "cell_type": "markdown",
   "metadata": {},
   "source": [
    "___"
   ]
  },
  {
   "cell_type": "markdown",
   "metadata": {},
   "source": [
    "**Data Rice**\n",
    "\n",
    "Atribut `dtypes` digunakan untuk melakukan inspeksi tipe data."
   ]
  },
  {
   "cell_type": "markdown",
   "metadata": {},
   "source": [
    "---\n",
    "\n",
    "💡 Kita bisa menggunakan method berikut untuk **mengidentifikasi kolom mana yang cocok untuk disimpan ke tipe data `category`**\n",
    "\n",
    "- `.unique()` untuk melihat nilai unik di setiap Series\n",
    "- `.nunique()` untuk melihat jumlah nilai unik/distict pada Series/Dataframe\n",
    "\n",
    "---"
   ]
  },
  {
   "cell_type": "code",
   "execution_count": null,
   "metadata": {
    "ExecuteTime": {
     "end_time": "2023-04-11T04:59:35.113036Z",
     "start_time": "2023-04-11T04:59:35.107901Z"
    }
   },
   "outputs": [],
   "source": [
    "rice.dtypes"
   ]
  },
  {
   "cell_type": "markdown",
   "metadata": {},
   "source": [
    "> Kolom category: ...."
   ]
  },
  {
   "cell_type": "code",
   "execution_count": null,
   "metadata": {},
   "outputs": [],
   "source": [
    "# ubah tipe data data data rice\n"
   ]
  },
  {
   "cell_type": "markdown",
   "metadata": {},
   "source": [
    "## <a id='toc7_7_'></a>[Knowledge Check: Data types](#toc0_)\n",
    "\n",
    "Misalkan saja kita memiliki sebuah DataFrame dengan nama `inventory`.\n",
    "\n",
    "Ketika menjalankan perintah `inventory.dtypes`, maka pandas akan menampilkan tipe data pada setiap kolom (series). Manakah kolom dibawah ini yang mungkin memiliki tipe data yang salah?\n",
    " - [ ] `product_id`: int64\n",
    " - [ ] `units_instock`: int64\n",
    " - [ ] `discount_price`: float64\n",
    " - [ ] `item_name`: object\n",
    " - [ ] `category`: object\n",
    " - [ ] `units_sold`: object\n",
    " - [ ] `year_sold`: object\n"
   ]
  },
  {
   "cell_type": "code",
   "execution_count": null,
   "metadata": {
    "ExecuteTime": {
     "end_time": "2023-04-11T04:59:35.141478Z",
     "start_time": "2023-04-11T04:59:35.134378Z"
    }
   },
   "outputs": [],
   "source": [
    "inventory = {\n",
    "    'product_id': [145789, 9157889, 8147889, 7148889, 1578895],\n",
    "    'units_instock': [100, 150, 80, 200, 120],\n",
    "    'discount_price': [29.99, 49.99, 39.99, 19.99, 59.99],\n",
    "    'item_name': ['Product A', 'Product B', 'Product C', 'Product D', 'Product E'],\n",
    "    'category': ['Electronics', 'Clothing', 'Home & Kitchen', 'Electronics', 'Beauty'],\n",
    "    'units_sold': ['50', '75', '30', '90', '60'],\n",
    "    'year_sold': ['2022', '2022', '2021', '2023', '2022']\n",
    "}\n",
    "inventory.dtypes"
   ]
  },
  {
   "cell_type": "markdown",
   "metadata": {},
   "source": [
    "___"
   ]
  },
  {
   "cell_type": "markdown",
   "metadata": {},
   "source": [
    "### <a id='toc7_7_1_'></a>[Summary Day-2](#toc0_)\n",
    "\n",
    "- Membuat variabel: .......\n",
    "    - .......\n",
    "    - .......\n",
    "    - .......\n",
    "    - .......\n",
    "    \n",
    "- Library merupakan pustaka: kumpulan-kumpulan dari .......\n",
    "- `pandas`: library yang digunakan untuk .......\n",
    "    - install terlebih dahulu library pandas di terminal dengan cara: `pip install pandas`\n",
    "    - memanggil library pandas --> `.......`\n",
    "    - membuka data kita --> `.......`\n",
    "\n",
    "        \n",
    "- Tools EDA:\n",
    "  \n",
    "\n",
    "- Tipe data:\n",
    "    - Tipe data pandas:\n",
    "        - Check tipe data: `.......`\n",
    "        - int64, float64, object, datetime64, category\n",
    "        - Mengubah tipe data menggunakan method `.......`"
   ]
  },
  {
   "cell_type": "markdown",
   "metadata": {},
   "source": [
    "========================================= End of Day 2 ======================================"
   ]
  },
  {
   "cell_type": "markdown",
   "metadata": {},
   "source": [
    "# <a id='toc8_'></a>[Indexing and Subsetting with Pandas](#toc0_)\n",
    "\n",
    "Indexing digunakan untuk memilih dan mengambil sebagian data yang hanya diperlukan dalam proses analisa data yang sedang dikerjakan. Contohnya:\n",
    "- Compare sales pada tahun 2018 vs 2019\n",
    "- Identifikasi peluang penjualan pada segment pasar (ex : Wholesale vs Retail)\n",
    "- Melihat quarter terbaik untuk setiap tahun yang dapat digunakan untuk tujuan promosi\n",
    "- dan sebagainya\n",
    "\n",
    "Untuk melakukan indexing dan subsetting (slicing data) pada `pandas`, kita dapat menggunakan cara sebagai berikut:\n",
    "- `head()` and `tail()`  \n",
    "- `select_dtypes()`  \n",
    "- Using `.drop()` \n",
    "- The `[]` operator\n",
    "- `.loc`  \n",
    "- `.iloc`\n",
    "- Conditional subsetting\n",
    "\n",
    "## <a id='toc8_1_'></a>[`select_dtypes()`](#toc0_)\n",
    "\n",
    "Method `select_dtypes()` digunakan untuk memilih **kolom** sesuai dengan tipe datanya. Ada 2 parameter yang dapat digunakan di dalam method `select_dtypes()` yaitu parameter `include` dan `exclude` (seperti pada `describe()`.\n",
    "\n",
    "Misal:\n",
    "- parameter `include = 'category'` artinya kita memilih semua kolom dengan tipe data 'category'\n",
    "- sebaliknya, ketika menggunakan parameter `exclude = 'category'` maka kolom-kolom dengan tipe data selain 'category' akan ditampilkan."
   ]
  },
  {
   "cell_type": "code",
   "execution_count": null,
   "metadata": {
    "ExecuteTime": {
     "end_time": "2023-04-11T04:59:35.177707Z",
     "start_time": "2023-04-11T04:59:35.165709Z"
    }
   },
   "outputs": [],
   "source": [
    "# code here --> only category\n"
   ]
  },
  {
   "cell_type": "markdown",
   "metadata": {},
   "source": [
    "❓ Bagaimana cara Anda untuk menyeleksi kolom dengan tipe data `int64` dan `float64` untuk ditampilkan?"
   ]
  },
  {
   "cell_type": "code",
   "execution_count": null,
   "metadata": {},
   "outputs": [],
   "source": [
    "# code here\n"
   ]
  },
  {
   "cell_type": "markdown",
   "metadata": {},
   "source": [
    "## <a id='toc8_2_'></a>[`drop()`](#toc0_)\n",
    "\n",
    "Method `drop()` digunakan untuk membuang baris atau kolom yang tidak ingin digunakan untuk tujuan analisis. Secara default method ini akan menghapus baris"
   ]
  },
  {
   "cell_type": "markdown",
   "metadata": {},
   "source": [
    "### <a id='toc8_2_1_'></a>[Hapus berdasarkan index baris](#toc0_)\n",
    "\n",
    "**Hapus index baris 1 pada DataFrame**"
   ]
  },
  {
   "cell_type": "code",
   "execution_count": null,
   "metadata": {
    "ExecuteTime": {
     "end_time": "2023-04-11T04:59:35.211266Z",
     "start_time": "2023-04-11T04:59:35.196679Z"
    }
   },
   "outputs": [],
   "source": []
  },
  {
   "cell_type": "markdown",
   "metadata": {},
   "source": [
    "❓ Hapus index baris 2 dan 4 pada data"
   ]
  },
  {
   "cell_type": "code",
   "execution_count": null,
   "metadata": {},
   "outputs": [],
   "source": [
    "# code here\n"
   ]
  },
  {
   "cell_type": "markdown",
   "metadata": {},
   "source": [
    "### <a id='toc8_2_2_'></a>[Hapus berdasarkan index kolom](#toc0_)"
   ]
  },
  {
   "cell_type": "markdown",
   "metadata": {},
   "source": [
    "**Hapus index kolom `receipts_item_id`**"
   ]
  },
  {
   "cell_type": "code",
   "execution_count": null,
   "metadata": {
    "ExecuteTime": {
     "end_time": "2023-04-11T04:59:35.253955Z",
     "start_time": "2023-04-11T04:59:35.232999Z"
    }
   },
   "outputs": [],
   "source": [
    "# drop columns receipts_item_id\n"
   ]
  },
  {
   "cell_type": "markdown",
   "metadata": {},
   "source": [
    "❓ Hapus kolom `unit_price`, `purchase_time`, `receipts_item_id`"
   ]
  },
  {
   "cell_type": "code",
   "execution_count": null,
   "metadata": {
    "ExecuteTime": {
     "end_time": "2023-04-11T04:59:35.273853Z",
     "start_time": "2023-04-11T04:59:35.257045Z"
    }
   },
   "outputs": [],
   "source": [
    "# code here\n"
   ]
  },
  {
   "cell_type": "markdown",
   "metadata": {},
   "source": [
    "___"
   ]
  },
  {
   "cell_type": "markdown",
   "metadata": {},
   "source": [
    "📌 **NOTE:** Method `drop()` tidak mengubah objek dataframenya. Apabila ingin mengubah objek semulanya:\n",
    "- Melakukan assignment kembali dengan nama objek yang sama: `rice = rice.drop(...)`, atau\n",
    "- Menambahkan parameter inplace: `rice.drop(..., inplace=True)` "
   ]
  },
  {
   "cell_type": "markdown",
   "metadata": {},
   "source": [
    "___"
   ]
  },
  {
   "cell_type": "markdown",
   "metadata": {},
   "source": [
    "## <a id='toc8_3_'></a>[Slicing: **`[]` operator**](#toc0_)\n",
    "\n",
    "Digunakan untuk melakukan subsetting dengan cara mengiris (slicing) index pada dataframe. Formula penulisannya adalah `[start:end]` dengan mengikuti aturan indexing pada python (dimulai dari 0) dimana `start` inclusive dan `end` exclusive."
   ]
  },
  {
   "cell_type": "markdown",
   "metadata": {},
   "source": [
    "Dengan menggunakan metode slicing, silahkan tampilkan baris ke 1 dan ke 2"
   ]
  },
  {
   "cell_type": "code",
   "execution_count": null,
   "metadata": {
    "ExecuteTime": {
     "end_time": "2023-04-11T04:59:35.287443Z",
     "start_time": "2023-04-11T04:59:35.276073Z"
    }
   },
   "outputs": [],
   "source": [
    "# slice baris ke 1 dan 2\n"
   ]
  },
  {
   "cell_type": "markdown",
   "metadata": {},
   "source": [
    "❓ Dengan menggunakan metode slicing, silahkan tampilkan baris ke 10 sampai ke 15"
   ]
  },
  {
   "cell_type": "code",
   "execution_count": null,
   "metadata": {
    "ExecuteTime": {
     "end_time": "2023-04-11T04:59:35.304683Z",
     "start_time": "2023-04-11T04:59:35.289696Z"
    }
   },
   "outputs": [],
   "source": [
    "# code here\n"
   ]
  },
  {
   "cell_type": "markdown",
   "metadata": {},
   "source": [
    "___"
   ]
  },
  {
   "cell_type": "markdown",
   "metadata": {},
   "source": [
    "## <a id='toc8_4_'></a>[`.iloc` dan `.loc`](#toc0_)\n",
    "\n",
    "Dengan menggunakan `.iloc` dan `loc` kita dapat melakukan pengirisan pada index **baris dan kolom**. \n",
    "\n",
    "Perbedaan yang mendasar dari kedua operator ini adalah:\n",
    "- `.iloc` merujuk pada lokasi **index** baris atau kolomnya sehingga harus **integer**, sedangkan\n",
    "- `.loc` merujuk pada lokasi **nama** baris atau kolomnya"
   ]
  },
  {
   "cell_type": "markdown",
   "metadata": {},
   "source": [
    "**Mari berfokus pada .iloc terlebih dahulu**\n",
    "\n",
    "> Syntax: `df.iloc[baris, kolom]` "
   ]
  },
  {
   "cell_type": "code",
   "execution_count": null,
   "metadata": {
    "ExecuteTime": {
     "end_time": "2023-04-11T04:59:35.336218Z",
     "start_time": "2023-04-11T04:59:35.322164Z"
    }
   },
   "outputs": [],
   "source": [
    "# menggunakan method .head() \n",
    "rice.head()"
   ]
  },
  {
   "cell_type": "code",
   "execution_count": null,
   "metadata": {
    "ExecuteTime": {
     "end_time": "2023-04-11T04:59:35.352635Z",
     "start_time": "2023-04-11T04:59:35.338994Z"
    }
   },
   "outputs": [],
   "source": [
    "# menggunakan slicing\n",
    "rice[0:5]"
   ]
  },
  {
   "cell_type": "code",
   "execution_count": null,
   "metadata": {
    "ExecuteTime": {
     "end_time": "2023-04-11T04:59:35.370082Z",
     "start_time": "2023-04-11T04:59:35.355208Z"
    }
   },
   "outputs": [],
   "source": [
    "# menggunakan perintah .iloc\n"
   ]
  },
  {
   "cell_type": "markdown",
   "metadata": {},
   "source": [
    "Menampilkan baris pertama (index baris 1) dan kolom ke-6 (index kolom ke 6), artinya adalah data pada baris kedua dan kolom `unit_price`."
   ]
  },
  {
   "cell_type": "code",
   "execution_count": null,
   "metadata": {
    "ExecuteTime": {
     "end_time": "2023-04-11T04:59:35.380981Z",
     "start_time": "2023-04-11T04:59:35.372572Z"
    }
   },
   "outputs": [],
   "source": [
    "# baris 0, kolom 6\n"
   ]
  },
  {
   "cell_type": "markdown",
   "metadata": {},
   "source": [
    "📌 **Note :** parameter colon (:) digunakan untuk menampilkan semua data baik pada baris ataupun kolom"
   ]
  },
  {
   "cell_type": "code",
   "execution_count": null,
   "metadata": {
    "ExecuteTime": {
     "end_time": "2023-04-11T04:59:35.403312Z",
     "start_time": "2023-04-11T04:59:35.384183Z"
    }
   },
   "outputs": [],
   "source": []
  },
  {
   "cell_type": "markdown",
   "metadata": {},
   "source": [
    "❓Mengambil baris ke-2 sampai 5 dan kolom dengan `receipts_item_id` sampai `purchase_time`"
   ]
  },
  {
   "cell_type": "code",
   "execution_count": null,
   "metadata": {
    "ExecuteTime": {
     "end_time": "2023-04-11T04:59:35.413966Z",
     "start_time": "2023-04-11T04:59:35.406153Z"
    }
   },
   "outputs": [],
   "source": [
    "# code here\n"
   ]
  },
  {
   "cell_type": "markdown",
   "metadata": {},
   "source": [
    "___"
   ]
  },
  {
   "cell_type": "markdown",
   "metadata": {},
   "source": [
    "*Mari kita pergi ke .loc**\n",
    "\n",
    "> Syntax: `df.loc[baris, kolom]` "
   ]
  },
  {
   "cell_type": "markdown",
   "metadata": {},
   "source": [
    "Menggunakan `.loc`, kita bisa mengambil baris dan kolom berdasarkan namanya. Contoh kita ingin mengambil baris dengan index baris 1 dan 3, serta mengambil semua kolom."
   ]
  },
  {
   "cell_type": "code",
   "execution_count": null,
   "metadata": {
    "ExecuteTime": {
     "end_time": "2023-04-11T04:59:35.428649Z",
     "start_time": "2023-04-11T04:59:35.416344Z"
    }
   },
   "outputs": [],
   "source": [
    "# code here\n"
   ]
  },
  {
   "cell_type": "markdown",
   "metadata": {},
   "source": [
    "❓ Mengambil baris pada index transaksi 100, 200, 300, 400, 500 dari kolom `category` sampai `quantity`"
   ]
  },
  {
   "cell_type": "code",
   "execution_count": null,
   "metadata": {
    "ExecuteTime": {
     "end_time": "2023-04-11T04:59:35.445221Z",
     "start_time": "2023-04-11T04:59:35.431350Z"
    }
   },
   "outputs": [],
   "source": []
  },
  {
   "cell_type": "markdown",
   "metadata": {},
   "source": [
    "___"
   ]
  },
  {
   "cell_type": "markdown",
   "metadata": {},
   "source": [
    "#### <a id='toc8_4_1_1_'></a>[🏄🏻‍♀️ Dive Deeper:](#toc0_)\n",
    "Baca data `companies.csv`dan gunakan `index_col=1`, kemudian tampilkan beberapa baris menggunakan method `head()` atau `tail()`\n",
    "\n",
    "Dengan menggunakan metode indexing, jawab pertanyaan dibawah ini!\n",
    "\n",
    "1. Tampilkan lokasi kantor *Li and Partners*?\n",
    "2. Tampilkan nilai `Returns` yang dihasilkan oleh PT. Algoritma Data Indonesia?\n",
    "3. Tampilkan nilai `Forecasted Growth` untuk Palembang Konsultansi?"
   ]
  },
  {
   "cell_type": "code",
   "execution_count": null,
   "metadata": {
    "ExecuteTime": {
     "end_time": "2023-04-11T04:59:35.453949Z",
     "start_time": "2023-04-11T04:59:35.447293Z"
    }
   },
   "outputs": [],
   "source": [
    "# code here\n"
   ]
  },
  {
   "cell_type": "markdown",
   "metadata": {},
   "source": [
    "___"
   ]
  },
  {
   "cell_type": "markdown",
   "metadata": {},
   "source": [
    "## <a id='toc8_5_'></a>[Conditional Subsetting](#toc0_)\n",
    "\n",
    "Selain menggunakan `.loc` dan `.iloc`, kita dapat melakukan subsetting berdasarkan kondisi tertentu. Misal pada dataframe `rice`, kita ingin mengambil beberapa data dengan kondisi sebagai berikut:\n",
    "\n",
    "- Transaksi yang terjadi di supermarket: `.format == 'supermarket'`\n",
    "- Transaksi dengan produk yang harganya lebih dari sama dengan 200000: `.unit_price >= 200000`\n",
    "- Transaksi dimana kuantitas tidak sama dengan 0: `.quantity != 0`\n",
    "\n",
    "Syntax penulisan untuk conditional subsetting adalah:\n",
    "\n",
    "**`df[df['column_name'] <comparison_operator> <value>]`**\n",
    "\n",
    "atau\n",
    "\n",
    "**`df[df.column_name <comparison_operator> <value>]`**\n",
    "\n",
    "Contoh comparison_operator adalah seperti `==`, `!=`, `>`, `>=`, `<`, `<=`."
   ]
  },
  {
   "cell_type": "markdown",
   "metadata": {},
   "source": [
    "🔻 Menampilkan data yang memiliki `format` Supermarket!"
   ]
  },
  {
   "cell_type": "code",
   "execution_count": null,
   "metadata": {
    "ExecuteTime": {
     "end_time": "2023-04-11T04:59:35.507108Z",
     "start_time": "2023-04-11T04:59:35.488253Z"
    }
   },
   "outputs": [],
   "source": [
    "# format supermarket\n"
   ]
  },
  {
   "cell_type": "markdown",
   "metadata": {},
   "source": [
    "🔻 Menampilkan data yang memiliki `unit_price` lebih besar sama dengan 200.000"
   ]
  },
  {
   "cell_type": "code",
   "execution_count": null,
   "metadata": {
    "ExecuteTime": {
     "end_time": "2023-04-11T04:59:35.527512Z",
     "start_time": "2023-04-11T04:59:35.509319Z"
    }
   },
   "outputs": [],
   "source": []
  },
  {
   "cell_type": "markdown",
   "metadata": {},
   "source": [
    "❓Tampilkan transaksi yang harganya (`unit_price`) kurang dari 100.000"
   ]
  },
  {
   "cell_type": "code",
   "execution_count": null,
   "metadata": {
    "ExecuteTime": {
     "end_time": "2023-04-11T04:59:35.547889Z",
     "start_time": "2023-04-11T04:59:35.529497Z"
    }
   },
   "outputs": [],
   "source": [
    "# code here\n"
   ]
  },
  {
   "cell_type": "markdown",
   "metadata": {},
   "source": [
    "❓ Tampilkan transaksi selain di Supermarket (kolom `format`)!"
   ]
  },
  {
   "cell_type": "code",
   "execution_count": null,
   "metadata": {},
   "outputs": [],
   "source": [
    "# code here\n"
   ]
  },
  {
   "cell_type": "markdown",
   "metadata": {},
   "source": [
    "## <a id='toc8_6_'></a>[Multiple Conditions](#toc0_)\n",
    "\n",
    "Kita juga dapat menggunakan operator `&` (AND) dan `|` (OR) untuk melakukan subsetting lebih dari 1 kondisi. Misalnya kita ingin melihat data penjualan dari seorang pegawai bernama Moana yang jumlahnya lebih dari 5000, maka kita dapat menggunakan syntax:\n",
    "```\n",
    "sales[(sales.salesperson == 'Moana') & (sales.amount > 5000)]\n",
    "```\n",
    "\n",
    "Untuk subsetting dengan kondisi lebih dari 1, setiap kondisi diletakkan **di dalam tanda kurung `()`** atau bisa ditulis dengan syntax berikut:\n",
    "\n",
    "```\n",
    "df[(kondisi pertama) operator (kondisi kedua) operator (kondisi ketiga) dan seterusnya...]\n",
    "```\n",
    "\n",
    "**Poin:**\n",
    "- Operator AND: harus semua kondisi terpenuhi dalam satu baris agar muncul\n",
    "- Operator OR: salah satu kondisi saja sudah terpenuhi maka baris tsb muncul\n",
    "___\n",
    "- cond1 = kondisi 1\n",
    "- cond2 = kondisi 2\n",
    "```\n",
    "rice[(cond1)&(cond2)]\n",
    "rice[(cond1)|(cond2)]\n",
    "```"
   ]
  },
  {
   "cell_type": "markdown",
   "metadata": {},
   "source": [
    "**Contoh sederhana penggunaan OR dan AND**"
   ]
  },
  {
   "cell_type": "code",
   "execution_count": null,
   "metadata": {
    "ExecuteTime": {
     "end_time": "2023-04-11T04:59:35.582701Z",
     "start_time": "2023-04-11T04:59:35.575168Z"
    }
   },
   "outputs": [],
   "source": [
    "df = pd.DataFrame({\n",
    "    'angka': [1,2,3],\n",
    "    'huruf': ['a','b','c']\n",
    "})\n",
    "df"
   ]
  },
  {
   "cell_type": "markdown",
   "metadata": {},
   "source": [
    "**OPERATOR AND**"
   ]
  },
  {
   "cell_type": "markdown",
   "metadata": {},
   "source": [
    "Menampilkan baris dengan `angka` 1 dan `huruf` a"
   ]
  },
  {
   "cell_type": "code",
   "execution_count": null,
   "metadata": {
    "ExecuteTime": {
     "end_time": "2023-04-11T04:59:35.593243Z",
     "start_time": "2023-04-11T04:59:35.584862Z"
    }
   },
   "outputs": [],
   "source": [
    "#code here\n",
    "df[(df['angka'] == 1) & (df['huruf']=='a')]"
   ]
  },
  {
   "cell_type": "markdown",
   "metadata": {},
   "source": [
    "Menampilkan baris dengan `angka` 1 dan `huruf` b"
   ]
  },
  {
   "cell_type": "code",
   "execution_count": null,
   "metadata": {
    "ExecuteTime": {
     "end_time": "2023-04-11T04:59:35.602686Z",
     "start_time": "2023-04-11T04:59:35.595319Z"
    }
   },
   "outputs": [],
   "source": [
    "#code here\n",
    "df[(df['angka'] == 1) & (df['huruf']=='b')]"
   ]
  },
  {
   "cell_type": "markdown",
   "metadata": {},
   "source": [
    "**OPERATOR OR**"
   ]
  },
  {
   "cell_type": "markdown",
   "metadata": {},
   "source": [
    "Menampilkan baris dengan `angka` 1 atau `huruf` b"
   ]
  },
  {
   "cell_type": "code",
   "execution_count": null,
   "metadata": {
    "ExecuteTime": {
     "end_time": "2023-04-11T04:59:35.612569Z",
     "start_time": "2023-04-11T04:59:35.604920Z"
    }
   },
   "outputs": [],
   "source": [
    "#code here\n",
    "df[(df['angka'] == 1) | (df['huruf']=='b')]"
   ]
  },
  {
   "cell_type": "markdown",
   "metadata": {},
   "source": [
    "___"
   ]
  },
  {
   "cell_type": "markdown",
   "metadata": {},
   "source": [
    "❓ Lakukan subsetting untuk mengambil semua transaksi di `supermarket` yang `unit_price`nya di atas 200,000.?"
   ]
  },
  {
   "cell_type": "code",
   "execution_count": null,
   "metadata": {
    "ExecuteTime": {
     "end_time": "2023-04-11T04:59:35.623066Z",
     "start_time": "2023-04-11T04:59:35.614972Z"
    }
   },
   "outputs": [],
   "source": [
    "# code here\n"
   ]
  },
  {
   "cell_type": "markdown",
   "metadata": {},
   "source": [
    "❓ Subset baris yang formatnya `supermarket` dan `minimarket`"
   ]
  },
  {
   "cell_type": "code",
   "execution_count": null,
   "metadata": {
    "ExecuteTime": {
     "end_time": "2023-04-11T04:59:35.633981Z",
     "start_time": "2023-04-11T04:59:35.625470Z"
    }
   },
   "outputs": [],
   "source": [
    "# code here\n"
   ]
  },
  {
   "cell_type": "markdown",
   "metadata": {},
   "source": [
    "___"
   ]
  },
  {
   "cell_type": "markdown",
   "metadata": {},
   "source": [
    "## <a id='toc8_7_'></a>[🏄🏻‍♀️ Dive Deeper](#toc0_)\n",
    "\n",
    "Dengan menggunakan metode conditional subsetting, jawab pertanyaan dibawah ini:\n",
    "\n",
    "1. Apabila Anda masih ingat, pada `.describe()` kita menemui bahwa terdapat transaksi janggal dengan **`discount` yang bernilai negatif**. Ada berapa transaksi yang janggal tersebut?\n",
    "2. Perusahaan mendefinisikan pembelian grosir sebagai transaksi dengan `quantity` **minimal 12 units (1 Lusin)**. Berapa transaksi pada **hypermarket** yang dikatakan sebagai pembelian grosir?\n",
    "\n",
    "*Hint: Gunakan `.shape` untuk mengetahui jumlah baris/kolom*"
   ]
  },
  {
   "cell_type": "code",
   "execution_count": null,
   "metadata": {
    "ExecuteTime": {
     "end_time": "2023-04-11T04:59:35.642527Z",
     "start_time": "2023-04-11T04:59:35.636799Z"
    }
   },
   "outputs": [],
   "source": [
    "# your code here: no 1\n"
   ]
  },
  {
   "cell_type": "code",
   "execution_count": null,
   "metadata": {
    "ExecuteTime": {
     "end_time": "2023-04-11T04:59:35.650758Z",
     "start_time": "2023-04-11T04:59:35.644647Z"
    }
   },
   "outputs": [],
   "source": [
    "# your code here: no 2\n"
   ]
  },
  {
   "cell_type": "markdown",
   "metadata": {},
   "source": [
    "**Bonus Challenge**\n",
    "\n",
    "Berapa banyak transaksi pada dataframe `rice` yang terjadi pada bulan Juli tahun 2018 baik di `minimarket` maupun `supermarket`?"
   ]
  },
  {
   "cell_type": "code",
   "execution_count": null,
   "metadata": {
    "ExecuteTime": {
     "end_time": "2023-04-11T04:59:35.660064Z",
     "start_time": "2023-04-11T04:59:35.653268Z"
    }
   },
   "outputs": [],
   "source": [
    "# code here\n"
   ]
  },
  {
   "cell_type": "markdown",
   "metadata": {},
   "source": [
    "___"
   ]
  },
  {
   "cell_type": "markdown",
   "metadata": {},
   "source": [
    "# <a id='toc9_'></a>[Referencing and Copying](#toc0_)\n",
    "\n",
    "Pada python, tanda sama dengan (`=`) bisa digunakan untuk me-**refer** sebuah Dataframe. Sekarang mari kita lihat kembali dataframe `rice`:"
   ]
  },
  {
   "cell_type": "code",
   "execution_count": null,
   "metadata": {},
   "outputs": [],
   "source": [
    "import pandas as pd\n",
    "rice = pd.read_csv(\"data_input/rice.csv\", index_col=1)\n",
    "rice = rice.drop('Unnamed: 0', axis=1)\n",
    "rice.head()"
   ]
  },
  {
   "cell_type": "markdown",
   "metadata": {},
   "source": [
    "## <a id='toc9_1_'></a>[Reference](#toc0_)\n",
    "\n",
    "Membuat dataframe baru dengan nama `rice_second` yang menyimpan semua transaksi seperti `rice`. Kemudian misalnya kita ingin update kolom `discount` agar menjadi 15 pada semua barisnya."
   ]
  },
  {
   "cell_type": "code",
   "execution_count": null,
   "metadata": {
    "ExecuteTime": {
     "end_time": "2023-04-11T04:59:35.704017Z",
     "start_time": "2023-04-11T04:59:35.700641Z"
    }
   },
   "outputs": [],
   "source": [
    "#code here\n"
   ]
  },
  {
   "cell_type": "code",
   "execution_count": null,
   "metadata": {
    "ExecuteTime": {
     "end_time": "2023-04-11T04:59:35.745997Z",
     "start_time": "2023-04-11T04:59:35.731296Z"
    }
   },
   "outputs": [],
   "source": []
  },
  {
   "cell_type": "code",
   "execution_count": null,
   "metadata": {},
   "outputs": [],
   "source": []
  },
  {
   "cell_type": "markdown",
   "metadata": {},
   "source": [
    "## <a id='toc9_2_'></a>[Copying](#toc0_)"
   ]
  },
  {
   "cell_type": "markdown",
   "metadata": {},
   "source": [
    "Membuat dataframe baru dengan nama `rice_second` yang menyimpan semua transaksi seperti `rice`. Kemudian misalnya kita ingin update kolom `discount` agar menjadi 15 pada semua barisnya."
   ]
  },
  {
   "cell_type": "code",
   "execution_count": null,
   "metadata": {
    "ExecuteTime": {
     "end_time": "2023-04-11T04:59:35.820630Z",
     "start_time": "2023-04-11T04:59:35.780399Z"
    }
   },
   "outputs": [],
   "source": [
    "#code here\n",
    "rice = pd.read_csv(\"data_input/rice.csv\", index_col=1)\n",
    "rice.head()"
   ]
  },
  {
   "cell_type": "code",
   "execution_count": null,
   "metadata": {
    "ExecuteTime": {
     "end_time": "2023-04-11T04:59:35.826784Z",
     "start_time": "2023-04-11T04:59:35.823136Z"
    }
   },
   "outputs": [],
   "source": [
    "#code here\n"
   ]
  },
  {
   "cell_type": "code",
   "execution_count": null,
   "metadata": {
    "ExecuteTime": {
     "end_time": "2023-04-11T04:59:35.846951Z",
     "start_time": "2023-04-11T04:59:35.829632Z"
    }
   },
   "outputs": [],
   "source": []
  },
  {
   "cell_type": "code",
   "execution_count": null,
   "metadata": {
    "ExecuteTime": {
     "end_time": "2023-04-11T04:59:35.863650Z",
     "start_time": "2023-04-11T04:59:35.849640Z"
    }
   },
   "outputs": [],
   "source": []
  },
  {
   "cell_type": "code",
   "execution_count": null,
   "metadata": {
    "ExecuteTime": {
     "end_time": "2023-04-11T04:59:35.870564Z",
     "start_time": "2023-04-11T04:59:35.866088Z"
    }
   },
   "outputs": [],
   "source": [
    "# check id rice\n"
   ]
  },
  {
   "cell_type": "code",
   "execution_count": null,
   "metadata": {
    "ExecuteTime": {
     "end_time": "2023-04-11T04:59:35.877806Z",
     "start_time": "2023-04-11T04:59:35.872832Z"
    }
   },
   "outputs": [],
   "source": [
    "# check id rice_second\n"
   ]
  },
  {
   "cell_type": "markdown",
   "metadata": {},
   "source": [
    "___"
   ]
  },
  {
   "cell_type": "markdown",
   "metadata": {},
   "source": [
    "# <a id='toc10_'></a>[Additional Information](#toc0_)\n",
    "\n",
    "- [Book - Python for Data Analysis](https://www.programmer-books.com/wp-content/uploads/2019/04/Python-for-Data-Analysis-2nd-Edition.pdf)\n",
    "- [Self Exercise - LearnPy Algoritma for P4DA Course](https://gitlab.com/algoritma4students/academy-python/exercise/learnpy-da)"
   ]
  },
  {
   "cell_type": "markdown",
   "metadata": {},
   "source": [
    "### <a id='toc10_1_1_'></a>[Cara Membuat Kolom Baru](#toc0_)"
   ]
  },
  {
   "cell_type": "markdown",
   "metadata": {},
   "source": [
    "Cara membuat kolom baru\n",
    "    ```\n",
    "    df['new_column'] = new_value\n",
    "    ```\n",
    "\n",
    "`new_column` merupakan nama kolom yang sebelumnya tidak ada di dataframe `df`."
   ]
  },
  {
   "cell_type": "markdown",
   "metadata": {},
   "source": [
    "Kasus: Ingin menghitung `total_price` yaitu hasil perkalian `unit_price` dengan `quantity`"
   ]
  },
  {
   "cell_type": "code",
   "execution_count": null,
   "metadata": {
    "ExecuteTime": {
     "end_time": "2023-04-11T04:59:36.019133Z",
     "start_time": "2023-04-11T04:59:36.014735Z"
    }
   },
   "outputs": [],
   "source": [
    "rice['total_price'] = rice['unit_price'] * rice['quantity']"
   ]
  },
  {
   "cell_type": "code",
   "execution_count": null,
   "metadata": {
    "ExecuteTime": {
     "end_time": "2023-04-11T04:59:36.034073Z",
     "start_time": "2023-04-11T04:59:36.021398Z"
    },
    "scrolled": true
   },
   "outputs": [],
   "source": [
    "rice.head()"
   ]
  },
  {
   "cell_type": "code",
   "execution_count": null,
   "metadata": {
    "ExecuteTime": {
     "end_time": "2023-04-11T05:03:19.540516Z",
     "start_time": "2023-04-11T05:03:19.494657Z"
    }
   },
   "outputs": [],
   "source": [
    "rice['purchase_time'] = rice['purchase_time'].astype('datetime64[ns]')"
   ]
  },
  {
   "cell_type": "code",
   "execution_count": null,
   "metadata": {},
   "outputs": [],
   "source": [
    "rice.dtypes"
   ]
  },
  {
   "cell_type": "markdown",
   "metadata": {},
   "source": [
    "# <a id='toc11_'></a>[Inclass Questions](#toc0_)"
   ]
  },
  {
   "cell_type": "markdown",
   "metadata": {},
   "source": []
  },
  {
   "cell_type": "markdown",
   "metadata": {},
   "source": []
  }
 ],
 "metadata": {
  "kernelspec": {
   "display_name": "vulcan_da",
   "language": "python",
   "name": "python3"
  },
  "language_info": {
   "codemirror_mode": {
    "name": "ipython",
    "version": 3
   },
   "file_extension": ".py",
   "mimetype": "text/x-python",
   "name": "python",
   "nbconvert_exporter": "python",
   "pygments_lexer": "ipython3",
   "version": "3.10.10"
  },
  "toc": {
   "base_numbering": 1,
   "nav_menu": {},
   "number_sections": true,
   "sideBar": true,
   "skip_h1_title": false,
   "title_cell": "Table of Contents",
   "title_sidebar": "Contents",
   "toc_cell": false,
   "toc_position": {},
   "toc_section_display": true,
   "toc_window_display": false
  },
  "varInspector": {
   "cols": {
    "lenName": 16,
    "lenType": 16,
    "lenVar": 40
   },
   "kernels_config": {
    "python": {
     "delete_cmd_postfix": "",
     "delete_cmd_prefix": "del ",
     "library": "var_list.py",
     "varRefreshCmd": "print(var_dic_list())"
    },
    "r": {
     "delete_cmd_postfix": ") ",
     "delete_cmd_prefix": "rm(",
     "library": "var_list.r",
     "varRefreshCmd": "cat(var_dic_list()) "
    }
   },
   "types_to_exclude": [
    "module",
    "function",
    "builtin_function_or_method",
    "instance",
    "_Feature"
   ],
   "window_display": false
  }
 },
 "nbformat": 4,
 "nbformat_minor": 4
}
