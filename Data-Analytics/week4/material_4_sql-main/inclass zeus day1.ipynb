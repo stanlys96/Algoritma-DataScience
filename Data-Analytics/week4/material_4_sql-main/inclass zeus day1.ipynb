{
 "cells": [
  {
   "cell_type": "markdown",
   "id": "f76523de",
   "metadata": {
    "id": "45d88wBioSeB"
   },
   "source": [
    "**Inclass material for Week 4: SQL Query using `pandas`**\n",
    "\n",
    "This notebook was made based on main materials `4_SQL_Query.ipynb`\n"
   ]
  },
  {
   "cell_type": "markdown",
   "id": "9b75b6bb",
   "metadata": {
    "id": "w7t4fbTloSeE"
   },
   "source": [
    "---"
   ]
  },
  {
   "cell_type": "markdown",
   "id": "100a7d67",
   "metadata": {
    "id": "Xl6u46_MoSeE"
   },
   "source": [
    "# SQL Query using `pandas`\n",
    "\n",
    "**Training Objectives**\n",
    "\n",
    "- Querying from SQL Databases\n",
    "- SQL Joins\n",
    "- SQL Conditional Statements\n",
    "- Flavors and Common Operators\n",
    "- End to end data analysis"
   ]
  },
  {
   "cell_type": "markdown",
   "id": "5ad72393",
   "metadata": {
    "id": "f3ZdwxKJoSeE"
   },
   "source": [
    "# Working with SQL Databases"
   ]
  },
  {
   "cell_type": "markdown",
   "id": "65a62e0d",
   "metadata": {
    "id": "_StJDG_toSeF"
   },
   "source": [
    "## Database Schema\n",
    "\n",
    "Database `chinook.db` terdiri dari 11 tabel yang berisi sampel data dari sebuah toko yang menjual media digital:\n",
    "\n",
    "- Data terkait media seperti pada tabel `tracks`, `albums`, `artists`, `genres`, `media_types`, `playlists`, `playlist_track` merupakan data asli dari library Apple iTunes.\n",
    "- Informasi mengenai `customers` dan `employees` dibuat menggunakan nama dan alamat fiktif yang dapat ditemukan di Google maps, dan data lain yang diformat dengan baik (telepon, fax, email, dll).\n",
    "- Informasi penjualan `invoices` dan `invoice_items` dihasilkan secara otomatis menggunakan data acak untuk periode tahun 2009-2013.\n",
    "\n",
    "Skema berikut sering disebut sebagai **Entity Relationship Diagram (ERD)**, menunjukkan:\n",
    "1. Entitas (Tabel)\n",
    "2. Atribut (Kolom beserta tipe datanya)\n",
    "3. Kardinalitas (Hubungan antar tabel)"
   ]
  },
  {
   "cell_type": "markdown",
   "id": "9371a591",
   "metadata": {
    "id": "YIUPO8qvoSeF"
   },
   "source": [
    "![](assets/chinookschema2.png)"
   ]
  },
  {
   "cell_type": "markdown",
   "id": "68351c19",
   "metadata": {
    "id": "vY2jXRktoSeG"
   },
   "source": [
    "Gambar di atas adalah ERD untuk database chinook:\n",
    "\n",
    "- **Satu database** terdiri dari **beberapa tabel**\n",
    "- **Setiap tabel** terdiri dari beberapa **atribut/kolom**\n",
    "- Terdapat kolom unik yang membedakan satu tabel dengan lainnya, disebut sebagai **Primary Key (PK)**. PK dapat digunakan sebagai kolom penghubung antar tabel saat dilakukan proses join (penggabungan) tabel."
   ]
  },
  {
   "cell_type": "markdown",
   "id": "1d11f884",
   "metadata": {
    "id": "gAeymfxEoSeH"
   },
   "source": [
    "Sebelum kita dapat melakukan pembacaan data, kita perlu menghubungkan Python dengan database yang ingin kita akses. Tiap koneksi database memerlukan library yang berbeda, tergantung database tersebut kompatibel dengan DBMS apa.\n",
    "\n",
    "<br>\n",
    "\n",
    "<details>\n",
    "    <summary>✨ Connecting to MySQL</summary>\n",
    "    \n",
    "```python\n",
    "import pymysql\n",
    "  \n",
    "conn = pymysql.connect(\n",
    "    host = HOST_NAME,\n",
    "    port = PORT_NUMBER,\n",
    "    user = USER_NAME,\n",
    "    password = PASSWORD,\n",
    "    db = DATABASE_NAME)\n",
    "```\n",
    "</details>\n",
    "\n",
    "<br>\n",
    "\n",
    "<details>\n",
    "    <summary>✨ Connecting to Oracle</summary>\n",
    "    \n",
    "```python\n",
    "import cx_Oracle\n",
    "  \n",
    "# data source name from tnsnames.ora file\n",
    "dsn_tns = cx_Oracle.makedsn(\n",
    "    HOST_NAME,\n",
    "    PORT_NUMBER\n",
    "    service_name = SERVICE_NAME)\n",
    "\n",
    "# connection\n",
    "conn = cx_Oracle.connect(\n",
    "    user = USER_NAME,\n",
    "    password = PASSWORD,\n",
    "    dsn = dsn_tns)\n",
    "```\n",
    "</details>\n",
    "\n",
    "<br>\n",
    "\n",
    "<details>\n",
    "    <summary>✨ Connecting to PostgreSQL</summary>\n",
    "    \n",
    "```python\n",
    "import psycopg2\n",
    "\n",
    "conn = psycopg2.connect(\n",
    "    host = HOST_NAME,\n",
    "    port = PORT_NUMBER,\n",
    "    user = USER_NAME,\n",
    "    password = PASSWORD,\n",
    "    database = DATABASE_NAME)\n",
    "```\n",
    "</details>\n",
    "\n",
    "<br>\n",
    "\n",
    "<details>\n",
    "    <summary>✨ Connecting to Microsoft SQL Server</summary>\n",
    "    \n",
    "```python\n",
    "import pyodbc \n",
    "conn = pyodbc.connect(\n",
    "    'Driver={ODBC Driver 17 for SQL Server};'\n",
    "    'Server=host;'\n",
    "    'PORT=1433;'\n",
    "    'UID=user;'\n",
    "    'PWD=password;'\n",
    "    'Database=database;')\n",
    "```\n",
    "</details>"
   ]
  },
  {
   "cell_type": "markdown",
   "id": "ff6ebef3",
   "metadata": {},
   "source": [
    "Pada materi kali ini, kita akan menggunakan database _chinook_ yang kompatibel dengan SQLite, sehingga kita akan menggunakan library `sqlite3`. Library `sqlite3` merupakan library bawaan dari Python."
   ]
  },
  {
   "cell_type": "code",
   "execution_count": 2,
   "id": "9312402a",
   "metadata": {
    "id": "a7WVnBb5oSeI",
    "scrolled": true
   },
   "outputs": [],
   "source": [
    "import sqlite3 \n",
    "import pandas as pd"
   ]
  },
  {
   "cell_type": "code",
   "execution_count": null,
   "id": "ce29038e",
   "metadata": {
    "id": "Mtdzb3oVoSeI",
    "outputId": "8c1a25ae-8459-48a0-befe-380cf41df9a7",
    "scrolled": true
   },
   "outputs": [],
   "source": [
    "# membuat object conn untuk connection\n",
    "conn = sqlite3.connect(___)\n",
    "conn"
   ]
  },
  {
   "cell_type": "markdown",
   "id": "e24e28d3",
   "metadata": {
    "id": "NhtfuY_YoSeJ"
   },
   "source": [
    "## `SELECT` Statements\n",
    "\n",
    "`SELECT` digunakan untuk memilih **kolom** dari sebuah **tabel**.\n",
    "\n",
    "Syntax `SELECT`:\n",
    "\n",
    "```sql\n",
    "SELECT <NAMA_KOLOM>\n",
    "FROM <NAMA_TABLE>\n",
    "```\n",
    "\n",
    "❓ Misal, hanya ingin mengambil kolom `AlbumId` dan `Title` dari tabel `albums`"
   ]
  },
  {
   "cell_type": "code",
   "execution_count": null,
   "id": "b3566b1c",
   "metadata": {
    "id": "lKUC6QzHoSeK",
    "outputId": "e51fdb3c-cb60-4215-e5c8-b2edd0c3abda"
   },
   "outputs": [],
   "source": [
    "# query\n",
    "query = ___"
   ]
  },
  {
   "cell_type": "markdown",
   "id": "e5a8bfc4",
   "metadata": {},
   "source": [
    "Untuk membaca data pada database dengan SQL pada `pandas`, kita dapat menggunakan `pd.read_sql_query()` dan menyertakan connection yang telah dibuat:\n",
    "\n",
    "```python\n",
    "pd.read_sql_query(sql, con)\n",
    "```\n",
    "Parameter:\n",
    "- `sql`: perintah query\n",
    "- `con`: connection"
   ]
  },
  {
   "cell_type": "code",
   "execution_count": null,
   "id": "f74b0731",
   "metadata": {},
   "outputs": [],
   "source": [
    "# read sql query\n"
   ]
  },
  {
   "cell_type": "markdown",
   "id": "d72d2066",
   "metadata": {
    "id": "CllDugsYoSeK"
   },
   "source": [
    "❓ Bagaimana jika kita ingin mengambil **semua kolom** dari tabel `albums`? Gunakan command `SELECT *` "
   ]
  },
  {
   "cell_type": "code",
   "execution_count": null,
   "id": "255d64a9",
   "metadata": {
    "id": "iC5lmrsZoSeK",
    "outputId": "81e8b8b0-48c2-476c-b0f1-5fad99441091"
   },
   "outputs": [],
   "source": [
    "# query\n",
    "\n",
    "# read sql query\n"
   ]
  },
  {
   "cell_type": "code",
   "execution_count": null,
   "id": "5edd8552",
   "metadata": {},
   "outputs": [],
   "source": [
    "# sama dengan code di atas, query langsung ke parameter sql\n"
   ]
  },
  {
   "cell_type": "markdown",
   "id": "40a138b4",
   "metadata": {
    "id": "sNQPAbVCoSeK"
   },
   "source": [
    "💡 **Note**: Berbeda dari Python, perintah yang ada di SQL bersifat case **insensitive**. Query di atas dapat juga dituliskan sebagai `select * from albums`. Namun, demi kemudahan pembacaan, statement biasa dituliskan dengan huruf besar (dalam hal ini `SELECT` dan `FROM`)."
   ]
  },
  {
   "cell_type": "code",
   "execution_count": null,
   "id": "aaae544d",
   "metadata": {
    "id": "MeHDyCtgoSeL",
    "outputId": "bfae3723-f754-4ccf-fef1-77f805ce3870"
   },
   "outputs": [],
   "source": [
    "# code here"
   ]
  },
  {
   "cell_type": "markdown",
   "id": "61e53b21",
   "metadata": {
    "id": "ktM5OIP8oSeL"
   },
   "source": [
    "### ✅ Knowledge Check\n",
    "\n",
    "Kali ini, coba ambil semua kolom pada tabel `artists` kemudian simpan ke dalam sebuah object dataframe bernama `df_artist`.\n",
    "\n",
    "**Pertanyaan:** Berapa baris & kolom yang ada pada dataframe `df_artist`?\n",
    "\n",
    "<br>\n",
    "\n",
    "<details>\n",
    "    <summary><i>👉 Klik di sini untuk hint</i></summary>\n",
    "    \n",
    "```python\n",
    "___ = pd.read_sql_query(\"SELECT ___ FROM ___\", conn)\n",
    "```\n",
    "</details>"
   ]
  },
  {
   "cell_type": "code",
   "execution_count": null,
   "id": "34ce17dc",
   "metadata": {
    "id": "W2fM51k9oSeL",
    "outputId": "475f8fb3-2f39-4b49-edd7-a54c2b79e7eb"
   },
   "outputs": [],
   "source": [
    "# your code here\n",
    "df_artist = ____"
   ]
  },
  {
   "cell_type": "markdown",
   "id": "878f654d",
   "metadata": {},
   "source": [
    "Berikut adalah parameter yang sering digunakan dalam method `pd.read_sql_query()`:\n",
    "\n",
    "- `sql`: SQL query dalam bentuk string\n",
    "- `con`: object connection\n",
    "- `index_col`: nama atau index kolom yang ingin dijadikan index (seperti pada `pd.read_csv()`)\n",
    "- `parse_dates`: nama kolom yang ingin dikonversi menjadi tipe data `datetime64[ns]` (seperti pada `pd.read_csv()`)\n",
    "\n",
    "> Kunjungi [official documentation](https://pandas.pydata.org/pandas-docs/stable/reference/api/pandas.read_sql_query.html) untuk detail lebih lanjut."
   ]
  },
  {
   "cell_type": "markdown",
   "id": "c99b6546",
   "metadata": {
    "id": "gRRmX6lmoSeM"
   },
   "source": [
    "### `LIMIT` Statement\n",
    "\n",
    "Statement `LIMIT` digunakan untuk mengambil beberapa baris pertama pada data.\n",
    "\n",
    "❓ Ambil **5 baris pertama** dari tabel `artists` lalu jadikan kolom `ArtistId` sebagai index baris dengan parameter `index_col`."
   ]
  },
  {
   "cell_type": "code",
   "execution_count": null,
   "id": "211c3ddb",
   "metadata": {
    "id": "QUqjfBSMoSeM",
    "outputId": "c8817c6a-c91d-4973-c749-17546327dc00",
    "scrolled": true
   },
   "outputs": [],
   "source": [
    "# code here"
   ]
  },
  {
   "cell_type": "markdown",
   "id": "575c2e1d",
   "metadata": {},
   "source": [
    "💬 **Discussion :** Apakah perbedaan statement `LIMIT` dengan `head()` di pandas dataframe?"
   ]
  },
  {
   "cell_type": "code",
   "execution_count": null,
   "id": "a87c01fb",
   "metadata": {},
   "outputs": [],
   "source": [
    "# code here"
   ]
  },
  {
   "cell_type": "markdown",
   "id": "1f8a3e60",
   "metadata": {},
   "source": [
    "🧐 Ambil 10 baris pertama dengan statement `LIMIT` dari tabel `albums` dan jadikan kolom `AlbumId` sebagai index"
   ]
  },
  {
   "cell_type": "code",
   "execution_count": null,
   "id": "037ad861",
   "metadata": {},
   "outputs": [],
   "source": [
    "# code here\n"
   ]
  },
  {
   "cell_type": "markdown",
   "id": "f72077ad",
   "metadata": {
    "id": "TOfqpdtsoSeM"
   },
   "source": [
    "## `JOIN` Statement\n",
    "\n",
    "Statement `JOIN` digunakan untuk **menggabungkan dua tabel** menjadi satu tabel melalui **kolom penghubung** yang sama. Operasi `JOIN` dapat dilakukan lebih dari satu kali dalam satu SQL query. Berikut adalah diagram ilustrasi beberapa macam operasi SQL `JOIN`:\n",
    "\n",
    "![](assets/sqljoins.png)\n",
    "\n",
    "Credit: Data & Object Factory, LLC\n",
    "\n",
    "- `LEFT JOIN` paling sering digunakan pada sebagian besar skenario bisnis. `LEFT JOIN` mengembalikan semua baris pada tabel kiri **terlepas** dari apakah ada baris yang cocok pada tabel kanan.\n",
    "- `INNER JOIN` adalah tipe join yang sangat intuitif dan mudah dipahami. Query ini mengembalikan semua baris di tabel kiri yang cocok dengan tabel kanan.\n",
    "\n",
    "**Note**:\n",
    "\n",
    "- `RIGHT JOIN` hampir tidak pernah digunakan karena ekuivalen dengan `LEFT JOIN` hanya mengganti peletakkan tabel kiri dan kanannya saja.\n",
    "- `FULL OUTER JOIN` sangat jarang digunakan. Selain alasan komputasi, tipe join ini mengembalikan semua baris dari kedua tabel terlepas dari apakah ada kecocokan atau tidak, sehingga menghasilkan DataFrame dengan banyak missing value.\n",
    "\n",
    "Ilustrasi terkait ke-empat tipe join dapat dilihat pada [Visual JOIN](https://joins.spathon.com/)."
   ]
  },
  {
   "cell_type": "markdown",
   "id": "eb7b6fbe",
   "metadata": {
    "id": "70dlT8OOoSeN"
   },
   "source": [
    "Syntax `JOIN`:\n",
    "\n",
    "```sql\n",
    "SELECT <COLUMNS>\n",
    "FROM <LEFT_TABLE>\n",
    "[LEFT|INNER] JOIN <RIGHT_TABLE>\n",
    "ON <LEFT_TABLE>.key = <RIGHT_TABLE>.key\n",
    "```"
   ]
  },
  {
   "cell_type": "markdown",
   "id": "2a550c53",
   "metadata": {
    "id": "ejd2_B1voSeN"
   },
   "source": [
    "Perhatikan kembali skema database `chinook.db`:\n",
    "\n",
    "1. Tabel `albums`: \n",
    "    - `AlbumId`\n",
    "    - `Title`\n",
    "    - `ArtistId`\n",
    "\n",
    "\n",
    "2. Tabel `artists`:\n",
    "    - `ArtistId`\n",
    "    - `Name` \n",
    "    \n",
    "**Kasus:** Kita ingin mendapatkan DataFrame yang menampilkan semua baris dari kolom `AlbumId` dan `Title` secara lengkap, beserta kolom `Name` (tidak harus lengkap). Perhatikan bahwa kolom `Name` terdapat pada tabel `artists`, sedangkan kolom `AlbumId` dan `Title` terdapat pada tabel `albums`."
   ]
  },
  {
   "cell_type": "markdown",
   "id": "d9720a44",
   "metadata": {
    "id": "2klm_mCYoSeN"
   },
   "source": [
    "- Tabel kiri: albums\n",
    "- Tabel kanan: artists"
   ]
  },
  {
   "cell_type": "code",
   "execution_count": null,
   "id": "40ee70f4",
   "metadata": {},
   "outputs": [],
   "source": [
    "# code here\n",
    "pd.read_sql_query(\n",
    "    \"SELECT _____\\\n",
    "    FROM _____\\\n",
    "    LEFT JOIN ____\\\n",
    "    ON _____\",\n",
    "    conn\n",
    ")"
   ]
  },
  {
   "cell_type": "markdown",
   "id": "461f3767",
   "metadata": {
    "id": "2ymeKuG0oSeO"
   },
   "source": [
    "Perhatikan SQL query di atas:\n",
    "- Tabel `albums` menjadi tabel kiri, sedangkan tabel `artists` menjadi tabel kanan.\n",
    "- Kedua tabel digabungkan menggunakan operasi `LEFT JOIN` melalui key `ArtistId`.\n",
    "- Penggunaan karakter backslash (`\\`) ditujukan agar ke-empat baris SQL query dibaca sebagai satu kesatuan baris. Namun penggunaan backslash kurang efisien dan memiliki resiko error yang lebih tinggi. **Sebagai alternatif, Anda dapat mengapit SQL query dengan `\"\"\"` (petik tiga kali)**"
   ]
  },
  {
   "cell_type": "code",
   "execution_count": null,
   "id": "27ad3082",
   "metadata": {},
   "outputs": [],
   "source": [
    "# code here\n",
    "pd.read_sql_query(\n",
    "    \"\"\"\n",
    "    SELECT ____\n",
    "    FROM ____\n",
    "    LEFT JOIN ____\n",
    "    ON ____\n",
    "    \"\"\",\n",
    "    conn\n",
    ")"
   ]
  },
  {
   "cell_type": "markdown",
   "id": "6521337e",
   "metadata": {},
   "source": [
    "Terkadang penamaan kolom ataupun tabel pada database cukup panjang dan redundan untuk diketik, ataupun belum cukup informatif.\n",
    "\n",
    "Penggunaan statement `AS` dapat digunakan untuk melakukan **aliasing / rename** nama tabel maupun nama kolom."
   ]
  },
  {
   "cell_type": "code",
   "execution_count": null,
   "id": "da668c91",
   "metadata": {},
   "outputs": [],
   "source": [
    "# code here"
   ]
  },
  {
   "cell_type": "markdown",
   "id": "6fda1b48",
   "metadata": {},
   "source": [
    "**Note**: Ketika nama tabel sudah dialiasing, harus menggunakan nama alias tersebut di seluruh query"
   ]
  },
  {
   "cell_type": "markdown",
   "id": "ba920fb7",
   "metadata": {},
   "source": [
    "> ⚠️ Hati-hati! Saat melakukan `LEFT JOIN`, peletakkan tabel kiri dan kanan sangat berpengaruh terhadap hasil penggabungan."
   ]
  },
  {
   "cell_type": "markdown",
   "id": "48f83912",
   "metadata": {},
   "source": [
    "### 🤿 Dive Deeper \n",
    "\n",
    "Buatlah sebuah object dataframe bernama `df_tracks` yang menampilkan:\n",
    "\n",
    "- Semua kolom pada tabel `tracks`\n",
    "- Kolom `Title` pada tabel `albums`\n",
    "- Kolom `Name` pada tabel `artists`\n",
    "- Kolom `Name` pada tabel `genres`\n",
    "\n",
    "Lalu set kolom `TrackId` menjadi index pada dataframe tersebut. Apabila sudah benar, seharusnya dataframe Anda memiliki 3503 baris dan 11 kolom.\n",
    "\n",
    "<br>\n",
    "\n",
    "<details>\n",
    "    <summary><i>👉 Klik di sini untuk hint</i></summary>\n",
    "\n",
    "> **Hint 1**: Pada kasus ini, Anda wajib menggunakan syntax `<nama_tabel>.<nama_kolom>` pada statement `SELECT`. Hal ini karena terdapat nama kolom yang sama dari tabel yang berbeda. Jangan lupa untuk menggunakan aliasing `AS` agar nama kolom akhir tidak ambigu.\n",
    "    \n",
    "> **Hint 2**: Anda dapat menggunakan `SELECT tracks.*` untuk mengambil semua kolom pada tabel `tracks`\n",
    "\n",
    "> **Hint 3**: Anda dapat melanjutkan hasil operasi `LEFT JOIN` dengan `LEFT JOIN` berikutnya. Sebagai referensi, berikut adalah struktur kodenya:\n",
    "    \n",
    "```python\n",
    "___ = pd.read_sql_query(\n",
    "    \"\"\"\n",
    "    SELECT ___\n",
    "    FROM ___\n",
    "    LEFT JOIN ___\n",
    "    ON ___\n",
    "    LEFT JOIN ___\n",
    "    ON ___\n",
    "    LEFT JOIN ___\n",
    "    ON ___\n",
    "    \"\"\", conn, index_col=___)\n",
    "```\n",
    "</details>"
   ]
  },
  {
   "cell_type": "code",
   "execution_count": null,
   "id": "99289a58",
   "metadata": {
    "scrolled": true
   },
   "outputs": [],
   "source": [
    "# your code here\n"
   ]
  },
  {
   "cell_type": "markdown",
   "id": "096d1b1b",
   "metadata": {},
   "source": [
    "Gunakan object dataframe `df_tracks` yang telah Anda peroleh di atas dalam menjawab pertanyaan berikut:\n",
    "\n",
    "1. Pilihlah semua nama genre yang terdapat pada 5 baris terakhir pada dataframe `df_tracks`. Jawaban bisa lebih dari satu.\n",
    "    - [ ] Latin\n",
    "    - [ ] Classical\n",
    "    - [ ] Soundtrack\n",
    "    - [ ] Pop"
   ]
  },
  {
   "cell_type": "code",
   "execution_count": null,
   "id": "8299009d",
   "metadata": {},
   "outputs": [],
   "source": [
    "# your code here\n"
   ]
  },
  {
   "cell_type": "markdown",
   "id": "71b7d792",
   "metadata": {},
   "source": [
    "2. Di antara genre berikut, manakah yang **termasuk** dalam top 3 genre yang paling banyak muncul pada dataframe `df_tracks`? Buatlah sebuah tabel frekuensi dengan metode yang telah Anda pelajari!\n",
    "\n",
    "    - [ ] Latin\n",
    "    - [ ] Classical\n",
    "    - [ ] Soundtrack\n",
    "    - [ ] Pop\n",
    "\n",
    "<br>\n",
    "\n",
    "<details>\n",
    "    <summary><i>👉 Klik di sini untuk hint</i></summary>\n",
    "\n",
    "Beberapa pilihan method yang dapat Anda gunakan:\n",
    "    \n",
    "- `.value_counts()`\n",
    "- `pd.crosstab(index=___, columns=___)`\n",
    "- `.pivot_table(index=___, aggfunc='count')`\n",
    "- `.groupby().count()`\n",
    "</details>"
   ]
  },
  {
   "cell_type": "code",
   "execution_count": null,
   "id": "8b051cc3",
   "metadata": {},
   "outputs": [],
   "source": [
    "# your code here\n"
   ]
  },
  {
   "cell_type": "markdown",
   "id": "3965a959",
   "metadata": {},
   "source": [
    "3. Gunakan `groupby()` pada kolom `ArtistName` untuk menghitung `mean()` dari `UnitPrice`. Anda akan melihat bahwa mayoritas artists memiliki rata-rata `UnitPrice` di angka 0.99, namun ada juga beberapa artists yang rata-ratanya 1.99. Dari nama artists berikut, pilihlah yang memiliki rata-rata `UnitPrice` sebesar 1.99:\n",
    "\n",
    "    - [ ] The Office\n",
    "    - [ ] Red Hot Chili Peppers\n",
    "    - [ ] Frank Sinatra\t\n",
    "    - [ ] Aerosmith"
   ]
  },
  {
   "cell_type": "code",
   "execution_count": null,
   "id": "e7d793d3",
   "metadata": {},
   "outputs": [],
   "source": [
    "# your code here\n"
   ]
  },
  {
   "cell_type": "markdown",
   "id": "48535895",
   "metadata": {},
   "source": [
    "## SQL Aggregation\n",
    "\n",
    "Di `pandas`, kita bisa menggunakan ketiga method berikut untuk membuat tabel agregasi:\n",
    "\n",
    "- `.crosstab()`\n",
    "- `.pivot_table()`\n",
    "- `.groupby()`\n",
    "\n",
    "Sedangkan di SQL, kita menggunakan statement `GROUP BY` yang diletakkan setelah `SELECT ... FROM ...`.\n",
    "\n",
    "Misal kita ingin mengetahui top 5 `CustomerId` berdasarkan jumlah besaran transaksinya (`Total`) dan juga tampilkan banyak transaksinya:"
   ]
  },
  {
   "cell_type": "code",
   "execution_count": null,
   "id": "d7caa17d",
   "metadata": {
    "scrolled": true
   },
   "outputs": [],
   "source": [
    "top_cust = pd.read_sql_query(\"SELECT CustomerId, SUM(Total), \\\n",
    "                              COUNT(CustomerId) \\\n",
    "                              FROM invoices \\\n",
    "                              GROUP BY CustomerId \\\n",
    "                              ORDER BY SUM(Total) DESC \\\n",
    "                              LIMIT 5\", conn, index_col='CustomerId')\n",
    "top_cust"
   ]
  },
  {
   "cell_type": "code",
   "execution_count": null,
   "id": "9be00821",
   "metadata": {},
   "outputs": [],
   "source": [
    "# re-create the table above\n"
   ]
  },
  {
   "cell_type": "markdown",
   "id": "b643a502",
   "metadata": {},
   "source": [
    "Perhatikan bagaimana query di atas dapat mengambil 5 customer teratas dari tabel `invoices`:\n",
    "\n",
    "1. Data dikelompokkan berdasarkan `CustomerId` dengan statement `GROUP BY`\n",
    "2. Terdapat dua fungsi agregasi yang digunakan: `SUM()` dan `COUNT()`, masing-masing mengagregasikan kolom `Total` dan `CustomerId`. Berikut adalah fungsi agregasi yang sering digunakan: `SUM`,` AVG`, `COUNT`, `MIN`, dan `MAX`.\n",
    "3. Statement `ORDER BY` ditambahkan untuk mengurutkan tabel berdasarkan kolom `SUM(Total)` secara `DESC`."
   ]
  },
  {
   "cell_type": "markdown",
   "id": "c40f296a",
   "metadata": {},
   "source": [
    "**Note**:\n",
    "\n",
    "- SQL Statement `GROUP BY` ekuivalen dengan `.groupby()` pada `pandas`\n",
    "- SQL Statement `ORDER BY` ekuivalen dengan `.sort_values()` pada `pandas`"
   ]
  },
  {
   "cell_type": "markdown",
   "id": "3da47765",
   "metadata": {},
   "source": [
    "### 🤿 Dive Deeper\n",
    "\n",
    "Seorang produser musik ingin menciptakan lagu dengan mempertimbangkan genre yang akan laku di market. Sebelum mulai, ia terlebih dahulu melakukan riset tentang genre musik apa yang sedang hits saat ini. Sebagai seorang data analyst, Anda diminta untuk membantu produser musik dalam membuat keputusan yang tepat.\n",
    "\n",
    "**Pertanyaan:** Tampilkan top 5 genre musik dengan jumlah lagu terjual paling banyak, sertakan juga dengan total quantity & price yang terjual.\n",
    "\n",
    "<br>\n",
    "\n",
    "<details>\n",
    "    <summary><i>👉 Klik di sini untuk hint</i></summary>\n",
    "    \n",
    "Berikut adalah code yang dapat Anda gunakan untuk mengetahui `genres` paling populer dari semua _item_ (lagu) yang terjual.\n",
    "\n",
    "```python\n",
    "top_genre = pd.read_sql_query(\n",
    "    \"\"\"\n",
    "    SELECT\n",
    "    genres.GenreId,\n",
    "    genres.Name,\n",
    "    ___(invoice_items.Quantity),\n",
    "    ___(invoice_items.UnitPrice)\n",
    "    FROM ___\n",
    "    LEFT JOIN ___ ON ___\n",
    "    LEFT JOIN ___ ON ___\n",
    "    GROUP BY ___\n",
    "    ORDER BY ___\n",
    "    \"\"\",\n",
    "    con=conn,\n",
    "    index_col='GenreId'\n",
    "```\n",
    "</details>"
   ]
  },
  {
   "cell_type": "code",
   "execution_count": null,
   "id": "c0f897e1",
   "metadata": {},
   "outputs": [],
   "source": [
    "# your code here\n"
   ]
  },
  {
   "cell_type": "markdown",
   "id": "7f460cb1",
   "metadata": {},
   "source": [
    "💡 Panduan step-by-step:\n",
    "\n",
    "1. Lakukan operasi `JOIN` tergantung dari kebutuhan kolom yang ingin dianalisis\n",
    "2. Gunakan `GROUP BY` apabila ingin membuat tabel agregasi\n",
    "3. Aplikasikan fungsi agregat pada `SELECT`\n",
    "4. Tambahkan kolom yang relevan untuk ditampilkan pada `SELECT`\n",
    "5. Urutkan data menggunakan `ORDER BY`"
   ]
  },
  {
   "cell_type": "markdown",
   "id": "d5d45fc1",
   "metadata": {
    "id": "zJQgaKYmoSeS"
   },
   "source": [
    "## `WHERE` Statements\n",
    "\n",
    "Sampai di sini, kita telah mempelajari beberapa statement SQL yang sering digunakan:\n",
    "\n",
    "- `SELECT` statement\n",
    "- SQL `JOIN`\n",
    "- Aliasing\n",
    "- SQL Aggregation dengan `GROUP BY`\n",
    "\n",
    "Sekarang, kita akan melihat teknik untuk melakukan **conditional subsetting** atau **filter baris** menggunakan statement `WHERE` yang diikuti dengan **kondisi**."
   ]
  },
  {
   "cell_type": "markdown",
   "id": "c34b67f0",
   "metadata": {},
   "source": [
    "### Logical Operator\n",
    "\n",
    "- Kondisi `WHERE` dapat dikombinasikan dengan logical operator: `IS`, `AND`, `OR`, dan `NOT`:\n",
    "    - `IS` sama seperti notasi `=`\n",
    "    - `IS NOT` seperti notasi `!=`\n",
    "    \n",
    "- Kondisi pada `WHERE` juga mendukung operator matematis seperti >, >=, <, dan <="
   ]
  },
  {
   "cell_type": "markdown",
   "id": "cfdcce0b",
   "metadata": {},
   "source": [
    "**Kasus 1**: kita ingin melakukan analisis terhadap semua data `invoices` yang ada di `BillingCountry` Germany, maka kita bisa menambahkan statement `WHERE` sebagai berikut:"
   ]
  },
  {
   "cell_type": "code",
   "execution_count": null,
   "id": "dd6a5c58",
   "metadata": {},
   "outputs": [],
   "source": [
    "# code here\n"
   ]
  },
  {
   "cell_type": "markdown",
   "id": "173e4a69",
   "metadata": {},
   "source": [
    "**Note**: Berbeda dengan `pandas` yang menggunakan 2 tanda sama dengan (`==`), tanda ekivalen pada SQL menggunakan 1 tanda sama dengan (`=`)\n"
   ]
  },
  {
   "cell_type": "markdown",
   "id": "6b2bc856",
   "metadata": {},
   "source": [
    "**Kasus 2**: Berlawanan dengan kasus di atas, misal kita ingin analisis semua data `invoices` dimana `BillingCountry` **selain** negara Germany:"
   ]
  },
  {
   "cell_type": "code",
   "execution_count": null,
   "id": "dfcee9f2",
   "metadata": {},
   "outputs": [],
   "source": [
    "# code here\n"
   ]
  },
  {
   "cell_type": "markdown",
   "id": "f9445f6c",
   "metadata": {},
   "source": [
    "🧐 Misalkan kita hanya tertarik untuk menganalisis data yang terjadi di Canada dan USA. Kira-kira bagaimana cara mengimplementasikannya dalam bentuk query SQL?"
   ]
  },
  {
   "cell_type": "code",
   "execution_count": null,
   "id": "75d7ecc4",
   "metadata": {},
   "outputs": [],
   "source": [
    "# code here\n"
   ]
  },
  {
   "cell_type": "markdown",
   "id": "8b967d2e",
   "metadata": {},
   "source": [
    "### `IN` Operator\n",
    "\n",
    "Operator `IN` memungkinkan kita menentukan beberapa nilai untuk perbandingan. Misalnya, seperti pada kasus sebelumnya, kita ingin mengambil semua data `invoices` yang terjadi di negara (`BillingCountry`) Canada dan juga USA:"
   ]
  },
  {
   "cell_type": "code",
   "execution_count": null,
   "id": "d42845bc",
   "metadata": {},
   "outputs": [],
   "source": [
    "# code here\n"
   ]
  },
  {
   "cell_type": "markdown",
   "id": "84f33189",
   "metadata": {},
   "source": [
    "### ✅ Knowledge Check\n",
    "\n",
    "\n",
    "Ambillah seluruh data musik yang memiliki genre `Pop` dan `UnitPrice` dari tracknya adalah 0.99. Kemudian simpan ke object dataframe bernama `popmusic`.\n",
    "\n",
    "**Pertanyaan:** Ada berapa baris pada dataframe `popmusic`?\n",
    "\n",
    "<br>\n",
    "\n",
    "<details>\n",
    "    <summary><i>👉 Klik di sini untuk hint</i></summary>\n",
    "    \n",
    "```python\n",
    "popmusic = pd.read_sql_query(\n",
    "    \"\"\"\n",
    "    SELECT tracks.*, genres.Name AS GenreName\n",
    "    FROM ___\n",
    "    LEFT JOIN ___\n",
    "    ON ___\n",
    "    WHERE ___\n",
    "    \"\"\",\n",
    "    conn,\n",
    "    index_col='TrackId'\n",
    ")\n",
    "```\n",
    "</details>"
   ]
  },
  {
   "cell_type": "code",
   "execution_count": null,
   "id": "5f0878ed",
   "metadata": {},
   "outputs": [],
   "source": [
    "# your code here\n"
   ]
  },
  {
   "cell_type": "markdown",
   "id": "166c016c",
   "metadata": {
    "id": "wZt8BwxtoSeV"
   },
   "source": [
    "### Operating Dates\n",
    "\n",
    "Mari kita melihat informasi pada table `invoices`"
   ]
  },
  {
   "cell_type": "code",
   "execution_count": null,
   "id": "dd9a5288",
   "metadata": {
    "id": "4ZoLxBs4oSeV",
    "outputId": "ce69a8e5-d55b-4b1d-dd52-963de2262ebc"
   },
   "outputs": [],
   "source": [
    "df_invoice = pd.read_sql_query(\"\"\"SELECT * \n",
    "        FROM invoices\"\"\", \n",
    "        conn)\n",
    "df_invoice.head()"
   ]
  },
  {
   "cell_type": "markdown",
   "id": "d0817f25",
   "metadata": {
    "id": "ywcYul7roSeW"
   },
   "source": [
    "Terdapat kolom `InvoiceDate` yang berisi informasi transaksi pembelian dilakukan. \n",
    "\n",
    "Pada operasi kondisi pada statement `WHERE` sebelumnya, kita dapat mengambil semua data `invoices` pada negara Germany. Namun, juga umum untuk kita melakukan conditional query untuk mengambil data pada **rentang tanggal** tertentu.\n",
    "\n",
    "**Kasus**: Kita ingin meninjau penjualan (`invoices`) di seluruh negara pada tahun 2012 saja."
   ]
  },
  {
   "cell_type": "code",
   "execution_count": null,
   "id": "fe6ef748",
   "metadata": {
    "id": "9HZdFUYeoSeX",
    "outputId": "bf9dc1d3-0750-4fdb-8811-a1d97af7a322"
   },
   "outputs": [],
   "source": [
    "# your code here\n",
    "df_invoice_2012 = ____"
   ]
  },
  {
   "cell_type": "markdown",
   "id": "87b59327",
   "metadata": {},
   "source": [
    "Cek tipe data pada kolom `InvoiceDate`"
   ]
  },
  {
   "cell_type": "code",
   "execution_count": null,
   "id": "c22d9f90",
   "metadata": {},
   "outputs": [],
   "source": [
    "# code here\n"
   ]
  },
  {
   "cell_type": "markdown",
   "id": "d8b9af55",
   "metadata": {},
   "source": [
    "Perhatikan bahwa `InvoiceDate` dikenali sebagai tipe data `object`. \n",
    "\n",
    "`pd.read_sql_query()` berperilaku seperti `pd.read_csv()`, yaitu secara default membaca tipe data suatu kolom sebagai numerik dan objek. Untuk mengubah tipe data suatu kolom menjadi `datetime64[ns]` saat pembacaan data, kita dapat menambahkan parameter `parse_dates`"
   ]
  },
  {
   "cell_type": "code",
   "execution_count": null,
   "id": "f93b1991",
   "metadata": {},
   "outputs": [],
   "source": [
    "#code here\n",
    "df_invoice_2012 = ____"
   ]
  },
  {
   "cell_type": "markdown",
   "id": "b6e3a35f",
   "metadata": {},
   "source": [
    "⚠️ **Additional Information:**\n",
    "\n",
    "Saat melakukan penarikan data pada database dengan menggunakan `pandas`, maka informasi data types akan dilakukan *implicit coercion* (secara otomatis diobah ke dalam bentuk tipe data yang paling general), namun pada skema *database* biasanya struktur tipe data kolom *date* sudah berupa *datetime* data types. "
   ]
  },
  {
   "cell_type": "markdown",
   "id": "4c71ff43",
   "metadata": {
    "id": "C__JvNYqoSeX"
   },
   "source": [
    "### `BETWEEN` Operator\n",
    "\n",
    "Melanjutkan kasus sebelumnya, apabila kita ingin menggunakan kondisi pada rentang tertentu, pendekatan yang umum digunakan adalah operator `BETWEEN`. Silahkan lengkapi code berikut dan lihat apakah data yang terambil sama seperti sebelumnya:\n",
    "\n",
    "```python\n",
    "pd.read_sql_query(\"\"\"SELECT *\n",
    "        FROM invoices\n",
    "        WHERE _____ BETWEEN '_____' AND '_____'\n",
    "        \"\"\", \n",
    "        con=conn, \n",
    "        parse_dates='InvoiceDate')\n",
    "```"
   ]
  },
  {
   "cell_type": "code",
   "execution_count": null,
   "id": "c40f01d9",
   "metadata": {},
   "outputs": [],
   "source": [
    "# code here\n"
   ]
  },
  {
   "cell_type": "markdown",
   "id": "1eec2417",
   "metadata": {
    "id": "1UdSWvyEoSeY"
   },
   "source": [
    "⚠️ **Hati-hati!**\n",
    "\n",
    "Operator `BETWEEN` sejatinya adalah inclusive, di mana kondisi _start_ dan _end_-nya termasuk. Namun, saat kita membandingkan date (misal '2012-12-31') dengan datetime (pada kolom `InvoiceDate`), seakan-akan end tidak inclusive. "
   ]
  },
  {
   "cell_type": "markdown",
   "id": "82a786a9",
   "metadata": {
    "id": "5avb5wmLoSeY"
   },
   "source": [
    "> `BETWEEN 2 AND 5` mengembalikan nilai 2, 3, 4, 5"
   ]
  },
  {
   "cell_type": "code",
   "execution_count": null,
   "id": "bd231dfb",
   "metadata": {
    "id": "zmo5VKd8oSeZ",
    "outputId": "5a82f294-f188-4367-e786-eee0bd48c31e"
   },
   "outputs": [],
   "source": [
    "# bukti bahwa operator BETWEEN inclusive pada start dan end\n",
    "pd.read_sql_query(\n",
    "    \"\"\"\n",
    "    SELECT * FROM invoices\n",
    "    WHERE InvoiceId BETWEEN 2 AND 5\n",
    "    \"\"\",\n",
    "    con=conn,\n",
    "    parse_dates='InvoiceDate'\n",
    ")"
   ]
  },
  {
   "cell_type": "markdown",
   "id": "9a42b9cd",
   "metadata": {},
   "source": [
    "Sebagai eksperimen, cobalah ganti kondisi pada statement `WHERE` menjadi:\n",
    "\n",
    "```\n",
    "WHERE InvoiceDate BETWEEN '2012-01-01' AND '2012-12-30'\n",
    "```\n",
    "\n",
    "Maka `InvoiceDate` pada tanggal `2012-12-30` tidak masuk."
   ]
  },
  {
   "cell_type": "code",
   "execution_count": null,
   "id": "4eb16173",
   "metadata": {
    "id": "nuUGx0h_oSeZ",
    "outputId": "15f4d84a-05f2-487e-a957-840debbbd597",
    "scrolled": true
   },
   "outputs": [],
   "source": [
    "# MASALAH: ketika hanya menggunakan '2012-12-30' maka data tanggal 30 Desember 2012 TIDAK masuk\n",
    "pd.read_sql_query(sql=\n",
    "        \"\"\"SELECT *\n",
    "        FROM invoices\n",
    "        WHERE InvoiceDate BETWEEN '2012-01-01' AND '2012-12-30'\n",
    "        \"\"\", \n",
    "        con=conn, \n",
    "        parse_dates='InvoiceDate')"
   ]
  },
  {
   "cell_type": "markdown",
   "id": "1c553e64",
   "metadata": {},
   "source": [
    "Sebagai solusinya, lebih baik kita menambahkan komponen waktu (time) pada kondisi:\n",
    "```\n",
    "WHERE InvoiceDate BETWEEN '2012-01-01 00:00:00' AND '2012-12-30 23:59:59'\n",
    "```"
   ]
  },
  {
   "cell_type": "code",
   "execution_count": null,
   "id": "f6d0ead0",
   "metadata": {},
   "outputs": [],
   "source": [
    "# code here\n"
   ]
  },
  {
   "cell_type": "markdown",
   "id": "fdff3387",
   "metadata": {
    "id": "nz2r8_MvoSea"
   },
   "source": [
    "### `LIKE` Operator\n",
    "\n",
    "Operator `LIKE` sangat berguna jika kita perlu mencocokan bagian tertentu dari sebuah string daripada menggunakan operator sama dengan (`=`).\n",
    "\n",
    "Pada query di bawah ini, `'107%'` ditujukan untuk mengekstrak nilai `BillingPostalCode` yang **dimulai** dengan angka 107. Ini sangat membantu ketika Anda ingin mengekstrak data hanya pada wilayah tertentu.\n",
    "\n",
    "💡 **Note:** Karakter `%` disebut juga sebagai [wildcard character](https://www.w3schools.com/sql/sql_wildcards.asp)"
   ]
  },
  {
   "cell_type": "code",
   "execution_count": null,
   "id": "3a193d78",
   "metadata": {
    "id": "HVImn0FhoSea",
    "outputId": "77c56557-41d6-4656-e32a-bb4bca25f777"
   },
   "outputs": [],
   "source": [
    "#code here"
   ]
  },
  {
   "cell_type": "markdown",
   "id": "22f10466",
   "metadata": {
    "id": "64XpdSXRoSec"
   },
   "source": [
    "🧐 **Kasus**: Pada 5 data pertama `customerinv`, kita bisa melihat kolom `Company` mungkin tidak dapat diandalkan karena bernilai `None`. Tetapi jika Anda memperhatikan kolom `Email`, Anda dapat melihat beberapa customer memiliki domain email `apple`, yang bisa menjadi indikator perusahaan mereka."
   ]
  },
  {
   "cell_type": "code",
   "execution_count": null,
   "id": "b9535080",
   "metadata": {
    "id": "Ywz13U4EoSed",
    "outputId": "4033b9da-7d4d-4004-a928-e97c31714531"
   },
   "outputs": [],
   "source": [
    "customerinv = pd.read_sql_query(\n",
    "    \"\"\"\n",
    "    SELECT FirstName, LastName, Email, Company, InvoiceId, InvoiceDate, BillingCountry, Total\n",
    "    FROM invoices\n",
    "    LEFT JOIN customers\n",
    "    ON invoices.CustomerId = customers.CustomerId\n",
    "    \"\"\",\n",
    "    con=conn)\n",
    "\n",
    "customerinv.head()"
   ]
  },
  {
   "cell_type": "markdown",
   "id": "3ac7a223",
   "metadata": {
    "id": "lluePr_MoSed"
   },
   "source": [
    "**Pertanyaan:** Bagaimana jika kita ingin mengambil data pembelian dari pelanggan yang memiliki domain email `apple`?\n",
    "\n",
    "Silahkan lengkapi kode berikut:\n",
    "\n",
    "```python\n",
    "applecust = pd.read_sql_query(\n",
    "    \"\"\"\n",
    "    SELECT FirstName, LastName, Email, Company,\n",
    "        InvoiceId, InvoiceDate, BillingCountry, Total\n",
    "    FROM invoices\n",
    "    LEFT JOIN customers\n",
    "    ON invoices._____ = customers._____\n",
    "    WHERE _____\n",
    "    \"\"\",\n",
    "    con=conn\n",
    ")\n",
    "```\n",
    "\n",
    "Berdasarkan query tersebut, berapa pelanggan yang memiliki domain email `apple`?\n",
    "\n",
    "- [ ] 412\n",
    "- [ ] 49\n",
    "- [ ] 7\n",
    "- [ ] 14"
   ]
  },
  {
   "cell_type": "code",
   "execution_count": null,
   "id": "7ebcd529",
   "metadata": {
    "id": "tFTAXSP6oSed",
    "outputId": "8a361b7f-8c2b-45d1-dd12-9845d75a7006",
    "run_control": {
     "marked": false
    }
   },
   "outputs": [],
   "source": [
    "# your code here\n"
   ]
  },
  {
   "cell_type": "markdown",
   "id": "e4c76b97",
   "metadata": {},
   "source": [
    "## 📝 Summary"
   ]
  },
  {
   "cell_type": "markdown",
   "id": "856ed81e",
   "metadata": {},
   "source": [
    "### ✅ Knowledge Check 1: SQL Statement Function\n",
    "\n",
    "Kita telah mempelajari banyak statement pada SQL, silahkan mencocokan statement sesuai dengan kegunaannya:\n",
    "\n",
    "**KEGUNAAN**\n",
    "\n",
    "A. Memberikan nama lain pada tabel maupun kolom  \n",
    "\n",
    "B. Mengambil beberapa baris teratas dari tabel  \n",
    "\n",
    "C. Mengurutkan baris berdasarkan nilai pada kolom  \n",
    "\n",
    "D. Mengambil kolom dari sebuah tabel  \n",
    "\n",
    "E. Menggabungkan dua tabel menjadi satu tabel berdasarkan kolom penghubung  \n",
    "\n",
    "F. Filter baris  \n",
    "\n",
    "G. Membuat tabel agregasi  \n",
    "\n",
    "\n",
    "**STATEMENT**\n",
    "\n",
    "1. `SELECT <nama_kolom> FROM <nama_tabel>`\n",
    "2. `LIMIT <banyaknya_baris>`\n",
    "3. `AS <nama_kolom_atau_tabel>`\n",
    "4. `<tabel_kiri> [LEFT|INNER] JOIN <tabel_kanan> ON <tabel>.key = <tabel>.key`\n",
    "5. `GROUP BY <nama_kolom>`\n",
    "6. `ORDER BY <nama_kolom> [ASC|DESC]`\n",
    "7. `WHERE <kondisi>`\n",
    "\n",
    "\n",
    "\n",
    "\n",
    "\n",
    "\n",
    "\n",
    "\n",
    "\n",
    "\n",
    "\n"
   ]
  },
  {
   "cell_type": "markdown",
   "id": "e97332ea",
   "metadata": {},
   "source": [
    "### ✅ Knowledge Check 2: SQL Statement Structure\n",
    "\n",
    "Susunlah 8 baris SQL statement berikut menjadi sebuah kerangka urutan syntax yang benar:\n",
    "\n",
    "1. `GROUP BY <nama_kolom>`\n",
    "\n",
    "2. `LIMIT <banyaknya_baris>`\n",
    "\n",
    "3. `SELECT <nama_kolom> AS ...`\n",
    "\n",
    "4. `[LEFT|INNER] JOIN <tabel_kanan> AS ...`\n",
    "\n",
    "5. `ORDER BY <nama_kolom> [ASC|DESC]`\n",
    "\n",
    "6. `FROM <nama_tabel> AS ...`\n",
    "\n",
    "7. `WHERE <kondisi>`\n",
    "    \n",
    "8. `ON <tabel>.key = <tabel>.key`\n",
    "\n",
    "> **JAWABAN**: Urutan yang benar adalah _______"
   ]
  },
  {
   "cell_type": "markdown",
   "id": "b402853e",
   "metadata": {},
   "source": [
    "---\n",
    "### 🤿 Dive Deeper\n",
    "\n",
    "Toko musik digital ini ingin memberikan satu penghargaan ke `employees` yang telah bekerja keras melakukan penjualan di `BillingCountry` Amerika Selatan (yaitu negara **Argentina, Brazil, dan Chile**). Apabila penghargaan tersebut diberikan kepada `employees` berdasarkan **jumlah `Total`** penjualan, siapakah yang berhak mendapatkannya? Tampilkan **nama lengkap (`FirstName` dan `LastName`) beserta total penjualannya**."
   ]
  },
  {
   "cell_type": "code",
   "execution_count": null,
   "id": "f9644988",
   "metadata": {},
   "outputs": [],
   "source": [
    "# your code here\n"
   ]
  },
  {
   "cell_type": "markdown",
   "id": "6e5e546a",
   "metadata": {},
   "source": [
    "\n",
    "💭 **Diskusi**: Bagaimana jika kita ingin mengatahui negara mana saja (`BillingCountry`) yang menghasilkan total invoices lebih dari 150 dollar dengan menggunakan fungsi `WHERE`?"
   ]
  },
  {
   "cell_type": "code",
   "execution_count": null,
   "id": "ccdf9c23",
   "metadata": {},
   "outputs": [],
   "source": [
    "# your code here\n"
   ]
  },
  {
   "cell_type": "markdown",
   "id": "2a6c2af0",
   "metadata": {},
   "source": [
    "## **`HAVING` Statement**\n",
    "\n",
    "Dalam SQL, Anda tidak bisa melakukan statment `WHERE` pada data yang ter aggregasi. Untuk melakukan filter pada data yang telah di aggregasi, Anda bisa menggunakan statement `HAVING`.\n",
    "\n",
    "Mari selesaikan kasus di atas, yaitu mencari `BillingCountry` yang memiliki `Total` pembelian lebih dari 150 dollar pada tabel `invoices`."
   ]
  },
  {
   "cell_type": "code",
   "execution_count": null,
   "id": "16625bdf",
   "metadata": {},
   "outputs": [],
   "source": [
    "# your code here\n"
   ]
  },
  {
   "cell_type": "markdown",
   "id": "2d728dc6",
   "metadata": {},
   "source": [
    "---"
   ]
  },
  {
   "cell_type": "markdown",
   "id": "126a4bc1",
   "metadata": {
    "id": "xgFatPmeoSej"
   },
   "source": [
    "# SQL Subquery\n",
    "\n",
    "Dalam beberapa kasus tertentu, kita ingin melakukan filter baris berdasarkan syarat tertentu dimana nilai-nilai kondisi didapatkan dari hasil query lain. Apakah Anda masih ingat bagaimana kita mengambil semua pelanggan yang memiliki `invoices` dengan Total paling tinggi? (Bagian SQL Aggregation)"
   ]
  },
  {
   "cell_type": "code",
   "execution_count": null,
   "id": "5cd9095d",
   "metadata": {
    "id": "B9M2vDwuoSej",
    "outputId": "d39a93b5-d770-4785-8e4e-ac1cf4125e18"
   },
   "outputs": [],
   "source": [
    "# menampilkan top 5 customers dengan total pembelanjaan terbanyak\n",
    "pd.read_sql_query(\"\"\"SELECT CustomerId, SUM(Total) AS TotalSpent, COUNT(CustomerId) AS PurchaseCount\n",
    "        FROM invoices\n",
    "        GROUP BY CustomerId\n",
    "        ORDER BY TotalSpent DESC\n",
    "        LIMIT 5\"\"\", \n",
    "        con=conn, \n",
    "        index_col='CustomerId')"
   ]
  },
  {
   "cell_type": "markdown",
   "id": "3b397057",
   "metadata": {
    "id": "dyo53xaxoSej"
   },
   "source": [
    "Misalnya dari tabel tersebut kita ingin menarik semua data `invoices` berdasarkan top 5 `customers`. Kita bisa saja menuliskan list `CustomerId` dalam kondisi secara **hard-code** seperti ini:"
   ]
  },
  {
   "cell_type": "code",
   "execution_count": null,
   "id": "9fc4fb73",
   "metadata": {
    "id": "a81QlmY6oSej",
    "outputId": "cfd98615-294c-4528-9526-bab04c8e6150",
    "scrolled": true
   },
   "outputs": [],
   "source": [
    "# menampilkan invoices hanya untuk top 5 customers\n",
    "\n",
    "top5cust_hardcode = pd.read_sql_query(\"\"\"SELECT *\n",
    "        FROM invoices\n",
    "        WHERE ____\n",
    "        \"\"\", \n",
    "        con=conn)\n",
    "top5cust_hardcode"
   ]
  },
  {
   "cell_type": "markdown",
   "id": "9f2adb75",
   "metadata": {
    "id": "wMZmeG0KoSej"
   },
   "source": [
    "Namun cara tersebut tidak disarankan. Bagaimana jika database kita terus bertambah, sehingga bukan lagi `CustomerId` 6, 26, 57, 45, 46 yang merupakan top 5 customers? Maka dari itu, kita perlu menggunakan **subquery** agar query kita lebih **dinamis terhadap perubahan data**.\n",
    "\n",
    "Untuk itu mari kita persiapkan subquery yang hanya mengembalikan list Top 5 `CustomerId` berdasarkan `Total` pembelian:"
   ]
  },
  {
   "cell_type": "code",
   "execution_count": null,
   "id": "ff206dbe",
   "metadata": {},
   "outputs": [],
   "source": [
    "# subquery\n"
   ]
  },
  {
   "cell_type": "markdown",
   "id": "ec8b24d2",
   "metadata": {
    "id": "NcAAwx05oSek"
   },
   "source": [
    "Subquery di atas kita gunakan untuk menggantikan query hard-code, setelah statement `WHERE` menggunakan operator `IN`:"
   ]
  },
  {
   "cell_type": "code",
   "execution_count": null,
   "id": "2b51528c",
   "metadata": {
    "id": "fx0hfBkDoSek",
    "outputId": "1c9a7dc1-9718-4425-c149-fd49fbab9bc2",
    "scrolled": true
   },
   "outputs": [],
   "source": [
    "top5cust_subquery = pd.read_sql_query(____, conn)\n",
    "top5cust_subquery"
   ]
  },
  {
   "cell_type": "markdown",
   "id": "db599ef3",
   "metadata": {},
   "source": [
    "Memang hasil `top5cust_hardcode` dengan `top5cust_subquery` akan sama persis, namun secara sintaks `top5cust_subquery` jauh lebih baik karena code lebih dinamis."
   ]
  },
  {
   "cell_type": "markdown",
   "id": "f7b44de4",
   "metadata": {},
   "source": [
    "---\n",
    "# [OPTIONAL]Under and Over Fetching\n",
    "\n",
    "Di antara semua tools yang telah kita pelajari untuk menganalisis data, sekarang saatnya kita merenungkan yang mana yang lebih cocok untuk Anda. Untuk meninjau, mari kita ingat kembali apa yang telah kita pelajari:\n",
    "\n",
    "- Reading flat files (CSV file)\n",
    "- Data cleansing and wrangling\n",
    "- Exploratory data analysis tools\n",
    "- Visual exploratory tools\n",
    "\n",
    "Kira-kira SQL masuk ke bagian apa? Untuk menjawab hal tersebut, Anda perlu memahami arsitektur client-server.\n",
    "\n",
    "![](assets/clientserver.png)\n",
    "\n",
    "Ketika Anda bekerja dengan SQL, kemungkinan besar Anda memiliki database relasional yang disimpan terpusat pada _server_ dan dapat diakses oleh _client_. Pada dasarnya _server_ adalah komputer penyedia data, dan _client_ adalah komputer pengambil data (komputer Anda).\n",
    "\n",
    "Saat Anda melakukan query, sebenarnya Anda sedang menjalankan perintah untuk mengunduh data ke komputer Anda (_local computer_). Proses pengunduhan ini membutuhkan sumber daya, sehingga pengunduhan perlu dilakukan secara efektif untuk meminimalkan biaya.\n",
    "\n",
    "- **Over** fetching adalah kondisi ketika kita menarik data dari database **lebih dari** yang dibutuhkan, sehingga membutuhkan biaya dan waktu yang lebih.\n",
    "\n",
    "- **Under** fetching adalah kondisi sebaliknya, dimana data yang ditarik **kurang dari** yang dibutuhkan, sehingga proses analisis tidak dapat dilakukan secara lengkap."
   ]
  },
  {
   "cell_type": "markdown",
   "id": "c3b0d026",
   "metadata": {},
   "source": [
    "💭 **Diskusi**\n",
    "\n",
    "Anda diminta untuk melakukan analisis terhadap semua penjualan lagu (`invoice_items`) genre `Rock` pada tahun 2012. Pertimbangkan pertanyaan berikut:\n",
    "\n",
    "- Apakah perlu bagi Anda untuk mengunduh semua tabel `tracks` ke komputer lokal? Tidak, ambil yang Rock saja\n",
    "- Apakah Anda melakukan filter baris terhadap `tracks` dengan genre `Rock` menggunakan SQL statement `WHERE` atau conditional subsetting `pandas`? Pakai WHERE\n",
    "- Karena kita memerlukan informasi dari beberapa tabel, manakah cara yang lebih nyaman: melakukan query dengan `JOIN` atau melakukan `SELECT` secara terpisah dari database? Pakai JOIN\n",
    "\n",
    "🧐 Coba buat query yang paling optimum menurut Anda:"
   ]
  },
  {
   "cell_type": "code",
   "execution_count": null,
   "id": "0648f4d9",
   "metadata": {},
   "outputs": [],
   "source": [
    "# your code here\n"
   ]
  }
 ],
 "metadata": {
  "kernelspec": {
   "display_name": "zeus_da",
   "language": "python",
   "name": "zeus_da"
  },
  "language_info": {
   "codemirror_mode": {
    "name": "ipython",
    "version": 3
   },
   "file_extension": ".py",
   "mimetype": "text/x-python",
   "name": "python",
   "nbconvert_exporter": "python",
   "pygments_lexer": "ipython3",
   "version": "3.11.7"
  }
 },
 "nbformat": 4,
 "nbformat_minor": 5
}
