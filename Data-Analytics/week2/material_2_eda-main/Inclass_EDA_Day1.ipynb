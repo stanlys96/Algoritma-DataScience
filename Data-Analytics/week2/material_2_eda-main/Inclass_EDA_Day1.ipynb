{
 "cells": [
  {
   "cell_type": "markdown",
   "metadata": {},
   "source": [
    "<div style=\"padding: 60px;\n",
    "  text-align: center;\n",
    "  background: #d4afb9;\n",
    "  color: #003049;\n",
    "  font-size: 20px;\">\n",
    "  <h2>Inclass: Exploratory Data Analysis</h2>\n",
    "   <hr>\n",
    "</div>\n",
    "\n",
    "\n",
    "- **This notebook based on main material**\n",
    "- **Course Length**: 12 hours\n",
    "- **Instructor** : Dwi Gustin Nurdialit\n",
    "- **Version**: Zeus Data Analytics Specialization - August 2024"
   ]
  },
  {
   "cell_type": "markdown",
   "metadata": {},
   "source": [
    "# <a id='toc1_'></a>[Exploratory Data Analysis (EDA)](#toc0_)\n",
    "\n",
    "## <a id='toc1_1_'></a>[Training Objectives](#toc0_)\n"
   ]
  },
  {
   "cell_type": "markdown",
   "metadata": {},
   "source": [
    "**Table of contents**<a id='toc0_'></a>    \n",
    "- [Exploratory Data Analysis (EDA)](#toc1_)    \n",
    "  - [Training Objectives](#toc1_1_)    \n",
    "  - [Apa itu EDA?](#toc1_2_)    \n",
    "  - [Mengapa EDA penting?](#toc1_3_)    \n",
    "  - [Tools EDA](#toc1_4_)    \n",
    "- [Problem Statement](#toc2_)    \n",
    "  - [Setup Library](#toc2_1_)    \n",
    "- [Data Preparation](#toc3_)    \n",
    "  - [Load Data](#toc3_1_)    \n",
    "  - [Data Description](#toc3_2_)    \n",
    "- [Data Preprocessing and Feature Engineering](#toc4_)    \n",
    "  - [📅 Working with Datetime](#toc4_1_)    \n",
    "    - [Convert to Datetime](#toc4_1_1_)    \n",
    "      - [1️⃣ Method `.astype()`](#toc4_1_1_1_)    \n",
    "      - [2️⃣ Parameter `parse_dates`](#toc4_1_1_2_)    \n",
    "      - [3️⃣ Fungsi `pd.to_datetime()`](#toc4_1_1_3_)    \n",
    "        - [Parameter `dayfirst`](#toc4_1_1_3_1_)    \n",
    "        - [**[Optional]** Parameter `format = mixed`](#toc4_1_1_3_2_)    \n",
    "    - [Datetime Partition](#toc4_1_2_)    \n",
    "    - [Datetime Transformation](#toc4_1_3_)    \n",
    "      - [**[Optional]** String format time (strftime)](#toc4_1_3_1_)    \n",
    "    - [🤿 Dive Deeper: Feature Engineering & Datetime data types](#toc4_1_4_)    \n",
    "  - [🚥 Working with Categories](#toc4_2_)    \n",
    "- [📝 Summary Day 1: Knowledge Check](#toc5_)    \n",
    "- [Data Analysis](#toc6_)    \n",
    "  - [Frequency Tables / Contingency Tables](#toc6_1_)    \n",
    "    - [**Method `.value_counts()`**](#toc6_1_1_)    \n",
    "    - [**Cross Tabulation `pd.crosstab()`**](#toc6_1_2_)    \n",
    "      - [Parameter: Margins](#toc6_1_2_1_)    \n",
    "      - [Parameter: Normalize](#toc6_1_2_2_)    \n",
    "- [📝 Summary Day 2](#toc7_)    \n",
    "  - [Aggregation Table](#toc7_1_)    \n",
    "    - [`pd.crosstab()`](#toc7_1_1_)    \n",
    "    - [(Optional) Higher Dimensional Table](#toc7_1_2_)    \n",
    "    - [`pd.pivot_table`](#toc7_1_3_)    \n",
    "    - [🤿 Dive Deeper: Analisis Lebaran ✨🌙](#toc7_1_4_)    \n",
    "  - [📝 Summary: Tables in `pandas`](#toc7_2_)    \n",
    "- [Missing Values and Duplicates](#toc8_)    \n",
    "  - [Missing Values](#toc8_1_)    \n",
    "    - [Cek Missing Value](#toc8_1_1_)    \n",
    "    - [Treatment Missing Values](#toc8_1_2_)    \n",
    "      - [Hapus Baris yang NA](#toc8_1_2_1_)    \n",
    "      - [Missing Value Imputation](#toc8_1_2_2_)    \n",
    "  - [Duplicated Values](#toc8_2_)    \n",
    "    - [Check Duplicated Values](#toc8_2_1_)    \n",
    "    - [Handling Duplicate Data](#toc8_2_2_)    \n",
    "- [Workflow Data Analysis](#toc9_)    \n",
    "- [Inclass Question](#toc10_)    \n",
    "\n",
    "<!-- vscode-jupyter-toc-config\n",
    "\tnumbering=false\n",
    "\tanchor=true\n",
    "\tflat=false\n",
    "\tminLevel=1\n",
    "\tmaxLevel=6\n",
    "\t/vscode-jupyter-toc-config -->\n",
    "<!-- THIS CELL WILL BE REPLACED ON TOC UPDATE. DO NOT WRITE YOUR TEXT IN THIS CELL -->"
   ]
  },
  {
   "cell_type": "markdown",
   "metadata": {},
   "source": [
    "## <a id='toc1_2_'></a>[Apa itu EDA?](#toc0_)\n",
    "\n",
    "> EDA adalah proses untuk melakukan **eksplorasi lebih jauh terhadap data**. \n",
    "\n",
    "Misalnya: \n",
    "- melihat struktur data\n",
    "- melihat sebaran data\n",
    "- menyesuaikan bentuk tipe data untuk analisis lebih lanjut. \n",
    "- mendeteksi adanya kejadian anomali\n",
    "- menemukan hubungan yang menarik antara variabel\n",
    "\n",
    "Hal ini dapat membantu menentukan teknik statistika maupun analisis lanjutan sesuai dengan kebutuhan data yang ada.\n",
    "\n"
   ]
  },
  {
   "cell_type": "markdown",
   "metadata": {},
   "source": [
    "## <a id='toc1_3_'></a>[Mengapa EDA penting?](#toc0_)\n",
    "\n",
    "Pernahkah anda mendengar mengenai konsep Garbage In Garbage Out / **GIGO**?\n",
    "\n",
    "Jika Anda menggunakan data yang tidak akurat untuk analisis, maka hasil analisis Anda juga akan tidak akurat. Hal ini dapat menyebabkan **pengambilan keputusan yang salah**.\n",
    "\n",
    "Tujuan utama melakukan EDA adalah **membantu melihat data sebelum membuat asumsi apapun**.\n",
    "\n",
    "Seorang data analyst dapat menggunakan EDA untuk:\n",
    "- Memastikan hasil valid dan berlaku untuk tujuan bisnis yang diinginkan\n",
    "- Membantu pemangku kepentingan mengambil keputusan yang tepat\n",
    "- Melanjutkan ke tahapan analisis yang lebih dalam, misalnya untuk pemodelan machine learning (predictive)"
   ]
  },
  {
   "cell_type": "markdown",
   "metadata": {},
   "source": [
    "## <a id='toc1_4_'></a>[Tools EDA](#toc0_)\n",
    "\n",
    "Pada course sebelumnya, kita telah mempelajari teknik umum:\n",
    "- `.head()` dan `.tail()` untuk inspeksi data\n",
    "- `.describe()` untuk mendeskripsikan data secara statistik\n",
    "- `.shape` dan `.size` untuk cek dimensi data\n",
    "- `.axes` untuk cek label index kolom dan baris\n",
    "- `.dtypes` untuk cek tipe data\n",
    "\n",
    "Dalam course ini, kita akan memperluas pemahaman EDA dengan teknik berikut:\n",
    "\n",
    "- Accessor Date Types\n",
    "- Tables\n",
    "- Cross-table and aggregates\n",
    "- Pivot Tables"
   ]
  },
  {
   "cell_type": "markdown",
   "metadata": {},
   "source": [
    "---"
   ]
  },
  {
   "cell_type": "markdown",
   "metadata": {},
   "source": [
    "# <a id='toc2_'></a>[Problem Statement](#toc0_)\n",
    "\n",
    "🔻 Anda merupakan seorang analis data yang bekerja di sebuah perusahaan retail. Anda diminta untuk melakukan eksplorasi terhadap data transaksi hingga mendapatkan insight-insight bisnis yang dapat Anda ceritakan kepada rekan atau atasan Anda."
   ]
  },
  {
   "cell_type": "markdown",
   "metadata": {},
   "source": [
    "## <a id='toc2_1_'></a>[Setup Library](#toc0_)"
   ]
  },
  {
   "cell_type": "code",
   "execution_count": null,
   "metadata": {},
   "outputs": [],
   "source": [
    "import pandas as pd\n",
    "\n",
    "# mengatur tanda koma sebagai pemisah ribuan dan penulisan decimal 2 angka\n",
    "pd.options.display.float_format = '{:,.0f}'.format"
   ]
  },
  {
   "cell_type": "markdown",
   "metadata": {},
   "source": [
    "# <a id='toc3_'></a>[Data Preparation](#toc0_)"
   ]
  },
  {
   "cell_type": "markdown",
   "metadata": {},
   "source": [
    "## <a id='toc3_1_'></a>[Load Data](#toc0_)\n",
    "\n",
    "🔻 Data transaksi terletak di dalam folder `data_input` dengan nama **`household.csv`**. Dengan bantuan library `pandas` bacalah data tersebut."
   ]
  },
  {
   "cell_type": "code",
   "execution_count": null,
   "metadata": {},
   "outputs": [],
   "source": [
    "# code here\n"
   ]
  },
  {
   "cell_type": "markdown",
   "metadata": {},
   "source": [
    "## <a id='toc3_2_'></a>[Data Description](#toc0_)\n",
    "\n",
    "Dataset ini merupakan data transaksi pembelian barang kebutuhan sehari-hari (rumah tangga). Berikut informasi kolomnya:\n",
    "\n",
    "- `receipt_id`      : Identifier untuk satu struk\n",
    "- `receipt_item_id` : Identifier untik untuk satu item pada struk tertentu\n",
    "- `purchase_time`   : Waktu melakukan pembelian\n",
    "- `category`        : Kategori item\n",
    "- `sub_category`    : Sub-Kategori item\n",
    "- `format`          : Jenis pasar tempat membeli barang (Supermarket, Minimarket, Hypermarket)\n",
    "- `unit_price`      : Harga barang per unit\n",
    "- `discount`        : Diskon\n",
    "- `quantity`        : Jumlah barang yang dibeli\n",
    "- `yearmonth`       : Informasi tahun dan bulan"
   ]
  },
  {
   "cell_type": "markdown",
   "metadata": {},
   "source": [
    "🔻 Lakukan investigasi awal untuk melihat struktur data terhadap object DataFrame  dengan menggunakan method `.info()`"
   ]
  },
  {
   "cell_type": "code",
   "execution_count": null,
   "metadata": {},
   "outputs": [],
   "source": [
    "# code here\n"
   ]
  },
  {
   "cell_type": "markdown",
   "metadata": {},
   "source": [
    "💡 Dengan menggunakan method `.info()`, kita dapat memeriksa **informasi** lengkap dari DataFrame kita:\n",
    "\n",
    "- Dimensi data: jumlah baris dan kolom (`.shape`)\n",
    "- Nama kolom dan jumlah nilai bukan NA/kosong (`.columns`)\n",
    "- Tipe data setiap kolom (`.dtypes`)\n",
    "- Penggunaan memori"
   ]
  },
  {
   "cell_type": "markdown",
   "metadata": {},
   "source": [
    "# <a id='toc4_'></a>[Data Preprocessing and Feature Engineering](#toc0_)\n",
    "\n",
    "**Feature** : Kolom , **Engineering** : Teknik -> **Feature Engineering** adalah teknik untuk menghasilkan kolom baru dari kolom yang sudah ada"
   ]
  },
  {
   "cell_type": "markdown",
   "metadata": {},
   "source": [
    "## <a id='toc4_1_'></a>[📅 Working with Datetime](#toc0_)\n",
    "\n",
    "🔻 Tahapan selanjutnya adalah menyesuaikan tipe data agar dapat melakukan proses analisis lanjutan. Kita akan berfokus ke data bertipe **datetime**"
   ]
  },
  {
   "cell_type": "code",
   "execution_count": null,
   "metadata": {},
   "outputs": [],
   "source": [
    "# Cek tipe data\n"
   ]
  },
  {
   "cell_type": "markdown",
   "metadata": {},
   "source": [
    "**❓ Kolom manakah yang seharusnya memiliki format tipe data date time?**\n",
    "\n",
    "> "
   ]
  },
  {
   "cell_type": "markdown",
   "metadata": {},
   "source": [
    "### <a id='toc4_1_1_'></a>[Convert to Datetime](#toc0_)\n",
    "\n",
    "Ada 3 cara untuk mengubah sebuah kolom menjadi tipe data `datetime64[ns]`:\n",
    "- Method `.astype()`\n",
    "- Parameter `parse_dates`\n",
    "- Method `pd.to_datetime()`"
   ]
  },
  {
   "cell_type": "markdown",
   "metadata": {},
   "source": [
    "#### <a id='toc4_1_1_1_'></a>[1️⃣ Method `.astype()`](#toc0_)"
   ]
  },
  {
   "cell_type": "markdown",
   "metadata": {},
   "source": [
    "🔻 Mari kita buat salinan `household` agar data aslinya tetap tidak berubah"
   ]
  },
  {
   "cell_type": "code",
   "execution_count": null,
   "metadata": {},
   "outputs": [],
   "source": [
    "# code here\n",
    "df_1 = household.copy()"
   ]
  },
  {
   "cell_type": "markdown",
   "metadata": {},
   "source": [
    "Ubah menggunakan `.astype()` dengan nilai `datetime64[ns]`"
   ]
  },
  {
   "cell_type": "code",
   "execution_count": null,
   "metadata": {},
   "outputs": [],
   "source": [
    "# code here\n"
   ]
  },
  {
   "cell_type": "code",
   "execution_count": null,
   "metadata": {},
   "outputs": [],
   "source": [
    "# cek kembali tipe data\n",
    "df_1.dtypes"
   ]
  },
  {
   "cell_type": "markdown",
   "metadata": {},
   "source": [
    "⚠️**Warning**: Jangan lupa untuk melakukan assignment hasilnya ke kolom aslinya."
   ]
  },
  {
   "cell_type": "markdown",
   "metadata": {},
   "source": [
    "#### <a id='toc4_1_1_2_'></a>[2️⃣ Parameter `parse_dates`](#toc0_)\n",
    "\n",
    "Digunakan ketika ***read*** data, dengan asumsi kita sudah tahu kolom mana yang seharusnya `datetime64[ns]`"
   ]
  },
  {
   "cell_type": "code",
   "execution_count": null,
   "metadata": {},
   "outputs": [],
   "source": [
    "# code here\n",
    "df_2 = "
   ]
  },
  {
   "cell_type": "markdown",
   "metadata": {},
   "source": [
    "#### <a id='toc4_1_1_3_'></a>[3️⃣ Fungsi `pd.to_datetime()`](#toc0_)"
   ]
  },
  {
   "cell_type": "code",
   "execution_count": null,
   "metadata": {},
   "outputs": [],
   "source": [
    "df_3 = household.copy()\n",
    "df_3.dtypes"
   ]
  },
  {
   "cell_type": "markdown",
   "metadata": {},
   "source": [
    "Ubah menggunakan method `pd.to_datetime()`"
   ]
  },
  {
   "cell_type": "code",
   "execution_count": null,
   "metadata": {},
   "outputs": [],
   "source": [
    "# code here\n"
   ]
  },
  {
   "cell_type": "code",
   "execution_count": null,
   "metadata": {},
   "outputs": [],
   "source": [
    "# cek kembali tipe data\n",
    "df_3.dtypes"
   ]
  },
  {
   "cell_type": "markdown",
   "metadata": {},
   "source": [
    "<div class=\"alert alert-info\">\n",
    "<p>\n",
    "\n",
    "💬❓ **Diskusi** Jadi apa yang membedakan `.astype()` dengan `pd.to_datetime()`?\n",
    "\n",
    "Pada `pd.to_datetime()` terdapat lebih banyak **parameter** yang dapat digunakan dalam mengatur pengkonversian sebuah kolom menjadi datetime. Dengan demikian, `pd.to_datetime()` lebih memberikan **fleksibilitas** daripada `.astype()`.\n",
    "\n",
    "</p>\n",
    "</div> \n",
    "\n",
    "\n"
   ]
  },
  {
   "cell_type": "markdown",
   "metadata": {},
   "source": [
    "Misalkan kita memiliki kolom yang menyimpan data penjualan harian dari **awal Februari**"
   ]
  },
  {
   "cell_type": "code",
   "execution_count": null,
   "metadata": {},
   "outputs": [],
   "source": [
    "sales_date = pd.Series(['01-02-2024', '02-02-2024', '03-02-2024', '04-02-2024'])\n",
    "sales_date"
   ]
  },
  {
   "cell_type": "markdown",
   "metadata": {},
   "source": [
    "Contoh di atas menunjukkan bagaimana orang Indonesia biasanya menulis tanggal, menggunakan format **tanggal-bulan-tahun**. Mari kita lihat apa yang akan terjadi ketika kita mengonversi tipe data `sales_date` menjadi `datetime64[ns]`:"
   ]
  },
  {
   "cell_type": "code",
   "execution_count": null,
   "metadata": {},
   "outputs": [],
   "source": [
    "sales_date.astype('datetime64[ns]')"
   ]
  },
  {
   "cell_type": "markdown",
   "metadata": {},
   "source": [
    "<div class=\"alert alert-danger\">\n",
    "<p>\n",
    "\n",
    "**Warning**: `pandas` secara default akan menyimpulkannya **bulan** sebagai urutan pertama.\n",
    "\n",
    "</p>\n",
    "</div> "
   ]
  },
  {
   "cell_type": "markdown",
   "metadata": {},
   "source": [
    "##### <a id='toc4_1_1_3_1_'></a>[Parameter `dayfirst`](#toc0_)\n",
    "\n",
    "💡 **Tips**: Parameter `dayfirst = True` untuk memberitahu bahwa format tanggal diawali dengan hari bukan bulan"
   ]
  },
  {
   "cell_type": "code",
   "execution_count": null,
   "metadata": {},
   "outputs": [],
   "source": [
    "sales_date = "
   ]
  },
  {
   "cell_type": "markdown",
   "metadata": {},
   "source": [
    "##### <a id='toc4_1_1_3_2_'></a>[**[Optional]** Parameter `format = mixed`](#toc0_) [&#8593;](#toc0_)\n",
    "\n",
    "💬 Bagaimana jika kita bertemu data dengan format yang berantakan seperti kasus berikut?"
   ]
  },
  {
   "cell_type": "code",
   "execution_count": null,
   "metadata": {},
   "outputs": [],
   "source": [
    "sales_date2 = pd.Series(['30-Jan-2024', '31/01/2024', '01-02-2024', '02-02-24'])\n",
    "sales_date2"
   ]
  },
  {
   "cell_type": "markdown",
   "metadata": {},
   "source": [
    "💡 **Tips:** \n",
    "Kita dapat menggunakan sebuah nilai pada parameter `format = 'mixed'`."
   ]
  },
  {
   "cell_type": "code",
   "execution_count": null,
   "metadata": {},
   "outputs": [],
   "source": [
    "# code here\n",
    "sales_date2 = pd.to_datetime(sales_date2)\n",
    "sales_date2"
   ]
  },
  {
   "cell_type": "markdown",
   "metadata": {},
   "source": [
    "**✏️ Quick Summary:**\n",
    "\n",
    "Kapan waktu yang tepat untuk menggunakan 3 cara tersebut?\n",
    "\n",
    "- `.astype('datetime64[ns]')`: \n",
    "- `parse_date=['kolom']`: \n",
    "- `pd.to_datetime`: \n",
    "\n",
    "___\n",
    "\n",
    "___\n",
    "\n",
    "\n",
    "___"
   ]
  },
  {
   "cell_type": "markdown",
   "metadata": {},
   "source": [
    "### <a id='toc4_1_2_'></a>[Datetime Partition](#toc0_)"
   ]
  },
  {
   "cell_type": "markdown",
   "metadata": {},
   "source": [
    "\n",
    "\n",
    "<div class=\"alert alert-secondary\">\n",
    "<p>\n",
    "\n",
    "Ketika sebuah kolom sudah menjadi `datetime64`, kita dapat mengambil bagian waktu lebih spesifik seperti tahun, bulan, hari, dan jam.\n",
    "\n",
    "**Date component (numeric)**\n",
    "- `.dt.year` untuk komponen tahun\n",
    "- `.dt.month` untuk komponen bulan (dalam angka)\n",
    "- `.dt.day` untuk komponen tanggal (dalam angka)\n",
    "- `.dt.dayofweek` untuk ekstrak index hari dalam seminggu; Monday = 0 dan Sunday = 6\n",
    "\n",
    "**Date component (string)**\n",
    "- `.dt.month_name()` untuk komponen nama bulan\n",
    "- `.dt.day_name()`untuk komponen nama hari\n",
    "\n",
    "**Time component**\n",
    "- `.dt.hour` untuk komponen jam\n",
    "- `.dt.minute` untuk komponen menit\n",
    "- `.dt.second` untuk komponen detik\n",
    "\n",
    "> [Dokumentasi: datetime properties](https://pandas.pydata.org/pandas-docs/stable/reference/series.html#datetimelike-properties)\n",
    "\n",
    "\n",
    "</p>\n",
    "</div> \n",
    "\n"
   ]
  },
  {
   "cell_type": "markdown",
   "metadata": {},
   "source": [
    "**🔻 Namun pertama-tama mari kita ubah kolom `purchase_time` pada data `household` menjadi `datetime64`**"
   ]
  },
  {
   "cell_type": "code",
   "execution_count": null,
   "metadata": {},
   "outputs": [],
   "source": [
    "# code here\n"
   ]
  },
  {
   "cell_type": "markdown",
   "metadata": {},
   "source": [
    "**📆 Attribut-attribut pada Datetime**\n",
    "\n",
    "Untuk mengekstrak komponen datetime dalam nilai numerik, kita dapat menggunakan **atribut**"
   ]
  },
  {
   "cell_type": "markdown",
   "metadata": {},
   "source": [
    "**A. Partisi `dt.year`**"
   ]
  },
  {
   "cell_type": "code",
   "execution_count": null,
   "metadata": {},
   "outputs": [],
   "source": [
    "household['purchase_time']"
   ]
  },
  {
   "cell_type": "markdown",
   "metadata": {},
   "source": [
    "**B. Partisi `dt.month`**"
   ]
  },
  {
   "cell_type": "code",
   "execution_count": null,
   "metadata": {},
   "outputs": [],
   "source": [
    "household['purchase_time']"
   ]
  },
  {
   "cell_type": "markdown",
   "metadata": {},
   "source": [
    "**C. Partisi `dt.day_of_week`**"
   ]
  },
  {
   "cell_type": "code",
   "execution_count": null,
   "metadata": {},
   "outputs": [],
   "source": [
    "household['purchase_time']"
   ]
  },
  {
   "cell_type": "markdown",
   "metadata": {},
   "source": [
    "**D. Partisi `dt.hour`**"
   ]
  },
  {
   "cell_type": "code",
   "execution_count": null,
   "metadata": {},
   "outputs": [],
   "source": [
    "household['purchase_time']"
   ]
  },
  {
   "cell_type": "markdown",
   "metadata": {},
   "source": [
    "**📆 Method-method pada Datetime**\n",
    "\n",
    "Untuk mengekstrak nama (teks) dari komponen datetime, kita dapat menggunakan **method** (dengan tanda kurung)"
   ]
  },
  {
   "cell_type": "markdown",
   "metadata": {},
   "source": [
    "**A. Partisi `dt.day_name()`**"
   ]
  },
  {
   "cell_type": "code",
   "execution_count": null,
   "metadata": {},
   "outputs": [],
   "source": [
    "# ekstrak nama hari\n",
    "household['purchase_time']"
   ]
  },
  {
   "cell_type": "markdown",
   "metadata": {},
   "source": [
    "**B. Partisi `dt.month_name()`**"
   ]
  },
  {
   "cell_type": "code",
   "execution_count": null,
   "metadata": {},
   "outputs": [],
   "source": [
    "# ekstrak nama bulan\n",
    "household['purchase_time']"
   ]
  },
  {
   "cell_type": "markdown",
   "metadata": {},
   "source": [
    "### <a id='toc4_1_3_'></a>[Datetime Transformation](#toc0_)"
   ]
  },
  {
   "cell_type": "markdown",
   "metadata": {},
   "source": [
    "\n",
    "\n",
    "<div class=\"alert alert-secondary\">\n",
    "<p>\n",
    "\n",
    "Selain digunakan untuk melakukan partisi, kita juga dapat melakukan transformasi object `datetime64[ns]` ke dalam format periode menggunakan method `.to_period()`.\n",
    "\n",
    "- `.dt.to_period('D')` untuk mengubah ke format **D**aily (tanggal lengkap)\n",
    "- `.dt.to_period('W')` untuk mengubah ke format **W**eekly (awal dan akhir minggu)\n",
    "- `.dt.to_period('M')` untuk mengubah ke format **M**onthly (year-month)\n",
    "- `.dt.to_period('Q')` untuk mengubah ke format **Q**uarterly (year-quarter)\n",
    "\n",
    "\n",
    "</p>\n",
    "</div> \n"
   ]
  },
  {
   "cell_type": "code",
   "execution_count": null,
   "metadata": {},
   "outputs": [],
   "source": [
    "household['purchase_time']"
   ]
  },
  {
   "cell_type": "code",
   "execution_count": null,
   "metadata": {},
   "outputs": [],
   "source": [
    "household['purchase_time']"
   ]
  },
  {
   "cell_type": "code",
   "execution_count": null,
   "metadata": {},
   "outputs": [],
   "source": [
    "household['purchase_time']"
   ]
  },
  {
   "cell_type": "code",
   "execution_count": null,
   "metadata": {},
   "outputs": [],
   "source": [
    "household['purchase_time']"
   ]
  },
  {
   "cell_type": "markdown",
   "metadata": {},
   "source": [
    "---\n",
    "\n",
    "#### <a id='toc4_1_3_1_'></a>[**[Optional]** String format time (strftime)](#toc0_) [&#8593;](#toc0_)\n",
    "\n",
    "**Mengubah tanggal ke dalam bentuk string menggunakan strftime**<br>\n",
    "Datetime memiliki sebuah method bernama **strftime** (string for time) yang dapat digunakan untuk melakukan konversi tipe datetime menjadi format string.\n",
    "\n",
    "> [Dokumentasi Python `strftime` cheatsheet](https://strftime.org/)"
   ]
  },
  {
   "cell_type": "markdown",
   "metadata": {},
   "source": [
    "Misalnya kita akan mengubah object `sales_date` menjadi format \"nama hari, tanggal-nama bulan-tahun\"."
   ]
  },
  {
   "cell_type": "code",
   "execution_count": null,
   "metadata": {},
   "outputs": [],
   "source": [
    "sales_date"
   ]
  },
  {
   "cell_type": "code",
   "execution_count": null,
   "metadata": {},
   "outputs": [],
   "source": [
    "sales_date.dt.strftime('%A, %d %B %Y')"
   ]
  },
  {
   "cell_type": "markdown",
   "metadata": {},
   "source": [
    "___"
   ]
  },
  {
   "cell_type": "markdown",
   "metadata": {},
   "source": [
    "___"
   ]
  },
  {
   "cell_type": "markdown",
   "metadata": {},
   "source": [
    "___"
   ]
  },
  {
   "cell_type": "markdown",
   "metadata": {},
   "source": [
    "### <a id='toc4_1_4_'></a>[🤿 Dive Deeper: Feature Engineering & Datetime data types](#toc0_)\n",
    "\n",
    "\n",
    "_Est. Time required: 10 minutes_\n",
    "\n",
    "1. Pada cell di bawah ini, import kembali data `household.csv` dan simpan ke dalam variable bernama `household_new`\n",
    "2. Ubah `purchase_time` ke tipe data `datetime64[ns]`\n",
    "3. Dapatkan nama hari menggunakan perintah `x.dt.day_name()` dengan asumsi `x` adalah nama kolom datetime yang akan dipartisi. Simpan hasil partisi nama hari ke dalam kolom baru dengan nama `dayofweek`\n",
    "4. Cobalah re-create kolom `yearmonth` dari kolom `purchase_time`\n",
    "5. Tampilkan 5 data teratas untuk memastikan bahwa langkah yang dilakukan sudah tepat \n"
   ]
  },
  {
   "cell_type": "code",
   "execution_count": null,
   "metadata": {},
   "outputs": [],
   "source": []
  },
  {
   "cell_type": "markdown",
   "metadata": {},
   "source": [
    "___"
   ]
  },
  {
   "cell_type": "markdown",
   "metadata": {},
   "source": [
    "___"
   ]
  },
  {
   "cell_type": "markdown",
   "metadata": {},
   "source": [
    "___"
   ]
  },
  {
   "cell_type": "markdown",
   "metadata": {},
   "source": [
    "## <a id='toc4_2_'></a>[🚥 Working with Categories](#toc0_)"
   ]
  },
  {
   "cell_type": "markdown",
   "metadata": {},
   "source": [
    "Karakteristik tipe data `category` yaitu nilai yang berulang pada kolom, dengan kata lain jumlah uniknya cukup sedikit.\n",
    "\n",
    "🔻 Cek kembali tipe data yang belum sesuai:"
   ]
  },
  {
   "cell_type": "code",
   "execution_count": null,
   "metadata": {},
   "outputs": [],
   "source": [
    "household_new.head()"
   ]
  },
  {
   "cell_type": "code",
   "execution_count": null,
   "metadata": {},
   "outputs": [],
   "source": [
    "household_cat = household_new.copy()\n",
    "household_cat.dtypes"
   ]
  },
  {
   "cell_type": "markdown",
   "metadata": {},
   "source": [
    "Kita bisa menggunakan method berikut untuk mengidentifikasi kolom mana yang cocok untuk disimpan ke tipe data `category`\n",
    "\n",
    "- `.unique()` : Melihat nilai-nilai unik pada sebuah **Series** (kolom)\n",
    "- `.nunique()` : Melihat jumlah nilai unik pada sebuah **Series** atau **DataFrame**\n",
    "\n",
    "💡 **Tips** :<br>\n",
    "Ketika kita belum mengetahui variable mana saja yang dapat diubah ke dalam tipe data category, kita dapat melakukan pengecekan terlebih dahulu menggunakan method **`.nunique()`**. Variable yang memiliki nilai berulang, dan cenderung memiliki jumlah yang berbeda secara signifikan dengan jumlah baris data yang kita miliki, dapat digolongkan sebagai tipe data category."
   ]
  },
  {
   "cell_type": "markdown",
   "metadata": {},
   "source": [
    "Mari kita cek kembali tipe data pada object `household_cat`. Manakah yang seharusnya memiliki tipe data category?"
   ]
  },
  {
   "cell_type": "code",
   "execution_count": null,
   "metadata": {},
   "outputs": [],
   "source": [
    "# code here\n",
    "household_cat"
   ]
  },
  {
   "cell_type": "code",
   "execution_count": null,
   "metadata": {},
   "outputs": [],
   "source": [
    "# unique()\n",
    "household_cat"
   ]
  },
  {
   "cell_type": "markdown",
   "metadata": {},
   "source": [
    "- Untuk method `nunique()` objectnya adalah dataframe\n",
    "- Untuk method `unique()` objectnya adalah Series/kolom"
   ]
  },
  {
   "cell_type": "markdown",
   "metadata": {},
   "source": [
    "**❓ Kolom manakah yang seharusnya memiliki format tipe `'category'`?**\n",
    "\n",
    "> Jawaban: "
   ]
  },
  {
   "cell_type": "code",
   "execution_count": null,
   "metadata": {},
   "outputs": [],
   "source": [
    "# code here\n"
   ]
  },
  {
   "cell_type": "markdown",
   "metadata": {},
   "source": [
    "**📝 [Optional] Advantages of Categories**\n",
    "\n",
    "Ada 2 keuntungan mengubah tipe data menjadi `category`:\n",
    "\n",
    "**1️⃣ Pertama: Memory Efficient <br>**\n",
    "Kita dapat membandingkan dua Data Frame **sebelum dan sesudah** kolom dikonversi ke tipe data `category`:\n",
    "- `household_new` (before): ...\n",
    "- `household_cat` (after): ..."
   ]
  },
  {
   "cell_type": "code",
   "execution_count": null,
   "metadata": {},
   "outputs": [],
   "source": [
    "# check penggunaan memory SEBELUM konversi menjadi category\n",
    "household_new.info()"
   ]
  },
  {
   "cell_type": "code",
   "execution_count": null,
   "metadata": {},
   "outputs": [],
   "source": [
    "# check penggunaan memory SESUDAH konversi menjadi category\n",
    "household_cat.info()"
   ]
  },
  {
   "cell_type": "markdown",
   "metadata": {},
   "source": [
    "**2️⃣ Kedua: Accessor Category `.cat`**<br>\n",
    "Sama seperti tipe data `datetime64[ns]` yang memiliki accessor `.dt`, tipe data `category` memiliki accessor `.cat`. Berikut adalah beberapa contohnya:"
   ]
  },
  {
   "cell_type": "markdown",
   "metadata": {},
   "source": [
    "🔻 `cat.categories`; Mengetahui kategori dari sebuah kolom category:"
   ]
  },
  {
   "cell_type": "code",
   "execution_count": null,
   "metadata": {},
   "outputs": [],
   "source": [
    "household_cat['dayofweek'].cat.categories"
   ]
  },
  {
   "cell_type": "markdown",
   "metadata": {},
   "source": [
    "🔻 Mengurutkan kategori dari sebuah kolom category yang bersifat **ordinal** (tipe data kategori yang ada urutannya) dengan `.cat.reorder_categories`"
   ]
  },
  {
   "cell_type": "markdown",
   "metadata": {},
   "source": [
    "Data ordinal:\n",
    "- Ukuran baju -> s M L XL\n",
    "- Tingkat pendidikan \n",
    "- Hari"
   ]
  },
  {
   "cell_type": "code",
   "execution_count": null,
   "metadata": {},
   "outputs": [],
   "source": [
    "ordered_dayofweek = ['Monday', 'Tuesday', 'Wednesday', 'Thursday', 'Friday', 'Saturday', 'Sunday']\n",
    "household_cat['dayofweek'] = household_cat['dayofweek'].cat.reorder_categories(ordered_dayofweek)"
   ]
  },
  {
   "cell_type": "code",
   "execution_count": null,
   "metadata": {},
   "outputs": [],
   "source": [
    "# cek kembali, pengurutan sudah sesuai dengan yang kita inginkan\n",
    "household_cat['dayofweek'].cat.categories"
   ]
  },
  {
   "cell_type": "markdown",
   "metadata": {},
   "source": [
    "> Masih banyak fungsionalitas tipe data category yang dapat Anda eksplor. Silahkan merujuk ke [dokumentasi accessor .cat](https://pandas.pydata.org/pandas-docs/stable/reference/series.html#categorical-accessor) untuk daftar lebih lengkapnya."
   ]
  },
  {
   "cell_type": "markdown",
   "metadata": {},
   "source": [
    "# <a id='toc5_'></a>[📝 Summary Day 1: Knowledge Check](#toc0_)"
   ]
  },
  {
   "cell_type": "markdown",
   "metadata": {},
   "source": [
    "1. Berikut yang **bukan** tujuan dari Exploratory Data Analisis (EDA) adalah:\n",
    "\n",
    "    - [ ] A. Mengetahui pola pada data\n",
    "    - [ ] B. Mencari anomali pada data\n",
    "    - [ ] C. Mencari jawaban dari pertanyaan bisnis yang kita punya\n",
    "    - [ ] D. Menganalisis hingga mendapatkan suatu insight\n",
    "    - [ ] E. Semua benar\n",
    "    \n",
    "    \n",
    "2. Berikut yang **bukan** merupakan tools untuk melakukan investigasi struktur pada data kita adalah:\n",
    "\n",
    "    - [ ] A. `df.head()`\n",
    "    - [ ] B. `df.info()`\n",
    "    - [ ] C. `df.astype()` \n",
    "    - [ ] D. `df.dtypes` \n",
    "    - [ ] E. `df.columns` \n",
    "    - [ ] F. Semua benar\n",
    "    \n",
    "\n",
    "3. Untuk mengubah tipe data menjadi datetime dapat menggunakan 3 cara yaitu `.astype()`, `parse_dates` dan `pd.to_datetime()`, manakah pernyataan berikut yang **salah** terkait dari ketiganya:\n",
    "\n",
    "    - [ ] A. `pd.to_datetime` digunakan ketika format tanggal kita berawalan hari/tanggal\n",
    "    - [ ] B. `.astype()` digunakan ketika format tanggal kita hanya bulan dan tanggal\n",
    "    - [ ] C. Parameter `parse_dates` dapat digunakan ketika kita sudah terbiasa dengan data yang kita olah\n",
    "    - [ ] D. Semua benar\n",
    "    \n",
    "    \n",
    "4. Berikut adalah alasan kita menyesuaikan tipe data pada kolom..\n",
    "\n",
    "    - [ ] A. Untuk bisa mengoperasikan data \n",
    "    - [ ] B. Untuk bisa mengambil dan mengekstrak beberapa komponen \n",
    "    - [ ] C. Untuk bisa dianalisis lebih lanjut\n",
    "    - [ ] D. Untuk mengehemat penggunaan memory\n",
    "    - [ ] E. Semua benar\n",
    "\n"
   ]
  },
  {
   "cell_type": "markdown",
   "metadata": {},
   "source": [
    "___"
   ]
  },
  {
   "cell_type": "markdown",
   "metadata": {},
   "source": [
    "---\n",
    "---"
   ]
  },
  {
   "cell_type": "markdown",
   "metadata": {},
   "source": [
    "# <a id='toc6_'></a>[Data Analysis](#toc0_)"
   ]
  },
  {
   "cell_type": "code",
   "execution_count": null,
   "metadata": {},
   "outputs": [],
   "source": [
    "# menimpa object household dengan tipe data yang sudah disesuaikan\n",
    "household = household_cat.copy()"
   ]
  },
  {
   "cell_type": "markdown",
   "metadata": {},
   "source": [
    "## <a id='toc6_1_'></a>[Frequency Tables / Contingency Tables](#toc0_)\n",
    "\n",
    "**Goal**: untuk menghitung nilai frekuensi/kemunculan suatu kategori data."
   ]
  },
  {
   "cell_type": "markdown",
   "metadata": {},
   "source": [
    "### <a id='toc6_1_1_'></a>[**Method `.value_counts()`**](#toc0_)"
   ]
  },
  {
   "cell_type": "markdown",
   "metadata": {},
   "source": [
    "**Kegunaan**: Menghitung jumlah baris pada setiap category dalam 1 kolom, dan **defaultnya diurutkan secara descending**"
   ]
  },
  {
   "cell_type": "markdown",
   "metadata": {},
   "source": [
    "❓ Toko kita butuh melakukan stock opname sehingga perlu tahu jenis market mana yang paling banyak melakukan transaksi berdasarkan data `household`?"
   ]
  },
  {
   "cell_type": "code",
   "execution_count": null,
   "metadata": {},
   "outputs": [],
   "source": []
  },
  {
   "cell_type": "markdown",
   "metadata": {},
   "source": [
    "> **📈 Insight:**\n"
   ]
  },
  {
   "cell_type": "markdown",
   "metadata": {},
   "source": [
    "🚀 **Knowledge Check - Promotion Analysis** \n",
    "\n",
    "Sekarang kita ingin tahu hari apa yang banyak dilakukan transaski? Kira-kira promosi paling oke diadakan pada hari apa?"
   ]
  },
  {
   "cell_type": "code",
   "execution_count": null,
   "metadata": {},
   "outputs": [],
   "source": [
    "# code here\n"
   ]
  },
  {
   "cell_type": "markdown",
   "metadata": {},
   "source": [
    "> **📈 Insight:**\n"
   ]
  },
  {
   "cell_type": "markdown",
   "metadata": {},
   "source": [
    "### <a id='toc6_1_2_'></a>[**Cross Tabulation `pd.crosstab()`**](#toc0_)\n",
    "\n",
    "Selain menggunakan method `value_counts()`, kita juga dapat menggunakan fungsi `crosstab()` yang telah disediakan oleh `pandas` untuk menghitung frekuensi pada data. Syntax yang digunakan untuk menggunakan fungsi `crosstab()` adalah :\n",
    "\n",
    "```python\n",
    "pd.crosstab(index=x,\n",
    "            columns=y)\n",
    "```\n",
    "\n",
    "dimana :\n",
    "- index : kolom yang akan dijadikan index baris (axis 0)\n",
    "- columns : kolom yang akan dijadikan index kolom (axis 1)"
   ]
  },
  {
   "cell_type": "markdown",
   "metadata": {},
   "source": [
    "🔻 Dengan permasalahan yang sama, mari kita lihat banyaknya transaksi di setiap harinya (`dayofweek`) menggunakan fungsi **`crosstab`**"
   ]
  },
  {
   "cell_type": "code",
   "execution_count": null,
   "metadata": {},
   "outputs": [],
   "source": [
    "# menggunakan crosstab"
   ]
  },
  {
   "cell_type": "markdown",
   "metadata": {},
   "source": [
    "❓ Coba tampilkan hari dengan frekuensi transaksi terkecil"
   ]
  },
  {
   "cell_type": "markdown",
   "metadata": {},
   "source": [
    "Kita coba **mengurutkan hasil cross tabulation** berdasarkan kolom tertentu dengan `sort_values()`. Parameter pada `sort_values()`:\n",
    "- `by` : nama kolom\n",
    "- `ascending`: default = `True` diurutkan berdasarkan nilai terkecil ke terbesar"
   ]
  },
  {
   "cell_type": "code",
   "execution_count": null,
   "metadata": {},
   "outputs": [],
   "source": [
    "# code here\n"
   ]
  },
  {
   "cell_type": "markdown",
   "metadata": {},
   "source": [
    "❓ **Barang manakah yang paling laku?** <br>\n",
    "\n",
    "Tinjau frekuensi transaksi berdasarkan barang (`sub_category`) dan urutkanlah!"
   ]
  },
  {
   "cell_type": "code",
   "execution_count": null,
   "metadata": {},
   "outputs": [],
   "source": [
    "# code here\n"
   ]
  },
  {
   "cell_type": "markdown",
   "metadata": {},
   "source": [
    "**2 Factor Crosstab**\n",
    "\n",
    "🔻 Pada bagian sebelumnya, kita tahu bahwa barang dengan transaksi terbanyak adalah **Detergent**. Selanjutnya kita ingin tahu `format` market manakah yang paling banyak transaksi barang tersebut: "
   ]
  },
  {
   "cell_type": "code",
   "execution_count": null,
   "metadata": {},
   "outputs": [],
   "source": [
    "# code here\n"
   ]
  },
  {
   "cell_type": "markdown",
   "metadata": {},
   "source": [
    "> **📈 Insight:**\n"
   ]
  },
  {
   "cell_type": "markdown",
   "metadata": {},
   "source": [
    "<div class=\"alert alert-info\">\n",
    "<p>\n",
    "\n",
    "💬 **[Diskusi]** Dari tabel frekuensi di atas:\n",
    "\n",
    "🔻 Bagaimana kalau kita ingin menghitung jumlah **frekuensi per baris/kolom**? <br>\n",
    "🔻 Bagaimana kalau kita ingin melihat **proporsi** atau dalam **persentase**?\n",
    "\n",
    "</p>\n",
    "</div> "
   ]
  },
  {
   "cell_type": "markdown",
   "metadata": {},
   "source": [
    "#### <a id='toc6_1_2_1_'></a>[Parameter: Margins](#toc0_)"
   ]
  },
  {
   "cell_type": "markdown",
   "metadata": {},
   "source": [
    "Menambahkan baris atau kolom margins yang menampung nilai subtotal"
   ]
  },
  {
   "cell_type": "markdown",
   "metadata": {},
   "source": [
    "🔻 Hitung total frekuensi transaksi untuk penjualan barang (`sub_category`) di setiap segmen pasar (format)"
   ]
  },
  {
   "cell_type": "code",
   "execution_count": null,
   "metadata": {},
   "outputs": [],
   "source": [
    "# code here\n"
   ]
  },
  {
   "cell_type": "markdown",
   "metadata": {},
   "source": [
    "Note: Parameter pada crosstab\n",
    "- `margins = True` : menambahkan kolom subtotal\n",
    "- `margins_name = 'isikan nama kolom'` : nama kolom yang diinginkan "
   ]
  },
  {
   "cell_type": "markdown",
   "metadata": {},
   "source": [
    "#### <a id='toc6_1_2_2_'></a>[Parameter: Normalize](#toc0_)"
   ]
  },
  {
   "cell_type": "markdown",
   "metadata": {},
   "source": [
    "Tujuannya adalah melakukan normalisasi untuk setiap value dengan cara membagi keseluruhan nilai hasil `crosstab` dengan jumlah nilai atau **tabel proporsi**\n",
    "\n",
    "Jika parameter normalize bernilai:\n",
    "- `'all'` atau `True` : melakukan normalisasi untuk keseluruhan nilai\n",
    "- `'index'` : melakukan normalisasi pada setiap **baris**\n",
    "- `'columns'` : melakukan normalisasi pada setiap **kolom**"
   ]
  },
  {
   "cell_type": "markdown",
   "metadata": {},
   "source": [
    "**Normalize by all**"
   ]
  },
  {
   "cell_type": "code",
   "execution_count": null,
   "metadata": {},
   "outputs": [],
   "source": [
    "# code here\n"
   ]
  },
  {
   "cell_type": "markdown",
   "metadata": {},
   "source": [
    "**Normalize by Index**\n",
    "\n",
    "`normalize='index'` artinya tiap nilai dibagi dengan jumlah per **index**nya. Dengan kata lain, jumlah persentase per index = 100%"
   ]
  },
  {
   "cell_type": "code",
   "execution_count": null,
   "metadata": {},
   "outputs": [],
   "source": [
    "# code here\n"
   ]
  },
  {
   "cell_type": "markdown",
   "metadata": {},
   "source": [
    "> **📈 Insight:**\n"
   ]
  },
  {
   "cell_type": "markdown",
   "metadata": {},
   "source": [
    "**Normalize by Columns**\n",
    "\n",
    "`normalize='columns'` artinya tiap nilai dibagi dengan jumlah per **columns**nya. Dengan kata lain, jumlah persentase per column = 100%"
   ]
  },
  {
   "cell_type": "code",
   "execution_count": null,
   "metadata": {},
   "outputs": [],
   "source": [
    "# code here\n"
   ]
  },
  {
   "cell_type": "markdown",
   "metadata": {},
   "source": [
    "> **📈 Insight:**\n"
   ]
  },
  {
   "cell_type": "markdown",
   "metadata": {},
   "source": [
    "# <a id='toc7_'></a>[📝 Summary Day 2](#toc0_)\n",
    "\n",
    "Tabel Frekuensi/Contingency --> digunakan untuk menghitung nilai frekuensi atau kemunculan data\n",
    "1. `.value_counts()` : \n",
    "    - `sort=True` : \n",
    "    - `sort=False` : \n",
    "    - `ascending=True`: \n",
    "    - `ascending=False`: \n",
    "2. `pd.crosstab()`   : \n",
    "    - `index`: \n",
    "    - `colums`: \n",
    "    - `margins`: \n",
    "    - `normalize`: \n",
    "        1. `normalize=True` \n",
    "        2. `normalize='all'` \n",
    "        3. `normalize='index'`\n",
    "        4. `normalize='columns'`\n",
    "3. `.sort_values()`\n",
    "    + `by=\"kolom\"`\n",
    "    + `ascending=False`\n",
    "    + `ascending=True`"
   ]
  },
  {
   "cell_type": "markdown",
   "metadata": {},
   "source": [
    "--- END OF DAY 2 ---\n",
    "\n",
    "\n",
    "--- START OF DAY 3 ---"
   ]
  },
  {
   "cell_type": "markdown",
   "metadata": {},
   "source": [
    "## <a id='toc7_1_'></a>[Aggregation Table](#toc0_)\n",
    "\n",
    "Selain menghitung frekuensi kemunculan data, kita juga dapat menggunakan crosstab untuk melakukan agregasi. Pada parameter crosstab, Anda dapat menambahkan parameter `values` sebagai nilai yang diagregasikan dan `aggfunc` sebagai nilai statistika yang dipakai untuk melakukan agregasi."
   ]
  },
  {
   "cell_type": "markdown",
   "metadata": {},
   "source": [
    "### <a id='toc7_1_1_'></a>[`pd.crosstab()`](#toc0_)"
   ]
  },
  {
   "cell_type": "markdown",
   "metadata": {},
   "source": [
    "```{python}\n",
    "pd.crosstab(index=...,\n",
    "            columns=...,\n",
    "            values=numerical_columns\n",
    "            aggfunc=agg_function)\n",
    "```\n",
    "\n",
    "Beberapa contoh `aggfunc`:\n",
    "- mean\n",
    "- median\n",
    "- min\n",
    "- max\n",
    "- std\n",
    "- count: jumlah baris (tabel frekuensi)\n",
    "- sum"
   ]
  },
  {
   "cell_type": "markdown",
   "metadata": {},
   "source": [
    "❓ **Case: Analisis Harga Pasar** - Sebagai seorang Data Analyst kita diminta menganalisis harga rata-rata dari setiap sub category barangnya."
   ]
  },
  {
   "cell_type": "code",
   "execution_count": null,
   "metadata": {},
   "outputs": [],
   "source": [
    "# code here\n"
   ]
  },
  {
   "cell_type": "markdown",
   "metadata": {},
   "source": [
    "> **📈 Insight:**\n",
    "..."
   ]
  },
  {
   "cell_type": "markdown",
   "metadata": {},
   "source": [
    "❓ **Case: Cheapest Rice**\n",
    "\n",
    "🤶 Bu Susi ingin membeli kebutuhan pokok berupa `Rice`. Seperti kebanyakan Ibu-Ibu, ia menginginkan harga termurah. Apa format toko yang bisa kita rekomendasikan untuk Ibunya datangi? *Hint*: Kita dapat meninjau berdasarkan nilai `mean`.\n"
   ]
  },
  {
   "cell_type": "code",
   "execution_count": null,
   "metadata": {
    "scrolled": true
   },
   "outputs": [],
   "source": [
    "# code here\n"
   ]
  },
  {
   "cell_type": "markdown",
   "metadata": {},
   "source": [
    "> **📈 Insight:** "
   ]
  },
  {
   "cell_type": "markdown",
   "metadata": {},
   "source": [
    "❓ **Case: Sales Performance**\n",
    "\n",
    "Divisi sales ingin mengetahui pada periode kuarter (year-quarter) berapakah hypermarket mencapai total sales tertingginya?\n",
    "\n",
    "1. Buatlah kolom `total_sales` yang merupakan perkalian `quantity` dan `unit_price` untuk setiap barisnya\n",
    "2. Partisi kolom `purchase_time` untuk mendapatkan periode kuarter `quarter`\n",
    "2. Dengan menggunakan nilai `total_sales`, hitunglah total penjualan per kuarter untuk masing-masing `format`\n",
    "3. Cari tahu kapan hypermarket menyentuh `total_sales` tertingginya"
   ]
  },
  {
   "cell_type": "code",
   "execution_count": null,
   "metadata": {},
   "outputs": [],
   "source": [
    "# no 1\n"
   ]
  },
  {
   "cell_type": "code",
   "execution_count": null,
   "metadata": {},
   "outputs": [],
   "source": [
    "# no 2\n"
   ]
  },
  {
   "cell_type": "code",
   "execution_count": null,
   "metadata": {},
   "outputs": [],
   "source": [
    "# no 3\n"
   ]
  },
  {
   "cell_type": "markdown",
   "metadata": {},
   "source": [
    "> **📈 Insight:**"
   ]
  },
  {
   "cell_type": "markdown",
   "metadata": {},
   "source": [
    "---"
   ]
  },
  {
   "cell_type": "markdown",
   "metadata": {},
   "source": [
    "### <a id='toc7_1_2_'></a>[(Optional) Higher Dimensional Table](#toc0_)"
   ]
  },
  {
   "cell_type": "markdown",
   "metadata": {},
   "source": [
    "Higher dimensional tabel bisa juga disebut sebagai multi-index dataframe (data yang memiliki lebih dari 1 index). Digunakan untuk melakukan proses tabulasi silang dengan menggunakan beberapa kolom kategori."
   ]
  },
  {
   "cell_type": "markdown",
   "metadata": {},
   "source": [
    "Berikut adalah contoh crosstab dengan empat kategori pengelompokkan untuk mengetahui jumlah barang (`quantity`) yang terjual untuk masing-masing `sub_category` dan `format`, dibedakan per `yearmonth` dan `dayofweek`:"
   ]
  },
  {
   "cell_type": "code",
   "execution_count": null,
   "metadata": {},
   "outputs": [],
   "source": [
    "pd.crosstab(\n",
    "    index = [household['yearmonth'], household['dayofweek']],\n",
    "    columns = [household['sub_category'], household['format']],\n",
    "    values = household['quantity'],\n",
    "    aggfunc = 'sum')"
   ]
  },
  {
   "cell_type": "code",
   "execution_count": null,
   "metadata": {},
   "outputs": [],
   "source": [
    "# menambahkan 2 aggfunc\n",
    "pd.crosstab(index = household['format'],\n",
    "            columns = household['quarter'],\n",
    "            values = household['total_sales'],\n",
    "            aggfunc = ['sum', 'mean'])"
   ]
  },
  {
   "cell_type": "markdown",
   "metadata": {},
   "source": [
    "---"
   ]
  },
  {
   "cell_type": "markdown",
   "metadata": {},
   "source": [
    "### <a id='toc7_1_3_'></a>[`pd.pivot_table`](#toc0_)"
   ]
  },
  {
   "cell_type": "markdown",
   "metadata": {},
   "source": [
    "Cara kerja `pivot_table` tidak jauh berbeda dengan `crosstab()`. Parameter di kedua method inipun hampir sama. Yang membedakan di antara keduanya adalah adanya parameter `data` yang menspesifikasikan dataframe yang akan di pakai pada `pivot_table`\n",
    "\n",
    "Syntax:\n",
    "\n",
    "```{python}\n",
    "pd.pivot_table(\n",
    "    data=...,\n",
    "    index=...,\n",
    "    columns=...,\n",
    "    values=...,\n",
    "    aggfunc=...\n",
    ")\n",
    "```\n",
    "\n",
    "OR\n",
    "\n",
    "```{python}\n",
    "data.pivot_table(\n",
    "    index=...,\n",
    "    columns=...,\n",
    "    values=...,\n",
    "    aggfunc=...\n",
    ")\n",
    "```\n",
    "\n",
    "Kita dapat menggunakan `pivot_table` dengan beberapa parameter sebagai berikut.\n",
    "- `data`: dataframe yang kita gunakan\n",
    "- `index`: kolom yang akan menjadi index row\n",
    "- `columns`: kolom yang akan menjadi index kolom\n",
    "- `values`: nilai yang digunakan untuk mengisi tabel\n",
    "- `aggfunc`: fungsi agregasi"
   ]
  },
  {
   "cell_type": "markdown",
   "metadata": {},
   "source": [
    "Untuk memahami penggunaan `pivot_table`, mari kita bandingkan tabel agregasi yang dibuat menggunakan `crosstab` dan `pivot_table`.\n",
    "\n",
    "Berikut crosstab yang menampilkan rata-rata harga satuan `sub_category` untuk masing-masing `format` dari topik Bu Susi sebelumnya."
   ]
  },
  {
   "cell_type": "code",
   "execution_count": null,
   "metadata": {},
   "outputs": [],
   "source": [
    "pd.crosstab(\n",
    "    index=household['sub_category'], \n",
    "    columns=household['format'], \n",
    "    values=household['unit_price'],\n",
    "    aggfunc='mean'\n",
    ")"
   ]
  },
  {
   "cell_type": "markdown",
   "metadata": {},
   "source": [
    "🔻 Buat ulang tabel agregasi di atas menggunakan `pd.pivot_table()`. Secara default, `aggfunc='mean'`"
   ]
  },
  {
   "cell_type": "code",
   "execution_count": null,
   "metadata": {},
   "outputs": [],
   "source": [
    "# code here\n",
    "# alternatif penulisan pertama\n"
   ]
  },
  {
   "cell_type": "markdown",
   "metadata": {},
   "source": [
    "🔻 Kita juga dapat menggunakan `.pivot_table()` sebagai method pada sebuah objek dataframe:"
   ]
  },
  {
   "cell_type": "code",
   "execution_count": null,
   "metadata": {},
   "outputs": [],
   "source": [
    "# alternatif penulisan kedua\n"
   ]
  },
  {
   "cell_type": "markdown",
   "metadata": {},
   "source": [
    "### <a id='toc7_1_4_'></a>[🤿 Dive Deeper: Analisis Lebaran ✨🌙](#toc0_)\n",
    "\n",
    "Dikarenakan akan memasuki waktu lebaran 2025, mari kita amati behaviour transaksi yang terjadi mendekati hari raya pada tahun sebelumnya. \n",
    "\n",
    "**Berapa banyak total quantity dan berapa rata-rata quantity orang membeli barang pada setiap `format` market dan `sub_category`nya?**\n",
    "\n",
    "Harapannya dengan kita mengetahui hal tersebut, kita dapat memastikan bahwa stok barang tersedia dan tidak ada kelangkaan.\n",
    "\n",
    "*Hint*: Hari raya Idul Fitri tahun 2018 jatuh pada bulan Juni."
   ]
  },
  {
   "cell_type": "code",
   "execution_count": null,
   "metadata": {},
   "outputs": [],
   "source": []
  },
  {
   "cell_type": "markdown",
   "metadata": {},
   "source": [
    "## <a id='toc7_2_'></a>[📝 Summary: Tables in `pandas`](#toc0_)"
   ]
  },
  {
   "cell_type": "markdown",
   "metadata": {},
   "source": [
    "📝 **Pandas Table Summary**\n",
    "<br>\n",
    "**1. Frequency Tables:**<br>\n",
    "- Kegunaan: ...\n",
    "- Method: \n",
    "    1. `.value_counts()` \n",
    "    2. `pd.crosstab` \n",
    "    3. `pd.pivot_table` \n",
    "    \n",
    "**2. Aggregation Tables:**\n",
    "- Kegunaan: ...\n",
    "- Method:\n",
    "    1. `pd.crosstab()` \n",
    "    2. `pd.pivot_table()`"
   ]
  },
  {
   "cell_type": "markdown",
   "metadata": {},
   "source": [
    "Perbedaan mendasar antara `crosstab` and `pivot_table`:\n",
    "\n",
    "|                                                                                    | `pd.crosstab()` | `pd.pivot_table()` |\n",
    "|------------------------------------------------------------------------------------|-----------------|--------------------|\n",
    "|                                                                          **Input** |Series |          DataFrame |\n",
    "|                                                              **Default `aggfunc`** |       `'count'` |           `'mean'` |\n",
    "|                                                          **Parameter `normalize`** |       Available |      Not Available |\n",
    "| [**Computation Time**](https://ramiro.org/notebook/pandas-crosstab-groupby-pivot/) | Relatively Slower |  Relatively Faster |"
   ]
  },
  {
   "cell_type": "markdown",
   "metadata": {},
   "source": [
    "# <a id='toc8_'></a>[Missing Values and Duplicates](#toc0_)\n",
    "\n",
    "Dalam melakukan pengolahan data, tidak semua data yang kita miliki adalah data yang \"tidy\". Ada kemungkinan bahwa data kita memiliki nilai yang hilang, memiliki nilai yang berulang, dan memiliki nilai yang tidak sesuai dengan nilai kolom yang seharusnya (misal usia memiliki nilai minus). \n",
    "\n",
    "Untuk mengatasi hal tersebut, kita dapat melakukan beberapa metode penanganan pada data yang hilang (missing value) atau data yang duplikat (duplicates value)"
   ]
  },
  {
   "cell_type": "markdown",
   "metadata": {},
   "source": [
    "## <a id='toc8_1_'></a>[Missing Values](#toc0_)"
   ]
  },
  {
   "cell_type": "markdown",
   "metadata": {},
   "source": [
    "Bacalah data `household-missing.csv` yang merupakan data `household` yang telah dimanipulasi sedemikian rupa agar terdapat nilai missing."
   ]
  },
  {
   "cell_type": "code",
   "execution_count": null,
   "metadata": {},
   "outputs": [],
   "source": [
    "# read data\n"
   ]
  },
  {
   "cell_type": "markdown",
   "metadata": {},
   "source": [
    "**✏️ Values**:\n",
    "\n",
    "- `NaN`: Not a Number, for object, category, and numeric\n",
    "- `NaT`: Not a Time, for datetime64[ns]"
   ]
  },
  {
   "cell_type": "markdown",
   "metadata": {},
   "source": [
    "Parameter `na_values` pada `pd.read_csv()` : untuk mendefinisikan suatu nilai NA \n",
    "\n",
    "```\n",
    "na_valuesHashable, Iterable of Hashable or dict of {HashableIterable}, optional\n",
    "Additional strings to recognize as NA/NaN. If dict passed, specific per-column NA values. By default the following values are interpreted as NaN: “ “, “#N/A”, “#N/A N/A”, “#NA”, “-1.#IND”, “-1.#QNAN”, “-NaN”, “-nan”, “1.#IND”, “1.#QNAN”, “<NA>”, “N/A”, “NA”, “NULL”, “NaN”, “None”, “n/a”, “nan”, “null “.\n",
    "```"
   ]
  },
  {
   "cell_type": "markdown",
   "metadata": {},
   "source": [
    "### <a id='toc8_1_1_'></a>[Cek Missing Value](#toc0_)\n",
    "\n",
    "Untuk melakukan pengecekan terhadap ada atau tidaknya missing value pada data, metode yang paling umum digunakan adalah:\n",
    "> `.isna()` : menghasilkan `True` apabila **missing**"
   ]
  },
  {
   "cell_type": "code",
   "execution_count": null,
   "metadata": {},
   "outputs": [],
   "source": [
    "# isna()\n"
   ]
  },
  {
   "cell_type": "markdown",
   "metadata": {},
   "source": [
    "Menghitung jumlah missing value pada setiap kolom:\n",
    "\n",
    "- `True` akan dihitung sebagai 1\n",
    "- `False` akan dihitung sebagai 0\n",
    "\n",
    "Cara yang biasa digunakan untuk menggunakan method `.isna()` adalah mengombinasikannya dengan method `.sum()` sehingga outputnya berupa jumlah nilai `NaN` yang terletak pada setiap kolomnya."
   ]
  },
  {
   "cell_type": "code",
   "execution_count": null,
   "metadata": {},
   "outputs": [],
   "source": [
    "# melihat total nilai missing untuk setiap kolom\n"
   ]
  },
  {
   "cell_type": "markdown",
   "metadata": {},
   "source": [
    "### <a id='toc8_1_2_'></a>[Treatment Missing Values](#toc0_)\n",
    "\n",
    "Beberapa cara umum untuk menangani missing values:\n",
    "\n",
    "1. Hapus baris atau kolom: Menggunakan metode `dropna()`\n",
    "2. Replace NA dengan nilai `mean`, `median`, `modus` dll\n",
    "3. Tetap mempertahankan data kita"
   ]
  },
  {
   "cell_type": "markdown",
   "metadata": {},
   "source": [
    "#### <a id='toc8_1_2_1_'></a>[Hapus Baris yang NA](#toc0_)"
   ]
  },
  {
   "cell_type": "markdown",
   "metadata": {},
   "source": [
    "- `.dropna(how='any')`: hapus baris apabila memiliki **minimal 1 kolom** nilai missing value -> default parameter\n",
    "\n",
    "- `.dropna(how='all')`: harus baris apabila memiliki **semua kolom** nilai missing\n",
    "\n",
    "- `.dropna(thresh=...)`: hapus baris apabila nilai **non-missing** < `thresh` "
   ]
  },
  {
   "cell_type": "code",
   "execution_count": null,
   "metadata": {},
   "outputs": [],
   "source": [
    "# dropna\n"
   ]
  },
  {
   "cell_type": "code",
   "execution_count": null,
   "metadata": {},
   "outputs": [],
   "source": [
    "# how = 'any'\n"
   ]
  },
  {
   "cell_type": "code",
   "execution_count": null,
   "metadata": {},
   "outputs": [],
   "source": [
    "# how = 'all'\n"
   ]
  },
  {
   "cell_type": "code",
   "execution_count": null,
   "metadata": {},
   "outputs": [],
   "source": [
    "# thresh = 3, minimal harus ada 3 kolom yang TIDAK MISSING agar dipertahankan < thresh\n"
   ]
  },
  {
   "cell_type": "markdown",
   "metadata": {},
   "source": [
    "#### <a id='toc8_1_2_2_'></a>[Missing Value Imputation](#toc0_)"
   ]
  },
  {
   "cell_type": "markdown",
   "metadata": {},
   "source": [
    "Kita akan melakukan imputasi terhadap data yang mengandung missing value menggunakan metode `.fillna()`.\n",
    "\n",
    "💡 **Tips** untuk imputasi:\n",
    "\n",
    "Untuk kolom kategorik:\n",
    "- Menggunakan `NA` sebagai salah satu dari kategori\n",
    "- Isi menggunakan pusat data (`mode` = modus)\n",
    "\n",
    "Untuk kolom numerik:\n",
    "- Isi menggunakan pusat data seperti `mean` atau `median`\n",
    "- Isi dengan nilai tertentu -> misalkan 0\n",
    "\n",
    "Untuk kolom datetime:\n",
    "- Menggunakan metode `bfill` : melakukan imputasi dari bawah ke atas\n",
    "- Menggunakan metode `ffill` : melakukan imputasi dari atas ke bawah\n",
    "\n",
    "[Dokumentasi EDA untuk bfill dan ffill:](https://docs.google.com/spreadsheets/d/1iiASkHlWxVZ1hhrlv3RxODZscPUqSeOBwYpVKLEoQcs/edit?usp=sharing)"
   ]
  },
  {
   "cell_type": "code",
   "execution_count": null,
   "metadata": {},
   "outputs": [],
   "source": [
    "# cek kembali data\n"
   ]
  },
  {
   "cell_type": "markdown",
   "metadata": {},
   "source": [
    "❓ Tinjau beberapa kolom yang missing value dan diskusikan imputasi yang cocok\n",
    "\n",
    "- `purchase_time` (anggapan data terurut berdasarkan waktu): bfill\n",
    "- `category` (buat kategori baru): 'unknown'\n",
    "- `format` (buat kategori baru): 'unknown'\n",
    "- `unit_price` (isi dengan pusat data): 'mean'\n",
    "- `discount` (anggapan tidak ada discount): 0\n",
    "- `quantity` (anggapan tidak ada item terjual): 0\n",
    "- `weekday` (disamakan dengan purchase_time): bfill\n",
    "dokumentasi: https://pandas.pydata.org/docs/reference/api/pandas.DataFrame.fillna.html"
   ]
  },
  {
   "cell_type": "code",
   "execution_count": null,
   "metadata": {},
   "outputs": [],
   "source": [
    "# code here: imputasi kolom purchase_time dan weekday\n"
   ]
  },
  {
   "cell_type": "code",
   "execution_count": null,
   "metadata": {},
   "outputs": [],
   "source": [
    "# code here: imputasi kolom category dan format\n"
   ]
  },
  {
   "cell_type": "code",
   "execution_count": null,
   "metadata": {},
   "outputs": [],
   "source": [
    "# code here: imputasi kolom discount dan quantity\n"
   ]
  },
  {
   "cell_type": "code",
   "execution_count": null,
   "metadata": {},
   "outputs": [],
   "source": [
    "# code here: imputasi kolom unit_price dengan pusat data\n"
   ]
  },
  {
   "cell_type": "code",
   "execution_count": null,
   "metadata": {},
   "outputs": [],
   "source": [
    "# cek kembali missing value\n"
   ]
  },
  {
   "cell_type": "markdown",
   "metadata": {},
   "source": [
    "## <a id='toc8_2_'></a>[Duplicated Values](#toc0_)"
   ]
  },
  {
   "cell_type": "markdown",
   "metadata": {},
   "source": [
    "### <a id='toc8_2_1_'></a>[Check Duplicated Values](#toc0_)\n",
    "\n",
    "Informasi yang sifatnya duplikat merupakan informasi yang redundan karena hanya mengulang informasi yang sama.\n",
    "\n",
    "Maka dari itu mari kita coba perhatikan pada data kita apakah terdapat nilai yang sifatnya duplikat dengan menggunakan method `duplicated()` dilanjutkan dengan method `sum()`."
   ]
  },
  {
   "cell_type": "code",
   "execution_count": null,
   "metadata": {},
   "outputs": [],
   "source": [
    "# code here\n"
   ]
  },
  {
   "cell_type": "markdown",
   "metadata": {},
   "source": [
    "### <a id='toc8_2_2_'></a>[Handling Duplicate Data](#toc0_)"
   ]
  },
  {
   "cell_type": "markdown",
   "metadata": {},
   "source": [
    "Untuk menangani data yang duplicate, kita bisa menggunakan method `drop_duplicates()`. Cara ini membuat observasi yang duplicated terhapus dan kita bisa mengatur observasi mana yang akan tetap disimpan. \n",
    "\n",
    "**Case:**\n",
    "\n",
    "Cek dimensi dari data `hm`. Hapus baris yang duplicated. Cek kembali dimensi data `hm`untuk memastikan data yang duplicate sudah terhapus."
   ]
  },
  {
   "cell_type": "markdown",
   "metadata": {},
   "source": [
    "**NOTE:** Terdapat 2 macam cara untuk melakukan penghapusan pada nilai duplicate.\n",
    "\n",
    "1. Dengan menambahkan parameter `keep='first'`, maka akan mempertahankan baris teratas dari nilai yang duplicate. (**Default**)\n",
    "2. Dengan menambahkan parameter `keep='last'`, maka akan mempertahankan baris terbawah dari nilai yang duplicate."
   ]
  },
  {
   "cell_type": "code",
   "execution_count": null,
   "metadata": {},
   "outputs": [],
   "source": [
    "# drop_duplicates()\n"
   ]
  },
  {
   "cell_type": "markdown",
   "metadata": {},
   "source": [
    "# <a id='toc9_'></a>[Workflow Data Analysis](#toc0_)\n",
    "1. Define Prolem\n",
    "    - mendefinisikan masalah bisnis\n",
    "    - latar belakang\n",
    "2. Data Preparation\n",
    "    - import data -> pd.read_csv() atau pd.read_excel()\n",
    "    - cek struktur data -> dtypes atau info\n",
    "3. Data Preprocessing\n",
    "    - convert data types\n",
    "    - handling missing values/duplicate data\n",
    "4. Analysis\n",
    "    - feature engineering\n",
    "    - contingency table & aggregate\n",
    "    - insight yang berguna\n",
    "5. Conclusion\n",
    "    - hasil yang didapatkan (dari insight)\n",
    "    - saran "
   ]
  },
  {
   "cell_type": "markdown",
   "metadata": {},
   "source": [
    "# <a id='toc10_'></a>[Inclass Question](#toc0_)"
   ]
  },
  {
   "cell_type": "code",
   "execution_count": null,
   "metadata": {},
   "outputs": [],
   "source": []
  }
 ],
 "metadata": {
  "kernelspec": {
   "display_name": "yoda_da",
   "language": "python",
   "name": "python3"
  },
  "language_info": {
   "codemirror_mode": {
    "name": "ipython",
    "version": 3
   },
   "file_extension": ".py",
   "mimetype": "text/x-python",
   "name": "python",
   "nbconvert_exporter": "python",
   "pygments_lexer": "ipython3",
   "version": "3.12.0"
  }
 },
 "nbformat": 4,
 "nbformat_minor": 2
}
