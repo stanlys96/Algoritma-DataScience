{
 "cells": [
  {
   "cell_type": "markdown",
   "metadata": {},
   "source": [
    "# Quiz: Exploratory Data Analysis\n",
    "\n",
    "Congratulations on completing the Exploratory Data Analysis course! We will conduct an assessment quiz to test your analytical thinking to explore data that you have learned on the course. The quiz is expected to be taken in the classroom, please contact our teaching team if you missed the chance to take it in class."
   ]
  },
  {
   "cell_type": "markdown",
   "metadata": {},
   "source": [
    "# Bukalapak Dataset"
   ]
  },
  {
   "cell_type": "markdown",
   "metadata": {},
   "source": [
    "## Data Preparation\n",
    "\n",
    "\n",
    "We will use **e-commerce product dataset**. You can use the data in the csv file extension stored in the `online_bl.csv` file in `data_input` folder. \n",
    "\n",
    "The data contain information on products sold on the e-commerce website Bukalapak.com. The data has several variables, including: \n",
    "\n",
    "- `item_link` : product website link in the list\n",
    "- `title` : the name of the product being sold\n",
    "- `price_original` : product price\n",
    "- `price_discount` : product discount price\n",
    "- `sub_category` : sub-category product\n",
    "- `time_update` : time to upload product information on the website\n",
    "- `scale` : product unit scale \n",
    "\n",
    "Please import `online_bl.csv` dataset from `data_input` folder and assign it into `online_bl` variable. As our dataset has datetime information, please use `parse_dates=[]` in `read_csv()` method to convert `time_update` column into datetime data type and store it into `online_bl`. \n"
   ]
  },
  {
   "cell_type": "code",
   "execution_count": 2,
   "metadata": {},
   "outputs": [
    {
     "name": "stdout",
     "output_type": "stream",
     "text": [
      "2.2.2\n"
     ]
    },
    {
     "data": {
      "text/html": [
       "<div>\n",
       "<style scoped>\n",
       "    .dataframe tbody tr th:only-of-type {\n",
       "        vertical-align: middle;\n",
       "    }\n",
       "\n",
       "    .dataframe tbody tr th {\n",
       "        vertical-align: top;\n",
       "    }\n",
       "\n",
       "    .dataframe thead th {\n",
       "        text-align: right;\n",
       "    }\n",
       "</style>\n",
       "<table border=\"1\" class=\"dataframe\">\n",
       "  <thead>\n",
       "    <tr style=\"text-align: right;\">\n",
       "      <th></th>\n",
       "      <th>item_link</th>\n",
       "      <th>title</th>\n",
       "      <th>price_original</th>\n",
       "      <th>price_discount</th>\n",
       "      <th>sub_category</th>\n",
       "      <th>time_update</th>\n",
       "      <th>scale</th>\n",
       "    </tr>\n",
       "  </thead>\n",
       "  <tbody>\n",
       "    <tr>\n",
       "      <th>0</th>\n",
       "      <td>https://www.bukalapak.com/p/kesehatan-2359/pro...</td>\n",
       "      <td>Rinso Molto Deterjen Bubuk 1.8 kg</td>\n",
       "      <td>30,000.0</td>\n",
       "      <td>NaN</td>\n",
       "      <td>detergent</td>\n",
       "      <td>2018-10-20 01:32:00</td>\n",
       "      <td>1.8 kg</td>\n",
       "    </tr>\n",
       "    <tr>\n",
       "      <th>1</th>\n",
       "      <td>https://www.bukalapak.com/p/rumah-tangga/home-...</td>\n",
       "      <td>Terlaris - DETERGENT RINSO ANTI NODA 1.8 KG 1 ...</td>\n",
       "      <td>49,000.0</td>\n",
       "      <td>NaN</td>\n",
       "      <td>detergent</td>\n",
       "      <td>2018-09-20 01:02:00</td>\n",
       "      <td>1.8 kg</td>\n",
       "    </tr>\n",
       "    <tr>\n",
       "      <th>2</th>\n",
       "      <td>https://www.bukalapak.com/p/rumah-tangga/home-...</td>\n",
       "      <td>Good Rinso Molto Purple 1.8 Kg</td>\n",
       "      <td>50,000.0</td>\n",
       "      <td>NaN</td>\n",
       "      <td>detergent</td>\n",
       "      <td>2018-10-13 10:46:00</td>\n",
       "      <td>1.8 kg</td>\n",
       "    </tr>\n",
       "    <tr>\n",
       "      <th>3</th>\n",
       "      <td>https://www.bukalapak.com/p/rumah-tangga/home-...</td>\n",
       "      <td>Order Rinso Molto Purple 1.8 Kg</td>\n",
       "      <td>49,000.0</td>\n",
       "      <td>NaN</td>\n",
       "      <td>detergent</td>\n",
       "      <td>2018-09-24 15:17:00</td>\n",
       "      <td>1.8 kg</td>\n",
       "    </tr>\n",
       "    <tr>\n",
       "      <th>4</th>\n",
       "      <td>https://www.bukalapak.com/p/rumah-tangga/home-...</td>\n",
       "      <td>Promonya Rinso Molto Purple 1.8 Kg</td>\n",
       "      <td>49,000.0</td>\n",
       "      <td>NaN</td>\n",
       "      <td>detergent</td>\n",
       "      <td>2018-09-27 11:16:00</td>\n",
       "      <td>1.8 kg</td>\n",
       "    </tr>\n",
       "  </tbody>\n",
       "</table>\n",
       "</div>"
      ],
      "text/plain": [
       "                                           item_link  \\\n",
       "0  https://www.bukalapak.com/p/kesehatan-2359/pro...   \n",
       "1  https://www.bukalapak.com/p/rumah-tangga/home-...   \n",
       "2  https://www.bukalapak.com/p/rumah-tangga/home-...   \n",
       "3  https://www.bukalapak.com/p/rumah-tangga/home-...   \n",
       "4  https://www.bukalapak.com/p/rumah-tangga/home-...   \n",
       "\n",
       "                                               title  price_original  \\\n",
       "0                  Rinso Molto Deterjen Bubuk 1.8 kg        30,000.0   \n",
       "1  Terlaris - DETERGENT RINSO ANTI NODA 1.8 KG 1 ...        49,000.0   \n",
       "2                     Good Rinso Molto Purple 1.8 Kg        50,000.0   \n",
       "3                    Order Rinso Molto Purple 1.8 Kg        49,000.0   \n",
       "4                 Promonya Rinso Molto Purple 1.8 Kg        49,000.0   \n",
       "\n",
       "   price_discount sub_category         time_update   scale  \n",
       "0             NaN    detergent 2018-10-20 01:32:00  1.8 kg  \n",
       "1             NaN    detergent 2018-09-20 01:02:00  1.8 kg  \n",
       "2             NaN    detergent 2018-10-13 10:46:00  1.8 kg  \n",
       "3             NaN    detergent 2018-09-24 15:17:00  1.8 kg  \n",
       "4             NaN    detergent 2018-09-27 11:16:00  1.8 kg  "
      ]
     },
     "execution_count": 2,
     "metadata": {},
     "output_type": "execute_result"
    }
   ],
   "source": [
    "## Import Library & Read Data\n",
    "import pandas as pd\n",
    "import numpy as np\n",
    "print(pd.__version__)\n",
    "\n",
    "# pandas output display setup\n",
    "pd.set_option('display.float_format', lambda x: '%.2f' % x) \n",
    "pd.options.display.float_format = '{:,}'.format\n",
    "online_bl = pd.read_csv(\"data_input/online_bl.csv\", parse_dates=[\"time_update\"])\n",
    "online_bl.head()\n"
   ]
  },
  {
   "cell_type": "markdown",
   "metadata": {},
   "source": [
    "Based on `online_bl` dataset you will perform data exploration to ensure it is ready for analysis. The first thing you will do is data type checking. "
   ]
  },
  {
   "cell_type": "code",
   "execution_count": 3,
   "metadata": {},
   "outputs": [
    {
     "data": {
      "text/plain": [
       "item_link                 object\n",
       "title                     object\n",
       "price_original           float64\n",
       "price_discount           float64\n",
       "sub_category              object\n",
       "time_update       datetime64[ns]\n",
       "scale                     object\n",
       "dtype: object"
      ]
     },
     "execution_count": 3,
     "metadata": {},
     "output_type": "execute_result"
    }
   ],
   "source": [
    "# your code here\n",
    "online_bl.dtypes"
   ]
  },
  {
   "cell_type": "markdown",
   "metadata": {},
   "source": [
    "As we know, `sub_category` column doesn't have appropriate data type. Please change it into the appropriate data type. "
   ]
  },
  {
   "cell_type": "code",
   "execution_count": 19,
   "metadata": {},
   "outputs": [],
   "source": [
    "# your code here\n",
    "online_bl[\"sub_category\"] = online_bl[\"sub_category\"].astype(\"category\")\n",
    "# online_bl[\"time_update\"] = online_bl[\"time_update\"].dt.to_period(\"M\")\n",
    "# 1 online_bl[\"sub_category\"].value_counts()\n",
    "# 2 online_bl.value_counts([\"sub_category\", \"scale\"])\n",
    "# 3 online_bl.pivot_table(index=[\"scale\", \"time_update\"], columns=\"sub_category\", values=\"price_original\", aggfunc=\"mean\")"
   ]
  },
  {
   "cell_type": "code",
   "execution_count": 86,
   "metadata": {},
   "outputs": [
    {
     "name": "stderr",
     "output_type": "stream",
     "text": [
      "/var/folders/qv/dgjs99p9327b4n569rm0j4000000gn/T/ipykernel_29914/187509308.py:1: UserWarning: Could not infer format, so each element will be parsed individually, falling back to `dateutil`. To ensure parsing is consistent and as-expected, please specify a format.\n",
      "  tc = pd.read_csv(\"data_input/techcrunch.csv\", parse_dates=[\"fundedDate\"])\n"
     ]
    },
    {
     "data": {
      "text/html": [
       "<div>\n",
       "<style scoped>\n",
       "    .dataframe tbody tr th:only-of-type {\n",
       "        vertical-align: middle;\n",
       "    }\n",
       "\n",
       "    .dataframe tbody tr th {\n",
       "        vertical-align: top;\n",
       "    }\n",
       "\n",
       "    .dataframe thead th {\n",
       "        text-align: right;\n",
       "    }\n",
       "</style>\n",
       "<table border=\"1\" class=\"dataframe\">\n",
       "  <thead>\n",
       "    <tr style=\"text-align: right;\">\n",
       "      <th>fundedDate</th>\n",
       "      <th>2002-12</th>\n",
       "      <th>2003-10</th>\n",
       "      <th>2006-08</th>\n",
       "      <th>2008-08</th>\n",
       "    </tr>\n",
       "    <tr>\n",
       "      <th>company</th>\n",
       "      <th></th>\n",
       "      <th></th>\n",
       "      <th></th>\n",
       "      <th></th>\n",
       "    </tr>\n",
       "  </thead>\n",
       "  <tbody>\n",
       "    <tr>\n",
       "      <th>Friendster</th>\n",
       "      <td>2,400,000.0</td>\n",
       "      <td>13,000,000.0</td>\n",
       "      <td>10,000,000.0</td>\n",
       "      <td>20,000,000.0</td>\n",
       "    </tr>\n",
       "  </tbody>\n",
       "</table>\n",
       "</div>"
      ],
      "text/plain": [
       "fundedDate     2002-12      2003-10      2006-08      2008-08\n",
       "company                                                      \n",
       "Friendster 2,400,000.0 13,000,000.0 10,000,000.0 20,000,000.0"
      ]
     },
     "execution_count": 86,
     "metadata": {},
     "output_type": "execute_result"
    }
   ],
   "source": [
    "tc = pd.read_csv(\"data_input/techcrunch.csv\", parse_dates=[\"fundedDate\"])\n",
    "# tc.head()\n",
    "tc[[\"category\"]] = tc[[\"category\"]].astype(\"category\")\n",
    "tc[\"category\"].nunique\n",
    "# 4 tc.pivot_table(index=\"category\", values=\"raisedAmt\", aggfunc=\"median\")\n",
    "tc.dtypes\n",
    "tc[\"fundedDate\"] = tc[\"fundedDate\"].dt.to_period(\"M\")\n",
    "tc.head()\n",
    "# 5 tc.pivot_table(index=\"company\", columns=\"fundedDate\", values=\"raisedAmt\", aggfunc=\"sum\").query(\"company == 'Friendster'\").dropna(axis=1)\n",
    "# 6 tc[tc[\"city\"] == \"San Francisco\"].pivot_table(index=\"company\", values=\"raisedAmt\", aggfunc=\"sum\").sort_values(\"raisedAmt\", ascending=False)"
   ]
  },
  {
   "cell_type": "markdown",
   "metadata": {},
   "source": [
    "## Analysis\n",
    "\n",
    "In the `online_bl` dataset stores several categories sold in e-commerce. You are asked to analyze the data and answer a number of questions."
   ]
  },
  {
   "cell_type": "markdown",
   "metadata": {},
   "source": [
    "### Product Categories\n",
    "\n",
    "You want to find out what sub categories (`sub_category`) are being sold. You will find out what categories is mostly sold in those e-commerce. Using the information from the `sub_category` column, please answer the questions below.\n",
    "\n",
    "1. How many unique sub categories(`sub_category`) are there in `online_bl` dataset? Do we have more \"detergent\" listings or \"sugar\" listings within our data?\n",
    "\n",
    "    *Berapa banyak jenis barang (`sub_category`) unik yang ada dalam kumpulan data `online_bl`? Apakah kita memiliki lebih banyak daftar \"Detergent\" atau \"Sugar\" pada data tersebut?*\n",
    "\n",
    "    - [ ] 2, with more \"detergent\" than \"sugar\"\n",
    "    - [ ] 2, with \"detergent\" and \"sugar\" having equal listings\n",
    "    - [ ] 3, with more \"sugar\" than detergent\n",
    "    - [ ] None of above is correct"
   ]
  },
  {
   "cell_type": "markdown",
   "metadata": {},
   "source": [
    "### Product Scales\n",
    "\n",
    "Based on the several sub categories sold above, each item is sold in several size based on its weight, including detergent. Detergents on the market have several scale options (1kg, 1.8kg, etc.). \n",
    "\n",
    "2. In which scale do we have our **detergent** stock the most?\n",
    "\n",
    "    *Deterjen dengan ukuran berapakah yang paling banyak dijual di situs Bukalapak?* \n",
    "\n",
    "    - [ ] 1 kg\n",
    "    - [ ] 1.8 kg\n",
    "    - [ ] 5 kg\n",
    "    - [ ] 800 gr"
   ]
  },
  {
   "attachments": {},
   "cell_type": "markdown",
   "metadata": {},
   "source": [
    "Suddenly, you are in need of detergent. Based on the detergent scale information and the market price, you are interested in buying a detergent with scales of 1.8 kg and 800 grams. However, at this time you want to know what month is the detergent on that scales is sold at the lowest average price. \n",
    "\n",
    "3. Which month has the **lowest average price** (`mean` on `price_original`) for detergent products (1.8kg and 800gr respectively) listed for sale on Bukalapak? Are they the same month?\n",
    "\n",
    "    *Di bulan apakah produk deterjen dengan ukuran 1,8 kg dan 800 gram berada di rata-rata harga  (`price_original`) terendah? Apakah keduanya berada di bulan yang sama?*\n",
    "\n",
    "    - [ ] Both 1.8 kg and 800 gr detergents lowest price were in August\n",
    "    - [ ] Both 1.8 kg and 800 gr detergents lowest price were in October\n",
    "    - [ ] 1.8 kg detergents: Lowest in August, 800 gr: Lowest in October\n",
    "    - [ ] 1.8 kg detergents: Lowest in August, 800 gr: Lowest in July   "
   ]
  },
  {
   "cell_type": "markdown",
   "metadata": {},
   "source": [
    "---"
   ]
  },
  {
   "cell_type": "markdown",
   "metadata": {},
   "source": [
    "# Fund Raising Dataset"
   ]
  },
  {
   "cell_type": "markdown",
   "metadata": {},
   "source": [
    "## Data Preparation\n",
    "\n",
    "In the second analysis, you will use the **fund raising** dataset obtained by several startup companies in America. Please use `techcrunch.csv` data from `data_input` folder. The dataset contains the following variables:\n",
    "\n",
    "- `permalink` : name of permalink company\n",
    "- `company` : company name (company)\n",
    "- `numEmps` : number of media partners\n",
    "- `category` : company category\n",
    "- `city` : the name of the city where the company is located\n",
    "- `state` : state code of company location\n",
    "- `fundedDate` : funding date\n",
    "- `raisedAmt` : the amount of funding obtained\n",
    "- `raisedCurrency` : information "
   ]
  },
  {
   "cell_type": "code",
   "execution_count": 2,
   "metadata": {},
   "outputs": [],
   "source": [
    "## Your code here\n",
    "\n"
   ]
  },
  {
   "cell_type": "markdown",
   "metadata": {},
   "source": [
    "Before exploring further data, please adjust some of the columns that don't have the appropriate data type in order to reduce memory. "
   ]
  },
  {
   "cell_type": "code",
   "execution_count": 1,
   "metadata": {},
   "outputs": [],
   "source": [
    "## Your code here\n"
   ]
  },
  {
   "cell_type": "markdown",
   "metadata": {},
   "source": [
    "## Analysis"
   ]
  },
  {
   "cell_type": "markdown",
   "metadata": {},
   "source": [
    "### Funding each Category\n",
    "\n",
    "As someone who wants to run a startup, you want to do a fairly thorough funding plan, so that your company runs well. Therefore, you are interested in finding out which startup `category` gets the highest funding. Since there are many startups working in the same field, you will want to get a summary of the average amount of funding (`raisedAmt`) given. As you already know, the average value will be affected by outliers, so you will use the median value to get a summary of the startup fields that get the highest funding.\n",
    "\n",
    "Based on the conditions, answer the questions below. \n",
    "\n",
    "4. Which `category` raised the most amount in funding (`raisedAmt`) on average (use the `median`)?\n",
    "\n",
    "    *Kategori (`category`) startup manakah yang mendapatkan rata-rata (gunakan `median`) funding (`raisedAmt`) tertinggi?*\n",
    "    \n",
    "    - [ ] `mobile`\n",
    "    - [ ] `cleantech`\n",
    "    - [ ] `biotech`\n",
    "    - [ ] `consulting`"
   ]
  },
  {
   "cell_type": "code",
   "execution_count": 2,
   "metadata": {},
   "outputs": [],
   "source": [
    "## Your code here\n",
    "\n"
   ]
  },
  {
   "cell_type": "markdown",
   "metadata": {},
   "source": [
    "### Funding each Company\n",
    "\n",
    "As a social media user, you are interested in analyzing one of the social media that is included in the list of startups receiving funding, namely **Friendster**. During the funding period, Friendster always gain different amount of funding. \n",
    "\n",
    "5. In which period does Friendster gain their highest raised amount of funding?\n",
    "\n",
    "   *Pada periode manakah Friendster mendapatkan nilai funding tertinggi mereka?*\n",
    "   \n",
    "    - [ ] 2008-08\n",
    "    - [ ] 2002-12\n",
    "    - [ ] 2006-08\n",
    "    - [ ] 2012-01"
   ]
  },
  {
   "cell_type": "markdown",
   "metadata": {},
   "source": [
    "After looking at several startups that have received funding, you want to find out more about startups that have successfully received funding in your location, **San Francisco**. Create an aggregation of data showing some of the highest to lowest funded companies in San Francisco. \n",
    "\n",
    "6.  Among all companies in San Francisco, which of the following are **not** among the top 5 most funded ( has highest **total** `raisedAmt`) companies? \n",
    "\n",
    "    *Perusahaan apa yang **TIDAK** termasuk 5 perusahaan dengan **total** funding (`raisedAmt`) tertinggi di San Francisco?*\n",
    "    \n",
    "    - [ ] `OpenTable`\n",
    "    - [ ] `Friendster`\n",
    "    - [ ] `Facebook`\n",
    "    - [ ] `Snapfish`\n",
    "  "
   ]
  }
 ],
 "metadata": {
  "kernelspec": {
   "display_name": "base",
   "language": "python",
   "name": "python3"
  },
  "language_info": {
   "codemirror_mode": {
    "name": "ipython",
    "version": 3
   },
   "file_extension": ".py",
   "mimetype": "text/x-python",
   "name": "python",
   "nbconvert_exporter": "python",
   "pygments_lexer": "ipython3",
   "version": "3.12.2"
  },
  "latex_envs": {
   "LaTeX_envs_menu_present": true,
   "autoclose": false,
   "autocomplete": true,
   "bibliofile": "biblio.bib",
   "cite_by": "apalike",
   "current_citInitial": 1,
   "eqLabelWithNumbers": true,
   "eqNumInitial": 1,
   "hotkeys": {
    "equation": "Ctrl-E",
    "itemize": "Ctrl-I"
   },
   "labels_anchors": false,
   "latex_user_defs": false,
   "report_style_numbering": false,
   "user_envs_cfg": false
  },
  "toc": {
   "base_numbering": 1,
   "nav_menu": {},
   "number_sections": true,
   "sideBar": true,
   "skip_h1_title": false,
   "title_cell": "Table of Contents",
   "title_sidebar": "Contents",
   "toc_cell": false,
   "toc_position": {},
   "toc_section_display": true,
   "toc_window_display": false
  }
 },
 "nbformat": 4,
 "nbformat_minor": 4
}
