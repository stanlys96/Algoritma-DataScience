{
 "cells": [
  {
   "cell_type": "markdown",
   "id": "55020014",
   "metadata": {},
   "source": [
    "**LearnPy: Python for Data Analytics**\n",
    "\n",
    "- Author : Team Algoritma\n",
    "- Developed by Algoritma's product division and instructors team\n",
    "___"
   ]
  },
  {
   "cell_type": "markdown",
   "id": "43f7d49c",
   "metadata": {},
   "source": [
    "# Learn Python - Introduction to Machine Learning 2: Time Series & Forecasting\n",
    "\n",
    "Selamat datang di Learn Python - Introduction to Machine Learning 2. Notebook ini berisi latihan bagaimana cara membuat model untuk melakukan forecasting pada data time series yang dapat digunakan untuk melatih kemampuan Anda. Pada bagian ini Anda akan diperkenalkan dengan workflow dari forecasting pada data time seris. Mari berlatih!"
   ]
  },
  {
   "cell_type": "markdown",
   "id": "1baaf049",
   "metadata": {},
   "source": [
    "## Time Series & Forecasting"
   ]
  },
  {
   "cell_type": "markdown",
   "id": "713cc626",
   "metadata": {},
   "source": [
    "### Studi Kasus: Forecast Permintaan Barang pada Toko Retail Walmart"
   ]
  },
  {
   "cell_type": "markdown",
   "id": "332ab4bc",
   "metadata": {},
   "source": [
    "<p align=\"center\">\n",
    "<img src=\"assets/walmart.jpeg\" alt=\"Walmart\" width=\"650\">\n",
    "</p>"
   ]
  },
  {
   "cell_type": "markdown",
   "id": "0a887b5f",
   "metadata": {},
   "source": [
    "Walmart merupakan salah satu perusahaan Amerika Serikat yang mengelola jaringan toserba. Sebagai perusahaan yang bergerak dalam bidang toko retail/toserba, akan menjadi penting untuk selalu memastikan bahwa produk yang dijual selalu tersedia stoknya.\n",
    "\n",
    "Untuk menyederhanakan operasinya, Walmart menggunakan machine learning untuk memperkirakan berapa banyak permintaan barang. Hal ini memerlukan prediksi penjualan di masa depan dengan meneliti data penjualan historis serta faktor eksternal seperti pola cuaca dan hari libur. Dengan membedakan pola dari penjualan sebelumnya, algoritma machine learning dapat menghasilkan prediksi yang tepat mengenai permintaan saham mereka di masa depan.\n",
    "\n",
    "Jadi, mereka punya pertanyaan bisnis,\n",
    "\n",
    "> \"Bagaimana kami dapat memperkirakan permintaan produk di toko Walmart secara akurat, memanfaatkan data penjualan historis untuk mengoptimalkan manajemen inventaris dan memastikan ketersediaan produk?\"\n",
    "\n",
    "Melalui perkiraan permintaan yang tepat, tentu saja Walmart dapat menyesuaikan tingkat inventaris, mengatur promosi, dan mengoptimalkan staf untuk memenuhi kebutuhan pelanggan dengan baik.\n",
    "\n",
    "Oleh karena itu, tugas kita sebagai data scientist adalah melakukan prediksi permintaan barang di masa depan berdasarkan data historis penjualan untuk memaksimalkan pelayanan terhadap pelanggan dan mendapatkan keuntungan semaksimal mungkin."
   ]
  },
  {
   "cell_type": "markdown",
   "id": "29c36317",
   "metadata": {},
   "source": [
    "### 1. Load Data: Walmart Dataset"
   ]
  },
  {
   "cell_type": "markdown",
   "id": "0004709e",
   "metadata": {},
   "source": [
    "Mari kita mulai dengan mengimpor library yang diperlukan."
   ]
  },
  {
   "cell_type": "code",
   "execution_count": null,
   "id": "5071bb4a",
   "metadata": {},
   "outputs": [],
   "source": [
    "# library untuk manipulasi data\n",
    "import pandas as pd\n",
    "import numpy as np\n",
    "\n",
    "# library prophet untuk forecasting\n",
    "from prophet import Prophet\n",
    "\n",
    "# library untuk visualisasi data\n",
    "import matplotlib.pyplot as plt\n",
    "\n",
    "# libraryuntuk evaluasi model\n",
    "from sklearn.metrics import mean_absolute_error, mean_absolute_percentage_error\n",
    "\n",
    "# library untuk mengabaikan warning terkait update library\n",
    "import warnings\n",
    "warnings.simplefilter(\"ignore\", category=FutureWarning)\n",
    "\n",
    "# pandas output display setup\n",
    "pd.options.display.float_format = '{:,.2f}'.format"
   ]
  },
  {
   "cell_type": "markdown",
   "id": "73d6a53a",
   "metadata": {},
   "source": [
    "Mari kita baca dataset `data_input/office_monthly_sales.csv`"
   ]
  },
  {
   "cell_type": "code",
   "execution_count": null,
   "id": "0232e982",
   "metadata": {
    "ExecuteTime": {
     "end_time": "2023-01-16T09:01:44.321712Z",
     "start_time": "2023-01-16T09:01:44.289633Z"
    }
   },
   "outputs": [],
   "source": [
    "# memanggil dan membaca data\n",
    "monthly_demand_train = pd.read_csv('data_input/office_monthly_sales.csv')\n",
    "monthly_demand_train.head()"
   ]
  },
  {
   "cell_type": "markdown",
   "id": "266fbdf9",
   "metadata": {},
   "source": [
    "___\n",
    " 🔎 **Deskripsi Data**\n",
    "\n",
    "Dataset ini berisi informasi tentang penjualan bulanan, kuantitas, dan keuntungan untuk produk kategori **Perlengkapan Kantor** di toko ritel Walmart selama periode Januari 2020 hingga Desember 2022.\n",
    "\n",
    " 🔎 **Penjelasan Kolom**\n",
    "- `Order Month` $\\rightarrow$ bulan dan tahun pemesanan barang dilakukan.\n",
    "- `Total Sales` $\\rightarrow$ total penjualan produk (USD) pada bulan dan tahun tersebut (laba kotor).\n",
    "- `Total Quantity` $\\rightarrow$ total produk yang terjual pada bulan dan tahun tersebut.\n",
    "- `Total Profit` $\\rightarrow$ total keuntungan yang diperoleh dari penjualan produk pada bulan dan tahun tersebut (laba bersih).\n",
    "___"
   ]
  },
  {
   "cell_type": "markdown",
   "id": "d00206a4",
   "metadata": {},
   "source": [
    "### 2. Exploratory Data Analysis (EDA)"
   ]
  },
  {
   "cell_type": "markdown",
   "id": "20e9aa3b",
   "metadata": {},
   "source": [
    "#### 2.1 Cek Informasi Dasar"
   ]
  },
  {
   "cell_type": "markdown",
   "id": "c9a42375",
   "metadata": {},
   "source": [
    "Mari kita pahami terlebih dahulu struktur dasar dan informasi tentang data menggunakan metode `.info()`. Metode ini memberikan wawasan berharga tentang DataFrame, termasuk tipe data, jumlah baris yang tidak nol, dan penggunaan memori."
   ]
  },
  {
   "cell_type": "code",
   "execution_count": null,
   "id": "e21a95c0",
   "metadata": {},
   "outputs": [],
   "source": [
    "# cek informasi dasar\n",
    "monthly_demand_train.info()"
   ]
  },
  {
   "cell_type": "markdown",
   "id": "43b61141",
   "metadata": {},
   "source": [
    "Dari fungsi `info()`, didapat beberapa informasi dasar tentang dataset:\n",
    "\n",
    "- Dataset terdiri dari 36 data (baris).\n",
    "- Terdapat 4 kolom.\n",
    "- Tiap kolom memiliki 36 data bukan nol yang menandakan bahwa tidak ada nilai missing.\n",
    "- Tipe data dari tiap kolom beragam. Perlu dilakukan proses lanjutan untuk mengubah ke tipe data yang sesuai."
   ]
  },
  {
   "cell_type": "markdown",
   "id": "168b6289",
   "metadata": {},
   "source": [
    "#### 2.2 Cek Visualisasi"
   ]
  },
  {
   "cell_type": "markdown",
   "id": "4932772b",
   "metadata": {},
   "source": [
    "Salah satu aspek penting dalam analisis _Time Series_ adalah melakukan analisis eksplorasi visual karena membantu mengidentifikasi pola, tren, dan anomali dalam data secara intuitif, sehingga memudahkan dalam mengambil keputusan yang lebih tepat dan efektif. \n",
    "\n",
    "Mari kita visualisasikan berapa total penjualan tiap bulan"
   ]
  },
  {
   "cell_type": "code",
   "execution_count": null,
   "id": "65642f54",
   "metadata": {},
   "outputs": [],
   "source": [
    "# visualisasi produk terjual tiap bulan\n",
    "plt.figure(figsize=(16, 3))\n",
    "plt.plot(monthly_demand_train['Order Month'], monthly_demand_train['Total Quantity'], color='blue')\n",
    "plt.title('Total Produk Terjual Tiap Bulan')\n",
    "plt.xlabel('Bulan Pemesanan')\n",
    "plt.ylabel('Total Terjual')\n",
    "plt.xticks(rotation=45)\n",
    "plt.show()"
   ]
  },
  {
   "cell_type": "markdown",
   "id": "ce7d03bf",
   "metadata": {},
   "source": [
    "#### 2.3 Cek Data Statistik"
   ]
  },
  {
   "cell_type": "markdown",
   "id": "3d8447cf",
   "metadata": {},
   "source": [
    "Mari kita mulai dengan meninjau deskripsi statistik dari data kita. Melakukan deskripsi statistik adalah langkah penting untuk memahami karakteristik dasar dari setiap kolom dalam kumpulan data kita. Kita dapat menggunakan metode `.describe()`untuk mendapatkan gambaran umum mengenai distribusi dan variabilitas data kita sebelum melangkah ke tahap analisis yang lebih mendalam."
   ]
  },
  {
   "cell_type": "code",
   "execution_count": null,
   "id": "3a3799e4",
   "metadata": {},
   "outputs": [],
   "source": [
    "# cek data statistik dataset\n",
    "monthly_demand_train.describe()"
   ]
  },
  {
   "cell_type": "markdown",
   "id": "8ee786bf",
   "metadata": {},
   "source": [
    "___\n",
    "**Soal 1.** Kapan total penjualan terbanyak terjadi?\n",
    "\n",
    "> 🆘 Hint : Anda mungkin memerlukan fungsi `max`, lalu melakukan subsetting.\n",
    "\n",
    "- [ ] Maret 2017\n",
    "- [ ] Februari 2020\n",
    "- [x] Desember 2022\n",
    "\n",
    "<!-- \n",
    "\n",
    "Reference answer :\n",
    "\n",
    "```python\n",
    "# kode untuk menampilkan baris dengan total penjualan tertinggi\n",
    "max_price = monthly_demand_train['Total Quantity'].max()\n",
    "monthly_demand_train.loc[monthly_demand_train['Total Quantity'] == max_price]\n",
    "```\n",
    "\n",
    "Penjualan produk terbanyak terjadi pada bulan Desember tahun 2022\n",
    "\n",
    "-->\n",
    "___"
   ]
  },
  {
   "cell_type": "code",
   "execution_count": null,
   "id": "af577c4d",
   "metadata": {},
   "outputs": [],
   "source": [
    "# your code here\n"
   ]
  },
  {
   "cell_type": "markdown",
   "id": "d536e8b6",
   "metadata": {},
   "source": [
    "___\n",
    "**Soal 2.** Kapankah total penjualan terendah terjadi?\n",
    "\n",
    "> 🆘 Hint : Anda mungkin memerlukan fungsi `min()`, lalu melakukan subsetting.\n",
    "\n",
    "- [ ] Maret 2017\n",
    "- [x] Februari 2020\n",
    "- [ ] Desember 2022\n",
    "\n",
    "<!-- \n",
    "\n",
    "Reference answer :\n",
    "\n",
    "```python\n",
    "# kode untuk menampilkan baris dengan total penjualan terendah\n",
    "min_price = monthly_demand_train['Total Quantity'].min()\n",
    "monthly_demand_train.loc[monthly_demand_train['Total Quantity'] == min_price]\n",
    "```\n",
    "\n",
    "Penjualan produk tersedikit/terendah terjadi pada bulan Februari tahun 2020\n",
    "\n",
    "-->\n",
    "___"
   ]
  },
  {
   "cell_type": "code",
   "execution_count": null,
   "id": "3f748fd3",
   "metadata": {},
   "outputs": [],
   "source": [
    "# your code here\n"
   ]
  },
  {
   "cell_type": "markdown",
   "id": "edcd5be5",
   "metadata": {},
   "source": [
    "### 3. Data Preprocessing"
   ]
  },
  {
   "cell_type": "markdown",
   "id": "0d4be737",
   "metadata": {},
   "source": [
    "Untuk mengubah dataset menjadi data yang bersih dan sesuai agar menghasilkan performa model yang baik, maka dilakukan proses pembersihan data atau dikenal dengan **Data Preprocessing**."
   ]
  },
  {
   "cell_type": "markdown",
   "id": "378a50e8",
   "metadata": {},
   "source": [
    "#### 3.1 Memilih Kolom"
   ]
  },
  {
   "cell_type": "markdown",
   "id": "29401a0f",
   "metadata": {},
   "source": [
    "Kasus ini akan melakukan forecasting terhadap jumlah pesanan/permitaan produk `TotalQuantity`, oleh karena itu kita ambil data `Order Month` dan `Total Quantity` saja."
   ]
  },
  {
   "cell_type": "code",
   "execution_count": null,
   "id": "d2907207",
   "metadata": {},
   "outputs": [],
   "source": [
    "# memilih kolom yang akan digunakan untuk proses forecasting\n",
    "monthly_demand_train = monthly_demand_train[['Order Month', 'Total Quantity']]\n",
    "monthly_demand_train.head()"
   ]
  },
  {
   "cell_type": "markdown",
   "id": "ed33211d",
   "metadata": {},
   "source": [
    "#### 3.2 Ubah Tipe Data"
   ]
  },
  {
   "cell_type": "code",
   "execution_count": null,
   "id": "240d7475",
   "metadata": {},
   "outputs": [],
   "source": [
    "# cek tipe data pada dataset monthly_demand_train\n",
    "monthly_demand_train.dtypes"
   ]
  },
  {
   "cell_type": "markdown",
   "id": "b97b7afd",
   "metadata": {},
   "source": [
    "Terlihat kolom `Order Month` masih memiliki tipe data object. Ubahlah data dengan informasi tanggal ke dalam bentuk datetime menggunakan `pd.to_datetime()`. Setelah itu, urutkan data berdasarkan tanggalnya."
   ]
  },
  {
   "cell_type": "markdown",
   "id": "0f802c9c",
   "metadata": {},
   "source": [
    "___\n",
    "**Soal 3.** Berdasarkan informasi tanggal yang kita miliki, format tanggal seperti apa yang cocok?\n",
    "  - [X] `%Y-%m-%d`\n",
    "  - [ ] `%y-%m-%d`\n",
    "  - [ ] `%y.%m.%d`\n",
    "\n",
    "<!-- \n",
    "\n",
    "Reference answer :\n",
    "\n",
    "```python\n",
    "# mengubah tipe data\n",
    "monthly_demand_train['Order Month'] = pd.to_datetime(monthly_demand_train['Order Month'], \n",
    "                                                     format=\"%Y-%m-%d\")\n",
    "```\n",
    "\n",
    "Tipe yang cocok yaitu format %Y-%m-%d karena data kita berbentuk 2020-01-01 dengan tanda pemisah \"-\".\n",
    "\n",
    "2020 -> Y\n",
    "01 -> m\n",
    "01 -> d\n",
    "\n",
    "-->\n",
    "___"
   ]
  },
  {
   "cell_type": "code",
   "execution_count": null,
   "id": "0047d388",
   "metadata": {},
   "outputs": [],
   "source": [
    "# mengubah tipe data\n",
    "monthly_demand_train['Order Month'] = pd.to_datetime(monthly_demand_train['Order Month'], \n",
    "                                                     format= _____________ )"
   ]
  },
  {
   "cell_type": "code",
   "execution_count": null,
   "id": "6444484d",
   "metadata": {
    "ExecuteTime": {
     "end_time": "2023-01-16T09:01:44.346272Z",
     "start_time": "2023-01-16T09:01:44.336392Z"
    }
   },
   "outputs": [],
   "source": [
    "# melakukan pengurutan kolom date secara ascending\n",
    "monthly_demand_train = monthly_demand_train.sort_values('Order Month')\n",
    "monthly_demand_train.head()"
   ]
  },
  {
   "cell_type": "code",
   "execution_count": null,
   "id": "fc8a6e54",
   "metadata": {
    "ExecuteTime": {
     "end_time": "2023-01-16T09:01:44.353790Z",
     "start_time": "2023-01-16T09:01:44.348282Z"
    }
   },
   "outputs": [],
   "source": [
    "# pemeriksaan ulang tipe data\n",
    "monthly_demand_train.dtypes"
   ]
  },
  {
   "cell_type": "markdown",
   "id": "02913542",
   "metadata": {},
   "source": [
    "### 4. Prophet Modeling"
   ]
  },
  {
   "cell_type": "markdown",
   "id": "ec2ff30e",
   "metadata": {},
   "source": [
    "___\n",
    "**Soal 4.** Metode perhitungan apa yang digunakan `prophet` untuk menggambarkan kondisi time series dan melakukan forecasting?\n",
    "\n",
    "- [ ] _Component Decompose_\n",
    "- [x] _General Additive Model_\n",
    "- [ ] _Holt Winters Exponential Smoothing_\n",
    "\n",
    "___\n",
    "\n",
    "**Soal 5.** Berikut ini adalah kelebihan dari `prophet` yang tidak dimiliki oleh metode time series konvensional, kecuali ...\n",
    "\n",
    "- [ ] fleksibilitas dalam mengatur komponen trend dan seasonal\n",
    "- [x] melakukan forecasting masa depan yang sangat panjang\n",
    "- [ ] menambahkan efek holiday/event\n",
    "___\n"
   ]
  },
  {
   "cell_type": "markdown",
   "id": "44e4f0be",
   "metadata": {},
   "source": [
    "#### 3.1 Persiapan Data\n",
    "\n",
    "`Prophet` hanya dapat menerima input data dengan judul kolom `ds` dan `y`, oleh karena itu ubahlah judul kolom pada data yang kita miliki."
   ]
  },
  {
   "cell_type": "code",
   "execution_count": null,
   "id": "80084021",
   "metadata": {},
   "outputs": [],
   "source": [
    "# mengubah nama kolom\n",
    "monthly_demand_train = monthly_demand_train.rename(\n",
    "    columns = {'Order Month': 'ds',\n",
    "               'Total Quantity': 'y'}) \n",
    "\n",
    "# lihat data\n",
    "monthly_demand_train.tail()"
   ]
  },
  {
   "cell_type": "markdown",
   "id": "f6a0c6a5",
   "metadata": {},
   "source": [
    "#### 3.2 _Fitting Model_"
   ]
  },
  {
   "cell_type": "markdown",
   "id": "451d5160",
   "metadata": {},
   "source": [
    "Setelah semua persiapan data selesai. Kini kita tugaskan `prophet` untuk mencari pola dari data time series kita. Silakan bangun sebuah model `prophet` tanpa menentukan parameter apa-apa (gunakan nilai defaultnya) setelah itu lakukan fitting kepada data `train`."
   ]
  },
  {
   "cell_type": "code",
   "execution_count": null,
   "id": "20fe7468",
   "metadata": {},
   "outputs": [],
   "source": [
    "# membuat object dari class Prophet\n",
    "model_prophet = Prophet()\n",
    "\n",
    "# proses fiting model\n",
    "model_prophet.fit(monthly_demand_train)"
   ]
  },
  {
   "cell_type": "markdown",
   "id": "478f4fee",
   "metadata": {},
   "source": [
    "#### 3.3 _Forecast_"
   ]
  },
  {
   "cell_type": "markdown",
   "id": "16f0d2e1",
   "metadata": {},
   "source": [
    "Karena model kita telah belajar dari pola data masa lalu, kita akan coba meramal/*forecast* data kita untuk **1 tahun ke depan**. Untuk itu kita harus mempersipakan dataframe baru yang berisi informasi waktu yang ingin di-*forecast*. Hal ini dapat dilakukan menggunakan method `.make_future_dataframe()` dari objek model kita, yaitu `model_prophet`.\n",
    "\n",
    "Parameter `.make_future_dataframe()`:\n",
    "- `periods`: Banyaknya data yang ingin di-*forecast*\n",
    "- `freq`: interval data. `D` (day), `M` (month), `MS` (month start), dan lainnya."
   ]
  },
  {
   "cell_type": "code",
   "execution_count": null,
   "id": "7ed33b6d",
   "metadata": {},
   "outputs": [],
   "source": [
    "# membuat data 1 tahun ke depan\n",
    "future = model_prophet.make_future_dataframe(periods=12, freq='MS')\n",
    "\n",
    "# cek data\n",
    "future.tail()"
   ]
  },
  {
   "cell_type": "code",
   "execution_count": null,
   "id": "98810f11",
   "metadata": {},
   "outputs": [],
   "source": [
    "# proses forecast\n",
    "forecast_result = model_prophet.predict(future)\n",
    "\n",
    "# data hasil forecast\n",
    "forecast_result.tail()"
   ]
  },
  {
   "cell_type": "code",
   "execution_count": null,
   "id": "e3fa4c7f",
   "metadata": {},
   "outputs": [],
   "source": [
    "# visualize\n",
    "fig = model_prophet.plot(forecast_result)\n",
    "plt.scatter(x = monthly_demand_train['ds'], y = monthly_demand_train['y'], color = 'red', s = 10);"
   ]
  },
  {
   "cell_type": "markdown",
   "id": "e89e00f8",
   "metadata": {},
   "source": [
    "#### 3.4 Interpretasi Model"
   ]
  },
  {
   "cell_type": "markdown",
   "id": "bf1bfdea",
   "metadata": {},
   "source": [
    "Dalam melakukan interpretasi, dapat dilakukan dengan memvisualisasikan setiap komponennya menggunakan method `plot_components()` dari objek `model_prophet` dan memberikan input hasil forecast (`forecast`)."
   ]
  },
  {
   "cell_type": "markdown",
   "id": "b19e621f",
   "metadata": {},
   "source": [
    "___\n",
    "**Soal 6.** Berdasarkan visualisasi tiap komponen, manakah pernyataan yang benar?\n",
    "  - [X] trend permintaan produk selalu meningkat\n",
    "  - [ ] trend permintaan produk selalu turun\n",
    "  - [ ] trend permintaan produk fluktuatif\n",
    "\n",
    "<!-- \n",
    "\n",
    "Reference answer :\n",
    "\n",
    "```python\n",
    "# intepretasi model\n",
    "fig = model_prophet.plot_components(forecast_result)\n",
    "```\n",
    "Berdasarkan plot, trend permintaan produk selalu meningkat\n",
    "\n",
    "-->\n",
    "___"
   ]
  },
  {
   "cell_type": "code",
   "execution_count": null,
   "id": "6c2e036b",
   "metadata": {},
   "outputs": [],
   "source": [
    "# intepretasi model\n",
    "fig = model_prophet._____________"
   ]
  },
  {
   "cell_type": "markdown",
   "id": "de445fae",
   "metadata": {},
   "source": [
    "### 5. Evaluasi"
   ]
  },
  {
   "cell_type": "markdown",
   "id": "acfe27ed",
   "metadata": {},
   "source": [
    "Kami sebenarnya memiliki dua dataset pada folder `data_input`:\n",
    "- Data train (`office_monthly_sales.csv`) digunakan untuk melatih model prophet untuk memperoleh pola dasar seperti trend dan seasonality.\n",
    "- Data test (`test_office_monthly_sales.csv`) sengaja disimpan agar dapat melakukan __cross validation__ dan melihat bagaimana kinerja model yang telah kita miliki pada **unseed data** yaitu data baru yang belum pernah \"dilihat\" oleh model."
   ]
  },
  {
   "cell_type": "markdown",
   "id": "572d58bf",
   "metadata": {},
   "source": [
    "#### 4.1 Persiapan Data Test"
   ]
  },
  {
   "cell_type": "markdown",
   "id": "832c2684",
   "metadata": {},
   "source": [
    "Mari kita baca dataset `data_input/test_office_monthly_sales.csv`"
   ]
  },
  {
   "cell_type": "code",
   "execution_count": null,
   "id": "af6a7afa",
   "metadata": {},
   "outputs": [],
   "source": [
    "# memanggil dan membaca data\n",
    "monthly_demand_test = pd.read_csv('data_input/test_office_monthly_sales.csv')\n",
    "monthly_demand_test"
   ]
  },
  {
   "cell_type": "markdown",
   "id": "f5deaa77",
   "metadata": {},
   "source": [
    "Memilih kolom `Order Month` dan `Total Quality`, lalu ubah tipe `Order Month` ke bentuk datetime."
   ]
  },
  {
   "cell_type": "code",
   "execution_count": null,
   "id": "8170ab00",
   "metadata": {},
   "outputs": [],
   "source": [
    "# memilih kolom yang diperlukan dan rename kolom\n",
    "monthly_demand_test = monthly_demand_test[['Order Month', 'Total Quantity']].rename(\n",
    "    columns = {'Order Month': 'ds',\n",
    "               'Total Quantity': 'y'}) \n",
    "\n",
    "# mengubah tipe data\n",
    "monthly_demand_test['ds'] = pd.to_datetime(monthly_demand_test['ds'], \n",
    "                                           format=\"%Y-%m-%d\")\n",
    "\n",
    "\n",
    "# melihat data test\n",
    "monthly_demand_test"
   ]
  },
  {
   "cell_type": "markdown",
   "id": "32c8a4db",
   "metadata": {},
   "source": [
    "#### 4.2 Evaluasi Model"
   ]
  },
  {
   "cell_type": "markdown",
   "id": "a0c23578",
   "metadata": {},
   "source": [
    "Kami telah mengelompokkan data kami menggunakan tanggal pemisah (__cutoff__): `'1 Januari 2023'`. Mari kita definisikan ini sebagai variabel untuk memudahkan evaluasi model."
   ]
  },
  {
   "cell_type": "code",
   "execution_count": null,
   "id": "86d44a35",
   "metadata": {},
   "outputs": [],
   "source": [
    "# definisikan nilai cutoff\n",
    "cutoff = '2023-01-01'"
   ]
  },
  {
   "cell_type": "code",
   "execution_count": null,
   "id": "dff59155",
   "metadata": {},
   "outputs": [],
   "source": [
    "# ambil data forecast setelah tanggal cutoff\n",
    "forecast_test = forecast_result[forecast_result['ds'] >= cutoff]\n",
    "\n",
    "# ambil hanya data ds dan yhat\n",
    "forecast_test = forecast_test[['ds', 'yhat']]\n",
    "\n",
    "# tampilkan hasil\n",
    "forecast_test "
   ]
  },
  {
   "cell_type": "markdown",
   "id": "19a346f6",
   "metadata": {},
   "source": [
    "___\n",
    "**Soal 7.** Berdasarkan nilai MAE pada data test, jika total permintaan produk sebanyak 500, berapa permintaan produk yang akan diprediksi oleh model kita?\n",
    "\n",
    "- [x] 400 - 600\n",
    "- [ ] 500 - 600\n",
    "- [ ] 600 - 800\n",
    "\n",
    "<!-- \n",
    "\n",
    "Reference answer :\n",
    "\n",
    "```python\n",
    "# Nilai MAE test\n",
    "test_mae = mean_absolute_error(y_true = monthly_demand_test['y'],\n",
    "                               y_pred = forecast_test['yhat'])\n",
    "\n",
    "# tampilkan nilai MAE \n",
    "print(f\"Nilai MAE Test: {test_mae:,.2f}\")\n",
    "```\n",
    "\n",
    "Nilai MAE yang didapat yaitu 99.95 (dibulatkan menjadi 100). Maka hasil prediksi dari model kita berada di rentang (500 - MAE) sampai dengan (500 + MAE) -> 400 s.d. 600\n",
    "\n",
    "-->\n",
    "___"
   ]
  },
  {
   "cell_type": "code",
   "execution_count": null,
   "id": "647b44ca",
   "metadata": {},
   "outputs": [],
   "source": [
    "# Nilai MAE test\n",
    "test_mae = _____________(y_true = _____________ ,\n",
    "                               y_pred = forecast_test['yhat'] )\n",
    "\n",
    "# tampilkan nilai MAE \n",
    "print(f\"Nilai MAE Test: {test_mae:,.2f}\")"
   ]
  },
  {
   "cell_type": "markdown",
   "id": "d74f7e34",
   "metadata": {},
   "source": [
    "___\n",
    "**Soal 8.** Besar rasio kesalahan prediksti total permintaan produk dari total permintaan yang sebenarnya?\n",
    "\n",
    "- [ ] 10%\n",
    "- [ ] 14%\n",
    "- [x] 18%\n",
    "\n",
    "<!-- \n",
    "\n",
    "Reference answer :\n",
    "\n",
    "```python\n",
    "# Nilai MAPE test\n",
    "test_mape = mean_absolute_percentage_error(y_true = monthly_demand_test['y'],\n",
    "                                           y_pred = forecast_test['yhat'])\n",
    "\n",
    "# tampilkan nilai MAPE\n",
    "print(f\"Nilai MAPE Test: {test_mape * 100:,.2f}%\")\n",
    "```\n",
    "\n",
    "Nilai MAPE yang didapat yaitu 18.22% (dibulatkan 18%). Nilai MAPE menginterpretasikan rasio kesalahan prediksti total permintaan produk dari total permintaan yang sebenarnya.\n",
    "\n",
    "-->\n",
    "___"
   ]
  },
  {
   "cell_type": "code",
   "execution_count": null,
   "id": "eab61bc9",
   "metadata": {},
   "outputs": [],
   "source": [
    "# Nilai MAPE test\n",
    "test_mape = _____________(y_true = _____________ ,\n",
    "                                           y_pred = forecast_test['yhat'])\n",
    "\n",
    "# tampilkan nilai MAPE\n",
    "print(f\"Nilai MAPE Test: {test_mape * 100:,.2f}%\")"
   ]
  }
 ],
 "metadata": {
  "kernelspec": {
   "display_name": "Python 3 (ipykernel)",
   "language": "python",
   "name": "python3"
  },
  "language_info": {
   "codemirror_mode": {
    "name": "ipython",
    "version": 3
   },
   "file_extension": ".py",
   "mimetype": "text/x-python",
   "name": "python",
   "nbconvert_exporter": "python",
   "pygments_lexer": "ipython3",
   "version": "3.11.7"
  },
  "toc": {
   "base_numbering": 1,
   "nav_menu": {},
   "number_sections": true,
   "sideBar": true,
   "skip_h1_title": false,
   "title_cell": "Table of Contents",
   "title_sidebar": "Contents",
   "toc_cell": false,
   "toc_position": {},
   "toc_section_display": true,
   "toc_window_display": false
  }
 },
 "nbformat": 4,
 "nbformat_minor": 5
}
