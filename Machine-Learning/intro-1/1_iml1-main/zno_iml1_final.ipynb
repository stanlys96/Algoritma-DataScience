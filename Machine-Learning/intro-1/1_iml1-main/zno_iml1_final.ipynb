{
 "cells": [
  {
   "cell_type": "markdown",
   "id": "fa88e5ea",
   "metadata": {},
   "source": [
    "**Coursebook: Introduction to Machine Learning 1**\n",
    "- Part 5 of Data Analytics Specialization\n",
    "- Course Length: 12 Hours\n",
    "\n",
    "📖 Version: Zeus Night Online - September 2024\n",
    "\n",
    "___\n",
    "\n",
    "- Developed by [Algoritma](https://algorit.ma)'s product division and instructors team"
   ]
  },
  {
   "cell_type": "markdown",
   "id": "6f4028d8",
   "metadata": {},
   "source": [
    "# Background"
   ]
  },
  {
   "cell_type": "markdown",
   "id": "721b9559",
   "metadata": {},
   "source": [
    "The coursebook is part of the **Python Machine Learning** prepared by [Algoritma](https://algorit.ma). The coursebook is intended for a restricted audience only, i.e. the individuals and organizations having received this coursebook directly from the training organization. It may not be reproduced, distributed, translated or adapted in any form outside these individuals and organizations without permission.\n",
    "\n",
    "Algoritma is a data science education center based in Jakarta. We organize workshops and training programs to help working professionals and students gain mastery in various data science sub-fields: data visualization, machine learning, data modeling, statistical inference etc."
   ]
  },
  {
   "cell_type": "markdown",
   "id": "646b4e88",
   "metadata": {
    "id": "35Nwbasyoqb0"
   },
   "source": [
    "# Introduction to Machine Learning 1"
   ]
  },
  {
   "cell_type": "markdown",
   "id": "0ea24d2b",
   "metadata": {},
   "source": [
    "### Training Objective"
   ]
  },
  {
   "cell_type": "markdown",
   "id": "48079c29",
   "metadata": {},
   "source": [
    "* Basic Principles of Machine Learning\n",
    "    * What is Data, Types of Data, Component of Data in the Scikit-learn\n",
    "    * Why Machine Learning?\n",
    "    * Load Data & Exploratory Data Analysis\n",
    "* Data Preprocessing\n",
    "    * Handling Numerical Data: Outlier\n",
    "    * Handling Categorical Data: Encoding (Categorical -> Numerik).\n",
    "* Train-test Splitting\n",
    "    * Why Train-Test Splitting?\n",
    "    * How to Train-Test Splitting\n",
    "* Model Building: Support Vector Machine (SVM)\n",
    "    * Introduction to Support Vector Machine (SVM)\n",
    "    * SVM in Classification\n",
    "    * SVM in Regression\n",
    "    * Hyperparameters\n",
    "* Model Evaluation\n",
    "    * Accuracy (Classification)\n",
    "    * Mean Absolute Error (Regression)"
   ]
  },
  {
   "cell_type": "markdown",
   "id": "e4082166",
   "metadata": {},
   "source": [
    "### Introduction"
   ]
  },
  {
   "cell_type": "markdown",
   "id": "91d60b9a",
   "metadata": {},
   "source": [
    "<div>\n",
    "<img src=\"asset/step-of-da.png\" width=\"1000\"/>\n",
    "</div>\n",
    "\n",
    "\n",
    "**Analisis Data Bisnis dengan Machine Learning**\n",
    "\n",
    "**Masalah:**\n",
    "\n",
    "- Data besar dan kompleks sulit dianalisis dengan metode statistik dasar.\n",
    "- Membutuhkan waktu lama dan tidak efisien.\n",
    "- Sulit menemukan pola, tren, dan insight dari data.\n",
    "\n",
    "**Solusi:**\n",
    "\n",
    "**✨Machine learning**\n",
    "\n",
    "- Menganalisis data besar dengan cepat dan efisien.\n",
    "- Mengidentifikasi pola, hubungan, dan insight dari data.\n",
    "- Membuat prediksi dan meningkatkan performa bisnis.\n",
    "\n",
    "**Manfaat Machine Learning dalam Bisnis:**\n",
    "\n",
    "- Keputusan bisnis yang lebih baik berdasarkan data.\n",
    "- Meningkatkan efisiensi operasi dan keuntungan.\n",
    "- Meningkatkan daya saing bisnis.\n",
    "\n",
    "\n",
    "Machine learning penting bagi bisnis untuk menganalisis data dan membuat keputusan yang lebih baik.\n",
    "\n"
   ]
  },
  {
   "cell_type": "markdown",
   "id": "81d9fb84",
   "metadata": {},
   "source": [
    "Machine learning mesin pada tingkat yang sangat dasar, mengacu pada sub-bidang computer science yang _\"gives computer the ability to learn without being explicitly programmed\"_. Ini adalah sebuah bidang penelitian di persimpangan statistik, kecerdasan buatan, dan ilmu komputer. Terkadang Anda akan mendengar bidang ini disebut sebagai **predictive analytics** atau **statistical learning**\n",
    "\n",
    "**Penerapan:**\n",
    "\n",
    "- Deteksi penipuan kartu kredit -> menentukan transaksi fraud dan tidak fraud (normal).\n",
    "- Diagnosis penyakit -> menentukan apakah seseorang terkena diabetes atau tidak.\n",
    "- Analisis sentimen -> mengetahui sentimen publik terhadap kebijakan politik (positif, negatif, netral).\n",
    "- Segmentasi pelanggan -> mengelompokan pelanggan berdasarkan karakteristiknya.\n",
    "\n",
    "**Traditional Programming vs Machine Learning**\n",
    "\n",
    "<div>\n",
    "<img src=\"asset/ml-tp.png\" width=\"800\"/>\n",
    "</div>"
   ]
  },
  {
   "cell_type": "markdown",
   "id": "976b269e",
   "metadata": {},
   "source": [
    "### Why Machine Learning?"
   ]
  },
  {
   "cell_type": "markdown",
   "id": "c0aff608",
   "metadata": {},
   "source": [
    "_In the early days of \"intelligent\" applications, many systems used handcoded rules of \"if\" and \"else\" decisions to process data or adjust to user input._\n",
    "\n",
    "📧 Pikirkan filter spam yang tugasnya memindahkan pesan email masuk yang sesuai ke kotak masuk atau folder spam.\n",
    "\n",
    "<div>\n",
    "<img src=\"asset/spam-not-spam.png\" width=\"600\"/>\n",
    "</div>"
   ]
  },
  {
   "cell_type": "markdown",
   "id": "94107753",
   "metadata": {},
   "source": [
    "✅ Ya, kita dapat membuat sebuah blacklist of words yang menghasilkan email ditandai sebagai spam.\n",
    "\n",
    "Ini akan menjadi contoh penggunaan expert-designed rule system untuk merancang aplikasi \"cerdas\". Pembuatan rules decision secara manual dapat dilakukan untuk beberapa aplikasi, khususnya aplikasi di mana manusia memiliki pemahaman yang baik tentang proses yang akan dimodelkan."
   ]
  },
  {
   "cell_type": "markdown",
   "id": "a2330585",
   "metadata": {},
   "source": [
    "**Namun, menggunakan handcoded rules untuk membuat keputusan memiliki dua kelemahan utama:**\n",
    "\n",
    "* Logika sangat diperlukan untuk membuat rules khusus untuk satu domain dan tugas. Mengubah tugas sedikit pun mungkin memerlukan penulisan ulang seluruh sistem.\n",
    "* Merancang rulesnya membutuhkan pemahaman yang mendalam tentang bagaimana keputusan harus dibuat oleh seorang yang ahli di bidang itu.\n",
    "\n",
    "Oleh karena itulah, machine learning dihadirkan untuk membantu mengatasi kelemahan tersebut."
   ]
  },
  {
   "cell_type": "markdown",
   "id": "f1b4ff09",
   "metadata": {},
   "source": [
    "### How Machine Learning Works"
   ]
  },
  {
   "cell_type": "markdown",
   "id": "7b3e8bfc",
   "metadata": {},
   "source": [
    "**💡 NOTES**\n",
    "> Dalam case machine learning yang akan kita bahas, akan terdapat...   \n",
    "> * **Target Variables**: Variabel yang ingin diprediksi/dimodelkan, sering disebut sebagai respon/dependent variable. Misal, harga rumah (angka) atau kelas harga rumahnya (kategorik)\n",
    "> * **Features/ Predictor**: Variabel/kolom yang digunakan (input) untuk memprediksi target variable, sering disebut sebagi independent variable. Misal: lokasi, luas rumah untuk prediksi harga rumah"
   ]
  },
  {
   "cell_type": "markdown",
   "id": "d0573778",
   "metadata": {},
   "source": [
    "<div>\n",
    "<img src=\"asset/columns.jpeg\" width=\"500\"/>\n",
    "</div>"
   ]
  },
  {
   "cell_type": "markdown",
   "id": "5541e13b",
   "metadata": {},
   "source": [
    "Kita tahu bahwa, kita membutuhkan **input** dan **output** untuk membuat model machine learning\n",
    "\n",
    "Misal dalam kasus ingin memprediksi kelas range harga rumah ini, **kolom manakah yang akan menjadi output/target variabel** dalam machine learning model?"
   ]
  },
  {
   "cell_type": "markdown",
   "id": "c127d2f6",
   "metadata": {},
   "source": [
    "| Bedrooms      | AreaInMtrSqr  | Floors        | ZipCode       |  Price Range  |\n",
    "|--------------:|--------------:|--------------:|--------------:|--------------:|\n",
    "|              3|            150|              1|          98178|   Middle-class|\n",
    "|              3|            100|              2|          98125|     High-class|\n",
    "|              2|            100|              1|          98028|      Low-class|\n",
    "|              4|            200|              1|          98074|     High-class|"
   ]
  },
  {
   "cell_type": "markdown",
   "id": "88db96bc",
   "metadata": {},
   "source": [
    "Pada data di atas:\n",
    "- Target: Price Range\n",
    "- Prediktor: Bedrooms, AreaInMtrSqr, Floors, ZipCode"
   ]
  },
  {
   "cell_type": "markdown",
   "id": "265a7332",
   "metadata": {},
   "source": [
    "### Predictive Analytics in ML: Classification & Regression"
   ]
  },
  {
   "cell_type": "markdown",
   "metadata": {},
   "source": [
    "Predictive Analysis berdasarkan jenis target variable terbagi menjadi 2 macam:\n",
    "\n",
    "<div>\n",
    "<img src=\"asset/regress-classify.png\" width=\"500\"/>\n",
    "</div>"
   ]
  },
  {
   "cell_type": "markdown",
   "id": "b2cbe250",
   "metadata": {},
   "source": [
    "> Masalah **Classification**: Nilai yang diprediksi bersifat kategorikal.\n",
    "> - Transasksi fraud atau normal\n",
    "> - Email spam atau not spam\n",
    "> - Handwriting recognition (angka 0, 1, 2, 3, ..., 9)\n",
    "\n",
    "> Masalah **Regression**: Nilai yang diprediksi bersifat numerik (output target berupa numerik). \n",
    "> - Prediksi harga minyak\n",
    "> - Prediksi harga rumah / real estate\n"
   ]
  },
  {
   "cell_type": "markdown",
   "id": "f8088c5f",
   "metadata": {},
   "source": [
    "### 🧪 Knowledge Check: Classification & Regression"
   ]
  },
  {
   "cell_type": "markdown",
   "id": "d671ff4e",
   "metadata": {},
   "source": [
    "1. Suatu perusahaan T sedang ingin menentukan berapa perkiraan harga dari suatu mobil baru yang akan dijual. Agar tidak salah penentuan harga, ia ingin menentukannya berdasarkan data historis harga mobil-mobil yang terjual yang dipengaruhi oleh fitur-fiturnya (seperti AC, mesin, kualitas, dll). Masuk manakah kasus ini?"
   ]
  },
  {
   "cell_type": "markdown",
   "id": "4d74156d",
   "metadata": {},
   "source": [
    "<div>\n",
    "<img src=\"asset/car-price-pred.png\" width=\"300\"/>\n",
    "</div>"
   ]
  },
  {
   "cell_type": "markdown",
   "id": "0a3e3add",
   "metadata": {},
   "source": [
    "> 📝 **Answer:** \n",
    "- Kasus: Regresi\n",
    "- Target: Harga mobil\n",
    "- Prediktor: AC, mesin, kualitas\n"
   ]
  },
  {
   "cell_type": "markdown",
   "id": "926be704",
   "metadata": {},
   "source": [
    "2. Terdapat dataset bunga Iris dan kita ingin memprediksi bunga dengan karakteristik tertentu masuk tipe bunga Iris yang manakah.\n",
    "\n",
    "<div>\n",
    "<img src=\"asset/iris.png\" width=\"600\"/>\n",
    "</div>"
   ]
  },
  {
   "cell_type": "markdown",
   "id": "80e5a217",
   "metadata": {},
   "source": [
    "> 📝 **Answer:** \n",
    "- Kasus: Klasifikasi\n",
    "- Target: Sentosa, versicolor, virginica (jenis bunga)\n",
    "- Prediktor: petal dan sepal"
   ]
  },
  {
   "cell_type": "markdown",
   "id": "9a9821be",
   "metadata": {},
   "source": [
    "3. Jika kita memiliki dataset tulisan tangan digit angka dari 0-9, lalu kita ingin memprediksi suatu gambar itu angka berapa, maka kasus ini masuk pada kasus klasifikasi/regresi?\n",
    "\n",
    "<div>\n",
    "<img src=\"asset/mnist.png\" width=\"300\"/>\n",
    "</div>"
   ]
  },
  {
   "cell_type": "markdown",
   "id": "12b86a08",
   "metadata": {},
   "source": [
    "> 📝 **Answer:** \n",
    "- Kasus: Klasifikasi\n",
    "- Target: Angka\n",
    "- Prediktor: Nilai pixel pada gambar"
   ]
  },
  {
   "cell_type": "markdown",
   "id": "9e066c86",
   "metadata": {},
   "source": [
    "#  Machine Learning Workflow: Classification"
   ]
  },
  {
   "cell_type": "markdown",
   "id": "0f32d09d",
   "metadata": {},
   "source": [
    "### Case Study: Employee Turnover"
   ]
  },
  {
   "cell_type": "markdown",
   "id": "cb625445",
   "metadata": {},
   "source": [
    "<p align=\"center\">\n",
    "<img src=\"asset/turnover.png\" alt=\"Turn Over Employee\" width=\"600\">\n",
    "</p>"
   ]
  },
  {
   "cell_type": "markdown",
   "id": "ae50cd30",
   "metadata": {},
   "source": [
    "Turnover adalah proses perputaran keluar dan masuknya karyawan dalam suatu perusahaan secara sukarela atau tidak. Tujuan dari projek ini adalah **membantu personalia perusahaan dengan memprediksi apakah seorang karyawan berisiko tinggi untuk meninggalkan perusahaan**. Permasalahan ini dapat diselesaikan dengan membangun model klasifikasi untuk memprediksi apakah seorang karyawan akan meninggalkan perusahaan berdasarkan karakteristik karyawan tersebut."
   ]
  },
  {
   "cell_type": "markdown",
   "id": "57cc08f2",
   "metadata": {},
   "source": [
    "___"
   ]
  },
  {
   "cell_type": "markdown",
   "id": "5ab7be7c",
   "metadata": {},
   "source": [
    "Untuk dapat membuat model machine learning yang dapat memprediksi seseorang resign atau tidak, kita membutuhkan sebuah program/algoritma. Salah satu library yang akan banyak digunakan untuk kebutuhan machine learning baik algoritma atau dataset di Python adalah `sklearn`. Dokumentasinya ada [di sini](https://scikit-learn.org/stable/)."
   ]
  },
  {
   "cell_type": "code",
   "execution_count": 1,
   "id": "d6f0a8b9",
   "metadata": {},
   "outputs": [],
   "source": [
    "# import library untuk membuat model machine larning\n",
    "import sklearn"
   ]
  },
  {
   "cell_type": "markdown",
   "id": "e03a586e",
   "metadata": {},
   "source": [
    "🔻 Mari kita mulai dengan mengimpor library yang diperlukan."
   ]
  },
  {
   "cell_type": "code",
   "execution_count": 2,
   "id": "e838589d",
   "metadata": {},
   "outputs": [],
   "source": [
    "# library untuk mengolah data\n",
    "import pandas as pd\n",
    "import numpy as np\n",
    "\n",
    "# library untuk visualisasi\n",
    "import matplotlib.pyplot as plt"
   ]
  },
  {
   "cell_type": "markdown",
   "id": "bf9d5afd",
   "metadata": {},
   "source": [
    "### 1. Load Data: Employee Turnover Dataset"
   ]
  },
  {
   "cell_type": "markdown",
   "id": "55ccf971",
   "metadata": {},
   "source": [
    "Mari kita baca dataset `data_input/employees.csv`"
   ]
  },
  {
   "cell_type": "code",
   "execution_count": 3,
   "id": "7699a397",
   "metadata": {
    "scrolled": true
   },
   "outputs": [
    {
     "data": {
      "text/html": [
       "<div>\n",
       "<style scoped>\n",
       "    .dataframe tbody tr th:only-of-type {\n",
       "        vertical-align: middle;\n",
       "    }\n",
       "\n",
       "    .dataframe tbody tr th {\n",
       "        vertical-align: top;\n",
       "    }\n",
       "\n",
       "    .dataframe thead th {\n",
       "        text-align: right;\n",
       "    }\n",
       "</style>\n",
       "<table border=\"1\" class=\"dataframe\">\n",
       "  <thead>\n",
       "    <tr style=\"text-align: right;\">\n",
       "      <th></th>\n",
       "      <th>EmployeeId</th>\n",
       "      <th>Education</th>\n",
       "      <th>City</th>\n",
       "      <th>PaymentTier</th>\n",
       "      <th>Age</th>\n",
       "      <th>Gender</th>\n",
       "      <th>EverBenched</th>\n",
       "      <th>ExperienceInCurrentDomain</th>\n",
       "      <th>Status</th>\n",
       "    </tr>\n",
       "  </thead>\n",
       "  <tbody>\n",
       "    <tr>\n",
       "      <th>0</th>\n",
       "      <td>I1-84894</td>\n",
       "      <td>Bachelors</td>\n",
       "      <td>Bangalore</td>\n",
       "      <td>3</td>\n",
       "      <td>34</td>\n",
       "      <td>Male</td>\n",
       "      <td>No</td>\n",
       "      <td>0</td>\n",
       "      <td>Left</td>\n",
       "    </tr>\n",
       "    <tr>\n",
       "      <th>1</th>\n",
       "      <td>I3-14270</td>\n",
       "      <td>Bachelors</td>\n",
       "      <td>Pune</td>\n",
       "      <td>1</td>\n",
       "      <td>28</td>\n",
       "      <td>Female</td>\n",
       "      <td>No</td>\n",
       "      <td>3</td>\n",
       "      <td>Active</td>\n",
       "    </tr>\n",
       "    <tr>\n",
       "      <th>2</th>\n",
       "      <td>I2-66215</td>\n",
       "      <td>Bachelors</td>\n",
       "      <td>New Delhi</td>\n",
       "      <td>3</td>\n",
       "      <td>38</td>\n",
       "      <td>Female</td>\n",
       "      <td>No</td>\n",
       "      <td>2</td>\n",
       "      <td>Left</td>\n",
       "    </tr>\n",
       "    <tr>\n",
       "      <th>3</th>\n",
       "      <td>I1-73250</td>\n",
       "      <td>Masters</td>\n",
       "      <td>Bangalore</td>\n",
       "      <td>3</td>\n",
       "      <td>27</td>\n",
       "      <td>Male</td>\n",
       "      <td>No</td>\n",
       "      <td>5</td>\n",
       "      <td>Active</td>\n",
       "    </tr>\n",
       "    <tr>\n",
       "      <th>4</th>\n",
       "      <td>I3-85771</td>\n",
       "      <td>Masters</td>\n",
       "      <td>Pune</td>\n",
       "      <td>3</td>\n",
       "      <td>24</td>\n",
       "      <td>Male</td>\n",
       "      <td>Yes</td>\n",
       "      <td>2</td>\n",
       "      <td>Active</td>\n",
       "    </tr>\n",
       "  </tbody>\n",
       "</table>\n",
       "</div>"
      ],
      "text/plain": [
       "  EmployeeId  Education       City  PaymentTier  Age  Gender EverBenched  \\\n",
       "0   I1-84894  Bachelors  Bangalore            3   34    Male          No   \n",
       "1   I3-14270  Bachelors       Pune            1   28  Female          No   \n",
       "2   I2-66215  Bachelors  New Delhi            3   38  Female          No   \n",
       "3   I1-73250    Masters  Bangalore            3   27    Male          No   \n",
       "4   I3-85771    Masters       Pune            3   24    Male         Yes   \n",
       "\n",
       "   ExperienceInCurrentDomain  Status  \n",
       "0                          0    Left  \n",
       "1                          3  Active  \n",
       "2                          2    Left  \n",
       "3                          5  Active  \n",
       "4                          2  Active  "
      ]
     },
     "execution_count": 3,
     "metadata": {},
     "output_type": "execute_result"
    }
   ],
   "source": [
    "# load dataset\n",
    "employees = pd.read_csv(\"data_input/employees.csv\")\n",
    "employees.head()"
   ]
  },
  {
   "cell_type": "markdown",
   "id": "11eceba7",
   "metadata": {},
   "source": [
    "<div class=\"alert alert-info\">\n",
    "<a href=\"https://www.kaggle.com/datasets/tawfikelmetwally/employee-dataset/data\"><b>[Employee Turnover Dataset]</b></a> adalah data yang mengandung informasi pegawai dari sebuah perusahaan di India, termasuk latar belakang pendidikan, pengalaman kerja, demografi, dan faktor lain yang berhubungan dengan pekerjaan. Tujuan dari projek ini adalah <b>memprediksi apakah seorang karyawan akan meninggalkan perusahaan atau tidak </b>.\n",
    "</div>"
   ]
  },
  {
   "cell_type": "markdown",
   "id": "08f707f5",
   "metadata": {},
   "source": [
    " 🔎 **Penjelasan Data**\n",
    "\n",
    "- `Employee ID` : ID karyawan.\n",
    "- `Education`: Pendidikan terakhir karyawan (Bachelors, Masters, PHD).\n",
    "- `City`: Kota tempat karyawan bekerja.\n",
    "- `Payment Tier`: Kategori gaji karyawan (1, 2, 3). Tingkat 3 yang paling tinggi.\n",
    "- `Age`: Umur.\n",
    "- `Gender`: Gender (Male/Female).\n",
    "- `Ever Benched`: Menunjukkan apakah karyawan pernah tidak mendapatkan tugas apapun (Yes/No).\n",
    "- `Experience`: Lama tahun pengalaman karyawan di bidang saat ini.\n",
    "- `Status`: Indikator apakah karyawan meninggalkan perusahaan (Left/Active)"
   ]
  },
  {
   "cell_type": "markdown",
   "id": "c553cd0b",
   "metadata": {},
   "source": [
    "### 2. Exploratory Data Analysis (EDA)"
   ]
  },
  {
   "cell_type": "markdown",
   "id": "2bfc82b5",
   "metadata": {},
   "source": [
    "Tahapan-tahapan yang dapat dilakukan pada EDA antara lain:\n",
    "\n",
    "> - Melihat tipe data, missing value dan data duplikat\n",
    "> - Melihat deskripsi statistik data\n",
    "> - Eksplorasi Lanjutan"
   ]
  },
  {
   "cell_type": "markdown",
   "id": "3564921f",
   "metadata": {},
   "source": [
    "#### 2.1 Tipe Data, Missing Value dan Duplikat"
   ]
  },
  {
   "cell_type": "markdown",
   "id": "c14fe371",
   "metadata": {},
   "source": [
    "##### `1️⃣` Tipe Data\n",
    "\n",
    "Tipe data yang tepat sangat penting sebelum membangun model machine learning. **Kesalahan tipe data dapat menyebabkan misinterpretasi oleh model dan menurunkan performanya.**\n",
    "\n",
    "Contohnya, jika kolom numerik masih dalam bentuk string, model tidak dapat melakukan operasi matematika dan menghasilkan error.\n",
    "\n",
    "Mari kita melihat dan menyesuaikan tipe data dari dataset kita."
   ]
  },
  {
   "cell_type": "code",
   "execution_count": 4,
   "id": "2d0f1439",
   "metadata": {},
   "outputs": [
    {
     "data": {
      "text/plain": [
       "EmployeeId                   object\n",
       "Education                    object\n",
       "City                         object\n",
       "PaymentTier                   int64\n",
       "Age                           int64\n",
       "Gender                       object\n",
       "EverBenched                  object\n",
       "ExperienceInCurrentDomain     int64\n",
       "Status                       object\n",
       "dtype: object"
      ]
     },
     "execution_count": 4,
     "metadata": {},
     "output_type": "execute_result"
    }
   ],
   "source": [
    "# melihat tipe data tiap kolom (code here)\n",
    "employees.dtypes"
   ]
  },
  {
   "cell_type": "markdown",
   "id": "002a607c",
   "metadata": {},
   "source": [
    "> Terlihat bahwa prediktor `Education`, `City`, `PaymentTier`, `Gender`, `EverBenched`, `Status` memiliki tipe data `object`. Kita perlu mengubahnya menjadi data `category` menggunakan fungsi `.astype()` yang sudah disediakan oleh python."
   ]
  },
  {
   "cell_type": "code",
   "execution_count": 5,
   "id": "4594cbc6",
   "metadata": {},
   "outputs": [],
   "source": [
    "# list kolom numerik\n",
    "numeric_features = ['Age', 'ExperienceInCurrentDomain']\n",
    "\n",
    "# list kolom kategorik\n",
    "category_features = ['Education', 'City', 'PaymentTier', 'Gender', 'EverBenched', 'Status']"
   ]
  },
  {
   "cell_type": "code",
   "execution_count": 6,
   "id": "0ca656a6",
   "metadata": {},
   "outputs": [
    {
     "data": {
      "text/plain": [
       "EmployeeId                     object\n",
       "Education                    category\n",
       "City                         category\n",
       "PaymentTier                  category\n",
       "Age                             int64\n",
       "Gender                       category\n",
       "EverBenched                  category\n",
       "ExperienceInCurrentDomain       int64\n",
       "Status                       category\n",
       "dtype: object"
      ]
     },
     "execution_count": 6,
     "metadata": {},
     "output_type": "execute_result"
    }
   ],
   "source": [
    "# mengubah tipe data kategorik\n",
    "employees[category_features] = employees[category_features].astype('category')\n",
    "\n",
    "# menampilkan tipe data\n",
    "employees.dtypes"
   ]
  },
  {
   "cell_type": "markdown",
   "id": "55d5e56f",
   "metadata": {},
   "source": [
    "##### `2️⃣` Missing Value\n",
    "\n",
    "Missing value dapat terjadi karena berbagai alasan. Hal ini dapat memengaruhi performa model atau bahkan menggagalkan proses pemodelan. Oleh karena itu, penting untuk menangani missing value sebelum membangun model.\n",
    "\n",
    " 🔎 **Menangani Missing Value**\n",
    "\n",
    "Untuk treatment missing values sebenarnya ada beberapa cara umum yang bisa digunakan. Antara lain:\n",
    "\n",
    "> - **Imputasi:** Mengisi nilai yang hilang dengan nilai lain: Menggunakan metode `.fillna()`\n",
    "> - **Drop:** Menghapus observasi yang memiliki nilai missing: Menggunakan metode `.dropna()`."
   ]
  },
  {
   "cell_type": "markdown",
   "id": "65f2b271",
   "metadata": {},
   "source": [
    "Metode imputasi bisa berbeda tergantung jenis tipe datanya. Berikut detail metode imputasi yang bisa digunakan.\n",
    "\n",
    "**Untuk kolom categorical:**\n",
    "\n",
    "> - Isi menggunakan nilai lainnya seperti `other` atau `missing`\n",
    "> - Isi menggunakan nilai terbanyak yg muncul (`mode`)\n",
    "\n",
    "**Untuk kolom numerical:**\n",
    "\n",
    "> - Isi menggunakan nilai tengah seperti `mean` atau `median`\n",
    "> - Isi dengan nilai 0\n",
    "\n",
    "**Untuk kolom datetime:**\n",
    "\n",
    "> - Menggunakan metode `bfill` : melakukan imputasi dari bawah ke atas\n",
    "> - Menggunakan metode `ffill` : melakukan imputasi dari atas ke bawah"
   ]
  },
  {
   "cell_type": "code",
   "execution_count": 7,
   "id": "52a1e483",
   "metadata": {},
   "outputs": [
    {
     "data": {
      "text/plain": [
       "EmployeeId                   0\n",
       "Education                    0\n",
       "City                         0\n",
       "PaymentTier                  0\n",
       "Age                          0\n",
       "Gender                       0\n",
       "EverBenched                  0\n",
       "ExperienceInCurrentDomain    0\n",
       "Status                       0\n",
       "dtype: int64"
      ]
     },
     "execution_count": 7,
     "metadata": {},
     "output_type": "execute_result"
    }
   ],
   "source": [
    "# menampilkan missing value tiap kolom\n",
    "employees.isna().sum()"
   ]
  },
  {
   "cell_type": "markdown",
   "id": "a1ec0d1f",
   "metadata": {},
   "source": [
    "✨ INSIGHT\n",
    "\n",
    "> Tidak ada data yang miss/kosong pada tiap kolom. Artinya, dataset lengkap."
   ]
  },
  {
   "cell_type": "markdown",
   "id": "38f18d35",
   "metadata": {},
   "source": [
    "##### `3️⃣` Duplicate Value\n",
    "\n",
    "Nilai duplikat adalah baris yang memiliki kesamaan nilai dengan 1 atau lebih baris yang lain.\n",
    "\n",
    "**Nilai duplikat dalam dataset dapat menyebabkan hasil pemodelan yang bias dan tidak akurat karena mementingkan nilai-nilai yang duplikat.**\n",
    "\n",
    "Oleh karena itu, penting untuk mengidentifikasi nilai duplikat sebelum membangun model machine learning."
   ]
  },
  {
   "cell_type": "code",
   "execution_count": 8,
   "id": "6685b70a",
   "metadata": {
    "scrolled": true
   },
   "outputs": [
    {
     "data": {
      "text/plain": [
       "0"
      ]
     },
     "execution_count": 8,
     "metadata": {},
     "output_type": "execute_result"
    }
   ],
   "source": [
    "# menampilkan data duplikat\n",
    "employees.duplicated().sum()"
   ]
  },
  {
   "cell_type": "markdown",
   "id": "814d7025",
   "metadata": {},
   "source": [
    "#### 2.2 Melihat Deskripsi Statistik Data "
   ]
  },
  {
   "cell_type": "markdown",
   "id": "296a0b8c",
   "metadata": {},
   "source": [
    "Bagaimana karakteristik dari data kita?"
   ]
  },
  {
   "cell_type": "code",
   "execution_count": 9,
   "id": "7f4aabe9",
   "metadata": {},
   "outputs": [
    {
     "data": {
      "text/html": [
       "<div>\n",
       "<style scoped>\n",
       "    .dataframe tbody tr th:only-of-type {\n",
       "        vertical-align: middle;\n",
       "    }\n",
       "\n",
       "    .dataframe tbody tr th {\n",
       "        vertical-align: top;\n",
       "    }\n",
       "\n",
       "    .dataframe thead th {\n",
       "        text-align: right;\n",
       "    }\n",
       "</style>\n",
       "<table border=\"1\" class=\"dataframe\">\n",
       "  <thead>\n",
       "    <tr style=\"text-align: right;\">\n",
       "      <th></th>\n",
       "      <th>Age</th>\n",
       "      <th>ExperienceInCurrentDomain</th>\n",
       "    </tr>\n",
       "  </thead>\n",
       "  <tbody>\n",
       "    <tr>\n",
       "      <th>count</th>\n",
       "      <td>4653.000000</td>\n",
       "      <td>4653.000000</td>\n",
       "    </tr>\n",
       "    <tr>\n",
       "      <th>mean</th>\n",
       "      <td>29.393295</td>\n",
       "      <td>2.905652</td>\n",
       "    </tr>\n",
       "    <tr>\n",
       "      <th>std</th>\n",
       "      <td>4.826087</td>\n",
       "      <td>1.558240</td>\n",
       "    </tr>\n",
       "    <tr>\n",
       "      <th>min</th>\n",
       "      <td>22.000000</td>\n",
       "      <td>0.000000</td>\n",
       "    </tr>\n",
       "    <tr>\n",
       "      <th>25%</th>\n",
       "      <td>26.000000</td>\n",
       "      <td>2.000000</td>\n",
       "    </tr>\n",
       "    <tr>\n",
       "      <th>50%</th>\n",
       "      <td>28.000000</td>\n",
       "      <td>3.000000</td>\n",
       "    </tr>\n",
       "    <tr>\n",
       "      <th>75%</th>\n",
       "      <td>32.000000</td>\n",
       "      <td>4.000000</td>\n",
       "    </tr>\n",
       "    <tr>\n",
       "      <th>max</th>\n",
       "      <td>41.000000</td>\n",
       "      <td>7.000000</td>\n",
       "    </tr>\n",
       "  </tbody>\n",
       "</table>\n",
       "</div>"
      ],
      "text/plain": [
       "               Age  ExperienceInCurrentDomain\n",
       "count  4653.000000                4653.000000\n",
       "mean     29.393295                   2.905652\n",
       "std       4.826087                   1.558240\n",
       "min      22.000000                   0.000000\n",
       "25%      26.000000                   2.000000\n",
       "50%      28.000000                   3.000000\n",
       "75%      32.000000                   4.000000\n",
       "max      41.000000                   7.000000"
      ]
     },
     "execution_count": 9,
     "metadata": {},
     "output_type": "execute_result"
    }
   ],
   "source": [
    "# melihat statistik dataset\n",
    "employees.describe()"
   ]
  },
  {
   "cell_type": "markdown",
   "id": "96fd0fde",
   "metadata": {},
   "source": [
    "> **Insight:**\n",
    "\n",
    "> - Bu Intan -> age , umur maks 41th, umur min 22th, rata2 umur 29th -> tidak ada yang bekerja sampai pensiun\n",
    "> - Maksimal pengalaman kerja di bidang yang sama yaitu 7 tahun\n",
    "> - Pak Saprudin -> dari exp.  kaya perusahaan baru"
   ]
  },
  {
   "cell_type": "markdown",
   "id": "62162e3e",
   "metadata": {},
   "source": [
    "Bagaimana dengan data kategorikal?"
   ]
  },
  {
   "cell_type": "code",
   "execution_count": 10,
   "id": "cd90dd0e",
   "metadata": {},
   "outputs": [
    {
     "data": {
      "text/html": [
       "<div>\n",
       "<style scoped>\n",
       "    .dataframe tbody tr th:only-of-type {\n",
       "        vertical-align: middle;\n",
       "    }\n",
       "\n",
       "    .dataframe tbody tr th {\n",
       "        vertical-align: top;\n",
       "    }\n",
       "\n",
       "    .dataframe thead th {\n",
       "        text-align: right;\n",
       "    }\n",
       "</style>\n",
       "<table border=\"1\" class=\"dataframe\">\n",
       "  <thead>\n",
       "    <tr style=\"text-align: right;\">\n",
       "      <th></th>\n",
       "      <th>Education</th>\n",
       "      <th>City</th>\n",
       "      <th>PaymentTier</th>\n",
       "      <th>Gender</th>\n",
       "      <th>EverBenched</th>\n",
       "      <th>Status</th>\n",
       "    </tr>\n",
       "  </thead>\n",
       "  <tbody>\n",
       "    <tr>\n",
       "      <th>count</th>\n",
       "      <td>4653</td>\n",
       "      <td>4653</td>\n",
       "      <td>4653</td>\n",
       "      <td>4653</td>\n",
       "      <td>4653</td>\n",
       "      <td>4653</td>\n",
       "    </tr>\n",
       "    <tr>\n",
       "      <th>unique</th>\n",
       "      <td>3</td>\n",
       "      <td>3</td>\n",
       "      <td>3</td>\n",
       "      <td>2</td>\n",
       "      <td>2</td>\n",
       "      <td>2</td>\n",
       "    </tr>\n",
       "    <tr>\n",
       "      <th>top</th>\n",
       "      <td>Bachelors</td>\n",
       "      <td>Bangalore</td>\n",
       "      <td>3</td>\n",
       "      <td>Male</td>\n",
       "      <td>No</td>\n",
       "      <td>Left</td>\n",
       "    </tr>\n",
       "    <tr>\n",
       "      <th>freq</th>\n",
       "      <td>3601</td>\n",
       "      <td>2228</td>\n",
       "      <td>3492</td>\n",
       "      <td>2778</td>\n",
       "      <td>4175</td>\n",
       "      <td>3053</td>\n",
       "    </tr>\n",
       "  </tbody>\n",
       "</table>\n",
       "</div>"
      ],
      "text/plain": [
       "        Education       City  PaymentTier Gender EverBenched Status\n",
       "count        4653       4653         4653   4653        4653   4653\n",
       "unique          3          3            3      2           2      2\n",
       "top     Bachelors  Bangalore            3   Male          No   Left\n",
       "freq         3601       2228         3492   2778        4175   3053"
      ]
     },
     "execution_count": 10,
     "metadata": {},
     "output_type": "execute_result"
    }
   ],
   "source": [
    "# menampilkan data statistik untuk tipe data kategorikal\n",
    "employees.describe(include='category')"
   ]
  },
  {
   "cell_type": "markdown",
   "id": "cf782d52",
   "metadata": {},
   "source": [
    "**Insight:**\n",
    "> - Rata-rata karyawan adalah sarjana dengan jumlah 3.601 karyawan\n",
    "> - Kebanyakan pekerja adalah laki-laki (male) jumlahnya 2.778\n",
    "> - Bu Salma: karyawan sudah banyak yang resign\n",
    "> - Pak Yudho: 2228 atau kira2 setengah dari karyawan berasal dari Bengalore"
   ]
  },
  {
   "cell_type": "markdown",
   "id": "ea516c96",
   "metadata": {},
   "source": [
    "#### 2.3 Eksplorasi Lanjutan"
   ]
  },
  {
   "cell_type": "markdown",
   "id": "48d5e763",
   "metadata": {},
   "source": [
    "Berapa jumlah karyawan yang masih aktif dan sudah resign?"
   ]
  },
  {
   "cell_type": "code",
   "execution_count": 11,
   "id": "cca62ee3",
   "metadata": {},
   "outputs": [
    {
     "data": {
      "text/plain": [
       "<Axes: xlabel='Status'>"
      ]
     },
     "execution_count": 11,
     "metadata": {},
     "output_type": "execute_result"
    },
    {
     "data": {
      "image/png": "[encoded data removed]",
      "text/plain": [
       "<Figure size 640x480 with 1 Axes>"
      ]
     },
     "metadata": {},
     "output_type": "display_data"
    }
   ],
   "source": [
    "# melihat jumlah karyawan aktif dan resign (code here)\n",
    "employees['Status'].value_counts().plot(kind='bar')"
   ]
  },
  {
   "cell_type": "markdown",
   "id": "1a27d29e",
   "metadata": {},
   "source": [
    "> **Insight**\n",
    "> Karyawan lebih banyak yang resign daripada yang stay/active"
   ]
  },
  {
   "cell_type": "markdown",
   "id": "8f370ac2",
   "metadata": {},
   "source": [
    "Berapa proporsi karyawan laki-laki dan perempuan yang masih aktif dan resign?"
   ]
  },
  {
   "cell_type": "code",
   "execution_count": 12,
   "id": "4c5f5d82",
   "metadata": {},
   "outputs": [
    {
     "data": {
      "text/plain": [
       "<Axes: xlabel='Status'>"
      ]
     },
     "execution_count": 12,
     "metadata": {},
     "output_type": "execute_result"
    },
    {
     "data": {
      "image/png": "[encoded data removed]",
      "text/plain": [
       "<Figure size 640x480 with 1 Axes>"
      ]
     },
     "metadata": {},
     "output_type": "display_data"
    }
   ],
   "source": [
    "pd.crosstab(\n",
    "\tindex = employees['Status'], \n",
    "\tcolumns = employees['Gender']\n",
    ").plot(kind='bar')"
   ]
  },
  {
   "cell_type": "markdown",
   "id": "2c788b12",
   "metadata": {},
   "source": [
    "> **Insight**\n",
    "> - Karyawan laki-laki lebih banyak yang resign daripada perempuan.\n",
    "> - Karyawan laki-laki lebih banyak daripada karyawan perempuan."
   ]
  },
  {
   "cell_type": "markdown",
   "id": "5225adfa",
   "metadata": {},
   "source": [
    "Bagaimana proporsi karyawan yang masih aktif dan resign berdasarkan tingkat pendidikan?"
   ]
  },
  {
   "cell_type": "code",
   "execution_count": 13,
   "id": "4a646ec0",
   "metadata": {},
   "outputs": [
    {
     "data": {
      "text/plain": [
       "<Axes: xlabel='Status'>"
      ]
     },
     "execution_count": 13,
     "metadata": {},
     "output_type": "execute_result"
    },
    {
     "data": {
      "image/png": "[encoded data removed]",
      "text/plain": [
       "<Figure size 640x480 with 1 Axes>"
      ]
     },
     "metadata": {},
     "output_type": "display_data"
    }
   ],
   "source": [
    "pd.crosstab(\n",
    "\tindex = employees['Status'], \n",
    "\tcolumns = employees['Education']\n",
    ").plot(kind='bar')"
   ]
  },
  {
   "cell_type": "markdown",
   "id": "418b8ca4",
   "metadata": {},
   "source": [
    "> **Insight**\n",
    "> - Berdasarkan proporsinya, karyawan dengan tingkat pendidikan sarjana paling banyak resign."
   ]
  },
  {
   "cell_type": "markdown",
   "id": "a34790c8",
   "metadata": {},
   "source": [
    "### 🧪 Knowledge Check: EDA"
   ]
  },
  {
   "cell_type": "markdown",
   "id": "a6770a6a",
   "metadata": {},
   "source": [
    "___\n",
    "1. Berikut ini informasi yang dapat kita ketahui dari melihat statistik data menggunakan fungsi `.describe()`, kecuali ...\n",
    "\n",
    "- [ ] Median\n",
    "- [X] Modus\n",
    "- [ ] Jumlah Data\n",
    "___\n",
    "2. Perhatikan tabel berikut!"
   ]
  },
  {
   "cell_type": "markdown",
   "id": "1906c69d",
   "metadata": {},
   "source": [
    "<div>\n",
    "<style scoped>\n",
    "    .dataframe tbody tr th:only-of-type {\n",
    "        vertical-align: middle;\n",
    "    }\n",
    "\n",
    "    .dataframe tbody tr th {\n",
    "        vertical-align: top;Q\n",
    "    }\n",
    "\n",
    "    .dataframe thead th {\n",
    "        text-align: right;\n",
    "    }\n",
    "</style>\n",
    "<table border=\"1\" class=\"dataframe\">\n",
    "  <thead>\n",
    "    <tr style=\"text-align: right;\">\n",
    "      <th>FraudStatus</th>\n",
    "      <th>TransactionDate</th>\n",
    "      <th>AmountUSD</th>\n",
    "      <th>ZipCode</th>\n",
    "    </tr>\n",
    "  </thead>\n",
    "  <tbody>\n",
    "    <tr>\n",
    "      <td>Normal</td>\n",
    "      <td></td>\n",
    "      <td>125</td>\n",
    "      <td>55321</td>\n",
    "    </tr>\n",
    "    <tr>\n",
    "      <td>Normal</td>\n",
    "      <td>2024-09-01</td>\n",
    "      <td>100</td>\n",
    "      <td>45111</td>\n",
    "    </tr>\n",
    "    <tr>\n",
    "      <td>Fraud</td>\n",
    "      <td>2024-08-13</td>\n",
    "      <td>500</td>\n",
    "      <td>57002</td>\n",
    "    </tr>\n",
    "    <tr>\n",
    "      <td>Normal</td>\n",
    "      <td>2024-08-01</td>\n",
    "      <td>85</td>\n",
    "      <td>49563</td>\n",
    "    </tr>\n",
    "  </tbody>\n",
    "</table>\n",
    "</div>"
   ]
  },
  {
   "cell_type": "markdown",
   "id": "2f21b9a9",
   "metadata": {},
   "source": [
    "Metode apa yang tepat untuk mengatasi masalah missing value pada kolom TransactionDate?\n",
    "\n",
    "- [ ] `mean()`\n",
    "- [X] `bfill()`\n",
    "- [ ] `ffill()`\n",
    "\n",
    "___"
   ]
  },
  {
   "cell_type": "markdown",
   "id": "b3cefb77",
   "metadata": {},
   "source": [
    "### 3. Data Preprocessing"
   ]
  },
  {
   "cell_type": "markdown",
   "id": "f5dff225",
   "metadata": {},
   "source": [
    "Data preprocessing merupakan proses untuk membersihkan data dari data mentah menjadi data yang baik dan lengkap untuk proses modeling. Data yang bersih dan lengkap akan menghasilkan model machine learning yang efektif dan efisien serta memiliki performa yang lebih baik.\n",
    "\n",
    "Proses ini bertujuan untuk mengurangi waktu komputasi dan resource yang dibutuhkan saat proses pembuatan model dan meningkatkan performa model machine learning."
   ]
  },
  {
   "cell_type": "markdown",
   "id": "21020c4a",
   "metadata": {},
   "source": [
    "Tahapan-tahapan yang dapat dilakukan pada data preprocessing antara lain:\n",
    "\n",
    "> - Menangani data outliers\n",
    "> - Menangani data kategorikal\n",
    "> - Membagi dataset menjadi data train dan test\n",
    "> - Melakukan scaling data"
   ]
  },
  {
   "cell_type": "markdown",
   "id": "33c12ed2",
   "metadata": {},
   "source": [
    "#### 3.1 Handling Numerical Data: Outliers"
   ]
  },
  {
   "cell_type": "markdown",
   "id": "0a80ff92",
   "metadata": {},
   "source": [
    "Outlier adalah observasi dengan nilai yang jauh berbeda dari mayoritas data. Hal ini dapat disebabkan oleh kesalahan input, anomali, atau kesalahan perhitungan. Menangani outlier penting dalam pemodelan machine learning karena dapat memengaruhi performa model.\n",
    "\n",
    "Salah satu metode untuk mengidentifikasi outlier yaitu menggunakan IQR atau *Interquartile Range*.\n",
    "\n",
    "![boxplot.png](asset/boxplot.png)"
   ]
  },
  {
   "cell_type": "markdown",
   "id": "31f49e9d",
   "metadata": {},
   "source": [
    "Plot di atas disebut sebagai boxplot atau juga dikenal sebagai box-and-whisker plot, adalah representasi grafis dari sebaran suatu kumpulan data. Boxplot menggambarkan ringkasan dari 5 informasi sebagai berikut:\n",
    "\n",
    "- Q1: kuartil pertama (persentil ke-25 dari data)\n",
    "- Q2 / Median: kuartil kedua (persentil ke-50 dari data)\n",
    "- Q3: kuartil ketiga (persentil ke-75 dari data)\n",
    "- Whisker bawah : batas bawah\n",
    "- Whisker atas : batas atas\n",
    "- Data di luar batas bawah maupun batas atas dianggap outlier.\n",
    "\n",
    "**Peringatan**\n",
    "Batas bawah bukanlah nilai minimum data dan batas atas bukanlah nilai maksimum data."
   ]
  },
  {
   "cell_type": "markdown",
   "id": "69615959",
   "metadata": {},
   "source": [
    "Mari kita identifikasi nilai outlier pada data kita dengan menggunakan boxplot:"
   ]
  },
  {
   "cell_type": "code",
   "execution_count": 14,
   "id": "a203e7e5",
   "metadata": {},
   "outputs": [
    {
     "data": {
      "text/plain": [
       "EmployeeId                     object\n",
       "Education                    category\n",
       "City                         category\n",
       "PaymentTier                  category\n",
       "Age                             int64\n",
       "Gender                       category\n",
       "EverBenched                  category\n",
       "ExperienceInCurrentDomain       int64\n",
       "Status                       category\n",
       "dtype: object"
      ]
     },
     "execution_count": 14,
     "metadata": {},
     "output_type": "execute_result"
    }
   ],
   "source": [
    "# melihat tipe data\n",
    "employees.dtypes"
   ]
  },
  {
   "cell_type": "code",
   "execution_count": 15,
   "id": "505352f4",
   "metadata": {
    "scrolled": true
   },
   "outputs": [
    {
     "data": {
      "image/png": "[encoded data removed]",
      "text/plain": [
       "<Figure size 640x480 with 1 Axes>"
      ]
     },
     "metadata": {},
     "output_type": "display_data"
    }
   ],
   "source": [
    "# visualisasi boxplot pada kolom numerik (code here)\n",
    "employees.boxplot(column=numeric_features)\n",
    "plt.show()"
   ]
  },
  {
   "cell_type": "markdown",
   "id": "d2a10542",
   "metadata": {},
   "source": [
    "**Insight:** \n",
    "> Apakah terdapat outlier di data kita?\n",
    "> - Jawaban: Tidak ada"
   ]
  },
  {
   "cell_type": "markdown",
   "id": "9831afb7",
   "metadata": {},
   "source": [
    " 🔎 **Menangani Outliers**\n",
    " \n",
    "Ada beberapa cara untuk menangani outliers:\n",
    "1. **Remove outlier**: Menghilangkan dan menghapus keseluruhan outlier.\n",
    "2. **Imputasi**: Mengganti nilai outliers dengan nilai yang diperbolehkan (sesuai kebutuhan).\n",
    "3. ***Scaling***: Teknik untuk mentrasformasi sehingga nilai-nilai outlier ini tidak akan berpengaruh besar terhadap hasil analisis. Teknik scaling bermacam-macam seperti standarisasi dan normalisasi."
   ]
  },
  {
   "cell_type": "markdown",
   "id": "6e217e19",
   "metadata": {},
   "source": [
    "#### 3.2 Handling Categorical Data"
   ]
  },
  {
   "cell_type": "markdown",
   "id": "b59a88a3",
   "metadata": {},
   "source": [
    "Di Python, data input dan output untuk model machine learning haruslah berupa numerik.\n",
    "\n",
    "Oleh karena itu, data kategorikal harus diubah (encode) menjadi data numerik sebelum digunakan dalam pemodelan dan evaluasi machine learning.\n",
    "\n",
    "Jenis data kategorikal:\n",
    "\n",
    "1. **Nominal**: Tidak memiliki urutan (misalnya: kota, warna).\n",
    "   - Contoh lain: jenis kelamin (laki-laki, perempuan)\n",
    "   - Status perkawinan (menikah, belum Menikah)\n",
    "\n",
    "2. **Ordinal**: Memiliki urutan (misalnya: tingkat pendidikan, kepuasan).\n",
    "   - Contoh lain: ukuran baju (S, M, L, XL)\n",
    "   - Tingkat Penghasilan\n",
    "   - Temperature: Dingin, Sedang, Panas, Mendidih\n",
    "   - Tingkatan alat ukur (cm, m, km)\n",
    "\n",
    "![](asset/categorical-type.png)\n",
    "\n",
    "\n",
    "Setelah mengetahui jenis dari data kategori yang kita punyai. Identifikasi kolom-kolom kategorik dataset kita, kolom mana yang termasuk ordinal dan yang termasuk nominal."
   ]
  },
  {
   "cell_type": "code",
   "execution_count": 16,
   "id": "aa62f5dc",
   "metadata": {},
   "outputs": [
    {
     "data": {
      "text/html": [
       "<div>\n",
       "<style scoped>\n",
       "    .dataframe tbody tr th:only-of-type {\n",
       "        vertical-align: middle;\n",
       "    }\n",
       "\n",
       "    .dataframe tbody tr th {\n",
       "        vertical-align: top;\n",
       "    }\n",
       "\n",
       "    .dataframe thead th {\n",
       "        text-align: right;\n",
       "    }\n",
       "</style>\n",
       "<table border=\"1\" class=\"dataframe\">\n",
       "  <thead>\n",
       "    <tr style=\"text-align: right;\">\n",
       "      <th></th>\n",
       "      <th>EmployeeId</th>\n",
       "      <th>Education</th>\n",
       "      <th>City</th>\n",
       "      <th>PaymentTier</th>\n",
       "      <th>Age</th>\n",
       "      <th>Gender</th>\n",
       "      <th>EverBenched</th>\n",
       "      <th>ExperienceInCurrentDomain</th>\n",
       "      <th>Status</th>\n",
       "    </tr>\n",
       "  </thead>\n",
       "  <tbody>\n",
       "    <tr>\n",
       "      <th>0</th>\n",
       "      <td>I1-84894</td>\n",
       "      <td>Bachelors</td>\n",
       "      <td>Bangalore</td>\n",
       "      <td>3</td>\n",
       "      <td>34</td>\n",
       "      <td>Male</td>\n",
       "      <td>No</td>\n",
       "      <td>0</td>\n",
       "      <td>Left</td>\n",
       "    </tr>\n",
       "    <tr>\n",
       "      <th>1</th>\n",
       "      <td>I3-14270</td>\n",
       "      <td>Bachelors</td>\n",
       "      <td>Pune</td>\n",
       "      <td>1</td>\n",
       "      <td>28</td>\n",
       "      <td>Female</td>\n",
       "      <td>No</td>\n",
       "      <td>3</td>\n",
       "      <td>Active</td>\n",
       "    </tr>\n",
       "    <tr>\n",
       "      <th>2</th>\n",
       "      <td>I2-66215</td>\n",
       "      <td>Bachelors</td>\n",
       "      <td>New Delhi</td>\n",
       "      <td>3</td>\n",
       "      <td>38</td>\n",
       "      <td>Female</td>\n",
       "      <td>No</td>\n",
       "      <td>2</td>\n",
       "      <td>Left</td>\n",
       "    </tr>\n",
       "    <tr>\n",
       "      <th>3</th>\n",
       "      <td>I1-73250</td>\n",
       "      <td>Masters</td>\n",
       "      <td>Bangalore</td>\n",
       "      <td>3</td>\n",
       "      <td>27</td>\n",
       "      <td>Male</td>\n",
       "      <td>No</td>\n",
       "      <td>5</td>\n",
       "      <td>Active</td>\n",
       "    </tr>\n",
       "    <tr>\n",
       "      <th>4</th>\n",
       "      <td>I3-85771</td>\n",
       "      <td>Masters</td>\n",
       "      <td>Pune</td>\n",
       "      <td>3</td>\n",
       "      <td>24</td>\n",
       "      <td>Male</td>\n",
       "      <td>Yes</td>\n",
       "      <td>2</td>\n",
       "      <td>Active</td>\n",
       "    </tr>\n",
       "  </tbody>\n",
       "</table>\n",
       "</div>"
      ],
      "text/plain": [
       "  EmployeeId  Education       City PaymentTier  Age  Gender EverBenched  \\\n",
       "0   I1-84894  Bachelors  Bangalore           3   34    Male          No   \n",
       "1   I3-14270  Bachelors       Pune           1   28  Female          No   \n",
       "2   I2-66215  Bachelors  New Delhi           3   38  Female          No   \n",
       "3   I1-73250    Masters  Bangalore           3   27    Male          No   \n",
       "4   I3-85771    Masters       Pune           3   24    Male         Yes   \n",
       "\n",
       "   ExperienceInCurrentDomain  Status  \n",
       "0                          0    Left  \n",
       "1                          3  Active  \n",
       "2                          2    Left  \n",
       "3                          5  Active  \n",
       "4                          2  Active  "
      ]
     },
     "execution_count": 16,
     "metadata": {},
     "output_type": "execute_result"
    }
   ],
   "source": [
    "employees.head()"
   ]
  },
  {
   "cell_type": "markdown",
   "id": "db899984",
   "metadata": {},
   "source": [
    "Kolom kategorikal:\n",
    "- Nominal: City, Gender, EverBenched, Status\n",
    "- Ordinal: Education, PaymentTier\n",
    "\n",
    "Bu Niken -> nominal : gender\n",
    "Pak Ilham -> Nominal : Gender ? Ordinal : PaymentTier?\n",
    "Pak Farhan -> ordinal : education\n",
    "Bu Intan -> Nominal: Gender, EverBenched, Status"
   ]
  },
  {
   "cell_type": "markdown",
   "id": "5718ddf3",
   "metadata": {},
   "source": [
    "##### 3.2.1 Handling Categorical Data (Ordinal): Ordinal Encoding"
   ]
  },
  {
   "cell_type": "markdown",
   "id": "ccfc786e",
   "metadata": {},
   "source": [
    "Digunakan untuk kategori bertipe ordinal. Pada ordinal encoding, setiap kategori diubah menjadi sebuah nilai numerik. Nilai numerik diurut berdasarkan tingkat dari kategori tersebut.\n",
    "\n",
    "<div>\n",
    "<img src=\"asset/ordinal_encoding.png\" width=\"600\"/>\n",
    "</div>\n",
    "\n",
    "**Contoh**: Survey kepuasan terhadap suatu produk:\n",
    "> - kecewa $\\rightarrow$ 0\n",
    "> - netral $\\rightarrow$ 1\n",
    "> - puas $\\rightarrow$ 2\n",
    "\n",
    "\n",
    "\n",
    "Mari kita melihat kolom ordinal pada dataset kita."
   ]
  },
  {
   "cell_type": "code",
   "execution_count": 17,
   "id": "de926ad0",
   "metadata": {},
   "outputs": [
    {
     "data": {
      "text/plain": [
       "Index(['Bachelors', 'Masters', 'PHD'], dtype='object')"
      ]
     },
     "execution_count": 17,
     "metadata": {},
     "output_type": "execute_result"
    }
   ],
   "source": [
    "# lihat urutan pada kolom ordinal\n",
    "employees['Education'].cat.categories"
   ]
  },
  {
   "cell_type": "markdown",
   "id": "9d8d5eb5",
   "metadata": {},
   "source": [
    "Berdasarkan urutan aslinya, perhatikan bahwa urutan pendidikan sudah berada pada urutan yang benar berdasarkan tingkat pendidikan karyawan: sarjana, magister, dan PhD. Oleh karena itu, kita dapat mengkodekan kategori dengan menggantinya menggunakan metode `.cat.rename_categories()` dengan list bilangan bulat berdasarkan urutan kategori:"
   ]
  },
  {
   "cell_type": "code",
   "execution_count": 18,
   "id": "e57eb3a3",
   "metadata": {},
   "outputs": [
    {
     "data": {
      "text/html": [
       "<div>\n",
       "<style scoped>\n",
       "    .dataframe tbody tr th:only-of-type {\n",
       "        vertical-align: middle;\n",
       "    }\n",
       "\n",
       "    .dataframe tbody tr th {\n",
       "        vertical-align: top;\n",
       "    }\n",
       "\n",
       "    .dataframe thead th {\n",
       "        text-align: right;\n",
       "    }\n",
       "</style>\n",
       "<table border=\"1\" class=\"dataframe\">\n",
       "  <thead>\n",
       "    <tr style=\"text-align: right;\">\n",
       "      <th></th>\n",
       "      <th>EmployeeId</th>\n",
       "      <th>Education</th>\n",
       "      <th>City</th>\n",
       "      <th>PaymentTier</th>\n",
       "      <th>Age</th>\n",
       "      <th>Gender</th>\n",
       "      <th>EverBenched</th>\n",
       "      <th>ExperienceInCurrentDomain</th>\n",
       "      <th>Status</th>\n",
       "    </tr>\n",
       "  </thead>\n",
       "  <tbody>\n",
       "    <tr>\n",
       "      <th>0</th>\n",
       "      <td>I1-84894</td>\n",
       "      <td>0</td>\n",
       "      <td>Bangalore</td>\n",
       "      <td>3</td>\n",
       "      <td>34</td>\n",
       "      <td>Male</td>\n",
       "      <td>No</td>\n",
       "      <td>0</td>\n",
       "      <td>Left</td>\n",
       "    </tr>\n",
       "    <tr>\n",
       "      <th>1</th>\n",
       "      <td>I3-14270</td>\n",
       "      <td>0</td>\n",
       "      <td>Pune</td>\n",
       "      <td>1</td>\n",
       "      <td>28</td>\n",
       "      <td>Female</td>\n",
       "      <td>No</td>\n",
       "      <td>3</td>\n",
       "      <td>Active</td>\n",
       "    </tr>\n",
       "    <tr>\n",
       "      <th>2</th>\n",
       "      <td>I2-66215</td>\n",
       "      <td>0</td>\n",
       "      <td>New Delhi</td>\n",
       "      <td>3</td>\n",
       "      <td>38</td>\n",
       "      <td>Female</td>\n",
       "      <td>No</td>\n",
       "      <td>2</td>\n",
       "      <td>Left</td>\n",
       "    </tr>\n",
       "    <tr>\n",
       "      <th>3</th>\n",
       "      <td>I1-73250</td>\n",
       "      <td>1</td>\n",
       "      <td>Bangalore</td>\n",
       "      <td>3</td>\n",
       "      <td>27</td>\n",
       "      <td>Male</td>\n",
       "      <td>No</td>\n",
       "      <td>5</td>\n",
       "      <td>Active</td>\n",
       "    </tr>\n",
       "    <tr>\n",
       "      <th>4</th>\n",
       "      <td>I3-85771</td>\n",
       "      <td>1</td>\n",
       "      <td>Pune</td>\n",
       "      <td>3</td>\n",
       "      <td>24</td>\n",
       "      <td>Male</td>\n",
       "      <td>Yes</td>\n",
       "      <td>2</td>\n",
       "      <td>Active</td>\n",
       "    </tr>\n",
       "  </tbody>\n",
       "</table>\n",
       "</div>"
      ],
      "text/plain": [
       "  EmployeeId Education       City PaymentTier  Age  Gender EverBenched  \\\n",
       "0   I1-84894         0  Bangalore           3   34    Male          No   \n",
       "1   I3-14270         0       Pune           1   28  Female          No   \n",
       "2   I2-66215         0  New Delhi           3   38  Female          No   \n",
       "3   I1-73250         1  Bangalore           3   27    Male          No   \n",
       "4   I3-85771         1       Pune           3   24    Male         Yes   \n",
       "\n",
       "   ExperienceInCurrentDomain  Status  \n",
       "0                          0    Left  \n",
       "1                          3  Active  \n",
       "2                          2    Left  \n",
       "3                          5  Active  \n",
       "4                          2  Active  "
      ]
     },
     "execution_count": 18,
     "metadata": {},
     "output_type": "execute_result"
    }
   ],
   "source": [
    "# implementasi ordinal encoding\n",
    "employees['Education'] = employees['Education'].cat.rename_categories([0,1,2])\n",
    "\n",
    "# melihat data employee terbaru\n",
    "employees.head()"
   ]
  },
  {
   "cell_type": "markdown",
   "id": "d9a7fb5c",
   "metadata": {},
   "source": [
    "##### 3.2.2 Handling Categorical Data (Nominal): Dummy Variable Encoding"
   ]
  },
  {
   "cell_type": "markdown",
   "id": "65a04950",
   "metadata": {},
   "source": [
    "Digunakan untuk kategori bertipe nominal yang tidak memiliki hubungan bertingkat antar kategorinya. *Dummy variable encoding* membuat kolom baru bertipe biner untuk masing-masing kategorinya.\n",
    "\n",
    "![](asset/dummy-variable.png)\n",
    "\n",
    "> **💡 NOTES**: Salah satu kolom di-*drop* karena bersifat redundan (berulang)"
   ]
  },
  {
   "cell_type": "markdown",
   "id": "7f2248f6",
   "metadata": {},
   "source": [
    "Untuk melakukan **Dummy Variable Encoding** kita menggunakan `pd.get_dummies()` dengan memasukkan kolom yang ingin kita ubah. Adapun parameter antara lain:\n",
    "\n",
    "- `data` $\\rightarrow$ dataframe yang ingin diubah menjadi numerikal.\n",
    "\n",
    "- `columns` $\\rightarrow$ list nama kolom yang akan dilakukan dummy variable encoding.\n",
    "\n",
    "- `drop_first` $\\rightarrow$ Drop salah satu kolom (kolom pertama). Default False (Tidak ada kolom di drop). True agar kolom hasil dummies tidak rendundan.\n",
    "\n",
    "- `dtype` $\\rightarrow$ Mengubah tipe data hasil encoding menjadi suatu tipe data.\n",
    "\n",
    "Dokumentasi `pd.get_dummies()` dapat diakses [di sini.](https://pandas.pydata.org/docs/reference/api/pandas.get_dummies.html)\n",
    "\n",
    "Mari kita coba menerapkan **Dummy Variable Encoding** untuk kolom yang telah kita disepakati"
   ]
  },
  {
   "cell_type": "code",
   "execution_count": 19,
   "id": "8f597880",
   "metadata": {},
   "outputs": [
    {
     "data": {
      "text/html": [
       "<div>\n",
       "<style scoped>\n",
       "    .dataframe tbody tr th:only-of-type {\n",
       "        vertical-align: middle;\n",
       "    }\n",
       "\n",
       "    .dataframe tbody tr th {\n",
       "        vertical-align: top;\n",
       "    }\n",
       "\n",
       "    .dataframe thead th {\n",
       "        text-align: right;\n",
       "    }\n",
       "</style>\n",
       "<table border=\"1\" class=\"dataframe\">\n",
       "  <thead>\n",
       "    <tr style=\"text-align: right;\">\n",
       "      <th></th>\n",
       "      <th>EmployeeId</th>\n",
       "      <th>Education</th>\n",
       "      <th>PaymentTier</th>\n",
       "      <th>Age</th>\n",
       "      <th>ExperienceInCurrentDomain</th>\n",
       "      <th>City_New Delhi</th>\n",
       "      <th>City_Pune</th>\n",
       "      <th>Gender_Male</th>\n",
       "      <th>EverBenched_Yes</th>\n",
       "      <th>Status_Left</th>\n",
       "    </tr>\n",
       "  </thead>\n",
       "  <tbody>\n",
       "    <tr>\n",
       "      <th>0</th>\n",
       "      <td>I1-84894</td>\n",
       "      <td>0</td>\n",
       "      <td>3</td>\n",
       "      <td>34</td>\n",
       "      <td>0</td>\n",
       "      <td>0</td>\n",
       "      <td>0</td>\n",
       "      <td>1</td>\n",
       "      <td>0</td>\n",
       "      <td>1</td>\n",
       "    </tr>\n",
       "    <tr>\n",
       "      <th>1</th>\n",
       "      <td>I3-14270</td>\n",
       "      <td>0</td>\n",
       "      <td>1</td>\n",
       "      <td>28</td>\n",
       "      <td>3</td>\n",
       "      <td>0</td>\n",
       "      <td>1</td>\n",
       "      <td>0</td>\n",
       "      <td>0</td>\n",
       "      <td>0</td>\n",
       "    </tr>\n",
       "    <tr>\n",
       "      <th>2</th>\n",
       "      <td>I2-66215</td>\n",
       "      <td>0</td>\n",
       "      <td>3</td>\n",
       "      <td>38</td>\n",
       "      <td>2</td>\n",
       "      <td>1</td>\n",
       "      <td>0</td>\n",
       "      <td>0</td>\n",
       "      <td>0</td>\n",
       "      <td>1</td>\n",
       "    </tr>\n",
       "    <tr>\n",
       "      <th>3</th>\n",
       "      <td>I1-73250</td>\n",
       "      <td>1</td>\n",
       "      <td>3</td>\n",
       "      <td>27</td>\n",
       "      <td>5</td>\n",
       "      <td>0</td>\n",
       "      <td>0</td>\n",
       "      <td>1</td>\n",
       "      <td>0</td>\n",
       "      <td>0</td>\n",
       "    </tr>\n",
       "    <tr>\n",
       "      <th>4</th>\n",
       "      <td>I3-85771</td>\n",
       "      <td>1</td>\n",
       "      <td>3</td>\n",
       "      <td>24</td>\n",
       "      <td>2</td>\n",
       "      <td>0</td>\n",
       "      <td>1</td>\n",
       "      <td>1</td>\n",
       "      <td>1</td>\n",
       "      <td>0</td>\n",
       "    </tr>\n",
       "  </tbody>\n",
       "</table>\n",
       "</div>"
      ],
      "text/plain": [
       "  EmployeeId Education PaymentTier  Age  ExperienceInCurrentDomain  \\\n",
       "0   I1-84894         0           3   34                          0   \n",
       "1   I3-14270         0           1   28                          3   \n",
       "2   I2-66215         0           3   38                          2   \n",
       "3   I1-73250         1           3   27                          5   \n",
       "4   I3-85771         1           3   24                          2   \n",
       "\n",
       "   City_New Delhi  City_Pune  Gender_Male  EverBenched_Yes  Status_Left  \n",
       "0               0          0            1                0            1  \n",
       "1               0          1            0                0            0  \n",
       "2               1          0            0                0            1  \n",
       "3               0          0            1                0            0  \n",
       "4               0          1            1                1            0  "
      ]
     },
     "execution_count": 19,
     "metadata": {},
     "output_type": "execute_result"
    }
   ],
   "source": [
    "# list prediktor dengan tipe data kategorik -> nominal\n",
    "nominal_features = ['City', 'Gender', 'EverBenched', 'Status']\n",
    "\n",
    "# implementasi label encoding\n",
    "employees = pd.get_dummies(\n",
    "    data = employees,\n",
    "    columns = nominal_features,\n",
    "    drop_first = True,\n",
    "    dtype = 'int64',\n",
    ")\n",
    "\n",
    "# melihat data employee terbaru\n",
    "employees.head()"
   ]
  },
  {
   "cell_type": "markdown",
   "id": "6300c9e1",
   "metadata": {},
   "source": [
    "#### 3.3 Train-Test Splitting (*Cross Validation*)"
   ]
  },
  {
   "cell_type": "markdown",
   "id": "6731defd",
   "metadata": {},
   "source": [
    "*Cross Validation* digunakan untuk membagi dataset menjadi 2 set data.\n",
    "\n",
    "Kita bagi data menjadi 2 kelompok:\n",
    "\n",
    "- **Train** $\\rightarrow$ Digunakan untuk melatih model.\n",
    "- **Test** $\\rightarrow$ Digunakan untuk mengevaluasi performa model (Untuk melihat seberapa baik model memprediksi terhadap data yang tidak digunakan untuk training)\n",
    "\n",
    "\n",
    "Jika diibaratkan, seorang siswa dapat dikatakan pintar ketika dapat menjawab benar soal-soal ujian yang tidak pernah dikerjakannya pada soal-soal latihan untuk persiapan ujian.\n",
    "\n",
    "Data `train` diibaratkan soal latihan, dan data `test` diibaratkan soal ujian. Adapun `model` kita diibaratkan sebagai siswa."
   ]
  },
  {
   "cell_type": "markdown",
   "id": "ee4aedfb",
   "metadata": {},
   "source": [
    "Untuk memahami performa model, membagi dataset menjadi training data dan testing data adalah strategi yang baik dengan menggunakan fungsi `train_test_split()`\n",
    "\n",
    "Pisahkan dataset dengan menggunakan fungsi `train_test_split()`. Anda harus melewati 3 parameter `features`, `target`, dan `test_size`. Selain itu, Anda dapat menggunakan `random_state` untuk memilih record secara acak."
   ]
  },
  {
   "cell_type": "code",
   "execution_count": 20,
   "id": "5752837e",
   "metadata": {},
   "outputs": [],
   "source": [
    "# import library untuk membagi dataset (train_test_split)\n",
    "from sklearn.model_selection import train_test_split"
   ]
  },
  {
   "cell_type": "markdown",
   "id": "2015ae78",
   "metadata": {},
   "source": [
    "Kita dapat menggunakan `train_test_split` dengan beberapa parameter sebagai berikut.\n",
    "- `*arrays` $\\rightarrow$ dataframe yang kita gunakan (dipisah , untuk yang prediktor dan target variable)\n",
    "- `test_size` $\\rightarrow$ jumlah persentase dari data yang akan digunakan sebagai data test\n",
    "- `train_size` $\\rightarrow$ jumlah persentase dari data yang akan digunakan sebagai data test (akan otomatis terisi jika `test_size` diberi nilai)\n",
    "- `random_state` $\\rightarrow$ nilai random number generator (RNG). Jika kita memasukkan suatu nilai integer untuk parameter ini maka akan menghasilkan hasil yang sama untuk nilai yang sama. Jika kita mengubah nilainya, maka hasilnya akan berbeda."
   ]
  },
  {
   "cell_type": "markdown",
   "id": "1e2d7765",
   "metadata": {},
   "source": [
    "> **💡 NOTES**: Biasanya data dibagi menjadi 80:20 atau 70:30 (train size:test size). Porsi yang besar selalu digunakan untuk training"
   ]
  },
  {
   "cell_type": "code",
   "execution_count": 21,
   "id": "d8ee5600",
   "metadata": {},
   "outputs": [
    {
     "data": {
      "text/html": [
       "<div>\n",
       "<style scoped>\n",
       "    .dataframe tbody tr th:only-of-type {\n",
       "        vertical-align: middle;\n",
       "    }\n",
       "\n",
       "    .dataframe tbody tr th {\n",
       "        vertical-align: top;\n",
       "    }\n",
       "\n",
       "    .dataframe thead th {\n",
       "        text-align: right;\n",
       "    }\n",
       "</style>\n",
       "<table border=\"1\" class=\"dataframe\">\n",
       "  <thead>\n",
       "    <tr style=\"text-align: right;\">\n",
       "      <th></th>\n",
       "      <th>EmployeeId</th>\n",
       "      <th>Education</th>\n",
       "      <th>PaymentTier</th>\n",
       "      <th>Age</th>\n",
       "      <th>ExperienceInCurrentDomain</th>\n",
       "      <th>City_New Delhi</th>\n",
       "      <th>City_Pune</th>\n",
       "      <th>Gender_Male</th>\n",
       "      <th>EverBenched_Yes</th>\n",
       "      <th>Status_Left</th>\n",
       "    </tr>\n",
       "  </thead>\n",
       "  <tbody>\n",
       "    <tr>\n",
       "      <th>0</th>\n",
       "      <td>I1-84894</td>\n",
       "      <td>0</td>\n",
       "      <td>3</td>\n",
       "      <td>34</td>\n",
       "      <td>0</td>\n",
       "      <td>0</td>\n",
       "      <td>0</td>\n",
       "      <td>1</td>\n",
       "      <td>0</td>\n",
       "      <td>1</td>\n",
       "    </tr>\n",
       "    <tr>\n",
       "      <th>1</th>\n",
       "      <td>I3-14270</td>\n",
       "      <td>0</td>\n",
       "      <td>1</td>\n",
       "      <td>28</td>\n",
       "      <td>3</td>\n",
       "      <td>0</td>\n",
       "      <td>1</td>\n",
       "      <td>0</td>\n",
       "      <td>0</td>\n",
       "      <td>0</td>\n",
       "    </tr>\n",
       "    <tr>\n",
       "      <th>2</th>\n",
       "      <td>I2-66215</td>\n",
       "      <td>0</td>\n",
       "      <td>3</td>\n",
       "      <td>38</td>\n",
       "      <td>2</td>\n",
       "      <td>1</td>\n",
       "      <td>0</td>\n",
       "      <td>0</td>\n",
       "      <td>0</td>\n",
       "      <td>1</td>\n",
       "    </tr>\n",
       "    <tr>\n",
       "      <th>3</th>\n",
       "      <td>I1-73250</td>\n",
       "      <td>1</td>\n",
       "      <td>3</td>\n",
       "      <td>27</td>\n",
       "      <td>5</td>\n",
       "      <td>0</td>\n",
       "      <td>0</td>\n",
       "      <td>1</td>\n",
       "      <td>0</td>\n",
       "      <td>0</td>\n",
       "    </tr>\n",
       "    <tr>\n",
       "      <th>4</th>\n",
       "      <td>I3-85771</td>\n",
       "      <td>1</td>\n",
       "      <td>3</td>\n",
       "      <td>24</td>\n",
       "      <td>2</td>\n",
       "      <td>0</td>\n",
       "      <td>1</td>\n",
       "      <td>1</td>\n",
       "      <td>1</td>\n",
       "      <td>0</td>\n",
       "    </tr>\n",
       "  </tbody>\n",
       "</table>\n",
       "</div>"
      ],
      "text/plain": [
       "  EmployeeId Education PaymentTier  Age  ExperienceInCurrentDomain  \\\n",
       "0   I1-84894         0           3   34                          0   \n",
       "1   I3-14270         0           1   28                          3   \n",
       "2   I2-66215         0           3   38                          2   \n",
       "3   I1-73250         1           3   27                          5   \n",
       "4   I3-85771         1           3   24                          2   \n",
       "\n",
       "   City_New Delhi  City_Pune  Gender_Male  EverBenched_Yes  Status_Left  \n",
       "0               0          0            1                0            1  \n",
       "1               0          1            0                0            0  \n",
       "2               1          0            0                0            1  \n",
       "3               0          0            1                0            0  \n",
       "4               0          1            1                1            0  "
      ]
     },
     "execution_count": 21,
     "metadata": {},
     "output_type": "execute_result"
    }
   ],
   "source": [
    "employees.head()"
   ]
  },
  {
   "cell_type": "code",
   "execution_count": 22,
   "id": "4aaf68ba",
   "metadata": {},
   "outputs": [],
   "source": [
    "# memilih kolom target\n",
    "y = employees['Status_Left']\n",
    "\n",
    "# menghapus kolom target dan employeeId sehingga tersisa kolom prediktor\n",
    "X = employees.drop(columns=['Status_Left', 'EmployeeId'])"
   ]
  },
  {
   "cell_type": "code",
   "execution_count": 23,
   "id": "79d3f636",
   "metadata": {},
   "outputs": [],
   "source": [
    "# split dataset into training set and test set\n",
    "X_train, X_test, y_train, y_test = train_test_split(X,\n",
    "                                                    y,\n",
    "                                                    test_size = 0.20, # 80% training and 20% test\n",
    "                                                    random_state = 100)"
   ]
  },
  {
   "cell_type": "code",
   "execution_count": 24,
   "id": "b0106c5d",
   "metadata": {},
   "outputs": [
    {
     "data": {
      "text/plain": [
       "(3722, 8)"
      ]
     },
     "execution_count": 24,
     "metadata": {},
     "output_type": "execute_result"
    }
   ],
   "source": [
    "# cek dimensi data train\n",
    "X_train.shape"
   ]
  },
  {
   "cell_type": "code",
   "execution_count": 25,
   "id": "e7e40af8",
   "metadata": {},
   "outputs": [
    {
     "data": {
      "text/plain": [
       "(931, 8)"
      ]
     },
     "execution_count": 25,
     "metadata": {},
     "output_type": "execute_result"
    }
   ],
   "source": [
    "# cek dimensi data test\n",
    "X_test.shape"
   ]
  },
  {
   "cell_type": "code",
   "execution_count": 26,
   "id": "c25ee259",
   "metadata": {},
   "outputs": [
    {
     "data": {
      "text/html": [
       "<div>\n",
       "<style scoped>\n",
       "    .dataframe tbody tr th:only-of-type {\n",
       "        vertical-align: middle;\n",
       "    }\n",
       "\n",
       "    .dataframe tbody tr th {\n",
       "        vertical-align: top;\n",
       "    }\n",
       "\n",
       "    .dataframe thead th {\n",
       "        text-align: right;\n",
       "    }\n",
       "</style>\n",
       "<table border=\"1\" class=\"dataframe\">\n",
       "  <thead>\n",
       "    <tr style=\"text-align: right;\">\n",
       "      <th></th>\n",
       "      <th>Education</th>\n",
       "      <th>PaymentTier</th>\n",
       "      <th>Age</th>\n",
       "      <th>ExperienceInCurrentDomain</th>\n",
       "      <th>City_New Delhi</th>\n",
       "      <th>City_Pune</th>\n",
       "      <th>Gender_Male</th>\n",
       "      <th>EverBenched_Yes</th>\n",
       "    </tr>\n",
       "  </thead>\n",
       "  <tbody>\n",
       "    <tr>\n",
       "      <th>667</th>\n",
       "      <td>0</td>\n",
       "      <td>1</td>\n",
       "      <td>25</td>\n",
       "      <td>3</td>\n",
       "      <td>0</td>\n",
       "      <td>0</td>\n",
       "      <td>1</td>\n",
       "      <td>0</td>\n",
       "    </tr>\n",
       "    <tr>\n",
       "      <th>4599</th>\n",
       "      <td>0</td>\n",
       "      <td>3</td>\n",
       "      <td>36</td>\n",
       "      <td>0</td>\n",
       "      <td>0</td>\n",
       "      <td>0</td>\n",
       "      <td>1</td>\n",
       "      <td>0</td>\n",
       "    </tr>\n",
       "    <tr>\n",
       "      <th>1087</th>\n",
       "      <td>0</td>\n",
       "      <td>3</td>\n",
       "      <td>26</td>\n",
       "      <td>4</td>\n",
       "      <td>0</td>\n",
       "      <td>0</td>\n",
       "      <td>1</td>\n",
       "      <td>0</td>\n",
       "    </tr>\n",
       "    <tr>\n",
       "      <th>2653</th>\n",
       "      <td>0</td>\n",
       "      <td>3</td>\n",
       "      <td>28</td>\n",
       "      <td>3</td>\n",
       "      <td>0</td>\n",
       "      <td>1</td>\n",
       "      <td>0</td>\n",
       "      <td>0</td>\n",
       "    </tr>\n",
       "    <tr>\n",
       "      <th>891</th>\n",
       "      <td>0</td>\n",
       "      <td>3</td>\n",
       "      <td>25</td>\n",
       "      <td>3</td>\n",
       "      <td>0</td>\n",
       "      <td>0</td>\n",
       "      <td>1</td>\n",
       "      <td>0</td>\n",
       "    </tr>\n",
       "  </tbody>\n",
       "</table>\n",
       "</div>"
      ],
      "text/plain": [
       "     Education PaymentTier  Age  ExperienceInCurrentDomain  City_New Delhi  \\\n",
       "667          0           1   25                          3               0   \n",
       "4599         0           3   36                          0               0   \n",
       "1087         0           3   26                          4               0   \n",
       "2653         0           3   28                          3               0   \n",
       "891          0           3   25                          3               0   \n",
       "\n",
       "      City_Pune  Gender_Male  EverBenched_Yes  \n",
       "667           0            1                0  \n",
       "4599          0            1                0  \n",
       "1087          0            1                0  \n",
       "2653          1            0                0  \n",
       "891           0            1                0  "
      ]
     },
     "execution_count": 26,
     "metadata": {},
     "output_type": "execute_result"
    }
   ],
   "source": [
    "X_train.head()"
   ]
  },
  {
   "cell_type": "markdown",
   "id": "fe6d4d21",
   "metadata": {},
   "source": [
    "#### 3.4 Scaling (*Z Score Nomalization*)"
   ]
  },
  {
   "cell_type": "markdown",
   "id": "cd64ab10",
   "metadata": {},
   "source": [
    "Proses scaling dilakukan untuk menyeragamkan skala data antar prediktor. Hal ini penting dilakukan karena jika skala data antar prediktor tidak seragam, maka model machine learning akan bias (lebih memperhatikan) prediktor yang memiliki skala yang lebih besar. Hal ini akan membuat prediktor lain yang memiliki skala lebih kecil seakan-akan tidak memiliki pengaruh terhadap model dan akan membuat performa model tidak maksimal.\n",
    "\n",
    "Metode scaling sangat banyak sekali seperti standarisasi dan normalisasi. Untuk kasus ini kita akan menggunakan metode standarisasi Z Score yang membuat data kita memiliki nilai `mean = 0` dan `standar deviasi = 1`. Berikut formula dari Z Score."
   ]
  },
  {
   "cell_type": "markdown",
   "id": "dbc69b6f",
   "metadata": {},
   "source": [
    "$$Z = \\frac{X - \\mu}{\\sigma}"
   ]
  },
  {
   "cell_type": "markdown",
   "id": "19290e4f",
   "metadata": {},
   "source": [
    " 🔎 **Keterangan Simbol**\n",
    " \n",
    "- `Z` $\\rightarrow$ Data baru hasil standarisasi.\n",
    "- `X` $\\rightarrow$ Data asli yang belum distandarisasi.\n",
    "- `μ` $\\rightarrow$ Nilai rata-rata suatu prediktor.\n",
    "- `σ` $\\rightarrow$ Nilai standar devisasi suatu prediktor."
   ]
  },
  {
   "cell_type": "markdown",
   "id": "c66229b3",
   "metadata": {},
   "source": [
    "Pada machine learning, kita dapat menggunakan fungsi `StandardScaler()` dari library `sklearn` untuk mengimplementasikan proses standarisasi. Proses standarisasi terbagi menjadi 2 yaitu:\n",
    "\n",
    "> - Proses `fit()` $\\rightarrow$ proses mencari nilai rata-rata dan standar deviasi tiap prediktor.\n",
    "> - Proses `transform()` $\\rightarrow$ proses implementasi metode Z Score berdasarkan nilai rata-rata dan standar deviasi yang didapat dari proses `fit()`."
   ]
  },
  {
   "cell_type": "code",
   "execution_count": 27,
   "id": "887b576d",
   "metadata": {},
   "outputs": [],
   "source": [
    "# import library untuk scaling\n",
    "from sklearn.preprocessing import StandardScaler"
   ]
  },
  {
   "cell_type": "code",
   "execution_count": 28,
   "id": "16bbc814-233d-4d80-988c-0aaf3de2e492",
   "metadata": {},
   "outputs": [],
   "source": [
    "# membuat object dari class StandardScaler()\n",
    "scaler = StandardScaler()\n",
    "\n",
    "# proses fit scaling\n",
    "scaler.fit(X_train[numeric_features])\n",
    "\n",
    "# proses transform scaling\n",
    "X_train[numeric_features] = scaler.transform(X_train[numeric_features])\n",
    "X_test[numeric_features] = scaler.transform(X_test[numeric_features])"
   ]
  },
  {
   "cell_type": "code",
   "execution_count": 29,
   "id": "f7b9ffc8",
   "metadata": {},
   "outputs": [
    {
     "data": {
      "text/html": [
       "<div>\n",
       "<style scoped>\n",
       "    .dataframe tbody tr th:only-of-type {\n",
       "        vertical-align: middle;\n",
       "    }\n",
       "\n",
       "    .dataframe tbody tr th {\n",
       "        vertical-align: top;\n",
       "    }\n",
       "\n",
       "    .dataframe thead th {\n",
       "        text-align: right;\n",
       "    }\n",
       "</style>\n",
       "<table border=\"1\" class=\"dataframe\">\n",
       "  <thead>\n",
       "    <tr style=\"text-align: right;\">\n",
       "      <th></th>\n",
       "      <th>Education</th>\n",
       "      <th>PaymentTier</th>\n",
       "      <th>Age</th>\n",
       "      <th>ExperienceInCurrentDomain</th>\n",
       "      <th>City_New Delhi</th>\n",
       "      <th>City_Pune</th>\n",
       "      <th>Gender_Male</th>\n",
       "      <th>EverBenched_Yes</th>\n",
       "    </tr>\n",
       "  </thead>\n",
       "  <tbody>\n",
       "    <tr>\n",
       "      <th>667</th>\n",
       "      <td>0</td>\n",
       "      <td>1</td>\n",
       "      <td>-0.914748</td>\n",
       "      <td>0.071020</td>\n",
       "      <td>0</td>\n",
       "      <td>0</td>\n",
       "      <td>1</td>\n",
       "      <td>0</td>\n",
       "    </tr>\n",
       "    <tr>\n",
       "      <th>4599</th>\n",
       "      <td>0</td>\n",
       "      <td>3</td>\n",
       "      <td>1.347232</td>\n",
       "      <td>-1.844450</td>\n",
       "      <td>0</td>\n",
       "      <td>0</td>\n",
       "      <td>1</td>\n",
       "      <td>0</td>\n",
       "    </tr>\n",
       "    <tr>\n",
       "      <th>1087</th>\n",
       "      <td>0</td>\n",
       "      <td>3</td>\n",
       "      <td>-0.709113</td>\n",
       "      <td>0.709509</td>\n",
       "      <td>0</td>\n",
       "      <td>0</td>\n",
       "      <td>1</td>\n",
       "      <td>0</td>\n",
       "    </tr>\n",
       "    <tr>\n",
       "      <th>2653</th>\n",
       "      <td>0</td>\n",
       "      <td>3</td>\n",
       "      <td>-0.297844</td>\n",
       "      <td>0.071020</td>\n",
       "      <td>0</td>\n",
       "      <td>1</td>\n",
       "      <td>0</td>\n",
       "      <td>0</td>\n",
       "    </tr>\n",
       "    <tr>\n",
       "      <th>891</th>\n",
       "      <td>0</td>\n",
       "      <td>3</td>\n",
       "      <td>-0.914748</td>\n",
       "      <td>0.071020</td>\n",
       "      <td>0</td>\n",
       "      <td>0</td>\n",
       "      <td>1</td>\n",
       "      <td>0</td>\n",
       "    </tr>\n",
       "  </tbody>\n",
       "</table>\n",
       "</div>"
      ],
      "text/plain": [
       "     Education PaymentTier       Age  ExperienceInCurrentDomain  \\\n",
       "667          0           1 -0.914748                   0.071020   \n",
       "4599         0           3  1.347232                  -1.844450   \n",
       "1087         0           3 -0.709113                   0.709509   \n",
       "2653         0           3 -0.297844                   0.071020   \n",
       "891          0           3 -0.914748                   0.071020   \n",
       "\n",
       "      City_New Delhi  City_Pune  Gender_Male  EverBenched_Yes  \n",
       "667                0          0            1                0  \n",
       "4599               0          0            1                0  \n",
       "1087               0          0            1                0  \n",
       "2653               0          1            0                0  \n",
       "891                0          0            1                0  "
      ]
     },
     "execution_count": 29,
     "metadata": {},
     "output_type": "execute_result"
    }
   ],
   "source": [
    "# melihat data setelah proses scaling\n",
    "X_train.head()"
   ]
  },
  {
   "cell_type": "markdown",
   "id": "7710ee2e",
   "metadata": {},
   "source": [
    "> **💡 NOTES**: Proses fit scaling hanya dilakukan pada data train untuk mencegah kebocoran (leak) pada data test. Hal ini dilakukan agar informasi pada data test benar-benar tidak bocor/tidak diketahui saat pembuatan model sehingga hasil evaluasi model lebih dapat dipertanggung jawabkan."
   ]
  },
  {
   "cell_type": "markdown",
   "id": "501097ac",
   "metadata": {},
   "source": [
    "### 🧪 Knowledge Check: Data Preprocessing"
   ]
  },
  {
   "cell_type": "markdown",
   "id": "387a04d4",
   "metadata": {},
   "source": [
    "___\n",
    "1. Selain boxplot, untuk mendeteksi outlier pada dataset bisa menggunakan plot apa? (jawaban mungkin lebih dari 1)\n",
    "\n",
    "- [X] Histogram\n",
    "- [ ] Barplot\n",
    "- [X] Scatterplot\n",
    "___\n",
    "\n",
    "2. Metode Ordinal Encoding cocok untuk data-data berikut, kecuali ...\n",
    "\n",
    "- [ ] Golongan PNS\n",
    "- [ ] Kasta masyarakat di India\n",
    "- [X] Nama negara bagian di Amerika Serikat\n",
    "___\n",
    "\n",
    "3. Berapa perbandingan pembagian data train dan data test yang dibolehkan? (jawaban mungkin lebih dari 1)\n",
    "\n",
    "- [X] 80:20\n",
    "- [X] 70:30\n",
    "- [X] 60:40\n",
    "___"
   ]
  },
  {
   "cell_type": "markdown",
   "id": "bb184b3f",
   "metadata": {},
   "source": [
    "### 4. Model Building: Support Vector Machine (SVM)"
   ]
  },
  {
   "cell_type": "markdown",
   "id": "de6e198a",
   "metadata": {},
   "source": [
    "Untuk mesin dapat belajar sesuai dengan kebutuhan kita, kita memerlukan algoritma yang disebut model. Terdapat banyak jenis model **machine learning** dan salah satu contohnya adalah Support Vector Machine.\n",
    "\n",
    "**Support Vector Machine (SVM)** adalah model machine learning yang dapat digunakan dalam masalah klasifikasi dan regresi. Ini sangat disukai oleh banyak orang karena mampu menghasilkan akurasi yang baik.\n",
    "\n",
    "SVM dibagi menjadi 2 yaitu:\n",
    "- SVC (Support Vector Classifier) -> klasifikasi\n",
    "- SVR (Support Vector Regressor) -> Regresi"
   ]
  },
  {
   "cell_type": "markdown",
   "id": "cbcedd8c",
   "metadata": {},
   "source": [
    "#### 4.1 Cara Kerja SVC"
   ]
  },
  {
   "cell_type": "markdown",
   "id": "bb1d6e18",
   "metadata": {},
   "source": [
    "SVC bertujuan untuk menemukan batasan/decision boundary/hyperplane yang memisahkan data antar kelas. Mari kita mulai dengan contoh sederhana sebagai berikut:"
   ]
  },
  {
   "cell_type": "markdown",
   "id": "3118f37c",
   "metadata": {},
   "source": [
    "![image.png](data:image/png;base64,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)"
   ]
  },
  {
   "cell_type": "markdown",
   "id": "1c6b7496",
   "metadata": {},
   "source": [
    "Misalkan untuk dataset tertentu, kita harus mengklasifikasikan segitiga hitam dari lingkaran merah seperti yang ditunjukkan pada gambar di atas. Mari kita identifikasi komponen SVM nya."
   ]
  },
  {
   "cell_type": "markdown",
   "id": "5fb6061c",
   "metadata": {},
   "source": [
    "![image.png](data:image/png;base64,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)"
   ]
  },
  {
   "cell_type": "markdown",
   "id": "87075a63",
   "metadata": {},
   "source": [
    " 🔎 **Keterangan Istilah**\n",
    " \n",
    "- `Support Vector` $\\rightarrow$ data terluar dari masing-masing kelas. Mereka adalah data yang paling penting dalam menentukan margin. Menggunakan support vector, model dapat memaksimalkan pemisahan antar kelas. ✨ Oleh karena itu, model ini disebut **Support Vector Machine**.\n",
    "- `Hyperplane` $\\rightarrow$ batas yang memisahkan data dari kelas yang berbeda.\n",
    "- `Margin` $\\rightarrow$  jarak antara hyperplane (batas keputusan) dan support vectors terdekat dari setiap kelas."
   ]
  },
  {
   "cell_type": "markdown",
   "id": "f090fa2a",
   "metadata": {},
   "source": [
    "Saat kita mencoba memisahkan kelas-kelas ini melalui hyperplane dalam ruang multidimensi, akan ada banyak baris kandidat yang mencapai tugas ini, seperti yang diilustrasikan di bawah ini. Garis hitam, garis biru, dan garis hijau adalah kandidat yang layak."
   ]
  },
  {
   "cell_type": "markdown",
   "id": "0f5155f8",
   "metadata": {},
   "source": [
    "![image.png](data:image/png;base64,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)"
   ]
  },
  {
   "cell_type": "markdown",
   "id": "84ae38a0",
   "metadata": {},
   "source": [
    "**Mana dari 3 baris yang membedakan data menjadi dua kelas dengan lebih baik?**\n",
    "1. Di sini, garis hitam atau garis biru lebih dekat ke segitiga hitam dibandingkan dengan lingkaran merah.\n",
    "2. Garis hijau tampak membedakan kedua kelas dengan lebih baik."
   ]
  },
  {
   "cell_type": "markdown",
   "id": "08b8b99b",
   "metadata": {},
   "source": [
    "> **💡 NOTES** Konsep SVM: SVM akan coba membuat berbagai kemungkinan hyperplane, dan hyperplane yang paling memisahkan kedua kelas dan paling sedikit salah klasifikasi-lah yang paling optimal "
   ]
  },
  {
   "cell_type": "markdown",
   "id": "477837e1",
   "metadata": {},
   "source": [
    "#### 4.2 Implementasi SVC"
   ]
  },
  {
   "cell_type": "markdown",
   "id": "ab1d229f",
   "metadata": {},
   "source": [
    "🔻Setelah semua proses persiapan data selesai, kini adalah saatnya untuk 'mesin' belajar dan diuji oleh data kita.\n",
    "\n",
    "Langkah-langkah membangun model SVM. \n",
    "> 1. Import library SVC dari SVM.\n",
    "> 2. Buat variabel `model_svc` untuk menyimpan hasil model `SVC()`."
   ]
  },
  {
   "cell_type": "code",
   "execution_count": 30,
   "id": "99b10c28",
   "metadata": {},
   "outputs": [],
   "source": [
    "# import library SVC dari SVM\n",
    "from sklearn import svm"
   ]
  },
  {
   "cell_type": "code",
   "execution_count": 31,
   "id": "2eb5cb78",
   "metadata": {},
   "outputs": [
    {
     "data": {
      "text/html": [
       "<style>#sk-container-id-1 {\n",
       "  /* Definition of color scheme common for light and dark mode */\n",
       "  --sklearn-color-text: black;\n",
       "  --sklearn-color-line: gray;\n",
       "  /* Definition of color scheme for unfitted estimators */\n",
       "  --sklearn-color-unfitted-level-0: #fff5e6;\n",
       "  --sklearn-color-unfitted-level-1: #f6e4d2;\n",
       "  --sklearn-color-unfitted-level-2: #ffe0b3;\n",
       "  --sklearn-color-unfitted-level-3: chocolate;\n",
       "  /* Definition of color scheme for fitted estimators */\n",
       "  --sklearn-color-fitted-level-0: #f0f8ff;\n",
       "  --sklearn-color-fitted-level-1: #d4ebff;\n",
       "  --sklearn-color-fitted-level-2: #b3dbfd;\n",
       "  --sklearn-color-fitted-level-3: cornflowerblue;\n",
       "\n",
       "  /* Specific color for light theme */\n",
       "  --sklearn-color-text-on-default-background: var(--sg-text-color, var(--theme-code-foreground, var(--jp-content-font-color1, black)));\n",
       "  --sklearn-color-background: var(--sg-background-color, var(--theme-background, var(--jp-layout-color0, white)));\n",
       "  --sklearn-color-border-box: var(--sg-text-color, var(--theme-code-foreground, var(--jp-content-font-color1, black)));\n",
       "  --sklearn-color-icon: #696969;\n",
       "\n",
       "  @media (prefers-color-scheme: dark) {\n",
       "    /* Redefinition of color scheme for dark theme */\n",
       "    --sklearn-color-text-on-default-background: var(--sg-text-color, var(--theme-code-foreground, var(--jp-content-font-color1, white)));\n",
       "    --sklearn-color-background: var(--sg-background-color, var(--theme-background, var(--jp-layout-color0, #111)));\n",
       "    --sklearn-color-border-box: var(--sg-text-color, var(--theme-code-foreground, var(--jp-content-font-color1, white)));\n",
       "    --sklearn-color-icon: #878787;\n",
       "  }\n",
       "}\n",
       "\n",
       "#sk-container-id-1 {\n",
       "  color: var(--sklearn-color-text);\n",
       "}\n",
       "\n",
       "#sk-container-id-1 pre {\n",
       "  padding: 0;\n",
       "}\n",
       "\n",
       "#sk-container-id-1 input.sk-hidden--visually {\n",
       "  border: 0;\n",
       "  clip: rect(1px 1px 1px 1px);\n",
       "  clip: rect(1px, 1px, 1px, 1px);\n",
       "  height: 1px;\n",
       "  margin: -1px;\n",
       "  overflow: hidden;\n",
       "  padding: 0;\n",
       "  position: absolute;\n",
       "  width: 1px;\n",
       "}\n",
       "\n",
       "#sk-container-id-1 div.sk-dashed-wrapped {\n",
       "  border: 1px dashed var(--sklearn-color-line);\n",
       "  margin: 0 0.4em 0.5em 0.4em;\n",
       "  box-sizing: border-box;\n",
       "  padding-bottom: 0.4em;\n",
       "  background-color: var(--sklearn-color-background);\n",
       "}\n",
       "\n",
       "#sk-container-id-1 div.sk-container {\n",
       "  /* jupyter's `normalize.less` sets `[hidden] { display: none; }`\n",
       "     but bootstrap.min.css set `[hidden] { display: none !important; }`\n",
       "     so we also need the `!important` here to be able to override the\n",
       "     default hidden behavior on the sphinx rendered scikit-learn.org.\n",
       "     See: https://github.com/scikit-learn/scikit-learn/issues/21755 */\n",
       "  display: inline-block !important;\n",
       "  position: relative;\n",
       "}\n",
       "\n",
       "#sk-container-id-1 div.sk-text-repr-fallback {\n",
       "  display: none;\n",
       "}\n",
       "\n",
       "div.sk-parallel-item,\n",
       "div.sk-serial,\n",
       "div.sk-item {\n",
       "  /* draw centered vertical line to link estimators */\n",
       "  background-image: linear-gradient(var(--sklearn-color-text-on-default-background), var(--sklearn-color-text-on-default-background));\n",
       "  background-size: 2px 100%;\n",
       "  background-repeat: no-repeat;\n",
       "  background-position: center center;\n",
       "}\n",
       "\n",
       "/* Parallel-specific style estimator block */\n",
       "\n",
       "#sk-container-id-1 div.sk-parallel-item::after {\n",
       "  content: \"\";\n",
       "  width: 100%;\n",
       "  border-bottom: 2px solid var(--sklearn-color-text-on-default-background);\n",
       "  flex-grow: 1;\n",
       "}\n",
       "\n",
       "#sk-container-id-1 div.sk-parallel {\n",
       "  display: flex;\n",
       "  align-items: stretch;\n",
       "  justify-content: center;\n",
       "  background-color: var(--sklearn-color-background);\n",
       "  position: relative;\n",
       "}\n",
       "\n",
       "#sk-container-id-1 div.sk-parallel-item {\n",
       "  display: flex;\n",
       "  flex-direction: column;\n",
       "}\n",
       "\n",
       "#sk-container-id-1 div.sk-parallel-item:first-child::after {\n",
       "  align-self: flex-end;\n",
       "  width: 50%;\n",
       "}\n",
       "\n",
       "#sk-container-id-1 div.sk-parallel-item:last-child::after {\n",
       "  align-self: flex-start;\n",
       "  width: 50%;\n",
       "}\n",
       "\n",
       "#sk-container-id-1 div.sk-parallel-item:only-child::after {\n",
       "  width: 0;\n",
       "}\n",
       "\n",
       "/* Serial-specific style estimator block */\n",
       "\n",
       "#sk-container-id-1 div.sk-serial {\n",
       "  display: flex;\n",
       "  flex-direction: column;\n",
       "  align-items: center;\n",
       "  background-color: var(--sklearn-color-background);\n",
       "  padding-right: 1em;\n",
       "  padding-left: 1em;\n",
       "}\n",
       "\n",
       "\n",
       "/* Toggleable style: style used for estimator/Pipeline/ColumnTransformer box that is\n",
       "clickable and can be expanded/collapsed.\n",
       "- Pipeline and ColumnTransformer use this feature and define the default style\n",
       "- Estimators will overwrite some part of the style using the `sk-estimator` class\n",
       "*/\n",
       "\n",
       "/* Pipeline and ColumnTransformer style (default) */\n",
       "\n",
       "#sk-container-id-1 div.sk-toggleable {\n",
       "  /* Default theme specific background. It is overwritten whether we have a\n",
       "  specific estimator or a Pipeline/ColumnTransformer */\n",
       "  background-color: var(--sklearn-color-background);\n",
       "}\n",
       "\n",
       "/* Toggleable label */\n",
       "#sk-container-id-1 label.sk-toggleable__label {\n",
       "  cursor: pointer;\n",
       "  display: block;\n",
       "  width: 100%;\n",
       "  margin-bottom: 0;\n",
       "  padding: 0.5em;\n",
       "  box-sizing: border-box;\n",
       "  text-align: center;\n",
       "}\n",
       "\n",
       "#sk-container-id-1 label.sk-toggleable__label-arrow:before {\n",
       "  /* Arrow on the left of the label */\n",
       "  content: \"▸\";\n",
       "  float: left;\n",
       "  margin-right: 0.25em;\n",
       "  color: var(--sklearn-color-icon);\n",
       "}\n",
       "\n",
       "#sk-container-id-1 label.sk-toggleable__label-arrow:hover:before {\n",
       "  color: var(--sklearn-color-text);\n",
       "}\n",
       "\n",
       "/* Toggleable content - dropdown */\n",
       "\n",
       "#sk-container-id-1 div.sk-toggleable__content {\n",
       "  max-height: 0;\n",
       "  max-width: 0;\n",
       "  overflow: hidden;\n",
       "  text-align: left;\n",
       "  /* unfitted */\n",
       "  background-color: var(--sklearn-color-unfitted-level-0);\n",
       "}\n",
       "\n",
       "#sk-container-id-1 div.sk-toggleable__content.fitted {\n",
       "  /* fitted */\n",
       "  background-color: var(--sklearn-color-fitted-level-0);\n",
       "}\n",
       "\n",
       "#sk-container-id-1 div.sk-toggleable__content pre {\n",
       "  margin: 0.2em;\n",
       "  border-radius: 0.25em;\n",
       "  color: var(--sklearn-color-text);\n",
       "  /* unfitted */\n",
       "  background-color: var(--sklearn-color-unfitted-level-0);\n",
       "}\n",
       "\n",
       "#sk-container-id-1 div.sk-toggleable__content.fitted pre {\n",
       "  /* unfitted */\n",
       "  background-color: var(--sklearn-color-fitted-level-0);\n",
       "}\n",
       "\n",
       "#sk-container-id-1 input.sk-toggleable__control:checked~div.sk-toggleable__content {\n",
       "  /* Expand drop-down */\n",
       "  max-height: 200px;\n",
       "  max-width: 100%;\n",
       "  overflow: auto;\n",
       "}\n",
       "\n",
       "#sk-container-id-1 input.sk-toggleable__control:checked~label.sk-toggleable__label-arrow:before {\n",
       "  content: \"▾\";\n",
       "}\n",
       "\n",
       "/* Pipeline/ColumnTransformer-specific style */\n",
       "\n",
       "#sk-container-id-1 div.sk-label input.sk-toggleable__control:checked~label.sk-toggleable__label {\n",
       "  color: var(--sklearn-color-text);\n",
       "  background-color: var(--sklearn-color-unfitted-level-2);\n",
       "}\n",
       "\n",
       "#sk-container-id-1 div.sk-label.fitted input.sk-toggleable__control:checked~label.sk-toggleable__label {\n",
       "  background-color: var(--sklearn-color-fitted-level-2);\n",
       "}\n",
       "\n",
       "/* Estimator-specific style */\n",
       "\n",
       "/* Colorize estimator box */\n",
       "#sk-container-id-1 div.sk-estimator input.sk-toggleable__control:checked~label.sk-toggleable__label {\n",
       "  /* unfitted */\n",
       "  background-color: var(--sklearn-color-unfitted-level-2);\n",
       "}\n",
       "\n",
       "#sk-container-id-1 div.sk-estimator.fitted input.sk-toggleable__control:checked~label.sk-toggleable__label {\n",
       "  /* fitted */\n",
       "  background-color: var(--sklearn-color-fitted-level-2);\n",
       "}\n",
       "\n",
       "#sk-container-id-1 div.sk-label label.sk-toggleable__label,\n",
       "#sk-container-id-1 div.sk-label label {\n",
       "  /* The background is the default theme color */\n",
       "  color: var(--sklearn-color-text-on-default-background);\n",
       "}\n",
       "\n",
       "/* On hover, darken the color of the background */\n",
       "#sk-container-id-1 div.sk-label:hover label.sk-toggleable__label {\n",
       "  color: var(--sklearn-color-text);\n",
       "  background-color: var(--sklearn-color-unfitted-level-2);\n",
       "}\n",
       "\n",
       "/* Label box, darken color on hover, fitted */\n",
       "#sk-container-id-1 div.sk-label.fitted:hover label.sk-toggleable__label.fitted {\n",
       "  color: var(--sklearn-color-text);\n",
       "  background-color: var(--sklearn-color-fitted-level-2);\n",
       "}\n",
       "\n",
       "/* Estimator label */\n",
       "\n",
       "#sk-container-id-1 div.sk-label label {\n",
       "  font-family: monospace;\n",
       "  font-weight: bold;\n",
       "  display: inline-block;\n",
       "  line-height: 1.2em;\n",
       "}\n",
       "\n",
       "#sk-container-id-1 div.sk-label-container {\n",
       "  text-align: center;\n",
       "}\n",
       "\n",
       "/* Estimator-specific */\n",
       "#sk-container-id-1 div.sk-estimator {\n",
       "  font-family: monospace;\n",
       "  border: 1px dotted var(--sklearn-color-border-box);\n",
       "  border-radius: 0.25em;\n",
       "  box-sizing: border-box;\n",
       "  margin-bottom: 0.5em;\n",
       "  /* unfitted */\n",
       "  background-color: var(--sklearn-color-unfitted-level-0);\n",
       "}\n",
       "\n",
       "#sk-container-id-1 div.sk-estimator.fitted {\n",
       "  /* fitted */\n",
       "  background-color: var(--sklearn-color-fitted-level-0);\n",
       "}\n",
       "\n",
       "/* on hover */\n",
       "#sk-container-id-1 div.sk-estimator:hover {\n",
       "  /* unfitted */\n",
       "  background-color: var(--sklearn-color-unfitted-level-2);\n",
       "}\n",
       "\n",
       "#sk-container-id-1 div.sk-estimator.fitted:hover {\n",
       "  /* fitted */\n",
       "  background-color: var(--sklearn-color-fitted-level-2);\n",
       "}\n",
       "\n",
       "/* Specification for estimator info (e.g. \"i\" and \"?\") */\n",
       "\n",
       "/* Common style for \"i\" and \"?\" */\n",
       "\n",
       ".sk-estimator-doc-link,\n",
       "a:link.sk-estimator-doc-link,\n",
       "a:visited.sk-estimator-doc-link {\n",
       "  float: right;\n",
       "  font-size: smaller;\n",
       "  line-height: 1em;\n",
       "  font-family: monospace;\n",
       "  background-color: var(--sklearn-color-background);\n",
       "  border-radius: 1em;\n",
       "  height: 1em;\n",
       "  width: 1em;\n",
       "  text-decoration: none !important;\n",
       "  margin-left: 1ex;\n",
       "  /* unfitted */\n",
       "  border: var(--sklearn-color-unfitted-level-1) 1pt solid;\n",
       "  color: var(--sklearn-color-unfitted-level-1);\n",
       "}\n",
       "\n",
       ".sk-estimator-doc-link.fitted,\n",
       "a:link.sk-estimator-doc-link.fitted,\n",
       "a:visited.sk-estimator-doc-link.fitted {\n",
       "  /* fitted */\n",
       "  border: var(--sklearn-color-fitted-level-1) 1pt solid;\n",
       "  color: var(--sklearn-color-fitted-level-1);\n",
       "}\n",
       "\n",
       "/* On hover */\n",
       "div.sk-estimator:hover .sk-estimator-doc-link:hover,\n",
       ".sk-estimator-doc-link:hover,\n",
       "div.sk-label-container:hover .sk-estimator-doc-link:hover,\n",
       ".sk-estimator-doc-link:hover {\n",
       "  /* unfitted */\n",
       "  background-color: var(--sklearn-color-unfitted-level-3);\n",
       "  color: var(--sklearn-color-background);\n",
       "  text-decoration: none;\n",
       "}\n",
       "\n",
       "div.sk-estimator.fitted:hover .sk-estimator-doc-link.fitted:hover,\n",
       ".sk-estimator-doc-link.fitted:hover,\n",
       "div.sk-label-container:hover .sk-estimator-doc-link.fitted:hover,\n",
       ".sk-estimator-doc-link.fitted:hover {\n",
       "  /* fitted */\n",
       "  background-color: var(--sklearn-color-fitted-level-3);\n",
       "  color: var(--sklearn-color-background);\n",
       "  text-decoration: none;\n",
       "}\n",
       "\n",
       "/* Span, style for the box shown on hovering the info icon */\n",
       ".sk-estimator-doc-link span {\n",
       "  display: none;\n",
       "  z-index: 9999;\n",
       "  position: relative;\n",
       "  font-weight: normal;\n",
       "  right: .2ex;\n",
       "  padding: .5ex;\n",
       "  margin: .5ex;\n",
       "  width: min-content;\n",
       "  min-width: 20ex;\n",
       "  max-width: 50ex;\n",
       "  color: var(--sklearn-color-text);\n",
       "  box-shadow: 2pt 2pt 4pt #999;\n",
       "  /* unfitted */\n",
       "  background: var(--sklearn-color-unfitted-level-0);\n",
       "  border: .5pt solid var(--sklearn-color-unfitted-level-3);\n",
       "}\n",
       "\n",
       ".sk-estimator-doc-link.fitted span {\n",
       "  /* fitted */\n",
       "  background: var(--sklearn-color-fitted-level-0);\n",
       "  border: var(--sklearn-color-fitted-level-3);\n",
       "}\n",
       "\n",
       ".sk-estimator-doc-link:hover span {\n",
       "  display: block;\n",
       "}\n",
       "\n",
       "/* \"?\"-specific style due to the `<a>` HTML tag */\n",
       "\n",
       "#sk-container-id-1 a.estimator_doc_link {\n",
       "  float: right;\n",
       "  font-size: 1rem;\n",
       "  line-height: 1em;\n",
       "  font-family: monospace;\n",
       "  background-color: var(--sklearn-color-background);\n",
       "  border-radius: 1rem;\n",
       "  height: 1rem;\n",
       "  width: 1rem;\n",
       "  text-decoration: none;\n",
       "  /* unfitted */\n",
       "  color: var(--sklearn-color-unfitted-level-1);\n",
       "  border: var(--sklearn-color-unfitted-level-1) 1pt solid;\n",
       "}\n",
       "\n",
       "#sk-container-id-1 a.estimator_doc_link.fitted {\n",
       "  /* fitted */\n",
       "  border: var(--sklearn-color-fitted-level-1) 1pt solid;\n",
       "  color: var(--sklearn-color-fitted-level-1);\n",
       "}\n",
       "\n",
       "/* On hover */\n",
       "#sk-container-id-1 a.estimator_doc_link:hover {\n",
       "  /* unfitted */\n",
       "  background-color: var(--sklearn-color-unfitted-level-3);\n",
       "  color: var(--sklearn-color-background);\n",
       "  text-decoration: none;\n",
       "}\n",
       "\n",
       "#sk-container-id-1 a.estimator_doc_link.fitted:hover {\n",
       "  /* fitted */\n",
       "  background-color: var(--sklearn-color-fitted-level-3);\n",
       "}\n",
       "</style><div id=\"sk-container-id-1\" class=\"sk-top-container\"><div class=\"sk-text-repr-fallback\"><pre>SVC()</pre><b>In a Jupyter environment, please rerun this cell to show the HTML representation or trust the notebook. <br />On GitHub, the HTML representation is unable to render, please try loading this page with nbviewer.org.</b></div><div class=\"sk-container\" hidden><div class=\"sk-item\"><div class=\"sk-estimator  sk-toggleable\"><input class=\"sk-toggleable__control sk-hidden--visually\" id=\"sk-estimator-id-1\" type=\"checkbox\" checked><label for=\"sk-estimator-id-1\" class=\"sk-toggleable__label  sk-toggleable__label-arrow \">&nbsp;&nbsp;SVC<a class=\"sk-estimator-doc-link \" rel=\"noreferrer\" target=\"_blank\" href=\"https://scikit-learn.org/1.5/modules/generated/sklearn.svm.SVC.html\">?<span>Documentation for SVC</span></a><span class=\"sk-estimator-doc-link \">i<span>Not fitted</span></span></label><div class=\"sk-toggleable__content \"><pre>SVC()</pre></div> </div></div></div></div>"
      ],
      "text/plain": [
       "SVC()"
      ]
     },
     "execution_count": 31,
     "metadata": {},
     "output_type": "execute_result"
    }
   ],
   "source": [
    "# membuat object SVC\n",
    "model_svc = svm.SVC()\n",
    "model_svc"
   ]
  },
  {
   "cell_type": "markdown",
   "id": "1fb64aa6",
   "metadata": {},
   "source": [
    "**💡NOTES**: Tahapan ini adalah masih pada pembuatan objek algoritma/metode/mesin yang masih kosong belum belajar (ditandai dengan warna kuning dan keterangan _not fitted_)"
   ]
  },
  {
   "cell_type": "markdown",
   "id": "be2a37db",
   "metadata": {},
   "source": [
    "🔻 Metode `.fit()` menggunakan data train sebagai argumen, yang dapat berupa fitur dan target untuk learning dalam kasus klasifikasi dan regresi.\n",
    "\n",
    "Parameter `.fit()`:\n",
    "- `X`: Dataframe kolom prediktor $\\rightarrow$ `X_train` (prediktor data train)\n",
    "- `y`: Dataframe kolom target $\\rightarrow$ `y_train` (target data train)"
   ]
  },
  {
   "cell_type": "code",
   "execution_count": 32,
   "id": "0f641b54",
   "metadata": {},
   "outputs": [
    {
     "data": {
      "text/html": [
       "<style>#sk-container-id-2 {\n",
       "  /* Definition of color scheme common for light and dark mode */\n",
       "  --sklearn-color-text: black;\n",
       "  --sklearn-color-line: gray;\n",
       "  /* Definition of color scheme for unfitted estimators */\n",
       "  --sklearn-color-unfitted-level-0: #fff5e6;\n",
       "  --sklearn-color-unfitted-level-1: #f6e4d2;\n",
       "  --sklearn-color-unfitted-level-2: #ffe0b3;\n",
       "  --sklearn-color-unfitted-level-3: chocolate;\n",
       "  /* Definition of color scheme for fitted estimators */\n",
       "  --sklearn-color-fitted-level-0: #f0f8ff;\n",
       "  --sklearn-color-fitted-level-1: #d4ebff;\n",
       "  --sklearn-color-fitted-level-2: #b3dbfd;\n",
       "  --sklearn-color-fitted-level-3: cornflowerblue;\n",
       "\n",
       "  /* Specific color for light theme */\n",
       "  --sklearn-color-text-on-default-background: var(--sg-text-color, var(--theme-code-foreground, var(--jp-content-font-color1, black)));\n",
       "  --sklearn-color-background: var(--sg-background-color, var(--theme-background, var(--jp-layout-color0, white)));\n",
       "  --sklearn-color-border-box: var(--sg-text-color, var(--theme-code-foreground, var(--jp-content-font-color1, black)));\n",
       "  --sklearn-color-icon: #696969;\n",
       "\n",
       "  @media (prefers-color-scheme: dark) {\n",
       "    /* Redefinition of color scheme for dark theme */\n",
       "    --sklearn-color-text-on-default-background: var(--sg-text-color, var(--theme-code-foreground, var(--jp-content-font-color1, white)));\n",
       "    --sklearn-color-background: var(--sg-background-color, var(--theme-background, var(--jp-layout-color0, #111)));\n",
       "    --sklearn-color-border-box: var(--sg-text-color, var(--theme-code-foreground, var(--jp-content-font-color1, white)));\n",
       "    --sklearn-color-icon: #878787;\n",
       "  }\n",
       "}\n",
       "\n",
       "#sk-container-id-2 {\n",
       "  color: var(--sklearn-color-text);\n",
       "}\n",
       "\n",
       "#sk-container-id-2 pre {\n",
       "  padding: 0;\n",
       "}\n",
       "\n",
       "#sk-container-id-2 input.sk-hidden--visually {\n",
       "  border: 0;\n",
       "  clip: rect(1px 1px 1px 1px);\n",
       "  clip: rect(1px, 1px, 1px, 1px);\n",
       "  height: 1px;\n",
       "  margin: -1px;\n",
       "  overflow: hidden;\n",
       "  padding: 0;\n",
       "  position: absolute;\n",
       "  width: 1px;\n",
       "}\n",
       "\n",
       "#sk-container-id-2 div.sk-dashed-wrapped {\n",
       "  border: 1px dashed var(--sklearn-color-line);\n",
       "  margin: 0 0.4em 0.5em 0.4em;\n",
       "  box-sizing: border-box;\n",
       "  padding-bottom: 0.4em;\n",
       "  background-color: var(--sklearn-color-background);\n",
       "}\n",
       "\n",
       "#sk-container-id-2 div.sk-container {\n",
       "  /* jupyter's `normalize.less` sets `[hidden] { display: none; }`\n",
       "     but bootstrap.min.css set `[hidden] { display: none !important; }`\n",
       "     so we also need the `!important` here to be able to override the\n",
       "     default hidden behavior on the sphinx rendered scikit-learn.org.\n",
       "     See: https://github.com/scikit-learn/scikit-learn/issues/21755 */\n",
       "  display: inline-block !important;\n",
       "  position: relative;\n",
       "}\n",
       "\n",
       "#sk-container-id-2 div.sk-text-repr-fallback {\n",
       "  display: none;\n",
       "}\n",
       "\n",
       "div.sk-parallel-item,\n",
       "div.sk-serial,\n",
       "div.sk-item {\n",
       "  /* draw centered vertical line to link estimators */\n",
       "  background-image: linear-gradient(var(--sklearn-color-text-on-default-background), var(--sklearn-color-text-on-default-background));\n",
       "  background-size: 2px 100%;\n",
       "  background-repeat: no-repeat;\n",
       "  background-position: center center;\n",
       "}\n",
       "\n",
       "/* Parallel-specific style estimator block */\n",
       "\n",
       "#sk-container-id-2 div.sk-parallel-item::after {\n",
       "  content: \"\";\n",
       "  width: 100%;\n",
       "  border-bottom: 2px solid var(--sklearn-color-text-on-default-background);\n",
       "  flex-grow: 1;\n",
       "}\n",
       "\n",
       "#sk-container-id-2 div.sk-parallel {\n",
       "  display: flex;\n",
       "  align-items: stretch;\n",
       "  justify-content: center;\n",
       "  background-color: var(--sklearn-color-background);\n",
       "  position: relative;\n",
       "}\n",
       "\n",
       "#sk-container-id-2 div.sk-parallel-item {\n",
       "  display: flex;\n",
       "  flex-direction: column;\n",
       "}\n",
       "\n",
       "#sk-container-id-2 div.sk-parallel-item:first-child::after {\n",
       "  align-self: flex-end;\n",
       "  width: 50%;\n",
       "}\n",
       "\n",
       "#sk-container-id-2 div.sk-parallel-item:last-child::after {\n",
       "  align-self: flex-start;\n",
       "  width: 50%;\n",
       "}\n",
       "\n",
       "#sk-container-id-2 div.sk-parallel-item:only-child::after {\n",
       "  width: 0;\n",
       "}\n",
       "\n",
       "/* Serial-specific style estimator block */\n",
       "\n",
       "#sk-container-id-2 div.sk-serial {\n",
       "  display: flex;\n",
       "  flex-direction: column;\n",
       "  align-items: center;\n",
       "  background-color: var(--sklearn-color-background);\n",
       "  padding-right: 1em;\n",
       "  padding-left: 1em;\n",
       "}\n",
       "\n",
       "\n",
       "/* Toggleable style: style used for estimator/Pipeline/ColumnTransformer box that is\n",
       "clickable and can be expanded/collapsed.\n",
       "- Pipeline and ColumnTransformer use this feature and define the default style\n",
       "- Estimators will overwrite some part of the style using the `sk-estimator` class\n",
       "*/\n",
       "\n",
       "/* Pipeline and ColumnTransformer style (default) */\n",
       "\n",
       "#sk-container-id-2 div.sk-toggleable {\n",
       "  /* Default theme specific background. It is overwritten whether we have a\n",
       "  specific estimator or a Pipeline/ColumnTransformer */\n",
       "  background-color: var(--sklearn-color-background);\n",
       "}\n",
       "\n",
       "/* Toggleable label */\n",
       "#sk-container-id-2 label.sk-toggleable__label {\n",
       "  cursor: pointer;\n",
       "  display: block;\n",
       "  width: 100%;\n",
       "  margin-bottom: 0;\n",
       "  padding: 0.5em;\n",
       "  box-sizing: border-box;\n",
       "  text-align: center;\n",
       "}\n",
       "\n",
       "#sk-container-id-2 label.sk-toggleable__label-arrow:before {\n",
       "  /* Arrow on the left of the label */\n",
       "  content: \"▸\";\n",
       "  float: left;\n",
       "  margin-right: 0.25em;\n",
       "  color: var(--sklearn-color-icon);\n",
       "}\n",
       "\n",
       "#sk-container-id-2 label.sk-toggleable__label-arrow:hover:before {\n",
       "  color: var(--sklearn-color-text);\n",
       "}\n",
       "\n",
       "/* Toggleable content - dropdown */\n",
       "\n",
       "#sk-container-id-2 div.sk-toggleable__content {\n",
       "  max-height: 0;\n",
       "  max-width: 0;\n",
       "  overflow: hidden;\n",
       "  text-align: left;\n",
       "  /* unfitted */\n",
       "  background-color: var(--sklearn-color-unfitted-level-0);\n",
       "}\n",
       "\n",
       "#sk-container-id-2 div.sk-toggleable__content.fitted {\n",
       "  /* fitted */\n",
       "  background-color: var(--sklearn-color-fitted-level-0);\n",
       "}\n",
       "\n",
       "#sk-container-id-2 div.sk-toggleable__content pre {\n",
       "  margin: 0.2em;\n",
       "  border-radius: 0.25em;\n",
       "  color: var(--sklearn-color-text);\n",
       "  /* unfitted */\n",
       "  background-color: var(--sklearn-color-unfitted-level-0);\n",
       "}\n",
       "\n",
       "#sk-container-id-2 div.sk-toggleable__content.fitted pre {\n",
       "  /* unfitted */\n",
       "  background-color: var(--sklearn-color-fitted-level-0);\n",
       "}\n",
       "\n",
       "#sk-container-id-2 input.sk-toggleable__control:checked~div.sk-toggleable__content {\n",
       "  /* Expand drop-down */\n",
       "  max-height: 200px;\n",
       "  max-width: 100%;\n",
       "  overflow: auto;\n",
       "}\n",
       "\n",
       "#sk-container-id-2 input.sk-toggleable__control:checked~label.sk-toggleable__label-arrow:before {\n",
       "  content: \"▾\";\n",
       "}\n",
       "\n",
       "/* Pipeline/ColumnTransformer-specific style */\n",
       "\n",
       "#sk-container-id-2 div.sk-label input.sk-toggleable__control:checked~label.sk-toggleable__label {\n",
       "  color: var(--sklearn-color-text);\n",
       "  background-color: var(--sklearn-color-unfitted-level-2);\n",
       "}\n",
       "\n",
       "#sk-container-id-2 div.sk-label.fitted input.sk-toggleable__control:checked~label.sk-toggleable__label {\n",
       "  background-color: var(--sklearn-color-fitted-level-2);\n",
       "}\n",
       "\n",
       "/* Estimator-specific style */\n",
       "\n",
       "/* Colorize estimator box */\n",
       "#sk-container-id-2 div.sk-estimator input.sk-toggleable__control:checked~label.sk-toggleable__label {\n",
       "  /* unfitted */\n",
       "  background-color: var(--sklearn-color-unfitted-level-2);\n",
       "}\n",
       "\n",
       "#sk-container-id-2 div.sk-estimator.fitted input.sk-toggleable__control:checked~label.sk-toggleable__label {\n",
       "  /* fitted */\n",
       "  background-color: var(--sklearn-color-fitted-level-2);\n",
       "}\n",
       "\n",
       "#sk-container-id-2 div.sk-label label.sk-toggleable__label,\n",
       "#sk-container-id-2 div.sk-label label {\n",
       "  /* The background is the default theme color */\n",
       "  color: var(--sklearn-color-text-on-default-background);\n",
       "}\n",
       "\n",
       "/* On hover, darken the color of the background */\n",
       "#sk-container-id-2 div.sk-label:hover label.sk-toggleable__label {\n",
       "  color: var(--sklearn-color-text);\n",
       "  background-color: var(--sklearn-color-unfitted-level-2);\n",
       "}\n",
       "\n",
       "/* Label box, darken color on hover, fitted */\n",
       "#sk-container-id-2 div.sk-label.fitted:hover label.sk-toggleable__label.fitted {\n",
       "  color: var(--sklearn-color-text);\n",
       "  background-color: var(--sklearn-color-fitted-level-2);\n",
       "}\n",
       "\n",
       "/* Estimator label */\n",
       "\n",
       "#sk-container-id-2 div.sk-label label {\n",
       "  font-family: monospace;\n",
       "  font-weight: bold;\n",
       "  display: inline-block;\n",
       "  line-height: 1.2em;\n",
       "}\n",
       "\n",
       "#sk-container-id-2 div.sk-label-container {\n",
       "  text-align: center;\n",
       "}\n",
       "\n",
       "/* Estimator-specific */\n",
       "#sk-container-id-2 div.sk-estimator {\n",
       "  font-family: monospace;\n",
       "  border: 1px dotted var(--sklearn-color-border-box);\n",
       "  border-radius: 0.25em;\n",
       "  box-sizing: border-box;\n",
       "  margin-bottom: 0.5em;\n",
       "  /* unfitted */\n",
       "  background-color: var(--sklearn-color-unfitted-level-0);\n",
       "}\n",
       "\n",
       "#sk-container-id-2 div.sk-estimator.fitted {\n",
       "  /* fitted */\n",
       "  background-color: var(--sklearn-color-fitted-level-0);\n",
       "}\n",
       "\n",
       "/* on hover */\n",
       "#sk-container-id-2 div.sk-estimator:hover {\n",
       "  /* unfitted */\n",
       "  background-color: var(--sklearn-color-unfitted-level-2);\n",
       "}\n",
       "\n",
       "#sk-container-id-2 div.sk-estimator.fitted:hover {\n",
       "  /* fitted */\n",
       "  background-color: var(--sklearn-color-fitted-level-2);\n",
       "}\n",
       "\n",
       "/* Specification for estimator info (e.g. \"i\" and \"?\") */\n",
       "\n",
       "/* Common style for \"i\" and \"?\" */\n",
       "\n",
       ".sk-estimator-doc-link,\n",
       "a:link.sk-estimator-doc-link,\n",
       "a:visited.sk-estimator-doc-link {\n",
       "  float: right;\n",
       "  font-size: smaller;\n",
       "  line-height: 1em;\n",
       "  font-family: monospace;\n",
       "  background-color: var(--sklearn-color-background);\n",
       "  border-radius: 1em;\n",
       "  height: 1em;\n",
       "  width: 1em;\n",
       "  text-decoration: none !important;\n",
       "  margin-left: 1ex;\n",
       "  /* unfitted */\n",
       "  border: var(--sklearn-color-unfitted-level-1) 1pt solid;\n",
       "  color: var(--sklearn-color-unfitted-level-1);\n",
       "}\n",
       "\n",
       ".sk-estimator-doc-link.fitted,\n",
       "a:link.sk-estimator-doc-link.fitted,\n",
       "a:visited.sk-estimator-doc-link.fitted {\n",
       "  /* fitted */\n",
       "  border: var(--sklearn-color-fitted-level-1) 1pt solid;\n",
       "  color: var(--sklearn-color-fitted-level-1);\n",
       "}\n",
       "\n",
       "/* On hover */\n",
       "div.sk-estimator:hover .sk-estimator-doc-link:hover,\n",
       ".sk-estimator-doc-link:hover,\n",
       "div.sk-label-container:hover .sk-estimator-doc-link:hover,\n",
       ".sk-estimator-doc-link:hover {\n",
       "  /* unfitted */\n",
       "  background-color: var(--sklearn-color-unfitted-level-3);\n",
       "  color: var(--sklearn-color-background);\n",
       "  text-decoration: none;\n",
       "}\n",
       "\n",
       "div.sk-estimator.fitted:hover .sk-estimator-doc-link.fitted:hover,\n",
       ".sk-estimator-doc-link.fitted:hover,\n",
       "div.sk-label-container:hover .sk-estimator-doc-link.fitted:hover,\n",
       ".sk-estimator-doc-link.fitted:hover {\n",
       "  /* fitted */\n",
       "  background-color: var(--sklearn-color-fitted-level-3);\n",
       "  color: var(--sklearn-color-background);\n",
       "  text-decoration: none;\n",
       "}\n",
       "\n",
       "/* Span, style for the box shown on hovering the info icon */\n",
       ".sk-estimator-doc-link span {\n",
       "  display: none;\n",
       "  z-index: 9999;\n",
       "  position: relative;\n",
       "  font-weight: normal;\n",
       "  right: .2ex;\n",
       "  padding: .5ex;\n",
       "  margin: .5ex;\n",
       "  width: min-content;\n",
       "  min-width: 20ex;\n",
       "  max-width: 50ex;\n",
       "  color: var(--sklearn-color-text);\n",
       "  box-shadow: 2pt 2pt 4pt #999;\n",
       "  /* unfitted */\n",
       "  background: var(--sklearn-color-unfitted-level-0);\n",
       "  border: .5pt solid var(--sklearn-color-unfitted-level-3);\n",
       "}\n",
       "\n",
       ".sk-estimator-doc-link.fitted span {\n",
       "  /* fitted */\n",
       "  background: var(--sklearn-color-fitted-level-0);\n",
       "  border: var(--sklearn-color-fitted-level-3);\n",
       "}\n",
       "\n",
       ".sk-estimator-doc-link:hover span {\n",
       "  display: block;\n",
       "}\n",
       "\n",
       "/* \"?\"-specific style due to the `<a>` HTML tag */\n",
       "\n",
       "#sk-container-id-2 a.estimator_doc_link {\n",
       "  float: right;\n",
       "  font-size: 1rem;\n",
       "  line-height: 1em;\n",
       "  font-family: monospace;\n",
       "  background-color: var(--sklearn-color-background);\n",
       "  border-radius: 1rem;\n",
       "  height: 1rem;\n",
       "  width: 1rem;\n",
       "  text-decoration: none;\n",
       "  /* unfitted */\n",
       "  color: var(--sklearn-color-unfitted-level-1);\n",
       "  border: var(--sklearn-color-unfitted-level-1) 1pt solid;\n",
       "}\n",
       "\n",
       "#sk-container-id-2 a.estimator_doc_link.fitted {\n",
       "  /* fitted */\n",
       "  border: var(--sklearn-color-fitted-level-1) 1pt solid;\n",
       "  color: var(--sklearn-color-fitted-level-1);\n",
       "}\n",
       "\n",
       "/* On hover */\n",
       "#sk-container-id-2 a.estimator_doc_link:hover {\n",
       "  /* unfitted */\n",
       "  background-color: var(--sklearn-color-unfitted-level-3);\n",
       "  color: var(--sklearn-color-background);\n",
       "  text-decoration: none;\n",
       "}\n",
       "\n",
       "#sk-container-id-2 a.estimator_doc_link.fitted:hover {\n",
       "  /* fitted */\n",
       "  background-color: var(--sklearn-color-fitted-level-3);\n",
       "}\n",
       "</style><div id=\"sk-container-id-2\" class=\"sk-top-container\"><div class=\"sk-text-repr-fallback\"><pre>SVC()</pre><b>In a Jupyter environment, please rerun this cell to show the HTML representation or trust the notebook. <br />On GitHub, the HTML representation is unable to render, please try loading this page with nbviewer.org.</b></div><div class=\"sk-container\" hidden><div class=\"sk-item\"><div class=\"sk-estimator fitted sk-toggleable\"><input class=\"sk-toggleable__control sk-hidden--visually\" id=\"sk-estimator-id-2\" type=\"checkbox\" checked><label for=\"sk-estimator-id-2\" class=\"sk-toggleable__label fitted sk-toggleable__label-arrow fitted\">&nbsp;&nbsp;SVC<a class=\"sk-estimator-doc-link fitted\" rel=\"noreferrer\" target=\"_blank\" href=\"https://scikit-learn.org/1.5/modules/generated/sklearn.svm.SVC.html\">?<span>Documentation for SVC</span></a><span class=\"sk-estimator-doc-link fitted\">i<span>Fitted</span></span></label><div class=\"sk-toggleable__content fitted\"><pre>SVC()</pre></div> </div></div></div></div>"
      ],
      "text/plain": [
       "SVC()"
      ]
     },
     "execution_count": 32,
     "metadata": {},
     "output_type": "execute_result"
    }
   ],
   "source": [
    "# proses training (code here)\n",
    "model_svc.fit(X_train, y_train)"
   ]
  },
  {
   "cell_type": "markdown",
   "id": "31e23757",
   "metadata": {},
   "source": [
    "**💡NOTES**: Tahapan ini adalah mesin telah belajar dan telah menghasilkan model (ditandai dengan warna biru dan keterangan _fitted_). Perhatikan bahwa model dilatih hanya pada training data. Karena model akan diuji pada data test yang belum pernah dilihat model sebelumnya."
   ]
  },
  {
   "cell_type": "markdown",
   "id": "ea15b0ca",
   "metadata": {},
   "source": [
    "#### 4.2 Model Prediction"
   ]
  },
  {
   "cell_type": "markdown",
   "id": "5b1f113c",
   "metadata": {},
   "source": [
    "Setelah model dilatih, model siap digunakan untuk memprediksi data baru. Model akan memprediksi data test yang telah kita siapkan sebelumnya."
   ]
  },
  {
   "cell_type": "markdown",
   "id": "a05bd4f0",
   "metadata": {},
   "source": [
    "🔻 Metode `.predict()` memungkinkan kita untuk memprediksi label/kelas pada data baru dengan model yang sudah dilatih / di-*train*. \n",
    "\n",
    "Parameter `.predict()`:\n",
    "* `X`: Data yang akan diprediksi $\\rightarrow$ `X_test` (prediktor data test)\n",
    "\n",
    "Output yang dihasilkan:\n",
    "* label prediksi $\\rightarrow$ `y_pred`"
   ]
  },
  {
   "cell_type": "code",
   "execution_count": 33,
   "id": "4161e48d",
   "metadata": {},
   "outputs": [
    {
     "data": {
      "text/html": [
       "<div>\n",
       "<style scoped>\n",
       "    .dataframe tbody tr th:only-of-type {\n",
       "        vertical-align: middle;\n",
       "    }\n",
       "\n",
       "    .dataframe tbody tr th {\n",
       "        vertical-align: top;\n",
       "    }\n",
       "\n",
       "    .dataframe thead th {\n",
       "        text-align: right;\n",
       "    }\n",
       "</style>\n",
       "<table border=\"1\" class=\"dataframe\">\n",
       "  <thead>\n",
       "    <tr style=\"text-align: right;\">\n",
       "      <th></th>\n",
       "      <th>Education</th>\n",
       "      <th>PaymentTier</th>\n",
       "      <th>Age</th>\n",
       "      <th>ExperienceInCurrentDomain</th>\n",
       "      <th>City_New Delhi</th>\n",
       "      <th>City_Pune</th>\n",
       "      <th>Gender_Male</th>\n",
       "      <th>EverBenched_Yes</th>\n",
       "    </tr>\n",
       "  </thead>\n",
       "  <tbody>\n",
       "    <tr>\n",
       "      <th>2092</th>\n",
       "      <td>0</td>\n",
       "      <td>3</td>\n",
       "      <td>-0.503479</td>\n",
       "      <td>1.347999</td>\n",
       "      <td>0</td>\n",
       "      <td>0</td>\n",
       "      <td>0</td>\n",
       "      <td>1</td>\n",
       "    </tr>\n",
       "    <tr>\n",
       "      <th>182</th>\n",
       "      <td>0</td>\n",
       "      <td>3</td>\n",
       "      <td>-1.120382</td>\n",
       "      <td>-0.567470</td>\n",
       "      <td>0</td>\n",
       "      <td>0</td>\n",
       "      <td>1</td>\n",
       "      <td>0</td>\n",
       "    </tr>\n",
       "    <tr>\n",
       "      <th>4043</th>\n",
       "      <td>0</td>\n",
       "      <td>3</td>\n",
       "      <td>-0.297844</td>\n",
       "      <td>0.071020</td>\n",
       "      <td>0</td>\n",
       "      <td>0</td>\n",
       "      <td>0</td>\n",
       "      <td>0</td>\n",
       "    </tr>\n",
       "    <tr>\n",
       "      <th>621</th>\n",
       "      <td>0</td>\n",
       "      <td>3</td>\n",
       "      <td>-0.297844</td>\n",
       "      <td>0.071020</td>\n",
       "      <td>1</td>\n",
       "      <td>0</td>\n",
       "      <td>0</td>\n",
       "      <td>0</td>\n",
       "    </tr>\n",
       "    <tr>\n",
       "      <th>1326</th>\n",
       "      <td>2</td>\n",
       "      <td>3</td>\n",
       "      <td>-0.503479</td>\n",
       "      <td>1.347999</td>\n",
       "      <td>1</td>\n",
       "      <td>0</td>\n",
       "      <td>0</td>\n",
       "      <td>0</td>\n",
       "    </tr>\n",
       "  </tbody>\n",
       "</table>\n",
       "</div>"
      ],
      "text/plain": [
       "     Education PaymentTier       Age  ExperienceInCurrentDomain  \\\n",
       "2092         0           3 -0.503479                   1.347999   \n",
       "182          0           3 -1.120382                  -0.567470   \n",
       "4043         0           3 -0.297844                   0.071020   \n",
       "621          0           3 -0.297844                   0.071020   \n",
       "1326         2           3 -0.503479                   1.347999   \n",
       "\n",
       "      City_New Delhi  City_Pune  Gender_Male  EverBenched_Yes  \n",
       "2092               0          0            0                1  \n",
       "182                0          0            1                0  \n",
       "4043               0          0            0                0  \n",
       "621                1          0            0                0  \n",
       "1326               1          0            0                0  "
      ]
     },
     "execution_count": 33,
     "metadata": {},
     "output_type": "execute_result"
    }
   ],
   "source": [
    "# melihat data test -> X_test\n",
    "X_test.head()"
   ]
  },
  {
   "cell_type": "code",
   "execution_count": 34,
   "id": "733b1ef7",
   "metadata": {},
   "outputs": [
    {
     "data": {
      "text/plain": [
       "array([1, 1, 1, 1, 1, 1, 1, 1, 1, 1], dtype=int64)"
      ]
     },
     "execution_count": 34,
     "metadata": {},
     "output_type": "execute_result"
    }
   ],
   "source": [
    "# prediksi data test\n",
    "y_pred_test = model_svc.predict(X_test)\n",
    "\n",
    "# menampilkan 10 data hasil prediksi\n",
    "y_pred_test[:10]"
   ]
  },
  {
   "cell_type": "markdown",
   "id": "7e72f0b9",
   "metadata": {},
   "source": [
    "**💡NOTES**: Walaupun kita sudah berhasil memprediksi, kita tetap perlu memastikan bahwa hasil prediksinya banyak yang benar / sudah sesuai dengan melakukan model evaluation"
   ]
  },
  {
   "cell_type": "markdown",
   "id": "2e8dba0f",
   "metadata": {},
   "source": [
    "### 5. Model Evaluation"
   ]
  },
  {
   "cell_type": "markdown",
   "id": "51c3712c",
   "metadata": {},
   "source": [
    "Model yang telah dibuat perlu kita cari tahu seberapa baik performa model tersebut. Proses untuk melihat performa model ini disebut evaluasi model.\n",
    "\n",
    "Pada kasus ini kita akan menggunakan metrik evaluasi `accuracy` untuk melihat seberapa baik model kita dalam memprediksi data test."
   ]
  },
  {
   "cell_type": "markdown",
   "id": "54bf6859",
   "metadata": {},
   "source": [
    "Accuracy adalah proporsi kasus yang diidentifikasi dengan benar dari semua kasus. Ini adalah praktik umum untuk membandingkan kinerja model pada data train dan test."
   ]
  },
  {
   "cell_type": "markdown",
   "id": "5cf35ce5",
   "metadata": {},
   "source": [
    "$$Accuracy = {\\text{Jumlah prediksi benar} \\over \\text{Total prediksi}}.$$"
   ]
  },
  {
   "cell_type": "markdown",
   "id": "b31c185c",
   "metadata": {},
   "source": [
    "> Misal, saya punya 100 data, kemudian model berhasil memprediksi dengan benar 90 data, maka akurasinya adalah\n",
    "> 90/100 = 90%"
   ]
  },
  {
   "cell_type": "markdown",
   "id": "f2a214c3",
   "metadata": {},
   "source": [
    "🔻 Fungsi `metrics.accuracy_score()` dari library `sklearn` berfungsi untuk menghitung akurasi berdasarkan data yang telah diprediksi oleh model. Parameter yang dimasukkan adalah:\n",
    "* `y_true`: target yang sebenarnya (ground truth) $\\rightarrow$ diambil dari `y_test`\n",
    "* `y_pred`: target hasil prediksi model"
   ]
  },
  {
   "cell_type": "markdown",
   "id": "53b70076",
   "metadata": {},
   "source": [
    "Dokumentasi metrik evaluasi `accuracy` dan metrik lainnya dapat diakses [di sini](https://scikit-learn.org/stable/api/sklearn.metrics.html)."
   ]
  },
  {
   "cell_type": "code",
   "execution_count": 35,
   "id": "340c7d39",
   "metadata": {},
   "outputs": [],
   "source": [
    "# import library untuk menghitung akurasi\n",
    "from sklearn.metrics import accuracy_score"
   ]
  },
  {
   "cell_type": "markdown",
   "id": "887991e3",
   "metadata": {},
   "source": [
    "___\n",
    "> ❓**QUESTION:** Bagaimana performa model kita?"
   ]
  },
  {
   "cell_type": "markdown",
   "id": "31067ef7",
   "metadata": {},
   "source": [
    "> 💡**ANSWER:** Cek akurasi model pada data test.\n",
    "___"
   ]
  },
  {
   "cell_type": "markdown",
   "id": "e5859a9a",
   "metadata": {},
   "source": [
    "Prediksi model menggunakan data test:"
   ]
  },
  {
   "cell_type": "code",
   "execution_count": 36,
   "id": "f316d33f",
   "metadata": {},
   "outputs": [
    {
     "name": "stdout",
     "output_type": "stream",
     "text": [
      "Accuracy Test : 0.76\n"
     ]
    }
   ],
   "source": [
    "# prediksi data test\n",
    "y_pred_test = model_svc.predict(X_test)\n",
    "\n",
    "# evaluasi model\n",
    "accuracy_test = accuracy_score(y_test, y_pred_test)\n",
    "\n",
    "# tampilkan hasil evaluasi\n",
    "print(f\"Accuracy Test : {accuracy_test:,.2f}\")"
   ]
  },
  {
   "cell_type": "markdown",
   "id": "445a1f5b",
   "metadata": {},
   "source": [
    "___\n",
    "> ❓ **QUESTION:** Apakah model kita sudah cukup baik?"
   ]
  },
  {
   "cell_type": "markdown",
   "id": "40ef1d13",
   "metadata": {},
   "source": [
    "> 💡**ANSWER:** Cek akurasi model pada data train sebagai pembanding.\n",
    "___"
   ]
  },
  {
   "cell_type": "markdown",
   "id": "edf23e6e",
   "metadata": {},
   "source": [
    "Prediksi model menggunakan data train:"
   ]
  },
  {
   "cell_type": "code",
   "execution_count": 37,
   "id": "10dda000",
   "metadata": {},
   "outputs": [
    {
     "name": "stdout",
     "output_type": "stream",
     "text": [
      "Accuracy Train : 0.75\n"
     ]
    }
   ],
   "source": [
    "# prediksi data train\n",
    "y_pred_train = model_svc.predict(X_train)\n",
    "\n",
    "# evaluasi model\n",
    "accuracy_train = accuracy_score(y_train, y_pred_train)\n",
    "\n",
    "# tampilkan hasil evaluasi\n",
    "print(f\"Accuracy Train : {accuracy_train:,.2f}\")"
   ]
  },
  {
   "cell_type": "markdown",
   "id": "ef793e6f",
   "metadata": {},
   "source": [
    "Membandingkan evaluasi model pada data train dan data test:"
   ]
  },
  {
   "cell_type": "code",
   "execution_count": 38,
   "id": "769c3c9e",
   "metadata": {},
   "outputs": [
    {
     "data": {
      "text/html": [
       "<div>\n",
       "<style scoped>\n",
       "    .dataframe tbody tr th:only-of-type {\n",
       "        vertical-align: middle;\n",
       "    }\n",
       "\n",
       "    .dataframe tbody tr th {\n",
       "        vertical-align: top;\n",
       "    }\n",
       "\n",
       "    .dataframe thead th {\n",
       "        text-align: right;\n",
       "    }\n",
       "</style>\n",
       "<table border=\"1\" class=\"dataframe\">\n",
       "  <thead>\n",
       "    <tr style=\"text-align: right;\">\n",
       "      <th></th>\n",
       "      <th>Accuracy</th>\n",
       "    </tr>\n",
       "  </thead>\n",
       "  <tbody>\n",
       "    <tr>\n",
       "      <th>Data Train</th>\n",
       "      <td>0.754433</td>\n",
       "    </tr>\n",
       "    <tr>\n",
       "      <th>Data Test</th>\n",
       "      <td>0.763695</td>\n",
       "    </tr>\n",
       "  </tbody>\n",
       "</table>\n",
       "</div>"
      ],
      "text/plain": [
       "            Accuracy\n",
       "Data Train  0.754433\n",
       "Data Test   0.763695"
      ]
     },
     "execution_count": 38,
     "metadata": {},
     "output_type": "execute_result"
    }
   ],
   "source": [
    "# menampilkan perbandingan evaluasi model pada data train dan data test\n",
    "pd.DataFrame(data = {\"Accuracy\": [accuracy_train, accuracy_test]},\n",
    "             index = [\"Data Train\", 'Data Test'])"
   ]
  },
  {
   "cell_type": "markdown",
   "id": "4f61c6d4",
   "metadata": {},
   "source": [
    "#### Additional - Good Fit\n",
    "\n",
    "Tergantung pada model yang dilatih, kita mungkin akan menemukan hal-hal berikut ini:\n",
    "\n",
    "* Terlalu pas (**overfitting**) $\\rightarrow$ Model terlalu baik di data train, tapi kurang baik di data test.\n",
    "* Kurang pas (**underfitting**) $\\rightarrow$ Model tidak baik di data train dan data test\n",
    "* Optimal-fitting (**good fit**) $\\rightarrow$ Model baik di data train dan data test.\n",
    "\n",
    "Situasi yang ideal adalah skenario 3, di mana model dikatakan tidak underfit atau overfit.\n",
    "\n",
    "![kernel.gif](asset\\fit.png)"
   ]
  },
  {
   "cell_type": "markdown",
   "id": "4568a80a",
   "metadata": {},
   "source": [
    "**✨ Opsional:** Memang dalam kasus kali ini kita hanya membutuhkan nilai pengukuran akurasi, namun dalam praktiknya masih terdapat banyak jenis metriks untuk penilaian performa model bergnatung pada kasusnya. Alternatifnya, kita bisa menggunakan [modul `metrics`](https://scikit-learn.org/stable/modules/model_evaluation.html) dari library `sklearn`."
   ]
  },
  {
   "cell_type": "markdown",
   "id": "b7e178c7",
   "metadata": {},
   "source": [
    "### 🧪 Knowledge Check: Model Building & Evaluation"
   ]
  },
  {
   "cell_type": "markdown",
   "id": "2dc3ac94",
   "metadata": {},
   "source": [
    "___\n",
    "1. Apa tujuan utama dari SVC?\n",
    "\n",
    "- [ ] Menentukan cluster yang optimal dalam data.\n",
    "- [ ] Memprediksi nilai kontinu dari data.\n",
    "- [X] Mencari hyperplane yang optimal.\n",
    "\n",
    "___\n",
    "\n",
    "2. Dari pernyataan berikut, manakah yang benar mengenai proses training?\n",
    "\n",
    "- [X] proses mencari pola dalam data.\n",
    "- [ ] proses melakukan prediksi pada _unseen_ data\n",
    "- [ ] proses mengetahui apakah model kita _underfit_, _good fit_, dan _overfit_\n",
    "___\n",
    "\n",
    "3. Model ML dikatakan _underfit_ jika apa?\n",
    "\n",
    "- [ ] Performa pada data test rendah\n",
    "- [ ] Performa pada data train dan test berbeda jauh\n",
    "- [X] Performa pada data train dan test sama-sama rendah\n",
    "___"
   ]
  },
  {
   "cell_type": "markdown",
   "id": "e154573d",
   "metadata": {},
   "source": [
    "### 6. Model Improvement: Tuning Hyperparameter SVC (Opsional)"
   ]
  },
  {
   "cell_type": "markdown",
   "id": "82185049",
   "metadata": {},
   "source": [
    "Model tuning berguna untuk memperbaiki model kita dengan cara merubah nilai pada hyperparameter. Namun proses tuning tidak selalu menghasilkan model yang lebih baik sehingga kita perlu lakukan *trial and error* untuk mencari hyperparameter yang mampu meningkatkan performa model.\n",
    "\n",
    "Maka dari itu terdapat *hyperparameter* di dalam sebuah model machine learning. *Hyperparameter* adalah parameter-parameter yang dapat diatur oleh pembuat model untuk mempengaruhi cara belajar dari sebuah model. Dengan mengatur *hyperparameter* yang tepat, kita dapat meningkatkan performa model kita.\n",
    "\n",
    "Sama seperti koki yang mengatur bumbu untuk menghasilkan hidangan lezat, data scientist mengatur *hyperparameter* untuk model machine learning yang optimal.\n",
    "\n",
    "Jumlah garam, waktu memasak, dan suhu oven bagaikan *hyperparameter* yang menentukan rasa masakan.\n",
    "\n",
    "Adapun *hyperparameter* yang sering digunakan dalam model SVC antara lain:\n",
    "\n",
    "- `gamma [default = 'scale', option = ['scale', 'auto', positive float number]`: Semakin besar nilai gamma, garis pemisah (hyperplane) semakin mengikuti bentuk data (semakin kompleks). Semakin kecil, maka semakin garis pemisah lebih general (lebih sederhana).\n",
    "\n",
    "- `kernel [default = 'rbf', option = ['rbf', 'poly', 'linear', 'sigmoid']`: Mempengaruhi bagaimana pemisah (*hyperplane*) terbentuk, untuk data yang dapat dipisahkan secara garis linear (garis lurus) dapat menggunakan 'linear'. Untuk data-data non-linear dapat menggunakan kernel `rbf`.\n",
    "*Note: Kebanyakan data berbentuk non-linear, sehingga sebaiknya selalu memilih kernel `rbf`*\n",
    "\n",
    "- `C (regularization) [default = 1, range = 0.0 - inf]`: Regularisasi mengontrol margin dan jumlah kesalahan klasifikasi.\n",
    "   > 1. Semakin besar nilai C, semakin kecil jumlah kesalahan yang ditoleransi $\\rightarrow$ hard margin.\n",
    "   > 2. Semakin kecil nilai C, semakin besar nilai kesalahan yang ditoleransi $\\rightarrow$ soft margin.\n",
    "\n",
    "<div align=\"center\">\n",
    "    <img src=\"asset/c_value.png\" width=\"700\"/>\n",
    "</div>\n",
    "\n",
    "Untuk hyperparameter dan penjelasan lebih detail dapat dilihat pada [dokumentasi SVC](https://scikit-learn.org/stable/modules/generated/sklearn.svm.SVC.html#sklearn.svm.SVC)"
   ]
  },
  {
   "cell_type": "markdown",
   "id": "cc2efa27",
   "metadata": {},
   "source": [
    "Mari kita coba untuk tuning model Klasifikasi kita dengan nama `model_svc_tuning`"
   ]
  },
  {
   "cell_type": "code",
   "execution_count": 39,
   "id": "47b55a22",
   "metadata": {},
   "outputs": [
    {
     "data": {
      "text/html": [
       "<style>#sk-container-id-3 {\n",
       "  /* Definition of color scheme common for light and dark mode */\n",
       "  --sklearn-color-text: black;\n",
       "  --sklearn-color-line: gray;\n",
       "  /* Definition of color scheme for unfitted estimators */\n",
       "  --sklearn-color-unfitted-level-0: #fff5e6;\n",
       "  --sklearn-color-unfitted-level-1: #f6e4d2;\n",
       "  --sklearn-color-unfitted-level-2: #ffe0b3;\n",
       "  --sklearn-color-unfitted-level-3: chocolate;\n",
       "  /* Definition of color scheme for fitted estimators */\n",
       "  --sklearn-color-fitted-level-0: #f0f8ff;\n",
       "  --sklearn-color-fitted-level-1: #d4ebff;\n",
       "  --sklearn-color-fitted-level-2: #b3dbfd;\n",
       "  --sklearn-color-fitted-level-3: cornflowerblue;\n",
       "\n",
       "  /* Specific color for light theme */\n",
       "  --sklearn-color-text-on-default-background: var(--sg-text-color, var(--theme-code-foreground, var(--jp-content-font-color1, black)));\n",
       "  --sklearn-color-background: var(--sg-background-color, var(--theme-background, var(--jp-layout-color0, white)));\n",
       "  --sklearn-color-border-box: var(--sg-text-color, var(--theme-code-foreground, var(--jp-content-font-color1, black)));\n",
       "  --sklearn-color-icon: #696969;\n",
       "\n",
       "  @media (prefers-color-scheme: dark) {\n",
       "    /* Redefinition of color scheme for dark theme */\n",
       "    --sklearn-color-text-on-default-background: var(--sg-text-color, var(--theme-code-foreground, var(--jp-content-font-color1, white)));\n",
       "    --sklearn-color-background: var(--sg-background-color, var(--theme-background, var(--jp-layout-color0, #111)));\n",
       "    --sklearn-color-border-box: var(--sg-text-color, var(--theme-code-foreground, var(--jp-content-font-color1, white)));\n",
       "    --sklearn-color-icon: #878787;\n",
       "  }\n",
       "}\n",
       "\n",
       "#sk-container-id-3 {\n",
       "  color: var(--sklearn-color-text);\n",
       "}\n",
       "\n",
       "#sk-container-id-3 pre {\n",
       "  padding: 0;\n",
       "}\n",
       "\n",
       "#sk-container-id-3 input.sk-hidden--visually {\n",
       "  border: 0;\n",
       "  clip: rect(1px 1px 1px 1px);\n",
       "  clip: rect(1px, 1px, 1px, 1px);\n",
       "  height: 1px;\n",
       "  margin: -1px;\n",
       "  overflow: hidden;\n",
       "  padding: 0;\n",
       "  position: absolute;\n",
       "  width: 1px;\n",
       "}\n",
       "\n",
       "#sk-container-id-3 div.sk-dashed-wrapped {\n",
       "  border: 1px dashed var(--sklearn-color-line);\n",
       "  margin: 0 0.4em 0.5em 0.4em;\n",
       "  box-sizing: border-box;\n",
       "  padding-bottom: 0.4em;\n",
       "  background-color: var(--sklearn-color-background);\n",
       "}\n",
       "\n",
       "#sk-container-id-3 div.sk-container {\n",
       "  /* jupyter's `normalize.less` sets `[hidden] { display: none; }`\n",
       "     but bootstrap.min.css set `[hidden] { display: none !important; }`\n",
       "     so we also need the `!important` here to be able to override the\n",
       "     default hidden behavior on the sphinx rendered scikit-learn.org.\n",
       "     See: https://github.com/scikit-learn/scikit-learn/issues/21755 */\n",
       "  display: inline-block !important;\n",
       "  position: relative;\n",
       "}\n",
       "\n",
       "#sk-container-id-3 div.sk-text-repr-fallback {\n",
       "  display: none;\n",
       "}\n",
       "\n",
       "div.sk-parallel-item,\n",
       "div.sk-serial,\n",
       "div.sk-item {\n",
       "  /* draw centered vertical line to link estimators */\n",
       "  background-image: linear-gradient(var(--sklearn-color-text-on-default-background), var(--sklearn-color-text-on-default-background));\n",
       "  background-size: 2px 100%;\n",
       "  background-repeat: no-repeat;\n",
       "  background-position: center center;\n",
       "}\n",
       "\n",
       "/* Parallel-specific style estimator block */\n",
       "\n",
       "#sk-container-id-3 div.sk-parallel-item::after {\n",
       "  content: \"\";\n",
       "  width: 100%;\n",
       "  border-bottom: 2px solid var(--sklearn-color-text-on-default-background);\n",
       "  flex-grow: 1;\n",
       "}\n",
       "\n",
       "#sk-container-id-3 div.sk-parallel {\n",
       "  display: flex;\n",
       "  align-items: stretch;\n",
       "  justify-content: center;\n",
       "  background-color: var(--sklearn-color-background);\n",
       "  position: relative;\n",
       "}\n",
       "\n",
       "#sk-container-id-3 div.sk-parallel-item {\n",
       "  display: flex;\n",
       "  flex-direction: column;\n",
       "}\n",
       "\n",
       "#sk-container-id-3 div.sk-parallel-item:first-child::after {\n",
       "  align-self: flex-end;\n",
       "  width: 50%;\n",
       "}\n",
       "\n",
       "#sk-container-id-3 div.sk-parallel-item:last-child::after {\n",
       "  align-self: flex-start;\n",
       "  width: 50%;\n",
       "}\n",
       "\n",
       "#sk-container-id-3 div.sk-parallel-item:only-child::after {\n",
       "  width: 0;\n",
       "}\n",
       "\n",
       "/* Serial-specific style estimator block */\n",
       "\n",
       "#sk-container-id-3 div.sk-serial {\n",
       "  display: flex;\n",
       "  flex-direction: column;\n",
       "  align-items: center;\n",
       "  background-color: var(--sklearn-color-background);\n",
       "  padding-right: 1em;\n",
       "  padding-left: 1em;\n",
       "}\n",
       "\n",
       "\n",
       "/* Toggleable style: style used for estimator/Pipeline/ColumnTransformer box that is\n",
       "clickable and can be expanded/collapsed.\n",
       "- Pipeline and ColumnTransformer use this feature and define the default style\n",
       "- Estimators will overwrite some part of the style using the `sk-estimator` class\n",
       "*/\n",
       "\n",
       "/* Pipeline and ColumnTransformer style (default) */\n",
       "\n",
       "#sk-container-id-3 div.sk-toggleable {\n",
       "  /* Default theme specific background. It is overwritten whether we have a\n",
       "  specific estimator or a Pipeline/ColumnTransformer */\n",
       "  background-color: var(--sklearn-color-background);\n",
       "}\n",
       "\n",
       "/* Toggleable label */\n",
       "#sk-container-id-3 label.sk-toggleable__label {\n",
       "  cursor: pointer;\n",
       "  display: block;\n",
       "  width: 100%;\n",
       "  margin-bottom: 0;\n",
       "  padding: 0.5em;\n",
       "  box-sizing: border-box;\n",
       "  text-align: center;\n",
       "}\n",
       "\n",
       "#sk-container-id-3 label.sk-toggleable__label-arrow:before {\n",
       "  /* Arrow on the left of the label */\n",
       "  content: \"▸\";\n",
       "  float: left;\n",
       "  margin-right: 0.25em;\n",
       "  color: var(--sklearn-color-icon);\n",
       "}\n",
       "\n",
       "#sk-container-id-3 label.sk-toggleable__label-arrow:hover:before {\n",
       "  color: var(--sklearn-color-text);\n",
       "}\n",
       "\n",
       "/* Toggleable content - dropdown */\n",
       "\n",
       "#sk-container-id-3 div.sk-toggleable__content {\n",
       "  max-height: 0;\n",
       "  max-width: 0;\n",
       "  overflow: hidden;\n",
       "  text-align: left;\n",
       "  /* unfitted */\n",
       "  background-color: var(--sklearn-color-unfitted-level-0);\n",
       "}\n",
       "\n",
       "#sk-container-id-3 div.sk-toggleable__content.fitted {\n",
       "  /* fitted */\n",
       "  background-color: var(--sklearn-color-fitted-level-0);\n",
       "}\n",
       "\n",
       "#sk-container-id-3 div.sk-toggleable__content pre {\n",
       "  margin: 0.2em;\n",
       "  border-radius: 0.25em;\n",
       "  color: var(--sklearn-color-text);\n",
       "  /* unfitted */\n",
       "  background-color: var(--sklearn-color-unfitted-level-0);\n",
       "}\n",
       "\n",
       "#sk-container-id-3 div.sk-toggleable__content.fitted pre {\n",
       "  /* unfitted */\n",
       "  background-color: var(--sklearn-color-fitted-level-0);\n",
       "}\n",
       "\n",
       "#sk-container-id-3 input.sk-toggleable__control:checked~div.sk-toggleable__content {\n",
       "  /* Expand drop-down */\n",
       "  max-height: 200px;\n",
       "  max-width: 100%;\n",
       "  overflow: auto;\n",
       "}\n",
       "\n",
       "#sk-container-id-3 input.sk-toggleable__control:checked~label.sk-toggleable__label-arrow:before {\n",
       "  content: \"▾\";\n",
       "}\n",
       "\n",
       "/* Pipeline/ColumnTransformer-specific style */\n",
       "\n",
       "#sk-container-id-3 div.sk-label input.sk-toggleable__control:checked~label.sk-toggleable__label {\n",
       "  color: var(--sklearn-color-text);\n",
       "  background-color: var(--sklearn-color-unfitted-level-2);\n",
       "}\n",
       "\n",
       "#sk-container-id-3 div.sk-label.fitted input.sk-toggleable__control:checked~label.sk-toggleable__label {\n",
       "  background-color: var(--sklearn-color-fitted-level-2);\n",
       "}\n",
       "\n",
       "/* Estimator-specific style */\n",
       "\n",
       "/* Colorize estimator box */\n",
       "#sk-container-id-3 div.sk-estimator input.sk-toggleable__control:checked~label.sk-toggleable__label {\n",
       "  /* unfitted */\n",
       "  background-color: var(--sklearn-color-unfitted-level-2);\n",
       "}\n",
       "\n",
       "#sk-container-id-3 div.sk-estimator.fitted input.sk-toggleable__control:checked~label.sk-toggleable__label {\n",
       "  /* fitted */\n",
       "  background-color: var(--sklearn-color-fitted-level-2);\n",
       "}\n",
       "\n",
       "#sk-container-id-3 div.sk-label label.sk-toggleable__label,\n",
       "#sk-container-id-3 div.sk-label label {\n",
       "  /* The background is the default theme color */\n",
       "  color: var(--sklearn-color-text-on-default-background);\n",
       "}\n",
       "\n",
       "/* On hover, darken the color of the background */\n",
       "#sk-container-id-3 div.sk-label:hover label.sk-toggleable__label {\n",
       "  color: var(--sklearn-color-text);\n",
       "  background-color: var(--sklearn-color-unfitted-level-2);\n",
       "}\n",
       "\n",
       "/* Label box, darken color on hover, fitted */\n",
       "#sk-container-id-3 div.sk-label.fitted:hover label.sk-toggleable__label.fitted {\n",
       "  color: var(--sklearn-color-text);\n",
       "  background-color: var(--sklearn-color-fitted-level-2);\n",
       "}\n",
       "\n",
       "/* Estimator label */\n",
       "\n",
       "#sk-container-id-3 div.sk-label label {\n",
       "  font-family: monospace;\n",
       "  font-weight: bold;\n",
       "  display: inline-block;\n",
       "  line-height: 1.2em;\n",
       "}\n",
       "\n",
       "#sk-container-id-3 div.sk-label-container {\n",
       "  text-align: center;\n",
       "}\n",
       "\n",
       "/* Estimator-specific */\n",
       "#sk-container-id-3 div.sk-estimator {\n",
       "  font-family: monospace;\n",
       "  border: 1px dotted var(--sklearn-color-border-box);\n",
       "  border-radius: 0.25em;\n",
       "  box-sizing: border-box;\n",
       "  margin-bottom: 0.5em;\n",
       "  /* unfitted */\n",
       "  background-color: var(--sklearn-color-unfitted-level-0);\n",
       "}\n",
       "\n",
       "#sk-container-id-3 div.sk-estimator.fitted {\n",
       "  /* fitted */\n",
       "  background-color: var(--sklearn-color-fitted-level-0);\n",
       "}\n",
       "\n",
       "/* on hover */\n",
       "#sk-container-id-3 div.sk-estimator:hover {\n",
       "  /* unfitted */\n",
       "  background-color: var(--sklearn-color-unfitted-level-2);\n",
       "}\n",
       "\n",
       "#sk-container-id-3 div.sk-estimator.fitted:hover {\n",
       "  /* fitted */\n",
       "  background-color: var(--sklearn-color-fitted-level-2);\n",
       "}\n",
       "\n",
       "/* Specification for estimator info (e.g. \"i\" and \"?\") */\n",
       "\n",
       "/* Common style for \"i\" and \"?\" */\n",
       "\n",
       ".sk-estimator-doc-link,\n",
       "a:link.sk-estimator-doc-link,\n",
       "a:visited.sk-estimator-doc-link {\n",
       "  float: right;\n",
       "  font-size: smaller;\n",
       "  line-height: 1em;\n",
       "  font-family: monospace;\n",
       "  background-color: var(--sklearn-color-background);\n",
       "  border-radius: 1em;\n",
       "  height: 1em;\n",
       "  width: 1em;\n",
       "  text-decoration: none !important;\n",
       "  margin-left: 1ex;\n",
       "  /* unfitted */\n",
       "  border: var(--sklearn-color-unfitted-level-1) 1pt solid;\n",
       "  color: var(--sklearn-color-unfitted-level-1);\n",
       "}\n",
       "\n",
       ".sk-estimator-doc-link.fitted,\n",
       "a:link.sk-estimator-doc-link.fitted,\n",
       "a:visited.sk-estimator-doc-link.fitted {\n",
       "  /* fitted */\n",
       "  border: var(--sklearn-color-fitted-level-1) 1pt solid;\n",
       "  color: var(--sklearn-color-fitted-level-1);\n",
       "}\n",
       "\n",
       "/* On hover */\n",
       "div.sk-estimator:hover .sk-estimator-doc-link:hover,\n",
       ".sk-estimator-doc-link:hover,\n",
       "div.sk-label-container:hover .sk-estimator-doc-link:hover,\n",
       ".sk-estimator-doc-link:hover {\n",
       "  /* unfitted */\n",
       "  background-color: var(--sklearn-color-unfitted-level-3);\n",
       "  color: var(--sklearn-color-background);\n",
       "  text-decoration: none;\n",
       "}\n",
       "\n",
       "div.sk-estimator.fitted:hover .sk-estimator-doc-link.fitted:hover,\n",
       ".sk-estimator-doc-link.fitted:hover,\n",
       "div.sk-label-container:hover .sk-estimator-doc-link.fitted:hover,\n",
       ".sk-estimator-doc-link.fitted:hover {\n",
       "  /* fitted */\n",
       "  background-color: var(--sklearn-color-fitted-level-3);\n",
       "  color: var(--sklearn-color-background);\n",
       "  text-decoration: none;\n",
       "}\n",
       "\n",
       "/* Span, style for the box shown on hovering the info icon */\n",
       ".sk-estimator-doc-link span {\n",
       "  display: none;\n",
       "  z-index: 9999;\n",
       "  position: relative;\n",
       "  font-weight: normal;\n",
       "  right: .2ex;\n",
       "  padding: .5ex;\n",
       "  margin: .5ex;\n",
       "  width: min-content;\n",
       "  min-width: 20ex;\n",
       "  max-width: 50ex;\n",
       "  color: var(--sklearn-color-text);\n",
       "  box-shadow: 2pt 2pt 4pt #999;\n",
       "  /* unfitted */\n",
       "  background: var(--sklearn-color-unfitted-level-0);\n",
       "  border: .5pt solid var(--sklearn-color-unfitted-level-3);\n",
       "}\n",
       "\n",
       ".sk-estimator-doc-link.fitted span {\n",
       "  /* fitted */\n",
       "  background: var(--sklearn-color-fitted-level-0);\n",
       "  border: var(--sklearn-color-fitted-level-3);\n",
       "}\n",
       "\n",
       ".sk-estimator-doc-link:hover span {\n",
       "  display: block;\n",
       "}\n",
       "\n",
       "/* \"?\"-specific style due to the `<a>` HTML tag */\n",
       "\n",
       "#sk-container-id-3 a.estimator_doc_link {\n",
       "  float: right;\n",
       "  font-size: 1rem;\n",
       "  line-height: 1em;\n",
       "  font-family: monospace;\n",
       "  background-color: var(--sklearn-color-background);\n",
       "  border-radius: 1rem;\n",
       "  height: 1rem;\n",
       "  width: 1rem;\n",
       "  text-decoration: none;\n",
       "  /* unfitted */\n",
       "  color: var(--sklearn-color-unfitted-level-1);\n",
       "  border: var(--sklearn-color-unfitted-level-1) 1pt solid;\n",
       "}\n",
       "\n",
       "#sk-container-id-3 a.estimator_doc_link.fitted {\n",
       "  /* fitted */\n",
       "  border: var(--sklearn-color-fitted-level-1) 1pt solid;\n",
       "  color: var(--sklearn-color-fitted-level-1);\n",
       "}\n",
       "\n",
       "/* On hover */\n",
       "#sk-container-id-3 a.estimator_doc_link:hover {\n",
       "  /* unfitted */\n",
       "  background-color: var(--sklearn-color-unfitted-level-3);\n",
       "  color: var(--sklearn-color-background);\n",
       "  text-decoration: none;\n",
       "}\n",
       "\n",
       "#sk-container-id-3 a.estimator_doc_link.fitted:hover {\n",
       "  /* fitted */\n",
       "  background-color: var(--sklearn-color-fitted-level-3);\n",
       "}\n",
       "</style><div id=\"sk-container-id-3\" class=\"sk-top-container\"><div class=\"sk-text-repr-fallback\"><pre>SVC(C=10, gamma=0.1)</pre><b>In a Jupyter environment, please rerun this cell to show the HTML representation or trust the notebook. <br />On GitHub, the HTML representation is unable to render, please try loading this page with nbviewer.org.</b></div><div class=\"sk-container\" hidden><div class=\"sk-item\"><div class=\"sk-estimator fitted sk-toggleable\"><input class=\"sk-toggleable__control sk-hidden--visually\" id=\"sk-estimator-id-3\" type=\"checkbox\" checked><label for=\"sk-estimator-id-3\" class=\"sk-toggleable__label fitted sk-toggleable__label-arrow fitted\">&nbsp;&nbsp;SVC<a class=\"sk-estimator-doc-link fitted\" rel=\"noreferrer\" target=\"_blank\" href=\"https://scikit-learn.org/1.5/modules/generated/sklearn.svm.SVC.html\">?<span>Documentation for SVC</span></a><span class=\"sk-estimator-doc-link fitted\">i<span>Fitted</span></span></label><div class=\"sk-toggleable__content fitted\"><pre>SVC(C=10, gamma=0.1)</pre></div> </div></div></div></div>"
      ],
      "text/plain": [
       "SVC(C=10, gamma=0.1)"
      ]
     },
     "execution_count": 39,
     "metadata": {},
     "output_type": "execute_result"
    }
   ],
   "source": [
    "# membuat model svc tuning\n",
    "model_svc_tuning = svm.SVC(gamma = 0.1,\n",
    "                           kernel = 'rbf',\n",
    "                           C = 10)\n",
    "\n",
    "# melakukan pelatihan ulang\n",
    "model_svc_tuning.fit(X_train, y_train)"
   ]
  },
  {
   "cell_type": "markdown",
   "id": "ccf53af8",
   "metadata": {},
   "source": [
    "Mari kita lihat performa model hasil tuning untuk memprediksi data train."
   ]
  },
  {
   "cell_type": "code",
   "execution_count": 40,
   "id": "8a9ece5c",
   "metadata": {},
   "outputs": [],
   "source": [
    "# prediksi data train menggunakan model hasil tuning\n",
    "y_pred_train_tuning = model_svc_tuning.predict(X_train)\n",
    "\n",
    "# evaluasi model\n",
    "accuracy_train_tuning = accuracy_score(y_train, y_pred_train_tuning)"
   ]
  },
  {
   "cell_type": "markdown",
   "id": "1c983269",
   "metadata": {},
   "source": [
    "Mari kita lihat performa model hasil tuning untuk memprediksi data test."
   ]
  },
  {
   "cell_type": "code",
   "execution_count": 41,
   "id": "e6146362",
   "metadata": {},
   "outputs": [],
   "source": [
    "# prediksi data test menggunakan model hasil tuning\n",
    "y_pred_test_tuning = model_svc_tuning.predict(X_test)\n",
    "\n",
    "# evaluasi model\n",
    "accuracy_test_tuning = accuracy_score(y_test, y_pred_test_tuning)"
   ]
  },
  {
   "cell_type": "markdown",
   "id": "4a442de8",
   "metadata": {},
   "source": [
    "Mari kita lihat perbandingan performa model data data train dan test sebelum dan sesudah tuning."
   ]
  },
  {
   "cell_type": "code",
   "execution_count": 42,
   "id": "56353d92",
   "metadata": {},
   "outputs": [
    {
     "data": {
      "text/html": [
       "<div>\n",
       "<style scoped>\n",
       "    .dataframe tbody tr th:only-of-type {\n",
       "        vertical-align: middle;\n",
       "    }\n",
       "\n",
       "    .dataframe tbody tr th {\n",
       "        vertical-align: top;\n",
       "    }\n",
       "\n",
       "    .dataframe thead th {\n",
       "        text-align: right;\n",
       "    }\n",
       "</style>\n",
       "<table border=\"1\" class=\"dataframe\">\n",
       "  <thead>\n",
       "    <tr style=\"text-align: right;\">\n",
       "      <th></th>\n",
       "      <th>Accuracy Train</th>\n",
       "      <th>Accuracy Test</th>\n",
       "    </tr>\n",
       "  </thead>\n",
       "  <tbody>\n",
       "    <tr>\n",
       "      <th>Base Model</th>\n",
       "      <td>0.754433</td>\n",
       "      <td>0.777270</td>\n",
       "    </tr>\n",
       "    <tr>\n",
       "      <th>Tuning Model</th>\n",
       "      <td>0.763695</td>\n",
       "      <td>0.778733</td>\n",
       "    </tr>\n",
       "  </tbody>\n",
       "</table>\n",
       "</div>"
      ],
      "text/plain": [
       "              Accuracy Train  Accuracy Test\n",
       "Base Model          0.754433       0.777270\n",
       "Tuning Model        0.763695       0.778733"
      ]
     },
     "execution_count": 42,
     "metadata": {},
     "output_type": "execute_result"
    }
   ],
   "source": [
    "# Menampilkan perbandingan evaluasi model hasil tuning pada data train dan data test\n",
    "pd.DataFrame(data = {\"Accuracy Train\": [accuracy_train, accuracy_test],\n",
    "                     \"Accuracy Test\": [accuracy_train_tuning, accuracy_test_tuning]},\n",
    "             index = [\"Base Model\", 'Tuning Model'])"
   ]
  },
  {
   "cell_type": "markdown",
   "id": "6cae2bd6",
   "metadata": {},
   "source": [
    "**✨ INSIGHT ✨**\n",
    "> - Setelah proses tuning, model kita semakin baik. "
   ]
  },
  {
   "cell_type": "markdown",
   "id": "9627db5a",
   "metadata": {},
   "source": [
    "#  Machine Learning Workflow: Regression"
   ]
  },
  {
   "cell_type": "markdown",
   "id": "6fa7cacc",
   "metadata": {},
   "source": [
    "### Case Study: Diamond Price"
   ]
  },
  {
   "cell_type": "markdown",
   "id": "9c700124",
   "metadata": {},
   "source": [
    "<p align=\"center\">\n",
    "<img src=\"asset/diamonds.png\" alt=\"Turn Over Employee\" width=\"400\">\n",
    "</p>"
   ]
  },
  {
   "cell_type": "markdown",
   "id": "2284a3b4",
   "metadata": {},
   "source": [
    "**❓ Question**: Berapa harga berlian jika diketahui carat, berat, jenis potongan, warna, dan juga tingkat kemurniannya?\n",
    "\n",
    "Pada latihan berikut, kita akan menggunakan dataset diamonds. Dimana dataset ini berisi kolom dari berbagai karakteristik yang dimiliki oleh berlian. Dataset ini mempunyai 9 kolom (carat, cut, color, clarity, x, y, z, depth, table) dan target (harga)."
   ]
  },
  {
   "cell_type": "markdown",
   "id": "64726516",
   "metadata": {},
   "source": [
    "___"
   ]
  },
  {
   "cell_type": "markdown",
   "id": "82e74288",
   "metadata": {},
   "source": [
    "Untuk dapat membuat model machine learning yang dapat memprediksi harga suatu diamonds, kita membutuhkan sebuah program/algoritma. Salah satu library yang akan banyak digunakan untuk kebutuhan machine learning baik algoritma atau dataset di Python adalah `sklearn`. Dokumentasinya ada [di sini](https://scikit-learn.org/stable/)."
   ]
  },
  {
   "cell_type": "code",
   "execution_count": 43,
   "id": "5147094d",
   "metadata": {},
   "outputs": [],
   "source": [
    "# import library untuk membuat model machine larning\n",
    "import sklearn"
   ]
  },
  {
   "cell_type": "markdown",
   "id": "28b02f47",
   "metadata": {},
   "source": [
    "🔻 Mari kita mulai dengan mengimpor library yang diperlukan."
   ]
  },
  {
   "cell_type": "code",
   "execution_count": 44,
   "id": "4e1e6a69",
   "metadata": {},
   "outputs": [],
   "source": [
    "# library untuk mengolah data\n",
    "import pandas as pd\n",
    "import numpy as np\n",
    "\n",
    "# library untuk visualisasi\n",
    "import matplotlib.pyplot as plt"
   ]
  },
  {
   "cell_type": "markdown",
   "id": "bedfac23",
   "metadata": {},
   "source": [
    "### 1. Load Data: Diamonds Dataset"
   ]
  },
  {
   "cell_type": "markdown",
   "id": "6bbe6508",
   "metadata": {},
   "source": [
    "Mari kita baca dataset `data_input/diamonds_clean.csv`"
   ]
  },
  {
   "cell_type": "code",
   "execution_count": 45,
   "id": "44fefd61",
   "metadata": {},
   "outputs": [
    {
     "data": {
      "text/html": [
       "<div>\n",
       "<style scoped>\n",
       "    .dataframe tbody tr th:only-of-type {\n",
       "        vertical-align: middle;\n",
       "    }\n",
       "\n",
       "    .dataframe tbody tr th {\n",
       "        vertical-align: top;\n",
       "    }\n",
       "\n",
       "    .dataframe thead th {\n",
       "        text-align: right;\n",
       "    }\n",
       "</style>\n",
       "<table border=\"1\" class=\"dataframe\">\n",
       "  <thead>\n",
       "    <tr style=\"text-align: right;\">\n",
       "      <th></th>\n",
       "      <th>carat</th>\n",
       "      <th>cut</th>\n",
       "      <th>color</th>\n",
       "      <th>clarity</th>\n",
       "      <th>depth</th>\n",
       "      <th>table</th>\n",
       "      <th>price</th>\n",
       "      <th>x</th>\n",
       "      <th>y</th>\n",
       "      <th>z</th>\n",
       "    </tr>\n",
       "  </thead>\n",
       "  <tbody>\n",
       "    <tr>\n",
       "      <th>0</th>\n",
       "      <td>0.63</td>\n",
       "      <td>Fair</td>\n",
       "      <td>5</td>\n",
       "      <td>VS</td>\n",
       "      <td>65.7</td>\n",
       "      <td>60.0</td>\n",
       "      <td>2011</td>\n",
       "      <td>5.41</td>\n",
       "      <td>5.31</td>\n",
       "      <td>3.52</td>\n",
       "    </tr>\n",
       "    <tr>\n",
       "      <th>1</th>\n",
       "      <td>2.00</td>\n",
       "      <td>Fair</td>\n",
       "      <td>0</td>\n",
       "      <td>SI</td>\n",
       "      <td>66.4</td>\n",
       "      <td>55.0</td>\n",
       "      <td>11189</td>\n",
       "      <td>7.82</td>\n",
       "      <td>7.67</td>\n",
       "      <td>5.15</td>\n",
       "    </tr>\n",
       "    <tr>\n",
       "      <th>2</th>\n",
       "      <td>0.48</td>\n",
       "      <td>Fair</td>\n",
       "      <td>4</td>\n",
       "      <td>SI</td>\n",
       "      <td>56.4</td>\n",
       "      <td>59.0</td>\n",
       "      <td>994</td>\n",
       "      <td>5.28</td>\n",
       "      <td>5.26</td>\n",
       "      <td>2.97</td>\n",
       "    </tr>\n",
       "    <tr>\n",
       "      <th>3</th>\n",
       "      <td>2.04</td>\n",
       "      <td>Fair</td>\n",
       "      <td>1</td>\n",
       "      <td>SI</td>\n",
       "      <td>66.6</td>\n",
       "      <td>56.0</td>\n",
       "      <td>9802</td>\n",
       "      <td>7.80</td>\n",
       "      <td>7.77</td>\n",
       "      <td>5.19</td>\n",
       "    </tr>\n",
       "    <tr>\n",
       "      <th>4</th>\n",
       "      <td>0.71</td>\n",
       "      <td>Fair</td>\n",
       "      <td>0</td>\n",
       "      <td>SI</td>\n",
       "      <td>65.5</td>\n",
       "      <td>61.0</td>\n",
       "      <td>1409</td>\n",
       "      <td>5.54</td>\n",
       "      <td>5.49</td>\n",
       "      <td>3.61</td>\n",
       "    </tr>\n",
       "  </tbody>\n",
       "</table>\n",
       "</div>"
      ],
      "text/plain": [
       "   carat   cut  color clarity  depth  table  price     x     y     z\n",
       "0   0.63  Fair      5      VS   65.7   60.0   2011  5.41  5.31  3.52\n",
       "1   2.00  Fair      0      SI   66.4   55.0  11189  7.82  7.67  5.15\n",
       "2   0.48  Fair      4      SI   56.4   59.0    994  5.28  5.26  2.97\n",
       "3   2.04  Fair      1      SI   66.6   56.0   9802  7.80  7.77  5.19\n",
       "4   0.71  Fair      0      SI   65.5   61.0   1409  5.54  5.49  3.61"
      ]
     },
     "execution_count": 45,
     "metadata": {},
     "output_type": "execute_result"
    }
   ],
   "source": [
    "# load dataset\n",
    "diamonds = pd.read_csv(\"data_input/diamonds-clean.csv\")\n",
    "diamonds.head()"
   ]
  },
  {
   "cell_type": "markdown",
   "id": "ff68de44",
   "metadata": {},
   "source": [
    " 🔎 **Penjelasan Data**\n",
    "\n",
    "_variabel prediktor:_\n",
    "- `carat` $\\rightarrow$ berat berlian (karat).\n",
    "- `cut` $\\rightarrow$ kualitas pemotongan berlian (Fair, Good, Very Good, Premium, Ideal).\n",
    "- `color` $\\rightarrow$ warna berlian (0: worst s.d. 6: best).\n",
    "- `clarity` $\\rightarrow$ tingkat kebersihan berlian (I1 (worst), SI, VS, VVS, IF (best)).\n",
    "- `x` $\\rightarrow$ panjang berlian (mm).\n",
    "- `y` $\\rightarrow$ lebar berlian (mm).\n",
    "- `z` $\\rightarrow$ tinggi berlian (mm).\n",
    "- `depth` $\\rightarrow$ kedalaman berlian, dihitung sebagai rasio antara kedalaman dan rata-rata diameter.\n",
    "- `table` $\\rightarrow$ lebar bagian atas berlian relatif terhadap titik terlebar.\n",
    "\n",
    "_variabel target:_\n",
    "- `price` $\\rightarrow$ Harga berlian (USD)."
   ]
  },
  {
   "cell_type": "markdown",
   "id": "81f31c1f",
   "metadata": {},
   "source": [
    "<div class=\"alert alert-info\">\n",
    "<a href=\"https://www.kaggle.com/datasets/shivam2503/diamonds\"><b>[Diamond Dataset]</b></a> adalah data yang mengandung informasi harga diamonds berdasarkan beberapa karakteristik/ciri fisik dari diamonds tersebut. Tujuan proyek ini adalah <b>memprediksi harga diamonds berdasarkan karakteristiknya</b>.\n",
    "</div>"
   ]
  },
  {
   "cell_type": "markdown",
   "id": "8f7224bd",
   "metadata": {},
   "source": [
    "### 2. Exploratory Data Analysis (EDA)"
   ]
  },
  {
   "cell_type": "markdown",
   "id": "cb45cdad",
   "metadata": {},
   "source": [
    "Tahapan-tahapan yang dapat dilakukan pada EDA antara lain:\n",
    "\n",
    "> - Melihat tipe data, missing value dan data duplikat\n",
    "> - Melihat deskripsi statistik data\n",
    "> - Eksplorasi Lanjutan"
   ]
  },
  {
   "cell_type": "markdown",
   "id": "d2f9d751",
   "metadata": {},
   "source": [
    "#### 2.1 Tipe Data, Missing Value dan Duplikat"
   ]
  },
  {
   "cell_type": "markdown",
   "id": "0e155ef5",
   "metadata": {},
   "source": [
    "##### `1️⃣` Tipe Data\n",
    "\n",
    "Tipe data yang tepat sangat penting sebelum membangun model machine learning. **Kesalahan tipe data dapat menyebabkan misinterpretasi oleh model dan menurunkan performanya.**\n",
    "\n",
    "Contohnya, jika kolom numerik masih dalam bentuk string, model tidak dapat melakukan operasi matematika dan menghasilkan error.\n",
    "\n",
    "Mari kita melihat dan menyesuaikan tipe data dari dataset kita."
   ]
  },
  {
   "cell_type": "code",
   "execution_count": 46,
   "id": "a61d77ee",
   "metadata": {},
   "outputs": [
    {
     "data": {
      "text/plain": [
       "carat      float64\n",
       "cut         object\n",
       "color        int64\n",
       "clarity     object\n",
       "depth      float64\n",
       "table      float64\n",
       "price        int64\n",
       "x          float64\n",
       "y          float64\n",
       "z          float64\n",
       "dtype: object"
      ]
     },
     "execution_count": 46,
     "metadata": {},
     "output_type": "execute_result"
    }
   ],
   "source": [
    "# melihat tipe data tiap kolom\n",
    "diamonds.dtypes"
   ]
  },
  {
   "cell_type": "markdown",
   "id": "ee708b4b",
   "metadata": {},
   "source": [
    "> Terlihat bahwa prediktor `cut`, `clarity` memiliki tipe data `object`. Kita perlu mengubahnya menjadi data `category` menggunakan fungsi `.astype()` yang sudah disediakan oleh python. Prediktor `color` bertipe integer, tetapi valuenya terbatas sehingga masuk perlu diubah juga menjadi data `category`."
   ]
  },
  {
   "cell_type": "code",
   "execution_count": 47,
   "id": "979b3fd9",
   "metadata": {},
   "outputs": [],
   "source": [
    "# list kolom numerik\n",
    "numeric_features = ['carat', 'depth', 'table', 'x', 'y', 'z']\n",
    "\n",
    "# list kolom kategorik\n",
    "category_features = ['cut', 'color', 'clarity']"
   ]
  },
  {
   "cell_type": "code",
   "execution_count": 48,
   "id": "dc651f82",
   "metadata": {},
   "outputs": [
    {
     "data": {
      "text/plain": [
       "carat       float64\n",
       "cut        category\n",
       "color      category\n",
       "clarity    category\n",
       "depth       float64\n",
       "table       float64\n",
       "price         int64\n",
       "x           float64\n",
       "y           float64\n",
       "z           float64\n",
       "dtype: object"
      ]
     },
     "execution_count": 48,
     "metadata": {},
     "output_type": "execute_result"
    }
   ],
   "source": [
    "# mengubah tipe data\n",
    "diamonds[category_features] = diamonds[category_features].astype('category')\n",
    "\n",
    "# menampilkan tipe data\n",
    "diamonds.dtypes"
   ]
  },
  {
   "cell_type": "markdown",
   "id": "6d223511",
   "metadata": {},
   "source": [
    "##### `2️⃣` Missing Value\n",
    "\n",
    "Missing value dapat terjadi karena berbagai alasan. Hal ini dapat memengaruhi performa model atau bahkan menggagalkan proses pemodelan. Oleh karena itu, penting untuk menangani missing value sebelum membangun model.\n",
    "\n",
    " 🔎 **Menangani Missing Value**\n",
    "\n",
    "Untuk treatment missing values sebenarnya ada beberapa cara umum yang bisa digunakan. Antara lain:\n",
    "\n",
    "> - **Imputasi:** Mengisi nilai yang hilang dengan nilai lain: Menggunakan metode `.fillna()`\n",
    "> - **Drop:** Menghapus observasi yang memiliki nilai missing: Menggunakan metode `.dropna()`"
   ]
  },
  {
   "cell_type": "markdown",
   "id": "d2250124",
   "metadata": {},
   "source": [
    "Metode imputasi bisa berbeda tergantung jenis tipe datanya. Berikut detail metode imputasi yang bisa digunakan.\n",
    "\n",
    "**Untuk kolom categorical:**\n",
    "\n",
    "> - Isi menggunakan nilai lainnya seperti `other` atau `missing`\n",
    "> - Isi menggunakan nilai terbanyak yg muncul (`mode`)\n",
    "\n",
    "**Untuk kolom numerical:**\n",
    "\n",
    "> - Isi menggunakan nilai tengah seperti `mean` atau `median`\n",
    "> - Isi dengan nilai 0\n",
    "\n",
    "**Untuk kolom datetime:**\n",
    "\n",
    "> - Menggunakan metode `bfill` : melakukan imputasi dari bawah ke atas\n",
    "> - Menggunakan metode `ffill` : melakukan imputasi dari atas ke bawah"
   ]
  },
  {
   "cell_type": "code",
   "execution_count": 49,
   "id": "fc5c18fc",
   "metadata": {},
   "outputs": [
    {
     "data": {
      "text/plain": [
       "carat      0\n",
       "cut        0\n",
       "color      0\n",
       "clarity    0\n",
       "depth      0\n",
       "table      0\n",
       "price      0\n",
       "x          0\n",
       "y          0\n",
       "z          0\n",
       "dtype: int64"
      ]
     },
     "execution_count": 49,
     "metadata": {},
     "output_type": "execute_result"
    }
   ],
   "source": [
    "# menampilkan missing value tiap kolom (code here)\n",
    "diamonds.isna().sum()"
   ]
  },
  {
   "cell_type": "markdown",
   "id": "2888b93f",
   "metadata": {},
   "source": [
    "##### `3️⃣` Duplicate Value\n",
    "\n",
    "Nilai duplikat adalah baris yang memiliki kesamaan nilai dengan 1 atau lebih baris yang lain.\n",
    "\n",
    "**Nilai duplikat dalam dataset dapat menyebabkan hasil pemodelan yang bias dan tidak akurat karena mementingkan nilai-nilai yang duplikat.**\n",
    "\n",
    "Oleh karena itu, penting untuk mengidentifikasi nilai duplikat sebelum membangun model machine learning."
   ]
  },
  {
   "cell_type": "markdown",
   "id": "7e775e2f",
   "metadata": {},
   "source": [
    "Untuk menangani data yang duplicate, kita bisa menggunakan method `.drop_duplicates()`. Cara ini membuat observasi yang duplicated terhapus dan kita bisa mengatur observasi mana yang akan tetap disimpan. \n",
    "\n",
    "**Case:**\n",
    "\n",
    "Cek apakah ada duplikat pada data `diamonds`. Jika ada, hapus baris yang duplicated. Cek kembali data `diamonds` untuk memastikan data yang duplicate sudah terhapus."
   ]
  },
  {
   "cell_type": "code",
   "execution_count": 50,
   "id": "42a36541",
   "metadata": {},
   "outputs": [
    {
     "data": {
      "text/plain": [
       "0"
      ]
     },
     "execution_count": 50,
     "metadata": {},
     "output_type": "execute_result"
    }
   ],
   "source": [
    "# cek jumlah data duplikat (code here)\n",
    "diamonds.duplicated().sum()"
   ]
  },
  {
   "cell_type": "markdown",
   "id": "fc0e8b17",
   "metadata": {},
   "source": [
    "#### 2.2 Melihat Deskripsi Statistik Data "
   ]
  },
  {
   "cell_type": "markdown",
   "id": "a762e354",
   "metadata": {},
   "source": [
    "Bagaimana karakteristik dari data kita?"
   ]
  },
  {
   "cell_type": "code",
   "execution_count": 51,
   "id": "d258fb65",
   "metadata": {},
   "outputs": [
    {
     "data": {
      "text/html": [
       "<div>\n",
       "<style scoped>\n",
       "    .dataframe tbody tr th:only-of-type {\n",
       "        vertical-align: middle;\n",
       "    }\n",
       "\n",
       "    .dataframe tbody tr th {\n",
       "        vertical-align: top;\n",
       "    }\n",
       "\n",
       "    .dataframe thead th {\n",
       "        text-align: right;\n",
       "    }\n",
       "</style>\n",
       "<table border=\"1\" class=\"dataframe\">\n",
       "  <thead>\n",
       "    <tr style=\"text-align: right;\">\n",
       "      <th></th>\n",
       "      <th>carat</th>\n",
       "      <th>depth</th>\n",
       "      <th>table</th>\n",
       "      <th>price</th>\n",
       "      <th>x</th>\n",
       "      <th>y</th>\n",
       "      <th>z</th>\n",
       "    </tr>\n",
       "  </thead>\n",
       "  <tbody>\n",
       "    <tr>\n",
       "      <th>count</th>\n",
       "      <td>2697.000000</td>\n",
       "      <td>2697.000000</td>\n",
       "      <td>2697.000000</td>\n",
       "      <td>2697.000000</td>\n",
       "      <td>2697.000000</td>\n",
       "      <td>2697.000000</td>\n",
       "      <td>2697.000000</td>\n",
       "    </tr>\n",
       "    <tr>\n",
       "      <th>mean</th>\n",
       "      <td>0.813745</td>\n",
       "      <td>61.793437</td>\n",
       "      <td>57.449462</td>\n",
       "      <td>4068.796440</td>\n",
       "      <td>5.762896</td>\n",
       "      <td>5.765143</td>\n",
       "      <td>3.559132</td>\n",
       "    </tr>\n",
       "    <tr>\n",
       "      <th>std</th>\n",
       "      <td>0.480712</td>\n",
       "      <td>1.440168</td>\n",
       "      <td>2.173359</td>\n",
       "      <td>4117.797273</td>\n",
       "      <td>1.132582</td>\n",
       "      <td>1.124426</td>\n",
       "      <td>0.709357</td>\n",
       "    </tr>\n",
       "    <tr>\n",
       "      <th>min</th>\n",
       "      <td>0.230000</td>\n",
       "      <td>55.800000</td>\n",
       "      <td>49.000000</td>\n",
       "      <td>355.000000</td>\n",
       "      <td>0.000000</td>\n",
       "      <td>0.000000</td>\n",
       "      <td>0.000000</td>\n",
       "    </tr>\n",
       "    <tr>\n",
       "      <th>25%</th>\n",
       "      <td>0.400000</td>\n",
       "      <td>61.100000</td>\n",
       "      <td>56.000000</td>\n",
       "      <td>957.000000</td>\n",
       "      <td>4.730000</td>\n",
       "      <td>4.740000</td>\n",
       "      <td>2.920000</td>\n",
       "    </tr>\n",
       "    <tr>\n",
       "      <th>50%</th>\n",
       "      <td>0.710000</td>\n",
       "      <td>61.900000</td>\n",
       "      <td>57.000000</td>\n",
       "      <td>2488.000000</td>\n",
       "      <td>5.710000</td>\n",
       "      <td>5.730000</td>\n",
       "      <td>3.550000</td>\n",
       "    </tr>\n",
       "    <tr>\n",
       "      <th>75%</th>\n",
       "      <td>1.060000</td>\n",
       "      <td>62.500000</td>\n",
       "      <td>59.000000</td>\n",
       "      <td>5443.000000</td>\n",
       "      <td>6.560000</td>\n",
       "      <td>6.560000</td>\n",
       "      <td>4.050000</td>\n",
       "    </tr>\n",
       "    <tr>\n",
       "      <th>max</th>\n",
       "      <td>3.240000</td>\n",
       "      <td>70.000000</td>\n",
       "      <td>68.000000</td>\n",
       "      <td>18741.000000</td>\n",
       "      <td>9.440000</td>\n",
       "      <td>9.400000</td>\n",
       "      <td>5.850000</td>\n",
       "    </tr>\n",
       "  </tbody>\n",
       "</table>\n",
       "</div>"
      ],
      "text/plain": [
       "             carat        depth        table         price            x  \\\n",
       "count  2697.000000  2697.000000  2697.000000   2697.000000  2697.000000   \n",
       "mean      0.813745    61.793437    57.449462   4068.796440     5.762896   \n",
       "std       0.480712     1.440168     2.173359   4117.797273     1.132582   \n",
       "min       0.230000    55.800000    49.000000    355.000000     0.000000   \n",
       "25%       0.400000    61.100000    56.000000    957.000000     4.730000   \n",
       "50%       0.710000    61.900000    57.000000   2488.000000     5.710000   \n",
       "75%       1.060000    62.500000    59.000000   5443.000000     6.560000   \n",
       "max       3.240000    70.000000    68.000000  18741.000000     9.440000   \n",
       "\n",
       "                 y            z  \n",
       "count  2697.000000  2697.000000  \n",
       "mean      5.765143     3.559132  \n",
       "std       1.124426     0.709357  \n",
       "min       0.000000     0.000000  \n",
       "25%       4.740000     2.920000  \n",
       "50%       5.730000     3.550000  \n",
       "75%       6.560000     4.050000  \n",
       "max       9.400000     5.850000  "
      ]
     },
     "execution_count": 51,
     "metadata": {},
     "output_type": "execute_result"
    }
   ],
   "source": [
    "# melihat statistik dataset (code here)\n",
    "diamonds.describe()"
   ]
  },
  {
   "cell_type": "markdown",
   "id": "377e682d",
   "metadata": {},
   "source": [
    "> **Insight:**\n",
    "- rata-rata berat berlian yaitu 0.81 \n",
    "- Ada data yang memiliki x, y , z = 0. Ini tidak mungkin. Maka harus dihandling."
   ]
  },
  {
   "cell_type": "code",
   "execution_count": 52,
   "id": "70fba19d",
   "metadata": {},
   "outputs": [
    {
     "name": "stdout",
     "output_type": "stream",
     "text": [
      "Jumlah nilai 0 pada \n",
      "x : 1 \n",
      "y : 1 \n",
      "z : 3\n"
     ]
    }
   ],
   "source": [
    "# cek jumlah nilai 0 pada kolom x, y, dan z\n",
    "x = (diamonds['x'] == 0).sum()\n",
    "y = (diamonds['y'] == 0).sum()\n",
    "z = (diamonds['z'] == 0).sum()\n",
    " \n",
    "print(\"Jumlah nilai 0 pada \\nx :\", x, \"\\ny :\", y, \"\\nz :\", z)"
   ]
  },
  {
   "cell_type": "code",
   "execution_count": 53,
   "id": "71747b2b",
   "metadata": {},
   "outputs": [
    {
     "data": {
      "text/html": [
       "<div>\n",
       "<style scoped>\n",
       "    .dataframe tbody tr th:only-of-type {\n",
       "        vertical-align: middle;\n",
       "    }\n",
       "\n",
       "    .dataframe tbody tr th {\n",
       "        vertical-align: top;\n",
       "    }\n",
       "\n",
       "    .dataframe thead th {\n",
       "        text-align: right;\n",
       "    }\n",
       "</style>\n",
       "<table border=\"1\" class=\"dataframe\">\n",
       "  <thead>\n",
       "    <tr style=\"text-align: right;\">\n",
       "      <th></th>\n",
       "      <th>carat</th>\n",
       "      <th>cut</th>\n",
       "      <th>color</th>\n",
       "      <th>clarity</th>\n",
       "      <th>depth</th>\n",
       "      <th>table</th>\n",
       "      <th>price</th>\n",
       "      <th>x</th>\n",
       "      <th>y</th>\n",
       "      <th>z</th>\n",
       "    </tr>\n",
       "  </thead>\n",
       "  <tbody>\n",
       "    <tr>\n",
       "      <th>80</th>\n",
       "      <td>1.50</td>\n",
       "      <td>Good</td>\n",
       "      <td>3</td>\n",
       "      <td>I1</td>\n",
       "      <td>64.0</td>\n",
       "      <td>61.0</td>\n",
       "      <td>4731</td>\n",
       "      <td>7.15</td>\n",
       "      <td>7.04</td>\n",
       "      <td>0.0</td>\n",
       "    </tr>\n",
       "    <tr>\n",
       "      <th>194</th>\n",
       "      <td>0.71</td>\n",
       "      <td>Good</td>\n",
       "      <td>4</td>\n",
       "      <td>SI</td>\n",
       "      <td>64.1</td>\n",
       "      <td>60.0</td>\n",
       "      <td>2130</td>\n",
       "      <td>0.00</td>\n",
       "      <td>0.00</td>\n",
       "      <td>0.0</td>\n",
       "    </tr>\n",
       "    <tr>\n",
       "      <th>1475</th>\n",
       "      <td>2.02</td>\n",
       "      <td>Premium</td>\n",
       "      <td>2</td>\n",
       "      <td>VS</td>\n",
       "      <td>62.7</td>\n",
       "      <td>53.0</td>\n",
       "      <td>18207</td>\n",
       "      <td>8.02</td>\n",
       "      <td>7.95</td>\n",
       "      <td>0.0</td>\n",
       "    </tr>\n",
       "  </tbody>\n",
       "</table>\n",
       "</div>"
      ],
      "text/plain": [
       "      carat      cut color clarity  depth  table  price     x     y    z\n",
       "80     1.50     Good     3      I1   64.0   61.0   4731  7.15  7.04  0.0\n",
       "194    0.71     Good     4      SI   64.1   60.0   2130  0.00  0.00  0.0\n",
       "1475   2.02  Premium     2      VS   62.7   53.0  18207  8.02  7.95  0.0"
      ]
     },
     "execution_count": 53,
     "metadata": {},
     "output_type": "execute_result"
    }
   ],
   "source": [
    "# cek data yang memiliki nilai z = 0 (code here)\n",
    "diamonds[diamonds['z'] == 0]"
   ]
  },
  {
   "cell_type": "markdown",
   "id": "1a6970f3",
   "metadata": {},
   "source": [
    "Pada kasus ini, kita hanya akan menggunakan data diamond yang nilai x, y, dan z nya tidak bernilai 0, dikarenakan:\n",
    "1. Kita mempunyai banyak data yang lainnya, sehingga tidak ada masalah jika kita tidak menggunakan beberapa data.\n",
    "2. Sangat sulit untuk menebak nilai yang seharusnya untuk x, y, z."
   ]
  },
  {
   "cell_type": "code",
   "execution_count": 54,
   "id": "d1654ab3",
   "metadata": {},
   "outputs": [
    {
     "data": {
      "text/html": [
       "<div>\n",
       "<style scoped>\n",
       "    .dataframe tbody tr th:only-of-type {\n",
       "        vertical-align: middle;\n",
       "    }\n",
       "\n",
       "    .dataframe tbody tr th {\n",
       "        vertical-align: top;\n",
       "    }\n",
       "\n",
       "    .dataframe thead th {\n",
       "        text-align: right;\n",
       "    }\n",
       "</style>\n",
       "<table border=\"1\" class=\"dataframe\">\n",
       "  <thead>\n",
       "    <tr style=\"text-align: right;\">\n",
       "      <th></th>\n",
       "      <th>carat</th>\n",
       "      <th>depth</th>\n",
       "      <th>table</th>\n",
       "      <th>price</th>\n",
       "      <th>x</th>\n",
       "      <th>y</th>\n",
       "      <th>z</th>\n",
       "    </tr>\n",
       "  </thead>\n",
       "  <tbody>\n",
       "    <tr>\n",
       "      <th>count</th>\n",
       "      <td>2694.000000</td>\n",
       "      <td>2694.000000</td>\n",
       "      <td>2694.000000</td>\n",
       "      <td>2694.000000</td>\n",
       "      <td>2694.000000</td>\n",
       "      <td>2694.000000</td>\n",
       "      <td>2694.000000</td>\n",
       "    </tr>\n",
       "    <tr>\n",
       "      <th>mean</th>\n",
       "      <td>0.813081</td>\n",
       "      <td>61.791425</td>\n",
       "      <td>57.448849</td>\n",
       "      <td>4064.022272</td>\n",
       "      <td>5.763682</td>\n",
       "      <td>5.765999</td>\n",
       "      <td>3.563096</td>\n",
       "    </tr>\n",
       "    <tr>\n",
       "      <th>std</th>\n",
       "      <td>0.480231</td>\n",
       "      <td>1.439550</td>\n",
       "      <td>2.171244</td>\n",
       "      <td>4110.880302</td>\n",
       "      <td>1.126602</td>\n",
       "      <td>1.118492</td>\n",
       "      <td>0.699729</td>\n",
       "    </tr>\n",
       "    <tr>\n",
       "      <th>min</th>\n",
       "      <td>0.230000</td>\n",
       "      <td>55.800000</td>\n",
       "      <td>49.000000</td>\n",
       "      <td>355.000000</td>\n",
       "      <td>3.830000</td>\n",
       "      <td>3.840000</td>\n",
       "      <td>2.360000</td>\n",
       "    </tr>\n",
       "    <tr>\n",
       "      <th>25%</th>\n",
       "      <td>0.400000</td>\n",
       "      <td>61.100000</td>\n",
       "      <td>56.000000</td>\n",
       "      <td>956.250000</td>\n",
       "      <td>4.730000</td>\n",
       "      <td>4.740000</td>\n",
       "      <td>2.920000</td>\n",
       "    </tr>\n",
       "    <tr>\n",
       "      <th>50%</th>\n",
       "      <td>0.710000</td>\n",
       "      <td>61.900000</td>\n",
       "      <td>57.000000</td>\n",
       "      <td>2486.500000</td>\n",
       "      <td>5.710000</td>\n",
       "      <td>5.730000</td>\n",
       "      <td>3.550000</td>\n",
       "    </tr>\n",
       "    <tr>\n",
       "      <th>75%</th>\n",
       "      <td>1.060000</td>\n",
       "      <td>62.500000</td>\n",
       "      <td>59.000000</td>\n",
       "      <td>5442.000000</td>\n",
       "      <td>6.560000</td>\n",
       "      <td>6.560000</td>\n",
       "      <td>4.050000</td>\n",
       "    </tr>\n",
       "    <tr>\n",
       "      <th>max</th>\n",
       "      <td>3.240000</td>\n",
       "      <td>70.000000</td>\n",
       "      <td>68.000000</td>\n",
       "      <td>18741.000000</td>\n",
       "      <td>9.440000</td>\n",
       "      <td>9.400000</td>\n",
       "      <td>5.850000</td>\n",
       "    </tr>\n",
       "  </tbody>\n",
       "</table>\n",
       "</div>"
      ],
      "text/plain": [
       "             carat        depth        table         price            x  \\\n",
       "count  2694.000000  2694.000000  2694.000000   2694.000000  2694.000000   \n",
       "mean      0.813081    61.791425    57.448849   4064.022272     5.763682   \n",
       "std       0.480231     1.439550     2.171244   4110.880302     1.126602   \n",
       "min       0.230000    55.800000    49.000000    355.000000     3.830000   \n",
       "25%       0.400000    61.100000    56.000000    956.250000     4.730000   \n",
       "50%       0.710000    61.900000    57.000000   2486.500000     5.710000   \n",
       "75%       1.060000    62.500000    59.000000   5442.000000     6.560000   \n",
       "max       3.240000    70.000000    68.000000  18741.000000     9.440000   \n",
       "\n",
       "                 y            z  \n",
       "count  2694.000000  2694.000000  \n",
       "mean      5.765999     3.563096  \n",
       "std       1.118492     0.699729  \n",
       "min       3.840000     2.360000  \n",
       "25%       4.740000     2.920000  \n",
       "50%       5.730000     3.550000  \n",
       "75%       6.560000     4.050000  \n",
       "max       9.400000     5.850000  "
      ]
     },
     "execution_count": 54,
     "metadata": {},
     "output_type": "execute_result"
    }
   ],
   "source": [
    "# spesifikan kondisi yang diinginkan\n",
    "kondisi_1 = (diamonds['x'] != 0)\n",
    "kondisi_2 = (diamonds['y'] != 0)\n",
    "kondisi_3 = (diamonds['z'] != 0)\n",
    "\n",
    "# Menyimpan data diamonds yang tidak memiliki nilai 0 pada kolom x, y, dan z\n",
    "diamonds = diamonds[kondisi_1 & kondisi_2 & kondisi_3]\n",
    "\n",
    "# cek kembali deskripsi dataset\n",
    "diamonds.describe()"
   ]
  },
  {
   "cell_type": "markdown",
   "id": "98a80ea8",
   "metadata": {},
   "source": [
    "Bagaimana dengan data kategorikal?"
   ]
  },
  {
   "cell_type": "code",
   "execution_count": 55,
   "id": "cd0d8ca2",
   "metadata": {},
   "outputs": [
    {
     "data": {
      "text/html": [
       "<div>\n",
       "<style scoped>\n",
       "    .dataframe tbody tr th:only-of-type {\n",
       "        vertical-align: middle;\n",
       "    }\n",
       "\n",
       "    .dataframe tbody tr th {\n",
       "        vertical-align: top;\n",
       "    }\n",
       "\n",
       "    .dataframe thead th {\n",
       "        text-align: right;\n",
       "    }\n",
       "</style>\n",
       "<table border=\"1\" class=\"dataframe\">\n",
       "  <thead>\n",
       "    <tr style=\"text-align: right;\">\n",
       "      <th></th>\n",
       "      <th>cut</th>\n",
       "      <th>color</th>\n",
       "      <th>clarity</th>\n",
       "    </tr>\n",
       "  </thead>\n",
       "  <tbody>\n",
       "    <tr>\n",
       "      <th>count</th>\n",
       "      <td>2694</td>\n",
       "      <td>2694</td>\n",
       "      <td>2694</td>\n",
       "    </tr>\n",
       "    <tr>\n",
       "      <th>unique</th>\n",
       "      <td>5</td>\n",
       "      <td>7</td>\n",
       "      <td>5</td>\n",
       "    </tr>\n",
       "    <tr>\n",
       "      <th>top</th>\n",
       "      <td>Ideal</td>\n",
       "      <td>3</td>\n",
       "      <td>SI</td>\n",
       "    </tr>\n",
       "    <tr>\n",
       "      <th>freq</th>\n",
       "      <td>1078</td>\n",
       "      <td>541</td>\n",
       "      <td>1114</td>\n",
       "    </tr>\n",
       "  </tbody>\n",
       "</table>\n",
       "</div>"
      ],
      "text/plain": [
       "          cut  color clarity\n",
       "count    2694   2694    2694\n",
       "unique      5      7       5\n",
       "top     Ideal      3      SI\n",
       "freq     1078    541    1114"
      ]
     },
     "execution_count": 55,
     "metadata": {},
     "output_type": "execute_result"
    }
   ],
   "source": [
    "# menampilkan data statistik untuk tipe data kategorikal\n",
    "diamonds.describe(include='category')"
   ]
  },
  {
   "cell_type": "markdown",
   "id": "10183a13",
   "metadata": {},
   "source": [
    "> **Insight:**\n",
    "- Jenis pemotongan berlian yang paling banyak yaitu ideal dengan 1078 diamonds.\n",
    "- Tingkat kebersihan diamonds yang paling banyak yaitu SI."
   ]
  },
  {
   "cell_type": "markdown",
   "id": "b1aaa7ae",
   "metadata": {},
   "source": [
    "#### 2.3 Eksplorasi Lanjutan"
   ]
  },
  {
   "cell_type": "markdown",
   "id": "e2f03693",
   "metadata": {},
   "source": [
    "Bagaimana hubungan antara `carat` dengan `price`?"
   ]
  },
  {
   "cell_type": "code",
   "execution_count": 56,
   "id": "055a2303",
   "metadata": {},
   "outputs": [
    {
     "data": {
      "text/plain": [
       "<Axes: xlabel='carat', ylabel='price'>"
      ]
     },
     "execution_count": 56,
     "metadata": {},
     "output_type": "execute_result"
    },
    {
     "data": {
      "image/png": "[encoded data removed]",
      "text/plain": [
       "<Figure size 640x480 with 1 Axes>"
      ]
     },
     "metadata": {},
     "output_type": "display_data"
    }
   ],
   "source": [
    "# menampilkan scatter plot antara kolom carat dan price\n",
    "%matplotlib inline\n",
    "diamonds.plot(x='carat', y='price', kind='scatter')"
   ]
  },
  {
   "cell_type": "markdown",
   "id": "54264f6a",
   "metadata": {},
   "source": [
    "> Insigth:\n",
    "Apakah semakin besar carat maka semakin tinggi juga harganya?\n",
    "\n",
    "> **Jawaban:** Ya. Semakin berat berlian, maka semakin mahal."
   ]
  },
  {
   "cell_type": "markdown",
   "id": "6bcfe0bb",
   "metadata": {},
   "source": [
    "### 3. Data Preprocessing"
   ]
  },
  {
   "cell_type": "markdown",
   "id": "83f02498",
   "metadata": {},
   "source": [
    "Data preprocessing merupakan proses untuk membersihkan data dari data mentah menjadi data yang baik dan lengkap untuk proses modeling. Data yang bersih dan lengkap akan menghasilkan model machine learning yang efektif dan efisien serta memiliki performa yang lebih baik.\n",
    "\n",
    "Proses ini bertujuan untuk mengurangi waktu komputasi dan resource yang dibutuhkan saat proses pembuatan model dan meningkatkan performa model machine learning."
   ]
  },
  {
   "cell_type": "markdown",
   "id": "807fa5a8",
   "metadata": {},
   "source": [
    "Tahapan-tahapan yang dapat dilakukan pada data preprocessing antara lain:\n",
    "\n",
    "> - Menangani data outliers\n",
    "> - Menangani data kategorikal\n",
    "> - Membagi dataset menjadi data train dan test\n",
    "> - Melakukan scaling data"
   ]
  },
  {
   "cell_type": "markdown",
   "id": "7c8c38ca",
   "metadata": {},
   "source": [
    "#### 3.1 Handling Numerical Data: Outliers"
   ]
  },
  {
   "cell_type": "markdown",
   "id": "913d375e",
   "metadata": {},
   "source": [
    "**Menangani outlier penting dalam pemodelan machine learning karena dapat memengaruhi performa model.**\n",
    "\n",
    "Mari kita ingat kembali apa itu outlier. Outlier adalah observasi dengan nilai yang jauh berbeda dari mayoritas data. Hal ini dapat disebabkan oleh kesalahan input, anomali, atau kesalahan perhitungan."
   ]
  },
  {
   "cell_type": "markdown",
   "id": "20c19b99",
   "metadata": {},
   "source": [
    " 🔎 **Menangani Outliers**\n",
    " \n",
    "Ada beberapa cara untuk menangani outliers:\n",
    "1. **Remove outlier**: Menghilangkan dan menghapus keseluruhan outlier.\n",
    "2. **Imputasi**: Mengganti nilai outliers dengan nilai yang diperbolehkan (sesuai kebutuhan).\n",
    "3. ***Scaling***: Teknik untuk mentrasformasi sehingga nilai-nilai outlier ini tidak akan berpengaruh besar terhadap hasil analisis. Teknik scaling bermacam-macam seperti standarisasi dan normalisasi."
   ]
  },
  {
   "cell_type": "markdown",
   "id": "8c62f25e",
   "metadata": {},
   "source": [
    "Mari kita identifikasi nilai outlier pada data kita dengan menggunakan boxplot:"
   ]
  },
  {
   "cell_type": "code",
   "execution_count": 57,
   "id": "1d8eda87",
   "metadata": {},
   "outputs": [
    {
     "data": {
      "text/plain": [
       "carat       float64\n",
       "cut        category\n",
       "color      category\n",
       "clarity    category\n",
       "depth       float64\n",
       "table       float64\n",
       "price         int64\n",
       "x           float64\n",
       "y           float64\n",
       "z           float64\n",
       "dtype: object"
      ]
     },
     "execution_count": 57,
     "metadata": {},
     "output_type": "execute_result"
    }
   ],
   "source": [
    "# melihat tipe data (code here)\n",
    "diamonds.dtypes"
   ]
  },
  {
   "cell_type": "code",
   "execution_count": 58,
   "id": "fde317b2",
   "metadata": {},
   "outputs": [
    {
     "data": {
      "image/png": "[encoded data removed]",
      "text/plain": [
       "<Figure size 640x480 with 1 Axes>"
      ]
     },
     "metadata": {},
     "output_type": "display_data"
    }
   ],
   "source": [
    "# visualisasi boxplot\n",
    "diamonds.boxplot(column=numeric_features)\n",
    "plt.show()"
   ]
  },
  {
   "cell_type": "markdown",
   "id": "53717c3e",
   "metadata": {},
   "source": [
    "**Insight:** \n",
    "Apakah terdapat outlier di data kita atau tidak? jika terdapat berada di kolom apa?\n",
    "\n",
    "> **Jawaban:** Ya"
   ]
  },
  {
   "cell_type": "markdown",
   "id": "32a02a0d",
   "metadata": {},
   "source": [
    "Jika kita membiarkan outlier (kita tidak drop), kita dapat melakukan scaling terhadap data kita, dimana scaling ini dapat menurunkan pengaruh outlier di data kita.\n",
    "\n",
    "> Scaling akan kita bahas setelah train test splitting."
   ]
  },
  {
   "cell_type": "markdown",
   "id": "d8678f2d",
   "metadata": {},
   "source": [
    "#### 3.2 Handling Categorical Data"
   ]
  },
  {
   "cell_type": "markdown",
   "id": "b4b542af",
   "metadata": {},
   "source": [
    "Ingat kembali bahwa terdapat 2 tipe data kategorikal, yaitu Nominal dan Ordinal, dimana:\n",
    "\n",
    "1. **Nominal**: Tidak memiliki urutan (misalnya, kota, warna).\n",
    "2. **Ordinal**: Memiliki urutan (misalnya, tingkat pendidikan, kepuasan).\n",
    "\n",
    "\n",
    "Setelah mengetahui jenis dari data kategori yang kita punyai. Identifikasi kolom-kolom kategorik dataset kita, kolom mana yang termasuk ordinal dan yang termasuk nominal."
   ]
  },
  {
   "cell_type": "code",
   "execution_count": 59,
   "id": "d0f5f5f6",
   "metadata": {},
   "outputs": [
    {
     "data": {
      "text/html": [
       "<div>\n",
       "<style scoped>\n",
       "    .dataframe tbody tr th:only-of-type {\n",
       "        vertical-align: middle;\n",
       "    }\n",
       "\n",
       "    .dataframe tbody tr th {\n",
       "        vertical-align: top;\n",
       "    }\n",
       "\n",
       "    .dataframe thead th {\n",
       "        text-align: right;\n",
       "    }\n",
       "</style>\n",
       "<table border=\"1\" class=\"dataframe\">\n",
       "  <thead>\n",
       "    <tr style=\"text-align: right;\">\n",
       "      <th></th>\n",
       "      <th>carat</th>\n",
       "      <th>cut</th>\n",
       "      <th>color</th>\n",
       "      <th>clarity</th>\n",
       "      <th>depth</th>\n",
       "      <th>table</th>\n",
       "      <th>price</th>\n",
       "      <th>x</th>\n",
       "      <th>y</th>\n",
       "      <th>z</th>\n",
       "    </tr>\n",
       "  </thead>\n",
       "  <tbody>\n",
       "    <tr>\n",
       "      <th>0</th>\n",
       "      <td>0.63</td>\n",
       "      <td>Fair</td>\n",
       "      <td>5</td>\n",
       "      <td>VS</td>\n",
       "      <td>65.7</td>\n",
       "      <td>60.0</td>\n",
       "      <td>2011</td>\n",
       "      <td>5.41</td>\n",
       "      <td>5.31</td>\n",
       "      <td>3.52</td>\n",
       "    </tr>\n",
       "    <tr>\n",
       "      <th>1</th>\n",
       "      <td>2.00</td>\n",
       "      <td>Fair</td>\n",
       "      <td>0</td>\n",
       "      <td>SI</td>\n",
       "      <td>66.4</td>\n",
       "      <td>55.0</td>\n",
       "      <td>11189</td>\n",
       "      <td>7.82</td>\n",
       "      <td>7.67</td>\n",
       "      <td>5.15</td>\n",
       "    </tr>\n",
       "    <tr>\n",
       "      <th>2</th>\n",
       "      <td>0.48</td>\n",
       "      <td>Fair</td>\n",
       "      <td>4</td>\n",
       "      <td>SI</td>\n",
       "      <td>56.4</td>\n",
       "      <td>59.0</td>\n",
       "      <td>994</td>\n",
       "      <td>5.28</td>\n",
       "      <td>5.26</td>\n",
       "      <td>2.97</td>\n",
       "    </tr>\n",
       "    <tr>\n",
       "      <th>3</th>\n",
       "      <td>2.04</td>\n",
       "      <td>Fair</td>\n",
       "      <td>1</td>\n",
       "      <td>SI</td>\n",
       "      <td>66.6</td>\n",
       "      <td>56.0</td>\n",
       "      <td>9802</td>\n",
       "      <td>7.80</td>\n",
       "      <td>7.77</td>\n",
       "      <td>5.19</td>\n",
       "    </tr>\n",
       "    <tr>\n",
       "      <th>4</th>\n",
       "      <td>0.71</td>\n",
       "      <td>Fair</td>\n",
       "      <td>0</td>\n",
       "      <td>SI</td>\n",
       "      <td>65.5</td>\n",
       "      <td>61.0</td>\n",
       "      <td>1409</td>\n",
       "      <td>5.54</td>\n",
       "      <td>5.49</td>\n",
       "      <td>3.61</td>\n",
       "    </tr>\n",
       "  </tbody>\n",
       "</table>\n",
       "</div>"
      ],
      "text/plain": [
       "   carat   cut color clarity  depth  table  price     x     y     z\n",
       "0   0.63  Fair     5      VS   65.7   60.0   2011  5.41  5.31  3.52\n",
       "1   2.00  Fair     0      SI   66.4   55.0  11189  7.82  7.67  5.15\n",
       "2   0.48  Fair     4      SI   56.4   59.0    994  5.28  5.26  2.97\n",
       "3   2.04  Fair     1      SI   66.6   56.0   9802  7.80  7.77  5.19\n",
       "4   0.71  Fair     0      SI   65.5   61.0   1409  5.54  5.49  3.61"
      ]
     },
     "execution_count": 59,
     "metadata": {},
     "output_type": "execute_result"
    }
   ],
   "source": [
    "# menampilkan data\n",
    "diamonds.head()"
   ]
  },
  {
   "cell_type": "markdown",
   "id": "44b9c8a4",
   "metadata": {},
   "source": [
    "Kolom kategorikal:\n",
    "- Nominal: -\n",
    "- Ordinal: cut, color, clarity"
   ]
  },
  {
   "cell_type": "markdown",
   "id": "2063b14e",
   "metadata": {},
   "source": [
    "#### 3.2.1 Handling Categorical Data (Ordinal): Ordinal Encoding"
   ]
  },
  {
   "cell_type": "markdown",
   "id": "71842983",
   "metadata": {},
   "source": [
    "Digunakan untuk kategori bertipe ordinal. Pada ordinal encoding, setiap kategori diubah menjadi sebuah nilai numerik. Nilai numerik diurut berdasarkan tingkat dari kategori tersebut. Mari kita melihat kolom ordinal pada dataset kita."
   ]
  },
  {
   "cell_type": "code",
   "execution_count": 60,
   "id": "7af06731",
   "metadata": {},
   "outputs": [
    {
     "name": "stdout",
     "output_type": "stream",
     "text": [
      "Index(['Fair', 'Good', 'Ideal', 'Premium', 'Very Good'], dtype='object')\n",
      "Index([0, 1, 2, 3, 4, 5, 6], dtype='int64')\n",
      "Index(['I1', 'IF', 'SI', 'VS', 'VVS'], dtype='object')\n"
     ]
    }
   ],
   "source": [
    "# lihat urutan pada kolom kategori\n",
    "for column in category_features:\n",
    "    print(diamonds[column].cat.categories)"
   ]
  },
  {
   "cell_type": "markdown",
   "id": "c54a7b4f",
   "metadata": {},
   "source": [
    "Berdasarkan urutan aslinya, perhatikan bahwa urutan dari kolom `cut` dan `clarity` belum terurut. Maka kita perlu sesuaikan urutannya pada fungsi `.cat.rename_categories()`.\n",
    "\n",
    "Ingat, urutan yang benar adalah sebagai berikut:\n",
    "> - `cut` $\\rightarrow$ Fair, Good, Very Good, Premium, Ideal\n",
    "> - `clarity` $\\rightarrow$ I1, SI, VS, VVS, IF"
   ]
  },
  {
   "cell_type": "code",
   "execution_count": 61,
   "id": "a91c582a",
   "metadata": {},
   "outputs": [
    {
     "data": {
      "text/html": [
       "<div>\n",
       "<style scoped>\n",
       "    .dataframe tbody tr th:only-of-type {\n",
       "        vertical-align: middle;\n",
       "    }\n",
       "\n",
       "    .dataframe tbody tr th {\n",
       "        vertical-align: top;\n",
       "    }\n",
       "\n",
       "    .dataframe thead th {\n",
       "        text-align: right;\n",
       "    }\n",
       "</style>\n",
       "<table border=\"1\" class=\"dataframe\">\n",
       "  <thead>\n",
       "    <tr style=\"text-align: right;\">\n",
       "      <th></th>\n",
       "      <th>carat</th>\n",
       "      <th>cut</th>\n",
       "      <th>color</th>\n",
       "      <th>clarity</th>\n",
       "      <th>depth</th>\n",
       "      <th>table</th>\n",
       "      <th>price</th>\n",
       "      <th>x</th>\n",
       "      <th>y</th>\n",
       "      <th>z</th>\n",
       "    </tr>\n",
       "  </thead>\n",
       "  <tbody>\n",
       "    <tr>\n",
       "      <th>0</th>\n",
       "      <td>0.63</td>\n",
       "      <td>0</td>\n",
       "      <td>5</td>\n",
       "      <td>2</td>\n",
       "      <td>65.7</td>\n",
       "      <td>60.0</td>\n",
       "      <td>2011</td>\n",
       "      <td>5.41</td>\n",
       "      <td>5.31</td>\n",
       "      <td>3.52</td>\n",
       "    </tr>\n",
       "    <tr>\n",
       "      <th>1</th>\n",
       "      <td>2.00</td>\n",
       "      <td>0</td>\n",
       "      <td>0</td>\n",
       "      <td>1</td>\n",
       "      <td>66.4</td>\n",
       "      <td>55.0</td>\n",
       "      <td>11189</td>\n",
       "      <td>7.82</td>\n",
       "      <td>7.67</td>\n",
       "      <td>5.15</td>\n",
       "    </tr>\n",
       "    <tr>\n",
       "      <th>2</th>\n",
       "      <td>0.48</td>\n",
       "      <td>0</td>\n",
       "      <td>4</td>\n",
       "      <td>1</td>\n",
       "      <td>56.4</td>\n",
       "      <td>59.0</td>\n",
       "      <td>994</td>\n",
       "      <td>5.28</td>\n",
       "      <td>5.26</td>\n",
       "      <td>2.97</td>\n",
       "    </tr>\n",
       "    <tr>\n",
       "      <th>3</th>\n",
       "      <td>2.04</td>\n",
       "      <td>0</td>\n",
       "      <td>1</td>\n",
       "      <td>1</td>\n",
       "      <td>66.6</td>\n",
       "      <td>56.0</td>\n",
       "      <td>9802</td>\n",
       "      <td>7.80</td>\n",
       "      <td>7.77</td>\n",
       "      <td>5.19</td>\n",
       "    </tr>\n",
       "    <tr>\n",
       "      <th>4</th>\n",
       "      <td>0.71</td>\n",
       "      <td>0</td>\n",
       "      <td>0</td>\n",
       "      <td>1</td>\n",
       "      <td>65.5</td>\n",
       "      <td>61.0</td>\n",
       "      <td>1409</td>\n",
       "      <td>5.54</td>\n",
       "      <td>5.49</td>\n",
       "      <td>3.61</td>\n",
       "    </tr>\n",
       "  </tbody>\n",
       "</table>\n",
       "</div>"
      ],
      "text/plain": [
       "   carat cut color clarity  depth  table  price     x     y     z\n",
       "0   0.63   0     5       2   65.7   60.0   2011  5.41  5.31  3.52\n",
       "1   2.00   0     0       1   66.4   55.0  11189  7.82  7.67  5.15\n",
       "2   0.48   0     4       1   56.4   59.0    994  5.28  5.26  2.97\n",
       "3   2.04   0     1       1   66.6   56.0   9802  7.80  7.77  5.19\n",
       "4   0.71   0     0       1   65.5   61.0   1409  5.54  5.49  3.61"
      ]
     },
     "execution_count": 61,
     "metadata": {},
     "output_type": "execute_result"
    }
   ],
   "source": [
    "# implementasi encoding\n",
    "diamonds['cut'] = diamonds['cut'].cat.rename_categories([0, 1, 4, 3, 2])\n",
    "diamonds['clarity'] = diamonds['clarity'].cat.rename_categories([0, 4, 1, 2, 3])\n",
    "\n",
    "# melihat data diamonds terbaru\n",
    "diamonds.head()"
   ]
  },
  {
   "cell_type": "markdown",
   "id": "e9683e55",
   "metadata": {},
   "source": [
    "#### 3.3 Train-Test Splitting (*Cross Validation*)\n",
    "\n",
    "*Cross Validation* digunakan untuk membagi dataset menjadi 2 set data.\n",
    "\n",
    "Kita bagi data menjadi 2 kelompok:\n",
    "\n",
    "- **Train** $\\rightarrow$ Digunakan untuk melatih model.\n",
    "- **Test** $\\rightarrow$ Digunakan untuk mengevaluasi performa model (Untuk melihat seberapa baik model memprediksi terhadap data yang tidak digunakan untuk training)"
   ]
  },
  {
   "cell_type": "code",
   "execution_count": 62,
   "id": "d6a10812",
   "metadata": {},
   "outputs": [],
   "source": [
    "# import library untuk membagi dataset (train_test_split)\n",
    "from sklearn.model_selection import train_test_split"
   ]
  },
  {
   "cell_type": "code",
   "execution_count": 63,
   "id": "d157c130",
   "metadata": {},
   "outputs": [
    {
     "data": {
      "text/html": [
       "<div>\n",
       "<style scoped>\n",
       "    .dataframe tbody tr th:only-of-type {\n",
       "        vertical-align: middle;\n",
       "    }\n",
       "\n",
       "    .dataframe tbody tr th {\n",
       "        vertical-align: top;\n",
       "    }\n",
       "\n",
       "    .dataframe thead th {\n",
       "        text-align: right;\n",
       "    }\n",
       "</style>\n",
       "<table border=\"1\" class=\"dataframe\">\n",
       "  <thead>\n",
       "    <tr style=\"text-align: right;\">\n",
       "      <th></th>\n",
       "      <th>carat</th>\n",
       "      <th>cut</th>\n",
       "      <th>color</th>\n",
       "      <th>clarity</th>\n",
       "      <th>depth</th>\n",
       "      <th>table</th>\n",
       "      <th>price</th>\n",
       "      <th>x</th>\n",
       "      <th>y</th>\n",
       "      <th>z</th>\n",
       "    </tr>\n",
       "  </thead>\n",
       "  <tbody>\n",
       "    <tr>\n",
       "      <th>0</th>\n",
       "      <td>0.63</td>\n",
       "      <td>0</td>\n",
       "      <td>5</td>\n",
       "      <td>2</td>\n",
       "      <td>65.7</td>\n",
       "      <td>60.0</td>\n",
       "      <td>2011</td>\n",
       "      <td>5.41</td>\n",
       "      <td>5.31</td>\n",
       "      <td>3.52</td>\n",
       "    </tr>\n",
       "    <tr>\n",
       "      <th>1</th>\n",
       "      <td>2.00</td>\n",
       "      <td>0</td>\n",
       "      <td>0</td>\n",
       "      <td>1</td>\n",
       "      <td>66.4</td>\n",
       "      <td>55.0</td>\n",
       "      <td>11189</td>\n",
       "      <td>7.82</td>\n",
       "      <td>7.67</td>\n",
       "      <td>5.15</td>\n",
       "    </tr>\n",
       "    <tr>\n",
       "      <th>2</th>\n",
       "      <td>0.48</td>\n",
       "      <td>0</td>\n",
       "      <td>4</td>\n",
       "      <td>1</td>\n",
       "      <td>56.4</td>\n",
       "      <td>59.0</td>\n",
       "      <td>994</td>\n",
       "      <td>5.28</td>\n",
       "      <td>5.26</td>\n",
       "      <td>2.97</td>\n",
       "    </tr>\n",
       "    <tr>\n",
       "      <th>3</th>\n",
       "      <td>2.04</td>\n",
       "      <td>0</td>\n",
       "      <td>1</td>\n",
       "      <td>1</td>\n",
       "      <td>66.6</td>\n",
       "      <td>56.0</td>\n",
       "      <td>9802</td>\n",
       "      <td>7.80</td>\n",
       "      <td>7.77</td>\n",
       "      <td>5.19</td>\n",
       "    </tr>\n",
       "    <tr>\n",
       "      <th>4</th>\n",
       "      <td>0.71</td>\n",
       "      <td>0</td>\n",
       "      <td>0</td>\n",
       "      <td>1</td>\n",
       "      <td>65.5</td>\n",
       "      <td>61.0</td>\n",
       "      <td>1409</td>\n",
       "      <td>5.54</td>\n",
       "      <td>5.49</td>\n",
       "      <td>3.61</td>\n",
       "    </tr>\n",
       "  </tbody>\n",
       "</table>\n",
       "</div>"
      ],
      "text/plain": [
       "   carat cut color clarity  depth  table  price     x     y     z\n",
       "0   0.63   0     5       2   65.7   60.0   2011  5.41  5.31  3.52\n",
       "1   2.00   0     0       1   66.4   55.0  11189  7.82  7.67  5.15\n",
       "2   0.48   0     4       1   56.4   59.0    994  5.28  5.26  2.97\n",
       "3   2.04   0     1       1   66.6   56.0   9802  7.80  7.77  5.19\n",
       "4   0.71   0     0       1   65.5   61.0   1409  5.54  5.49  3.61"
      ]
     },
     "execution_count": 63,
     "metadata": {},
     "output_type": "execute_result"
    }
   ],
   "source": [
    "# menampilkan data\n",
    "diamonds.head()"
   ]
  },
  {
   "cell_type": "code",
   "execution_count": 66,
   "id": "332d3a0f",
   "metadata": {},
   "outputs": [],
   "source": [
    "# memilih kolom target\n",
    "y = diamonds['price']\n",
    "\n",
    "# menghapus kolom target sehingga tersisa kolom prediktor\n",
    "X = diamonds.drop(columns=['price'])"
   ]
  },
  {
   "cell_type": "code",
   "execution_count": 67,
   "id": "36674900",
   "metadata": {},
   "outputs": [],
   "source": [
    "# split dataset into training set and test set dengan proporsi 80:20 dan radom_state 100\n",
    "X_train, X_test, y_train, y_test = train_test_split(X, y, test_size=0.20, random_state=100)"
   ]
  },
  {
   "cell_type": "code",
   "execution_count": 68,
   "id": "da0ff1ee",
   "metadata": {},
   "outputs": [
    {
     "data": {
      "text/plain": [
       "(2155, 9)"
      ]
     },
     "execution_count": 68,
     "metadata": {},
     "output_type": "execute_result"
    }
   ],
   "source": [
    "# cek dimensi data train\n",
    "X_train.shape"
   ]
  },
  {
   "cell_type": "code",
   "execution_count": 69,
   "id": "7e1127c0",
   "metadata": {},
   "outputs": [
    {
     "data": {
      "text/plain": [
       "(539, 9)"
      ]
     },
     "execution_count": 69,
     "metadata": {},
     "output_type": "execute_result"
    }
   ],
   "source": [
    "# cek dimensi data test\n",
    "X_test.shape"
   ]
  },
  {
   "cell_type": "markdown",
   "id": "bad5d8b9",
   "metadata": {},
   "source": [
    "#### 3.4 Scaling (*Z Score Nomalization*)"
   ]
  },
  {
   "cell_type": "markdown",
   "id": "18d37572",
   "metadata": {},
   "source": [
    "Pada machine learning, kita dapat menggunakan fungsi `StandardScaler()` dari library `sklearn` untuk mengimplementasikan proses standarisasi. Proses standarisasi terbagi menjadi 2 yaitu:\n",
    "\n",
    "> - Proses `fit()` $\\rightarrow$ proses mencari nilai rata-rata dan standar deviasi tiap prediktor.\n",
    "> - Proses `transform()` $\\rightarrow$ proses implementasi metode Z Score berdasarkan nilai rata-rata dan standar deviasi yang didapat dari proses `fit()`."
   ]
  },
  {
   "cell_type": "code",
   "execution_count": 70,
   "id": "b33be343",
   "metadata": {},
   "outputs": [],
   "source": [
    "# import library untuk scaling\n",
    "from sklearn.preprocessing import StandardScaler"
   ]
  },
  {
   "cell_type": "code",
   "execution_count": 72,
   "id": "15daf1c7",
   "metadata": {},
   "outputs": [],
   "source": [
    "# membuat object dari class StandardScaler()\n",
    "scaler = StandardScaler()\n",
    "\n",
    "# proses fit scaling \n",
    "scaler.fit(X_train[numeric_features])\n",
    "\n",
    "# proses transform scaling\n",
    "X_train[numeric_features] = scaler.transform(X_train[numeric_features])\n",
    "X_test[numeric_features] = scaler.transform(X_test[numeric_features])"
   ]
  },
  {
   "cell_type": "code",
   "execution_count": 73,
   "id": "d1bee19c",
   "metadata": {},
   "outputs": [
    {
     "data": {
      "text/html": [
       "<div>\n",
       "<style scoped>\n",
       "    .dataframe tbody tr th:only-of-type {\n",
       "        vertical-align: middle;\n",
       "    }\n",
       "\n",
       "    .dataframe tbody tr th {\n",
       "        vertical-align: top;\n",
       "    }\n",
       "\n",
       "    .dataframe thead th {\n",
       "        text-align: right;\n",
       "    }\n",
       "</style>\n",
       "<table border=\"1\" class=\"dataframe\">\n",
       "  <thead>\n",
       "    <tr style=\"text-align: right;\">\n",
       "      <th></th>\n",
       "      <th>carat</th>\n",
       "      <th>cut</th>\n",
       "      <th>color</th>\n",
       "      <th>clarity</th>\n",
       "      <th>depth</th>\n",
       "      <th>table</th>\n",
       "      <th>x</th>\n",
       "      <th>y</th>\n",
       "      <th>z</th>\n",
       "    </tr>\n",
       "  </thead>\n",
       "  <tbody>\n",
       "    <tr>\n",
       "      <th>491</th>\n",
       "      <td>0.161936</td>\n",
       "      <td>4</td>\n",
       "      <td>4</td>\n",
       "      <td>2</td>\n",
       "      <td>0.332034</td>\n",
       "      <td>-0.666488</td>\n",
       "      <td>0.347806</td>\n",
       "      <td>0.366105</td>\n",
       "      <td>0.393402</td>\n",
       "    </tr>\n",
       "    <tr>\n",
       "      <th>1168</th>\n",
       "      <td>1.679735</td>\n",
       "      <td>4</td>\n",
       "      <td>3</td>\n",
       "      <td>4</td>\n",
       "      <td>0.401227</td>\n",
       "      <td>-1.128508</td>\n",
       "      <td>1.530827</td>\n",
       "      <td>1.610544</td>\n",
       "      <td>1.611338</td>\n",
       "    </tr>\n",
       "    <tr>\n",
       "      <th>2003</th>\n",
       "      <td>-0.627319</td>\n",
       "      <td>3</td>\n",
       "      <td>2</td>\n",
       "      <td>2</td>\n",
       "      <td>0.470421</td>\n",
       "      <td>0.257552</td>\n",
       "      <td>-0.565556</td>\n",
       "      <td>-0.597897</td>\n",
       "      <td>-0.530549</td>\n",
       "    </tr>\n",
       "    <tr>\n",
       "      <th>1531</th>\n",
       "      <td>-1.032066</td>\n",
       "      <td>3</td>\n",
       "      <td>4</td>\n",
       "      <td>2</td>\n",
       "      <td>-0.221516</td>\n",
       "      <td>-0.666488</td>\n",
       "      <td>-1.183162</td>\n",
       "      <td>-1.255171</td>\n",
       "      <td>-1.230513</td>\n",
       "    </tr>\n",
       "    <tr>\n",
       "      <th>1977</th>\n",
       "      <td>2.428516</td>\n",
       "      <td>3</td>\n",
       "      <td>5</td>\n",
       "      <td>1</td>\n",
       "      <td>-1.397810</td>\n",
       "      <td>0.257552</td>\n",
       "      <td>2.113639</td>\n",
       "      <td>2.092545</td>\n",
       "      <td>1.849326</td>\n",
       "    </tr>\n",
       "  </tbody>\n",
       "</table>\n",
       "</div>"
      ],
      "text/plain": [
       "         carat cut color clarity     depth     table         x         y  \\\n",
       "491   0.161936   4     4       2  0.332034 -0.666488  0.347806  0.366105   \n",
       "1168  1.679735   4     3       4  0.401227 -1.128508  1.530827  1.610544   \n",
       "2003 -0.627319   3     2       2  0.470421  0.257552 -0.565556 -0.597897   \n",
       "1531 -1.032066   3     4       2 -0.221516 -0.666488 -1.183162 -1.255171   \n",
       "1977  2.428516   3     5       1 -1.397810  0.257552  2.113639  2.092545   \n",
       "\n",
       "             z  \n",
       "491   0.393402  \n",
       "1168  1.611338  \n",
       "2003 -0.530549  \n",
       "1531 -1.230513  \n",
       "1977  1.849326  "
      ]
     },
     "execution_count": 73,
     "metadata": {},
     "output_type": "execute_result"
    }
   ],
   "source": [
    "# melihat data setelah proses scaling\n",
    "X_train.head()"
   ]
  },
  {
   "cell_type": "markdown",
   "id": "565591ab",
   "metadata": {},
   "source": [
    "> **💡 NOTES**: Proses fit scaling hanya dilakukan pada data train untuk mencegah kebocoran (leak) pada data test. Hal ini dilakukan agar informasi pada data test benar-benar tidak bocor/tidak diketahui saat pembuatan model sehingga hasil evaluasi model lebih dapat dipertanggung jawabkan."
   ]
  },
  {
   "cell_type": "markdown",
   "id": "27e8bc3e",
   "metadata": {},
   "source": [
    "### 🧪 Knowledge Check: Data Preprocessing"
   ]
  },
  {
   "cell_type": "markdown",
   "id": "a96182af",
   "metadata": {},
   "source": [
    "___\n",
    "1. Apa tujuan dari _train test splitting_?\n",
    "\n",
    "- [ ] Membagi data untuk proses training model saja\n",
    "- [ ] Membagi data untuk proses testing model saja\n",
    "- [X] Membagi data untuk proses training & testing\n",
    "___\n",
    "\n",
    "2. Pernyataan manakah yang benar mengenai tujuan _scaling_ pada data?  (jawaban mungkin lebih dari 1)\n",
    "\n",
    "- [X] Mengurangi efek outlier\n",
    "- [X] Mengurangi waktu saat pelatihan model\n",
    "- [X] Mengurangi pemakaian _resource_ komputer saat pembuatan model\n",
    "___\n",
    "\n",
    "3. Apa yang terjadi jika proses _transform scaling_ hanya dilakukan pada data train?\n",
    "\n",
    "- [X] Performa model pada data test rendah\n",
    "- [ ] Performa model pada data train rendah\n",
    "- [ ] Tidak ada pengaruh terhadap hasil prediksi\n",
    "___"
   ]
  },
  {
   "cell_type": "markdown",
   "id": "501344fe",
   "metadata": {},
   "source": [
    "### 4. Model Building: Support Vector Regressor (SVR)"
   ]
  },
  {
   "cell_type": "markdown",
   "id": "f87ac965",
   "metadata": {},
   "source": [
    "SVM walaupun lebih terkenal pada penggunaan case klasifikasi, namun sebenarnya SVM juga mampu diterapkan untuk kasus regresi dengan sangat baik. (memprediksi nilai yang target variabelnya numerik). \n",
    "\n",
    "Secara simpel SVR akan menghasilkan *hyperplane* yang dapat mengikuti pola data dari target terhadap prediktor. *Hyperplane* ini yang digunakan untuk memprediksi nilai target pada data baru.\n",
    "\n",
    "**Opsional:**\n",
    "\n",
    "Bagimana perbedaan antara *simple linear regression* dengan SVR? Pada *simple linear regression*, model mencoba mendapatkan error sekecil mungkin. Sedangkan pada SVR, model mencoba untuk mentoleransi kesalahan dalam batas yang telah ditentukan, sehingga memiliki kemampuan generalisasi yang baik. \n",
    "\n",
    "<div>\n",
    "<img src=\"asset/lr-svr.png\" width=\"1000\"/>\n",
    "</div>\n",
    "\n",
    "SVR memiliki kelebihan sebagai berikut:\n",
    "- Memiliki kemampuan generalisasi yang sangat baik, dengan akurasi prediksi yang tinggi."
   ]
  },
  {
   "cell_type": "markdown",
   "id": "7e9a61f1",
   "metadata": {},
   "source": [
    "#### 4.1 Implementasi SVR"
   ]
  },
  {
   "cell_type": "markdown",
   "id": "ed1b9bda",
   "metadata": {},
   "source": [
    "🔻Setelah semua proses persiapan data selesai, kini adalah saatnya untuk 'mesin' belajar dan diuji oleh data kita.\n",
    "\n",
    "Langkah-langkah membangun model SVM. \n",
    "> 1. Import library SVR dari SVM.\n",
    "> 2. Buat variabel `model_svr` untuk menyimpan hasil model `SVR()`."
   ]
  },
  {
   "cell_type": "code",
   "execution_count": 74,
   "id": "da8868ed",
   "metadata": {},
   "outputs": [],
   "source": [
    "# import library SVM\n",
    "from sklearn import svm"
   ]
  },
  {
   "cell_type": "code",
   "execution_count": 75,
   "id": "35c29808",
   "metadata": {},
   "outputs": [
    {
     "data": {
      "text/html": [
       "<style>#sk-container-id-4 {\n",
       "  /* Definition of color scheme common for light and dark mode */\n",
       "  --sklearn-color-text: black;\n",
       "  --sklearn-color-line: gray;\n",
       "  /* Definition of color scheme for unfitted estimators */\n",
       "  --sklearn-color-unfitted-level-0: #fff5e6;\n",
       "  --sklearn-color-unfitted-level-1: #f6e4d2;\n",
       "  --sklearn-color-unfitted-level-2: #ffe0b3;\n",
       "  --sklearn-color-unfitted-level-3: chocolate;\n",
       "  /* Definition of color scheme for fitted estimators */\n",
       "  --sklearn-color-fitted-level-0: #f0f8ff;\n",
       "  --sklearn-color-fitted-level-1: #d4ebff;\n",
       "  --sklearn-color-fitted-level-2: #b3dbfd;\n",
       "  --sklearn-color-fitted-level-3: cornflowerblue;\n",
       "\n",
       "  /* Specific color for light theme */\n",
       "  --sklearn-color-text-on-default-background: var(--sg-text-color, var(--theme-code-foreground, var(--jp-content-font-color1, black)));\n",
       "  --sklearn-color-background: var(--sg-background-color, var(--theme-background, var(--jp-layout-color0, white)));\n",
       "  --sklearn-color-border-box: var(--sg-text-color, var(--theme-code-foreground, var(--jp-content-font-color1, black)));\n",
       "  --sklearn-color-icon: #696969;\n",
       "\n",
       "  @media (prefers-color-scheme: dark) {\n",
       "    /* Redefinition of color scheme for dark theme */\n",
       "    --sklearn-color-text-on-default-background: var(--sg-text-color, var(--theme-code-foreground, var(--jp-content-font-color1, white)));\n",
       "    --sklearn-color-background: var(--sg-background-color, var(--theme-background, var(--jp-layout-color0, #111)));\n",
       "    --sklearn-color-border-box: var(--sg-text-color, var(--theme-code-foreground, var(--jp-content-font-color1, white)));\n",
       "    --sklearn-color-icon: #878787;\n",
       "  }\n",
       "}\n",
       "\n",
       "#sk-container-id-4 {\n",
       "  color: var(--sklearn-color-text);\n",
       "}\n",
       "\n",
       "#sk-container-id-4 pre {\n",
       "  padding: 0;\n",
       "}\n",
       "\n",
       "#sk-container-id-4 input.sk-hidden--visually {\n",
       "  border: 0;\n",
       "  clip: rect(1px 1px 1px 1px);\n",
       "  clip: rect(1px, 1px, 1px, 1px);\n",
       "  height: 1px;\n",
       "  margin: -1px;\n",
       "  overflow: hidden;\n",
       "  padding: 0;\n",
       "  position: absolute;\n",
       "  width: 1px;\n",
       "}\n",
       "\n",
       "#sk-container-id-4 div.sk-dashed-wrapped {\n",
       "  border: 1px dashed var(--sklearn-color-line);\n",
       "  margin: 0 0.4em 0.5em 0.4em;\n",
       "  box-sizing: border-box;\n",
       "  padding-bottom: 0.4em;\n",
       "  background-color: var(--sklearn-color-background);\n",
       "}\n",
       "\n",
       "#sk-container-id-4 div.sk-container {\n",
       "  /* jupyter's `normalize.less` sets `[hidden] { display: none; }`\n",
       "     but bootstrap.min.css set `[hidden] { display: none !important; }`\n",
       "     so we also need the `!important` here to be able to override the\n",
       "     default hidden behavior on the sphinx rendered scikit-learn.org.\n",
       "     See: https://github.com/scikit-learn/scikit-learn/issues/21755 */\n",
       "  display: inline-block !important;\n",
       "  position: relative;\n",
       "}\n",
       "\n",
       "#sk-container-id-4 div.sk-text-repr-fallback {\n",
       "  display: none;\n",
       "}\n",
       "\n",
       "div.sk-parallel-item,\n",
       "div.sk-serial,\n",
       "div.sk-item {\n",
       "  /* draw centered vertical line to link estimators */\n",
       "  background-image: linear-gradient(var(--sklearn-color-text-on-default-background), var(--sklearn-color-text-on-default-background));\n",
       "  background-size: 2px 100%;\n",
       "  background-repeat: no-repeat;\n",
       "  background-position: center center;\n",
       "}\n",
       "\n",
       "/* Parallel-specific style estimator block */\n",
       "\n",
       "#sk-container-id-4 div.sk-parallel-item::after {\n",
       "  content: \"\";\n",
       "  width: 100%;\n",
       "  border-bottom: 2px solid var(--sklearn-color-text-on-default-background);\n",
       "  flex-grow: 1;\n",
       "}\n",
       "\n",
       "#sk-container-id-4 div.sk-parallel {\n",
       "  display: flex;\n",
       "  align-items: stretch;\n",
       "  justify-content: center;\n",
       "  background-color: var(--sklearn-color-background);\n",
       "  position: relative;\n",
       "}\n",
       "\n",
       "#sk-container-id-4 div.sk-parallel-item {\n",
       "  display: flex;\n",
       "  flex-direction: column;\n",
       "}\n",
       "\n",
       "#sk-container-id-4 div.sk-parallel-item:first-child::after {\n",
       "  align-self: flex-end;\n",
       "  width: 50%;\n",
       "}\n",
       "\n",
       "#sk-container-id-4 div.sk-parallel-item:last-child::after {\n",
       "  align-self: flex-start;\n",
       "  width: 50%;\n",
       "}\n",
       "\n",
       "#sk-container-id-4 div.sk-parallel-item:only-child::after {\n",
       "  width: 0;\n",
       "}\n",
       "\n",
       "/* Serial-specific style estimator block */\n",
       "\n",
       "#sk-container-id-4 div.sk-serial {\n",
       "  display: flex;\n",
       "  flex-direction: column;\n",
       "  align-items: center;\n",
       "  background-color: var(--sklearn-color-background);\n",
       "  padding-right: 1em;\n",
       "  padding-left: 1em;\n",
       "}\n",
       "\n",
       "\n",
       "/* Toggleable style: style used for estimator/Pipeline/ColumnTransformer box that is\n",
       "clickable and can be expanded/collapsed.\n",
       "- Pipeline and ColumnTransformer use this feature and define the default style\n",
       "- Estimators will overwrite some part of the style using the `sk-estimator` class\n",
       "*/\n",
       "\n",
       "/* Pipeline and ColumnTransformer style (default) */\n",
       "\n",
       "#sk-container-id-4 div.sk-toggleable {\n",
       "  /* Default theme specific background. It is overwritten whether we have a\n",
       "  specific estimator or a Pipeline/ColumnTransformer */\n",
       "  background-color: var(--sklearn-color-background);\n",
       "}\n",
       "\n",
       "/* Toggleable label */\n",
       "#sk-container-id-4 label.sk-toggleable__label {\n",
       "  cursor: pointer;\n",
       "  display: block;\n",
       "  width: 100%;\n",
       "  margin-bottom: 0;\n",
       "  padding: 0.5em;\n",
       "  box-sizing: border-box;\n",
       "  text-align: center;\n",
       "}\n",
       "\n",
       "#sk-container-id-4 label.sk-toggleable__label-arrow:before {\n",
       "  /* Arrow on the left of the label */\n",
       "  content: \"▸\";\n",
       "  float: left;\n",
       "  margin-right: 0.25em;\n",
       "  color: var(--sklearn-color-icon);\n",
       "}\n",
       "\n",
       "#sk-container-id-4 label.sk-toggleable__label-arrow:hover:before {\n",
       "  color: var(--sklearn-color-text);\n",
       "}\n",
       "\n",
       "/* Toggleable content - dropdown */\n",
       "\n",
       "#sk-container-id-4 div.sk-toggleable__content {\n",
       "  max-height: 0;\n",
       "  max-width: 0;\n",
       "  overflow: hidden;\n",
       "  text-align: left;\n",
       "  /* unfitted */\n",
       "  background-color: var(--sklearn-color-unfitted-level-0);\n",
       "}\n",
       "\n",
       "#sk-container-id-4 div.sk-toggleable__content.fitted {\n",
       "  /* fitted */\n",
       "  background-color: var(--sklearn-color-fitted-level-0);\n",
       "}\n",
       "\n",
       "#sk-container-id-4 div.sk-toggleable__content pre {\n",
       "  margin: 0.2em;\n",
       "  border-radius: 0.25em;\n",
       "  color: var(--sklearn-color-text);\n",
       "  /* unfitted */\n",
       "  background-color: var(--sklearn-color-unfitted-level-0);\n",
       "}\n",
       "\n",
       "#sk-container-id-4 div.sk-toggleable__content.fitted pre {\n",
       "  /* unfitted */\n",
       "  background-color: var(--sklearn-color-fitted-level-0);\n",
       "}\n",
       "\n",
       "#sk-container-id-4 input.sk-toggleable__control:checked~div.sk-toggleable__content {\n",
       "  /* Expand drop-down */\n",
       "  max-height: 200px;\n",
       "  max-width: 100%;\n",
       "  overflow: auto;\n",
       "}\n",
       "\n",
       "#sk-container-id-4 input.sk-toggleable__control:checked~label.sk-toggleable__label-arrow:before {\n",
       "  content: \"▾\";\n",
       "}\n",
       "\n",
       "/* Pipeline/ColumnTransformer-specific style */\n",
       "\n",
       "#sk-container-id-4 div.sk-label input.sk-toggleable__control:checked~label.sk-toggleable__label {\n",
       "  color: var(--sklearn-color-text);\n",
       "  background-color: var(--sklearn-color-unfitted-level-2);\n",
       "}\n",
       "\n",
       "#sk-container-id-4 div.sk-label.fitted input.sk-toggleable__control:checked~label.sk-toggleable__label {\n",
       "  background-color: var(--sklearn-color-fitted-level-2);\n",
       "}\n",
       "\n",
       "/* Estimator-specific style */\n",
       "\n",
       "/* Colorize estimator box */\n",
       "#sk-container-id-4 div.sk-estimator input.sk-toggleable__control:checked~label.sk-toggleable__label {\n",
       "  /* unfitted */\n",
       "  background-color: var(--sklearn-color-unfitted-level-2);\n",
       "}\n",
       "\n",
       "#sk-container-id-4 div.sk-estimator.fitted input.sk-toggleable__control:checked~label.sk-toggleable__label {\n",
       "  /* fitted */\n",
       "  background-color: var(--sklearn-color-fitted-level-2);\n",
       "}\n",
       "\n",
       "#sk-container-id-4 div.sk-label label.sk-toggleable__label,\n",
       "#sk-container-id-4 div.sk-label label {\n",
       "  /* The background is the default theme color */\n",
       "  color: var(--sklearn-color-text-on-default-background);\n",
       "}\n",
       "\n",
       "/* On hover, darken the color of the background */\n",
       "#sk-container-id-4 div.sk-label:hover label.sk-toggleable__label {\n",
       "  color: var(--sklearn-color-text);\n",
       "  background-color: var(--sklearn-color-unfitted-level-2);\n",
       "}\n",
       "\n",
       "/* Label box, darken color on hover, fitted */\n",
       "#sk-container-id-4 div.sk-label.fitted:hover label.sk-toggleable__label.fitted {\n",
       "  color: var(--sklearn-color-text);\n",
       "  background-color: var(--sklearn-color-fitted-level-2);\n",
       "}\n",
       "\n",
       "/* Estimator label */\n",
       "\n",
       "#sk-container-id-4 div.sk-label label {\n",
       "  font-family: monospace;\n",
       "  font-weight: bold;\n",
       "  display: inline-block;\n",
       "  line-height: 1.2em;\n",
       "}\n",
       "\n",
       "#sk-container-id-4 div.sk-label-container {\n",
       "  text-align: center;\n",
       "}\n",
       "\n",
       "/* Estimator-specific */\n",
       "#sk-container-id-4 div.sk-estimator {\n",
       "  font-family: monospace;\n",
       "  border: 1px dotted var(--sklearn-color-border-box);\n",
       "  border-radius: 0.25em;\n",
       "  box-sizing: border-box;\n",
       "  margin-bottom: 0.5em;\n",
       "  /* unfitted */\n",
       "  background-color: var(--sklearn-color-unfitted-level-0);\n",
       "}\n",
       "\n",
       "#sk-container-id-4 div.sk-estimator.fitted {\n",
       "  /* fitted */\n",
       "  background-color: var(--sklearn-color-fitted-level-0);\n",
       "}\n",
       "\n",
       "/* on hover */\n",
       "#sk-container-id-4 div.sk-estimator:hover {\n",
       "  /* unfitted */\n",
       "  background-color: var(--sklearn-color-unfitted-level-2);\n",
       "}\n",
       "\n",
       "#sk-container-id-4 div.sk-estimator.fitted:hover {\n",
       "  /* fitted */\n",
       "  background-color: var(--sklearn-color-fitted-level-2);\n",
       "}\n",
       "\n",
       "/* Specification for estimator info (e.g. \"i\" and \"?\") */\n",
       "\n",
       "/* Common style for \"i\" and \"?\" */\n",
       "\n",
       ".sk-estimator-doc-link,\n",
       "a:link.sk-estimator-doc-link,\n",
       "a:visited.sk-estimator-doc-link {\n",
       "  float: right;\n",
       "  font-size: smaller;\n",
       "  line-height: 1em;\n",
       "  font-family: monospace;\n",
       "  background-color: var(--sklearn-color-background);\n",
       "  border-radius: 1em;\n",
       "  height: 1em;\n",
       "  width: 1em;\n",
       "  text-decoration: none !important;\n",
       "  margin-left: 1ex;\n",
       "  /* unfitted */\n",
       "  border: var(--sklearn-color-unfitted-level-1) 1pt solid;\n",
       "  color: var(--sklearn-color-unfitted-level-1);\n",
       "}\n",
       "\n",
       ".sk-estimator-doc-link.fitted,\n",
       "a:link.sk-estimator-doc-link.fitted,\n",
       "a:visited.sk-estimator-doc-link.fitted {\n",
       "  /* fitted */\n",
       "  border: var(--sklearn-color-fitted-level-1) 1pt solid;\n",
       "  color: var(--sklearn-color-fitted-level-1);\n",
       "}\n",
       "\n",
       "/* On hover */\n",
       "div.sk-estimator:hover .sk-estimator-doc-link:hover,\n",
       ".sk-estimator-doc-link:hover,\n",
       "div.sk-label-container:hover .sk-estimator-doc-link:hover,\n",
       ".sk-estimator-doc-link:hover {\n",
       "  /* unfitted */\n",
       "  background-color: var(--sklearn-color-unfitted-level-3);\n",
       "  color: var(--sklearn-color-background);\n",
       "  text-decoration: none;\n",
       "}\n",
       "\n",
       "div.sk-estimator.fitted:hover .sk-estimator-doc-link.fitted:hover,\n",
       ".sk-estimator-doc-link.fitted:hover,\n",
       "div.sk-label-container:hover .sk-estimator-doc-link.fitted:hover,\n",
       ".sk-estimator-doc-link.fitted:hover {\n",
       "  /* fitted */\n",
       "  background-color: var(--sklearn-color-fitted-level-3);\n",
       "  color: var(--sklearn-color-background);\n",
       "  text-decoration: none;\n",
       "}\n",
       "\n",
       "/* Span, style for the box shown on hovering the info icon */\n",
       ".sk-estimator-doc-link span {\n",
       "  display: none;\n",
       "  z-index: 9999;\n",
       "  position: relative;\n",
       "  font-weight: normal;\n",
       "  right: .2ex;\n",
       "  padding: .5ex;\n",
       "  margin: .5ex;\n",
       "  width: min-content;\n",
       "  min-width: 20ex;\n",
       "  max-width: 50ex;\n",
       "  color: var(--sklearn-color-text);\n",
       "  box-shadow: 2pt 2pt 4pt #999;\n",
       "  /* unfitted */\n",
       "  background: var(--sklearn-color-unfitted-level-0);\n",
       "  border: .5pt solid var(--sklearn-color-unfitted-level-3);\n",
       "}\n",
       "\n",
       ".sk-estimator-doc-link.fitted span {\n",
       "  /* fitted */\n",
       "  background: var(--sklearn-color-fitted-level-0);\n",
       "  border: var(--sklearn-color-fitted-level-3);\n",
       "}\n",
       "\n",
       ".sk-estimator-doc-link:hover span {\n",
       "  display: block;\n",
       "}\n",
       "\n",
       "/* \"?\"-specific style due to the `<a>` HTML tag */\n",
       "\n",
       "#sk-container-id-4 a.estimator_doc_link {\n",
       "  float: right;\n",
       "  font-size: 1rem;\n",
       "  line-height: 1em;\n",
       "  font-family: monospace;\n",
       "  background-color: var(--sklearn-color-background);\n",
       "  border-radius: 1rem;\n",
       "  height: 1rem;\n",
       "  width: 1rem;\n",
       "  text-decoration: none;\n",
       "  /* unfitted */\n",
       "  color: var(--sklearn-color-unfitted-level-1);\n",
       "  border: var(--sklearn-color-unfitted-level-1) 1pt solid;\n",
       "}\n",
       "\n",
       "#sk-container-id-4 a.estimator_doc_link.fitted {\n",
       "  /* fitted */\n",
       "  border: var(--sklearn-color-fitted-level-1) 1pt solid;\n",
       "  color: var(--sklearn-color-fitted-level-1);\n",
       "}\n",
       "\n",
       "/* On hover */\n",
       "#sk-container-id-4 a.estimator_doc_link:hover {\n",
       "  /* unfitted */\n",
       "  background-color: var(--sklearn-color-unfitted-level-3);\n",
       "  color: var(--sklearn-color-background);\n",
       "  text-decoration: none;\n",
       "}\n",
       "\n",
       "#sk-container-id-4 a.estimator_doc_link.fitted:hover {\n",
       "  /* fitted */\n",
       "  background-color: var(--sklearn-color-fitted-level-3);\n",
       "}\n",
       "</style><div id=\"sk-container-id-4\" class=\"sk-top-container\"><div class=\"sk-text-repr-fallback\"><pre>SVR()</pre><b>In a Jupyter environment, please rerun this cell to show the HTML representation or trust the notebook. <br />On GitHub, the HTML representation is unable to render, please try loading this page with nbviewer.org.</b></div><div class=\"sk-container\" hidden><div class=\"sk-item\"><div class=\"sk-estimator  sk-toggleable\"><input class=\"sk-toggleable__control sk-hidden--visually\" id=\"sk-estimator-id-4\" type=\"checkbox\" checked><label for=\"sk-estimator-id-4\" class=\"sk-toggleable__label  sk-toggleable__label-arrow \">&nbsp;&nbsp;SVR<a class=\"sk-estimator-doc-link \" rel=\"noreferrer\" target=\"_blank\" href=\"https://scikit-learn.org/1.5/modules/generated/sklearn.svm.SVR.html\">?<span>Documentation for SVR</span></a><span class=\"sk-estimator-doc-link \">i<span>Not fitted</span></span></label><div class=\"sk-toggleable__content \"><pre>SVR()</pre></div> </div></div></div></div>"
      ],
      "text/plain": [
       "SVR()"
      ]
     },
     "execution_count": 75,
     "metadata": {},
     "output_type": "execute_result"
    }
   ],
   "source": [
    "# membuat object SVR\n",
    "model_svr = svm.SVR()\n",
    "model_svr"
   ]
  },
  {
   "cell_type": "markdown",
   "id": "81da1d12",
   "metadata": {},
   "source": [
    "**💡NOTES**: Tahapan ini adalah masih pada pembuatan objek algoritma/metode/mesin yang masih kosong belum belajar (ditandai dengan warna kuning dan keterangan _not fitted_)"
   ]
  },
  {
   "cell_type": "markdown",
   "id": "14f1a663",
   "metadata": {},
   "source": [
    "🔻 Metode `.fit()` menggunakan data train sebagai argumen, yang dapat berupa fitur dan target untuk learning dalam kasus klasifikasi dan regresi.\n",
    "\n",
    "Parameter `.fit()`:\n",
    "- `X`: Dataframe kolom prediktor $\\rightarrow$ `X_train` (prediktor data train)\n",
    "- `y`: Dataframe kolom target $\\rightarrow$ `y_train` (target data train)"
   ]
  },
  {
   "cell_type": "code",
   "execution_count": 76,
   "id": "aa25870f",
   "metadata": {},
   "outputs": [
    {
     "data": {
      "text/html": [
       "<style>#sk-container-id-5 {\n",
       "  /* Definition of color scheme common for light and dark mode */\n",
       "  --sklearn-color-text: black;\n",
       "  --sklearn-color-line: gray;\n",
       "  /* Definition of color scheme for unfitted estimators */\n",
       "  --sklearn-color-unfitted-level-0: #fff5e6;\n",
       "  --sklearn-color-unfitted-level-1: #f6e4d2;\n",
       "  --sklearn-color-unfitted-level-2: #ffe0b3;\n",
       "  --sklearn-color-unfitted-level-3: chocolate;\n",
       "  /* Definition of color scheme for fitted estimators */\n",
       "  --sklearn-color-fitted-level-0: #f0f8ff;\n",
       "  --sklearn-color-fitted-level-1: #d4ebff;\n",
       "  --sklearn-color-fitted-level-2: #b3dbfd;\n",
       "  --sklearn-color-fitted-level-3: cornflowerblue;\n",
       "\n",
       "  /* Specific color for light theme */\n",
       "  --sklearn-color-text-on-default-background: var(--sg-text-color, var(--theme-code-foreground, var(--jp-content-font-color1, black)));\n",
       "  --sklearn-color-background: var(--sg-background-color, var(--theme-background, var(--jp-layout-color0, white)));\n",
       "  --sklearn-color-border-box: var(--sg-text-color, var(--theme-code-foreground, var(--jp-content-font-color1, black)));\n",
       "  --sklearn-color-icon: #696969;\n",
       "\n",
       "  @media (prefers-color-scheme: dark) {\n",
       "    /* Redefinition of color scheme for dark theme */\n",
       "    --sklearn-color-text-on-default-background: var(--sg-text-color, var(--theme-code-foreground, var(--jp-content-font-color1, white)));\n",
       "    --sklearn-color-background: var(--sg-background-color, var(--theme-background, var(--jp-layout-color0, #111)));\n",
       "    --sklearn-color-border-box: var(--sg-text-color, var(--theme-code-foreground, var(--jp-content-font-color1, white)));\n",
       "    --sklearn-color-icon: #878787;\n",
       "  }\n",
       "}\n",
       "\n",
       "#sk-container-id-5 {\n",
       "  color: var(--sklearn-color-text);\n",
       "}\n",
       "\n",
       "#sk-container-id-5 pre {\n",
       "  padding: 0;\n",
       "}\n",
       "\n",
       "#sk-container-id-5 input.sk-hidden--visually {\n",
       "  border: 0;\n",
       "  clip: rect(1px 1px 1px 1px);\n",
       "  clip: rect(1px, 1px, 1px, 1px);\n",
       "  height: 1px;\n",
       "  margin: -1px;\n",
       "  overflow: hidden;\n",
       "  padding: 0;\n",
       "  position: absolute;\n",
       "  width: 1px;\n",
       "}\n",
       "\n",
       "#sk-container-id-5 div.sk-dashed-wrapped {\n",
       "  border: 1px dashed var(--sklearn-color-line);\n",
       "  margin: 0 0.4em 0.5em 0.4em;\n",
       "  box-sizing: border-box;\n",
       "  padding-bottom: 0.4em;\n",
       "  background-color: var(--sklearn-color-background);\n",
       "}\n",
       "\n",
       "#sk-container-id-5 div.sk-container {\n",
       "  /* jupyter's `normalize.less` sets `[hidden] { display: none; }`\n",
       "     but bootstrap.min.css set `[hidden] { display: none !important; }`\n",
       "     so we also need the `!important` here to be able to override the\n",
       "     default hidden behavior on the sphinx rendered scikit-learn.org.\n",
       "     See: https://github.com/scikit-learn/scikit-learn/issues/21755 */\n",
       "  display: inline-block !important;\n",
       "  position: relative;\n",
       "}\n",
       "\n",
       "#sk-container-id-5 div.sk-text-repr-fallback {\n",
       "  display: none;\n",
       "}\n",
       "\n",
       "div.sk-parallel-item,\n",
       "div.sk-serial,\n",
       "div.sk-item {\n",
       "  /* draw centered vertical line to link estimators */\n",
       "  background-image: linear-gradient(var(--sklearn-color-text-on-default-background), var(--sklearn-color-text-on-default-background));\n",
       "  background-size: 2px 100%;\n",
       "  background-repeat: no-repeat;\n",
       "  background-position: center center;\n",
       "}\n",
       "\n",
       "/* Parallel-specific style estimator block */\n",
       "\n",
       "#sk-container-id-5 div.sk-parallel-item::after {\n",
       "  content: \"\";\n",
       "  width: 100%;\n",
       "  border-bottom: 2px solid var(--sklearn-color-text-on-default-background);\n",
       "  flex-grow: 1;\n",
       "}\n",
       "\n",
       "#sk-container-id-5 div.sk-parallel {\n",
       "  display: flex;\n",
       "  align-items: stretch;\n",
       "  justify-content: center;\n",
       "  background-color: var(--sklearn-color-background);\n",
       "  position: relative;\n",
       "}\n",
       "\n",
       "#sk-container-id-5 div.sk-parallel-item {\n",
       "  display: flex;\n",
       "  flex-direction: column;\n",
       "}\n",
       "\n",
       "#sk-container-id-5 div.sk-parallel-item:first-child::after {\n",
       "  align-self: flex-end;\n",
       "  width: 50%;\n",
       "}\n",
       "\n",
       "#sk-container-id-5 div.sk-parallel-item:last-child::after {\n",
       "  align-self: flex-start;\n",
       "  width: 50%;\n",
       "}\n",
       "\n",
       "#sk-container-id-5 div.sk-parallel-item:only-child::after {\n",
       "  width: 0;\n",
       "}\n",
       "\n",
       "/* Serial-specific style estimator block */\n",
       "\n",
       "#sk-container-id-5 div.sk-serial {\n",
       "  display: flex;\n",
       "  flex-direction: column;\n",
       "  align-items: center;\n",
       "  background-color: var(--sklearn-color-background);\n",
       "  padding-right: 1em;\n",
       "  padding-left: 1em;\n",
       "}\n",
       "\n",
       "\n",
       "/* Toggleable style: style used for estimator/Pipeline/ColumnTransformer box that is\n",
       "clickable and can be expanded/collapsed.\n",
       "- Pipeline and ColumnTransformer use this feature and define the default style\n",
       "- Estimators will overwrite some part of the style using the `sk-estimator` class\n",
       "*/\n",
       "\n",
       "/* Pipeline and ColumnTransformer style (default) */\n",
       "\n",
       "#sk-container-id-5 div.sk-toggleable {\n",
       "  /* Default theme specific background. It is overwritten whether we have a\n",
       "  specific estimator or a Pipeline/ColumnTransformer */\n",
       "  background-color: var(--sklearn-color-background);\n",
       "}\n",
       "\n",
       "/* Toggleable label */\n",
       "#sk-container-id-5 label.sk-toggleable__label {\n",
       "  cursor: pointer;\n",
       "  display: block;\n",
       "  width: 100%;\n",
       "  margin-bottom: 0;\n",
       "  padding: 0.5em;\n",
       "  box-sizing: border-box;\n",
       "  text-align: center;\n",
       "}\n",
       "\n",
       "#sk-container-id-5 label.sk-toggleable__label-arrow:before {\n",
       "  /* Arrow on the left of the label */\n",
       "  content: \"▸\";\n",
       "  float: left;\n",
       "  margin-right: 0.25em;\n",
       "  color: var(--sklearn-color-icon);\n",
       "}\n",
       "\n",
       "#sk-container-id-5 label.sk-toggleable__label-arrow:hover:before {\n",
       "  color: var(--sklearn-color-text);\n",
       "}\n",
       "\n",
       "/* Toggleable content - dropdown */\n",
       "\n",
       "#sk-container-id-5 div.sk-toggleable__content {\n",
       "  max-height: 0;\n",
       "  max-width: 0;\n",
       "  overflow: hidden;\n",
       "  text-align: left;\n",
       "  /* unfitted */\n",
       "  background-color: var(--sklearn-color-unfitted-level-0);\n",
       "}\n",
       "\n",
       "#sk-container-id-5 div.sk-toggleable__content.fitted {\n",
       "  /* fitted */\n",
       "  background-color: var(--sklearn-color-fitted-level-0);\n",
       "}\n",
       "\n",
       "#sk-container-id-5 div.sk-toggleable__content pre {\n",
       "  margin: 0.2em;\n",
       "  border-radius: 0.25em;\n",
       "  color: var(--sklearn-color-text);\n",
       "  /* unfitted */\n",
       "  background-color: var(--sklearn-color-unfitted-level-0);\n",
       "}\n",
       "\n",
       "#sk-container-id-5 div.sk-toggleable__content.fitted pre {\n",
       "  /* unfitted */\n",
       "  background-color: var(--sklearn-color-fitted-level-0);\n",
       "}\n",
       "\n",
       "#sk-container-id-5 input.sk-toggleable__control:checked~div.sk-toggleable__content {\n",
       "  /* Expand drop-down */\n",
       "  max-height: 200px;\n",
       "  max-width: 100%;\n",
       "  overflow: auto;\n",
       "}\n",
       "\n",
       "#sk-container-id-5 input.sk-toggleable__control:checked~label.sk-toggleable__label-arrow:before {\n",
       "  content: \"▾\";\n",
       "}\n",
       "\n",
       "/* Pipeline/ColumnTransformer-specific style */\n",
       "\n",
       "#sk-container-id-5 div.sk-label input.sk-toggleable__control:checked~label.sk-toggleable__label {\n",
       "  color: var(--sklearn-color-text);\n",
       "  background-color: var(--sklearn-color-unfitted-level-2);\n",
       "}\n",
       "\n",
       "#sk-container-id-5 div.sk-label.fitted input.sk-toggleable__control:checked~label.sk-toggleable__label {\n",
       "  background-color: var(--sklearn-color-fitted-level-2);\n",
       "}\n",
       "\n",
       "/* Estimator-specific style */\n",
       "\n",
       "/* Colorize estimator box */\n",
       "#sk-container-id-5 div.sk-estimator input.sk-toggleable__control:checked~label.sk-toggleable__label {\n",
       "  /* unfitted */\n",
       "  background-color: var(--sklearn-color-unfitted-level-2);\n",
       "}\n",
       "\n",
       "#sk-container-id-5 div.sk-estimator.fitted input.sk-toggleable__control:checked~label.sk-toggleable__label {\n",
       "  /* fitted */\n",
       "  background-color: var(--sklearn-color-fitted-level-2);\n",
       "}\n",
       "\n",
       "#sk-container-id-5 div.sk-label label.sk-toggleable__label,\n",
       "#sk-container-id-5 div.sk-label label {\n",
       "  /* The background is the default theme color */\n",
       "  color: var(--sklearn-color-text-on-default-background);\n",
       "}\n",
       "\n",
       "/* On hover, darken the color of the background */\n",
       "#sk-container-id-5 div.sk-label:hover label.sk-toggleable__label {\n",
       "  color: var(--sklearn-color-text);\n",
       "  background-color: var(--sklearn-color-unfitted-level-2);\n",
       "}\n",
       "\n",
       "/* Label box, darken color on hover, fitted */\n",
       "#sk-container-id-5 div.sk-label.fitted:hover label.sk-toggleable__label.fitted {\n",
       "  color: var(--sklearn-color-text);\n",
       "  background-color: var(--sklearn-color-fitted-level-2);\n",
       "}\n",
       "\n",
       "/* Estimator label */\n",
       "\n",
       "#sk-container-id-5 div.sk-label label {\n",
       "  font-family: monospace;\n",
       "  font-weight: bold;\n",
       "  display: inline-block;\n",
       "  line-height: 1.2em;\n",
       "}\n",
       "\n",
       "#sk-container-id-5 div.sk-label-container {\n",
       "  text-align: center;\n",
       "}\n",
       "\n",
       "/* Estimator-specific */\n",
       "#sk-container-id-5 div.sk-estimator {\n",
       "  font-family: monospace;\n",
       "  border: 1px dotted var(--sklearn-color-border-box);\n",
       "  border-radius: 0.25em;\n",
       "  box-sizing: border-box;\n",
       "  margin-bottom: 0.5em;\n",
       "  /* unfitted */\n",
       "  background-color: var(--sklearn-color-unfitted-level-0);\n",
       "}\n",
       "\n",
       "#sk-container-id-5 div.sk-estimator.fitted {\n",
       "  /* fitted */\n",
       "  background-color: var(--sklearn-color-fitted-level-0);\n",
       "}\n",
       "\n",
       "/* on hover */\n",
       "#sk-container-id-5 div.sk-estimator:hover {\n",
       "  /* unfitted */\n",
       "  background-color: var(--sklearn-color-unfitted-level-2);\n",
       "}\n",
       "\n",
       "#sk-container-id-5 div.sk-estimator.fitted:hover {\n",
       "  /* fitted */\n",
       "  background-color: var(--sklearn-color-fitted-level-2);\n",
       "}\n",
       "\n",
       "/* Specification for estimator info (e.g. \"i\" and \"?\") */\n",
       "\n",
       "/* Common style for \"i\" and \"?\" */\n",
       "\n",
       ".sk-estimator-doc-link,\n",
       "a:link.sk-estimator-doc-link,\n",
       "a:visited.sk-estimator-doc-link {\n",
       "  float: right;\n",
       "  font-size: smaller;\n",
       "  line-height: 1em;\n",
       "  font-family: monospace;\n",
       "  background-color: var(--sklearn-color-background);\n",
       "  border-radius: 1em;\n",
       "  height: 1em;\n",
       "  width: 1em;\n",
       "  text-decoration: none !important;\n",
       "  margin-left: 1ex;\n",
       "  /* unfitted */\n",
       "  border: var(--sklearn-color-unfitted-level-1) 1pt solid;\n",
       "  color: var(--sklearn-color-unfitted-level-1);\n",
       "}\n",
       "\n",
       ".sk-estimator-doc-link.fitted,\n",
       "a:link.sk-estimator-doc-link.fitted,\n",
       "a:visited.sk-estimator-doc-link.fitted {\n",
       "  /* fitted */\n",
       "  border: var(--sklearn-color-fitted-level-1) 1pt solid;\n",
       "  color: var(--sklearn-color-fitted-level-1);\n",
       "}\n",
       "\n",
       "/* On hover */\n",
       "div.sk-estimator:hover .sk-estimator-doc-link:hover,\n",
       ".sk-estimator-doc-link:hover,\n",
       "div.sk-label-container:hover .sk-estimator-doc-link:hover,\n",
       ".sk-estimator-doc-link:hover {\n",
       "  /* unfitted */\n",
       "  background-color: var(--sklearn-color-unfitted-level-3);\n",
       "  color: var(--sklearn-color-background);\n",
       "  text-decoration: none;\n",
       "}\n",
       "\n",
       "div.sk-estimator.fitted:hover .sk-estimator-doc-link.fitted:hover,\n",
       ".sk-estimator-doc-link.fitted:hover,\n",
       "div.sk-label-container:hover .sk-estimator-doc-link.fitted:hover,\n",
       ".sk-estimator-doc-link.fitted:hover {\n",
       "  /* fitted */\n",
       "  background-color: var(--sklearn-color-fitted-level-3);\n",
       "  color: var(--sklearn-color-background);\n",
       "  text-decoration: none;\n",
       "}\n",
       "\n",
       "/* Span, style for the box shown on hovering the info icon */\n",
       ".sk-estimator-doc-link span {\n",
       "  display: none;\n",
       "  z-index: 9999;\n",
       "  position: relative;\n",
       "  font-weight: normal;\n",
       "  right: .2ex;\n",
       "  padding: .5ex;\n",
       "  margin: .5ex;\n",
       "  width: min-content;\n",
       "  min-width: 20ex;\n",
       "  max-width: 50ex;\n",
       "  color: var(--sklearn-color-text);\n",
       "  box-shadow: 2pt 2pt 4pt #999;\n",
       "  /* unfitted */\n",
       "  background: var(--sklearn-color-unfitted-level-0);\n",
       "  border: .5pt solid var(--sklearn-color-unfitted-level-3);\n",
       "}\n",
       "\n",
       ".sk-estimator-doc-link.fitted span {\n",
       "  /* fitted */\n",
       "  background: var(--sklearn-color-fitted-level-0);\n",
       "  border: var(--sklearn-color-fitted-level-3);\n",
       "}\n",
       "\n",
       ".sk-estimator-doc-link:hover span {\n",
       "  display: block;\n",
       "}\n",
       "\n",
       "/* \"?\"-specific style due to the `<a>` HTML tag */\n",
       "\n",
       "#sk-container-id-5 a.estimator_doc_link {\n",
       "  float: right;\n",
       "  font-size: 1rem;\n",
       "  line-height: 1em;\n",
       "  font-family: monospace;\n",
       "  background-color: var(--sklearn-color-background);\n",
       "  border-radius: 1rem;\n",
       "  height: 1rem;\n",
       "  width: 1rem;\n",
       "  text-decoration: none;\n",
       "  /* unfitted */\n",
       "  color: var(--sklearn-color-unfitted-level-1);\n",
       "  border: var(--sklearn-color-unfitted-level-1) 1pt solid;\n",
       "}\n",
       "\n",
       "#sk-container-id-5 a.estimator_doc_link.fitted {\n",
       "  /* fitted */\n",
       "  border: var(--sklearn-color-fitted-level-1) 1pt solid;\n",
       "  color: var(--sklearn-color-fitted-level-1);\n",
       "}\n",
       "\n",
       "/* On hover */\n",
       "#sk-container-id-5 a.estimator_doc_link:hover {\n",
       "  /* unfitted */\n",
       "  background-color: var(--sklearn-color-unfitted-level-3);\n",
       "  color: var(--sklearn-color-background);\n",
       "  text-decoration: none;\n",
       "}\n",
       "\n",
       "#sk-container-id-5 a.estimator_doc_link.fitted:hover {\n",
       "  /* fitted */\n",
       "  background-color: var(--sklearn-color-fitted-level-3);\n",
       "}\n",
       "</style><div id=\"sk-container-id-5\" class=\"sk-top-container\"><div class=\"sk-text-repr-fallback\"><pre>SVR()</pre><b>In a Jupyter environment, please rerun this cell to show the HTML representation or trust the notebook. <br />On GitHub, the HTML representation is unable to render, please try loading this page with nbviewer.org.</b></div><div class=\"sk-container\" hidden><div class=\"sk-item\"><div class=\"sk-estimator fitted sk-toggleable\"><input class=\"sk-toggleable__control sk-hidden--visually\" id=\"sk-estimator-id-5\" type=\"checkbox\" checked><label for=\"sk-estimator-id-5\" class=\"sk-toggleable__label fitted sk-toggleable__label-arrow fitted\">&nbsp;&nbsp;SVR<a class=\"sk-estimator-doc-link fitted\" rel=\"noreferrer\" target=\"_blank\" href=\"https://scikit-learn.org/1.5/modules/generated/sklearn.svm.SVR.html\">?<span>Documentation for SVR</span></a><span class=\"sk-estimator-doc-link fitted\">i<span>Fitted</span></span></label><div class=\"sk-toggleable__content fitted\"><pre>SVR()</pre></div> </div></div></div></div>"
      ],
      "text/plain": [
       "SVR()"
      ]
     },
     "execution_count": 76,
     "metadata": {},
     "output_type": "execute_result"
    }
   ],
   "source": [
    "# proses training (code here)\n",
    "model_svr.fit(X_train, y_train)"
   ]
  },
  {
   "cell_type": "markdown",
   "id": "9465dcac",
   "metadata": {},
   "source": [
    "**💡NOTES**: Tahapan ini adalah mesin telah belajar dan telah menghasilkan model (ditandai dengan warna biru dan keterangan _fitted_). Perhatikan bahwa model dilatih hanya pada training data. Karena model akan diuji pada data test yang belum pernah dilihat model sebelumnya."
   ]
  },
  {
   "cell_type": "markdown",
   "id": "6cafa404",
   "metadata": {},
   "source": [
    "#### 4.2 Model Prediction"
   ]
  },
  {
   "cell_type": "markdown",
   "id": "c1dc842e",
   "metadata": {},
   "source": [
    "Setelah model dilatih, model siap digunakan untuk memprediksi data baru. Model akan memprediksi data test yang telah kita siapkan sebelumnya."
   ]
  },
  {
   "cell_type": "markdown",
   "id": "ce16ff46",
   "metadata": {},
   "source": [
    "🔻 Metode `.predict()` memungkinkan kita untuk memprediksi label/kelas pada data baru dengan model yang sudah dilatih / di-*train*. \n",
    "\n",
    "Parameter `.predict()`:\n",
    "* `X`: Data yang akan diprediksi $\\rightarrow$ `X_test` (prediktor data test)\n",
    "\n",
    "Output yang dihasilkan:\n",
    "* label prediksi $\\rightarrow$ `y_pred`"
   ]
  },
  {
   "cell_type": "code",
   "execution_count": 77,
   "id": "d3516474",
   "metadata": {},
   "outputs": [
    {
     "data": {
      "text/html": [
       "<div>\n",
       "<style scoped>\n",
       "    .dataframe tbody tr th:only-of-type {\n",
       "        vertical-align: middle;\n",
       "    }\n",
       "\n",
       "    .dataframe tbody tr th {\n",
       "        vertical-align: top;\n",
       "    }\n",
       "\n",
       "    .dataframe thead th {\n",
       "        text-align: right;\n",
       "    }\n",
       "</style>\n",
       "<table border=\"1\" class=\"dataframe\">\n",
       "  <thead>\n",
       "    <tr style=\"text-align: right;\">\n",
       "      <th></th>\n",
       "      <th>carat</th>\n",
       "      <th>cut</th>\n",
       "      <th>color</th>\n",
       "      <th>clarity</th>\n",
       "      <th>depth</th>\n",
       "      <th>table</th>\n",
       "      <th>x</th>\n",
       "      <th>y</th>\n",
       "      <th>z</th>\n",
       "    </tr>\n",
       "  </thead>\n",
       "  <tbody>\n",
       "    <tr>\n",
       "      <th>2290</th>\n",
       "      <td>-0.971354</td>\n",
       "      <td>2</td>\n",
       "      <td>2</td>\n",
       "      <td>3</td>\n",
       "      <td>-0.290710</td>\n",
       "      <td>0.257552</td>\n",
       "      <td>-1.139669</td>\n",
       "      <td>-1.114952</td>\n",
       "      <td>-1.146517</td>\n",
       "    </tr>\n",
       "    <tr>\n",
       "      <th>532</th>\n",
       "      <td>-0.971354</td>\n",
       "      <td>4</td>\n",
       "      <td>2</td>\n",
       "      <td>2</td>\n",
       "      <td>0.470421</td>\n",
       "      <td>-0.204468</td>\n",
       "      <td>-1.165765</td>\n",
       "      <td>-1.150007</td>\n",
       "      <td>-1.104519</td>\n",
       "    </tr>\n",
       "    <tr>\n",
       "      <th>336</th>\n",
       "      <td>-0.242810</td>\n",
       "      <td>4</td>\n",
       "      <td>3</td>\n",
       "      <td>3</td>\n",
       "      <td>0.055259</td>\n",
       "      <td>0.257552</td>\n",
       "      <td>-0.087128</td>\n",
       "      <td>-0.028259</td>\n",
       "      <td>-0.054574</td>\n",
       "    </tr>\n",
       "    <tr>\n",
       "      <th>1538</th>\n",
       "      <td>0.202411</td>\n",
       "      <td>3</td>\n",
       "      <td>2</td>\n",
       "      <td>1</td>\n",
       "      <td>-1.951360</td>\n",
       "      <td>0.719572</td>\n",
       "      <td>0.513081</td>\n",
       "      <td>0.471269</td>\n",
       "      <td>0.239410</td>\n",
       "    </tr>\n",
       "    <tr>\n",
       "      <th>2029</th>\n",
       "      <td>0.586920</td>\n",
       "      <td>3</td>\n",
       "      <td>2</td>\n",
       "      <td>1</td>\n",
       "      <td>-1.743779</td>\n",
       "      <td>0.719572</td>\n",
       "      <td>0.895823</td>\n",
       "      <td>0.865633</td>\n",
       "      <td>0.631390</td>\n",
       "    </tr>\n",
       "  </tbody>\n",
       "</table>\n",
       "</div>"
      ],
      "text/plain": [
       "         carat cut color clarity     depth     table         x         y  \\\n",
       "2290 -0.971354   2     2       3 -0.290710  0.257552 -1.139669 -1.114952   \n",
       "532  -0.971354   4     2       2  0.470421 -0.204468 -1.165765 -1.150007   \n",
       "336  -0.242810   4     3       3  0.055259  0.257552 -0.087128 -0.028259   \n",
       "1538  0.202411   3     2       1 -1.951360  0.719572  0.513081  0.471269   \n",
       "2029  0.586920   3     2       1 -1.743779  0.719572  0.895823  0.865633   \n",
       "\n",
       "             z  \n",
       "2290 -1.146517  \n",
       "532  -1.104519  \n",
       "336  -0.054574  \n",
       "1538  0.239410  \n",
       "2029  0.631390  "
      ]
     },
     "execution_count": 77,
     "metadata": {},
     "output_type": "execute_result"
    }
   ],
   "source": [
    "# melihat data test -> X_test\n",
    "X_test.head()"
   ]
  },
  {
   "cell_type": "code",
   "execution_count": 78,
   "id": "0eaa260e",
   "metadata": {},
   "outputs": [
    {
     "data": {
      "text/plain": [
       "array([2262.47599413, 2247.5907178 , 2464.73686492, 2656.53889995,\n",
       "       2752.18314913])"
      ]
     },
     "execution_count": 78,
     "metadata": {},
     "output_type": "execute_result"
    }
   ],
   "source": [
    "# prediksi data test\n",
    "y_pred_test = model_svr.predict(X_test)\n",
    "\n",
    "# menampilkan 5 data hasil prediksi\n",
    "y_pred_test[:5]"
   ]
  },
  {
   "cell_type": "markdown",
   "id": "1c6c5bd0",
   "metadata": {},
   "source": [
    "**💡NOTES**: Walaupun kita sudah berhasil memprediksi, kita tetap perlu memastikan bahwa hasil prediksinya banyak yang benar / sudah sesuai dengan melakukan model evaluation"
   ]
  },
  {
   "cell_type": "markdown",
   "id": "2315dc7a",
   "metadata": {},
   "source": [
    "### 5. Model Evaluation: Mean Absolute Error (MAE)"
   ]
  },
  {
   "cell_type": "markdown",
   "id": "352d65b0",
   "metadata": {},
   "source": [
    "Setelah kita melakukan prediksi akan dilakukan evaluasi model dengan membandingkan nilai aktual dan hasil prediksi. Perbedaan antara nilai prediksi dengan nilai aktual disebut sebagai *error*, semakin kecil *error* maka semakin bagus model kita, karena nilai prediksi semakin mendekati nilai aslinya.\n",
    "\n",
    "Salah satu cara yang sering digunakan dalam menghitung error adalah MAE ***(Mean Absolute Error)***. Yaitu dengan menghitung rata-rata error untuk semua prediksi.\n",
    "\n",
    "Berikut adalah formula menghitung MAE:\n",
    "\n",
    "$$MAE = \\frac{\\sum_{i=1}^{n}\\left | y_{real, i} - y_{pred, i} \\right |}{n}$$"
   ]
  },
  {
   "cell_type": "markdown",
   "id": "fd3ef610",
   "metadata": {},
   "source": [
    "Mean Absolute Error (MAE): Metriks untuk regresi yang menghitung rata-rata error untuk semua prediksi.\n",
    "\n",
    "- Semakin kecil nilai MAE, semakin baik model kita\n",
    "- Semakin besar nilai MAE, semakin buruk model kita."
   ]
  },
  {
   "cell_type": "markdown",
   "id": "9bdf8413",
   "metadata": {},
   "source": [
    "🔻 Fungsi `mean_absolute_error()` memungkinkan kita Untuk menghitung *Mean Absolute Error*, kita dapat menggunkaan fungsi `mean_absolute_error` dari `sklearn.metrics`. Parameter yang dimasukkan adalah:\n",
    "* `y_true`: target yang sebenarnya (ground truth) $\\rightarrow$ diambil dari `y_test`\n",
    "* `y_pred`: target hasil prediksi model"
   ]
  },
  {
   "cell_type": "markdown",
   "id": "395ecfb2",
   "metadata": {},
   "source": [
    "Dokumentasi metrik evaluasi `MAE` dan metrik lainnya dapat diakses [di sini](https://scikit-learn.org/stable/modules/generated/sklearn.metrics.mean_absolute_error.html)."
   ]
  },
  {
   "cell_type": "code",
   "execution_count": 79,
   "id": "43274523",
   "metadata": {},
   "outputs": [],
   "source": [
    "# import library untuk menghitung akurasi\n",
    "from sklearn.metrics import mean_absolute_error"
   ]
  },
  {
   "cell_type": "markdown",
   "id": "8ae7553d",
   "metadata": {},
   "source": [
    "___\n",
    "> ❓**QUESTION:** Bagaimana performa model kita?"
   ]
  },
  {
   "cell_type": "markdown",
   "id": "5e91e341",
   "metadata": {},
   "source": [
    "> 💡**ANSWER:** Cek nilai MAE model pada data test.\n",
    "___"
   ]
  },
  {
   "cell_type": "markdown",
   "id": "3b25997d",
   "metadata": {},
   "source": [
    "Prediksi model menggunakan data test:"
   ]
  },
  {
   "cell_type": "code",
   "execution_count": 80,
   "id": "8f82a6f7",
   "metadata": {},
   "outputs": [
    {
     "name": "stdout",
     "output_type": "stream",
     "text": [
      "MAE Test : 2,374.81\n"
     ]
    }
   ],
   "source": [
    "# prediksi data test\n",
    "y_pred_test = model_svr.predict(X_test)\n",
    "\n",
    "# evaluasi model\n",
    "mae_test = mean_absolute_error(y_test, y_pred_test)\n",
    "\n",
    "# tampilkan hasil evaluasi\n",
    "print(f\"MAE Test : {mae_test:,.2f}\")"
   ]
  },
  {
   "cell_type": "markdown",
   "id": "9e9af3f9",
   "metadata": {},
   "source": [
    "**❓ Question**: Bagaimana mengartikan MAE?\n",
    "> **Jawaban:**\n",
    "- Model kita memprediksi sebesar 2.374 lebih besar atau kurang dari nilai aslinya.\n",
    "- Misalnya kita punya harga diamonds 50.000. Maka model kita memprediksi antara 50.000 - 2.374 sampai 50.000 + 2.374 (47.626 s.d 52.374)"
   ]
  },
  {
   "cell_type": "markdown",
   "id": "3b59e44a",
   "metadata": {},
   "source": [
    "**❓ Question**: Bagaimana kita mengetahui apakah nilai MAE kita telah baik atau tidak? apakah terdapat acuannya?\n",
    "\n",
    "> Membagi nilai MAE kita dengan rentang nilai aslinya."
   ]
  },
  {
   "cell_type": "code",
   "execution_count": 81,
   "id": "833e09ae",
   "metadata": {},
   "outputs": [
    {
     "data": {
      "text/plain": [
       "0.1424261950737261"
      ]
     },
     "execution_count": 81,
     "metadata": {},
     "output_type": "execute_result"
    }
   ],
   "source": [
    "# rentang = nilai maksimal - nilai minimal\n",
    "rentang = y_test.max() - y_test.min()\n",
    "\n",
    "# membagi nilai MAE dengan rentang nilainya\n",
    "mae_test / rentang"
   ]
  },
  {
   "cell_type": "markdown",
   "id": "811d6b72",
   "metadata": {},
   "source": [
    "✨ Intepretasi ✨\n",
    "> - Error hasil prediksi sebesar 14% dari rentang target.\n",
    "> - Dikatakan baik jika nilainya < 10%"
   ]
  },
  {
   "cell_type": "markdown",
   "id": "8635d041",
   "metadata": {},
   "source": [
    "___\n",
    "> ❓ **QUESTION:** Apakah model kita sudah cukup baik?"
   ]
  },
  {
   "cell_type": "markdown",
   "id": "9d9e54c3",
   "metadata": {},
   "source": [
    "> 💡**ANSWER:** Cek nilai MAE model pada data train sebagai pembanding.\n",
    "___"
   ]
  },
  {
   "cell_type": "markdown",
   "id": "5c782b09",
   "metadata": {},
   "source": [
    "Prediksi model menggunakan data train:"
   ]
  },
  {
   "cell_type": "code",
   "execution_count": 82,
   "id": "9fe7af26",
   "metadata": {},
   "outputs": [
    {
     "name": "stdout",
     "output_type": "stream",
     "text": [
      "MAE Train : 2,813.14\n"
     ]
    }
   ],
   "source": [
    "# prediksi data train (code here)\n",
    "y_pred_train = model_svr.predict(X_train)\n",
    "\n",
    "# evaluasi model (code here)\n",
    "mae_train = mean_absolute_error(y_train, y_pred_train)\n",
    "\n",
    "# tampilkan hasil evaluasi\n",
    "print(f\"MAE Train : {mae_train:,.2f}\")"
   ]
  },
  {
   "cell_type": "code",
   "execution_count": 83,
   "id": "f323f22c",
   "metadata": {},
   "outputs": [],
   "source": [
    "# menghitung rentang nilai data train (code here)\n",
    "range_train = y_train.max() - y_train.min()\n",
    "mae_train_percent = round(mae_train / range_train * 100, 2)\n",
    "\n",
    "# menghitung rentang nilai data test (code here)\n",
    "range_test = y_test.max() - y_test.min()\n",
    "mae_test_percent = round(mae_test / range_test * 100, 2)"
   ]
  },
  {
   "cell_type": "code",
   "execution_count": 84,
   "id": "c2d58276",
   "metadata": {},
   "outputs": [
    {
     "data": {
      "text/html": [
       "<div>\n",
       "<style scoped>\n",
       "    .dataframe tbody tr th:only-of-type {\n",
       "        vertical-align: middle;\n",
       "    }\n",
       "\n",
       "    .dataframe tbody tr th {\n",
       "        vertical-align: top;\n",
       "    }\n",
       "\n",
       "    .dataframe thead th {\n",
       "        text-align: right;\n",
       "    }\n",
       "</style>\n",
       "<table border=\"1\" class=\"dataframe\">\n",
       "  <thead>\n",
       "    <tr style=\"text-align: right;\">\n",
       "      <th></th>\n",
       "      <th>MAE</th>\n",
       "      <th>MAE (%)</th>\n",
       "    </tr>\n",
       "  </thead>\n",
       "  <tbody>\n",
       "    <tr>\n",
       "      <th>Data Train</th>\n",
       "      <td>2813.136735</td>\n",
       "      <td>15.30</td>\n",
       "    </tr>\n",
       "    <tr>\n",
       "      <th>Data Test</th>\n",
       "      <td>2374.814377</td>\n",
       "      <td>14.24</td>\n",
       "    </tr>\n",
       "  </tbody>\n",
       "</table>\n",
       "</div>"
      ],
      "text/plain": [
       "                    MAE  MAE (%)\n",
       "Data Train  2813.136735    15.30\n",
       "Data Test   2374.814377    14.24"
      ]
     },
     "execution_count": 84,
     "metadata": {},
     "output_type": "execute_result"
    }
   ],
   "source": [
    "# menampilkan perbandingan evaluasi model pada data train dan data test\n",
    "pd.DataFrame(data = {\"MAE\": [mae_train, mae_test],\n",
    "                     \"MAE (%)\": [mae_train_percent, mae_test_percent]},\n",
    "             index = [\"Data Train\", 'Data Test'])"
   ]
  },
  {
   "cell_type": "markdown",
   "id": "e34963fc",
   "metadata": {},
   "source": [
    "> 💡 **INSIGHT:** \n",
    "- Belum baik karena nilai MAE > 10%"
   ]
  },
  {
   "cell_type": "markdown",
   "id": "944919a4",
   "metadata": {},
   "source": [
    "**❓ Question**: Apakah model regresi kita **overfit**, **underfit**, atau **good fit**?\n",
    "\n",
    "> **Jawaban:**\n",
    "Model kita mengalami overfit karena MAE pada data train > data test. Tetapi karena perbedaaanya < 10%, maka masih ditoleransi."
   ]
  },
  {
   "cell_type": "markdown",
   "id": "67e2d37b",
   "metadata": {},
   "source": [
    "### 6. Model Improvement: Tuning Hyperparameter SVR (Opsional)"
   ]
  },
  {
   "cell_type": "markdown",
   "id": "f50d05cb",
   "metadata": {},
   "source": [
    "Seperti pada SVC, SVR juga memiliki *hyperparameter* yang dapat diatur untuk meningkatkan performa model.\n",
    "\n",
    "Adapun *hyperparameter* yang sering digunakan dalam model SVC antara lain:\n",
    "\n",
    "- `epsilon [default = 0.1, range = 0.0 - inf]` : Epsilon mengatur tingkat kesalahan yang ditoleransi oleh model. Semakin kecil nilai epsilon, maka semakin ketat batas toleransi oleh model, sehingga model lebih kompleks. Begitupun sebaliknya.\n",
    "\n",
    "- `kernel [default = 'rbf', option = ['rbf', 'poly', 'linear', 'sigmoid']`: Mempengaruhi bagaimana garis regresi (*hyperplane*) terbentuk, untuk data yang dapat memiliki pola linear (garis lurus) dapat menggunakan 'linear'. Untuk data-data dengan pola non-linear dapat menggunakan kernel `rbf`.\n",
    "*Note: Kebanyakan data berbentuk non-linear, sehingga sebaiknya selalu memilih kernel `rbf`*\n",
    "\n",
    "![kernel.gif](asset/kernel.png)\n",
    "\n",
    "- `C (regularization) [default = 1, range = positive number]`: Sama seperti regularisasi pada SVC, semakin tinggi C pada SVR, maka membuat model semakin menyesuaikan data dengan lebih baik namun beresiko overfitting.\n",
    "\n",
    "✨ **NOTE:**\n",
    "Parameter epsilon dan C saling berkaitan untuk menentukan bagaimana hyperplane terbentuk. \n",
    "- Makin besar nilai C, maka semakin menyesuaikan dengan data training. \n",
    "- Semakin kecil nilai epsilon, maka semakin menyesuaikan dengan data training.\n",
    "\n",
    "Untuk hyperparameter dan penjelasan lebih detail dapat dilihat pada [dokumentasi SVR](https://scikit-learn.org/stable/modules/generated/sklearn.svm.SVR.html#sklearn.svm.SVR)"
   ]
  },
  {
   "cell_type": "markdown",
   "id": "8e107f0a",
   "metadata": {},
   "source": [
    "Mari kita coba untuk tuning model regresi kita dengan nama `model_svr_tuning`"
   ]
  },
  {
   "cell_type": "code",
   "execution_count": 85,
   "id": "d368e6be",
   "metadata": {},
   "outputs": [
    {
     "data": {
      "text/html": [
       "<style>#sk-container-id-6 {\n",
       "  /* Definition of color scheme common for light and dark mode */\n",
       "  --sklearn-color-text: black;\n",
       "  --sklearn-color-line: gray;\n",
       "  /* Definition of color scheme for unfitted estimators */\n",
       "  --sklearn-color-unfitted-level-0: #fff5e6;\n",
       "  --sklearn-color-unfitted-level-1: #f6e4d2;\n",
       "  --sklearn-color-unfitted-level-2: #ffe0b3;\n",
       "  --sklearn-color-unfitted-level-3: chocolate;\n",
       "  /* Definition of color scheme for fitted estimators */\n",
       "  --sklearn-color-fitted-level-0: #f0f8ff;\n",
       "  --sklearn-color-fitted-level-1: #d4ebff;\n",
       "  --sklearn-color-fitted-level-2: #b3dbfd;\n",
       "  --sklearn-color-fitted-level-3: cornflowerblue;\n",
       "\n",
       "  /* Specific color for light theme */\n",
       "  --sklearn-color-text-on-default-background: var(--sg-text-color, var(--theme-code-foreground, var(--jp-content-font-color1, black)));\n",
       "  --sklearn-color-background: var(--sg-background-color, var(--theme-background, var(--jp-layout-color0, white)));\n",
       "  --sklearn-color-border-box: var(--sg-text-color, var(--theme-code-foreground, var(--jp-content-font-color1, black)));\n",
       "  --sklearn-color-icon: #696969;\n",
       "\n",
       "  @media (prefers-color-scheme: dark) {\n",
       "    /* Redefinition of color scheme for dark theme */\n",
       "    --sklearn-color-text-on-default-background: var(--sg-text-color, var(--theme-code-foreground, var(--jp-content-font-color1, white)));\n",
       "    --sklearn-color-background: var(--sg-background-color, var(--theme-background, var(--jp-layout-color0, #111)));\n",
       "    --sklearn-color-border-box: var(--sg-text-color, var(--theme-code-foreground, var(--jp-content-font-color1, white)));\n",
       "    --sklearn-color-icon: #878787;\n",
       "  }\n",
       "}\n",
       "\n",
       "#sk-container-id-6 {\n",
       "  color: var(--sklearn-color-text);\n",
       "}\n",
       "\n",
       "#sk-container-id-6 pre {\n",
       "  padding: 0;\n",
       "}\n",
       "\n",
       "#sk-container-id-6 input.sk-hidden--visually {\n",
       "  border: 0;\n",
       "  clip: rect(1px 1px 1px 1px);\n",
       "  clip: rect(1px, 1px, 1px, 1px);\n",
       "  height: 1px;\n",
       "  margin: -1px;\n",
       "  overflow: hidden;\n",
       "  padding: 0;\n",
       "  position: absolute;\n",
       "  width: 1px;\n",
       "}\n",
       "\n",
       "#sk-container-id-6 div.sk-dashed-wrapped {\n",
       "  border: 1px dashed var(--sklearn-color-line);\n",
       "  margin: 0 0.4em 0.5em 0.4em;\n",
       "  box-sizing: border-box;\n",
       "  padding-bottom: 0.4em;\n",
       "  background-color: var(--sklearn-color-background);\n",
       "}\n",
       "\n",
       "#sk-container-id-6 div.sk-container {\n",
       "  /* jupyter's `normalize.less` sets `[hidden] { display: none; }`\n",
       "     but bootstrap.min.css set `[hidden] { display: none !important; }`\n",
       "     so we also need the `!important` here to be able to override the\n",
       "     default hidden behavior on the sphinx rendered scikit-learn.org.\n",
       "     See: https://github.com/scikit-learn/scikit-learn/issues/21755 */\n",
       "  display: inline-block !important;\n",
       "  position: relative;\n",
       "}\n",
       "\n",
       "#sk-container-id-6 div.sk-text-repr-fallback {\n",
       "  display: none;\n",
       "}\n",
       "\n",
       "div.sk-parallel-item,\n",
       "div.sk-serial,\n",
       "div.sk-item {\n",
       "  /* draw centered vertical line to link estimators */\n",
       "  background-image: linear-gradient(var(--sklearn-color-text-on-default-background), var(--sklearn-color-text-on-default-background));\n",
       "  background-size: 2px 100%;\n",
       "  background-repeat: no-repeat;\n",
       "  background-position: center center;\n",
       "}\n",
       "\n",
       "/* Parallel-specific style estimator block */\n",
       "\n",
       "#sk-container-id-6 div.sk-parallel-item::after {\n",
       "  content: \"\";\n",
       "  width: 100%;\n",
       "  border-bottom: 2px solid var(--sklearn-color-text-on-default-background);\n",
       "  flex-grow: 1;\n",
       "}\n",
       "\n",
       "#sk-container-id-6 div.sk-parallel {\n",
       "  display: flex;\n",
       "  align-items: stretch;\n",
       "  justify-content: center;\n",
       "  background-color: var(--sklearn-color-background);\n",
       "  position: relative;\n",
       "}\n",
       "\n",
       "#sk-container-id-6 div.sk-parallel-item {\n",
       "  display: flex;\n",
       "  flex-direction: column;\n",
       "}\n",
       "\n",
       "#sk-container-id-6 div.sk-parallel-item:first-child::after {\n",
       "  align-self: flex-end;\n",
       "  width: 50%;\n",
       "}\n",
       "\n",
       "#sk-container-id-6 div.sk-parallel-item:last-child::after {\n",
       "  align-self: flex-start;\n",
       "  width: 50%;\n",
       "}\n",
       "\n",
       "#sk-container-id-6 div.sk-parallel-item:only-child::after {\n",
       "  width: 0;\n",
       "}\n",
       "\n",
       "/* Serial-specific style estimator block */\n",
       "\n",
       "#sk-container-id-6 div.sk-serial {\n",
       "  display: flex;\n",
       "  flex-direction: column;\n",
       "  align-items: center;\n",
       "  background-color: var(--sklearn-color-background);\n",
       "  padding-right: 1em;\n",
       "  padding-left: 1em;\n",
       "}\n",
       "\n",
       "\n",
       "/* Toggleable style: style used for estimator/Pipeline/ColumnTransformer box that is\n",
       "clickable and can be expanded/collapsed.\n",
       "- Pipeline and ColumnTransformer use this feature and define the default style\n",
       "- Estimators will overwrite some part of the style using the `sk-estimator` class\n",
       "*/\n",
       "\n",
       "/* Pipeline and ColumnTransformer style (default) */\n",
       "\n",
       "#sk-container-id-6 div.sk-toggleable {\n",
       "  /* Default theme specific background. It is overwritten whether we have a\n",
       "  specific estimator or a Pipeline/ColumnTransformer */\n",
       "  background-color: var(--sklearn-color-background);\n",
       "}\n",
       "\n",
       "/* Toggleable label */\n",
       "#sk-container-id-6 label.sk-toggleable__label {\n",
       "  cursor: pointer;\n",
       "  display: block;\n",
       "  width: 100%;\n",
       "  margin-bottom: 0;\n",
       "  padding: 0.5em;\n",
       "  box-sizing: border-box;\n",
       "  text-align: center;\n",
       "}\n",
       "\n",
       "#sk-container-id-6 label.sk-toggleable__label-arrow:before {\n",
       "  /* Arrow on the left of the label */\n",
       "  content: \"▸\";\n",
       "  float: left;\n",
       "  margin-right: 0.25em;\n",
       "  color: var(--sklearn-color-icon);\n",
       "}\n",
       "\n",
       "#sk-container-id-6 label.sk-toggleable__label-arrow:hover:before {\n",
       "  color: var(--sklearn-color-text);\n",
       "}\n",
       "\n",
       "/* Toggleable content - dropdown */\n",
       "\n",
       "#sk-container-id-6 div.sk-toggleable__content {\n",
       "  max-height: 0;\n",
       "  max-width: 0;\n",
       "  overflow: hidden;\n",
       "  text-align: left;\n",
       "  /* unfitted */\n",
       "  background-color: var(--sklearn-color-unfitted-level-0);\n",
       "}\n",
       "\n",
       "#sk-container-id-6 div.sk-toggleable__content.fitted {\n",
       "  /* fitted */\n",
       "  background-color: var(--sklearn-color-fitted-level-0);\n",
       "}\n",
       "\n",
       "#sk-container-id-6 div.sk-toggleable__content pre {\n",
       "  margin: 0.2em;\n",
       "  border-radius: 0.25em;\n",
       "  color: var(--sklearn-color-text);\n",
       "  /* unfitted */\n",
       "  background-color: var(--sklearn-color-unfitted-level-0);\n",
       "}\n",
       "\n",
       "#sk-container-id-6 div.sk-toggleable__content.fitted pre {\n",
       "  /* unfitted */\n",
       "  background-color: var(--sklearn-color-fitted-level-0);\n",
       "}\n",
       "\n",
       "#sk-container-id-6 input.sk-toggleable__control:checked~div.sk-toggleable__content {\n",
       "  /* Expand drop-down */\n",
       "  max-height: 200px;\n",
       "  max-width: 100%;\n",
       "  overflow: auto;\n",
       "}\n",
       "\n",
       "#sk-container-id-6 input.sk-toggleable__control:checked~label.sk-toggleable__label-arrow:before {\n",
       "  content: \"▾\";\n",
       "}\n",
       "\n",
       "/* Pipeline/ColumnTransformer-specific style */\n",
       "\n",
       "#sk-container-id-6 div.sk-label input.sk-toggleable__control:checked~label.sk-toggleable__label {\n",
       "  color: var(--sklearn-color-text);\n",
       "  background-color: var(--sklearn-color-unfitted-level-2);\n",
       "}\n",
       "\n",
       "#sk-container-id-6 div.sk-label.fitted input.sk-toggleable__control:checked~label.sk-toggleable__label {\n",
       "  background-color: var(--sklearn-color-fitted-level-2);\n",
       "}\n",
       "\n",
       "/* Estimator-specific style */\n",
       "\n",
       "/* Colorize estimator box */\n",
       "#sk-container-id-6 div.sk-estimator input.sk-toggleable__control:checked~label.sk-toggleable__label {\n",
       "  /* unfitted */\n",
       "  background-color: var(--sklearn-color-unfitted-level-2);\n",
       "}\n",
       "\n",
       "#sk-container-id-6 div.sk-estimator.fitted input.sk-toggleable__control:checked~label.sk-toggleable__label {\n",
       "  /* fitted */\n",
       "  background-color: var(--sklearn-color-fitted-level-2);\n",
       "}\n",
       "\n",
       "#sk-container-id-6 div.sk-label label.sk-toggleable__label,\n",
       "#sk-container-id-6 div.sk-label label {\n",
       "  /* The background is the default theme color */\n",
       "  color: var(--sklearn-color-text-on-default-background);\n",
       "}\n",
       "\n",
       "/* On hover, darken the color of the background */\n",
       "#sk-container-id-6 div.sk-label:hover label.sk-toggleable__label {\n",
       "  color: var(--sklearn-color-text);\n",
       "  background-color: var(--sklearn-color-unfitted-level-2);\n",
       "}\n",
       "\n",
       "/* Label box, darken color on hover, fitted */\n",
       "#sk-container-id-6 div.sk-label.fitted:hover label.sk-toggleable__label.fitted {\n",
       "  color: var(--sklearn-color-text);\n",
       "  background-color: var(--sklearn-color-fitted-level-2);\n",
       "}\n",
       "\n",
       "/* Estimator label */\n",
       "\n",
       "#sk-container-id-6 div.sk-label label {\n",
       "  font-family: monospace;\n",
       "  font-weight: bold;\n",
       "  display: inline-block;\n",
       "  line-height: 1.2em;\n",
       "}\n",
       "\n",
       "#sk-container-id-6 div.sk-label-container {\n",
       "  text-align: center;\n",
       "}\n",
       "\n",
       "/* Estimator-specific */\n",
       "#sk-container-id-6 div.sk-estimator {\n",
       "  font-family: monospace;\n",
       "  border: 1px dotted var(--sklearn-color-border-box);\n",
       "  border-radius: 0.25em;\n",
       "  box-sizing: border-box;\n",
       "  margin-bottom: 0.5em;\n",
       "  /* unfitted */\n",
       "  background-color: var(--sklearn-color-unfitted-level-0);\n",
       "}\n",
       "\n",
       "#sk-container-id-6 div.sk-estimator.fitted {\n",
       "  /* fitted */\n",
       "  background-color: var(--sklearn-color-fitted-level-0);\n",
       "}\n",
       "\n",
       "/* on hover */\n",
       "#sk-container-id-6 div.sk-estimator:hover {\n",
       "  /* unfitted */\n",
       "  background-color: var(--sklearn-color-unfitted-level-2);\n",
       "}\n",
       "\n",
       "#sk-container-id-6 div.sk-estimator.fitted:hover {\n",
       "  /* fitted */\n",
       "  background-color: var(--sklearn-color-fitted-level-2);\n",
       "}\n",
       "\n",
       "/* Specification for estimator info (e.g. \"i\" and \"?\") */\n",
       "\n",
       "/* Common style for \"i\" and \"?\" */\n",
       "\n",
       ".sk-estimator-doc-link,\n",
       "a:link.sk-estimator-doc-link,\n",
       "a:visited.sk-estimator-doc-link {\n",
       "  float: right;\n",
       "  font-size: smaller;\n",
       "  line-height: 1em;\n",
       "  font-family: monospace;\n",
       "  background-color: var(--sklearn-color-background);\n",
       "  border-radius: 1em;\n",
       "  height: 1em;\n",
       "  width: 1em;\n",
       "  text-decoration: none !important;\n",
       "  margin-left: 1ex;\n",
       "  /* unfitted */\n",
       "  border: var(--sklearn-color-unfitted-level-1) 1pt solid;\n",
       "  color: var(--sklearn-color-unfitted-level-1);\n",
       "}\n",
       "\n",
       ".sk-estimator-doc-link.fitted,\n",
       "a:link.sk-estimator-doc-link.fitted,\n",
       "a:visited.sk-estimator-doc-link.fitted {\n",
       "  /* fitted */\n",
       "  border: var(--sklearn-color-fitted-level-1) 1pt solid;\n",
       "  color: var(--sklearn-color-fitted-level-1);\n",
       "}\n",
       "\n",
       "/* On hover */\n",
       "div.sk-estimator:hover .sk-estimator-doc-link:hover,\n",
       ".sk-estimator-doc-link:hover,\n",
       "div.sk-label-container:hover .sk-estimator-doc-link:hover,\n",
       ".sk-estimator-doc-link:hover {\n",
       "  /* unfitted */\n",
       "  background-color: var(--sklearn-color-unfitted-level-3);\n",
       "  color: var(--sklearn-color-background);\n",
       "  text-decoration: none;\n",
       "}\n",
       "\n",
       "div.sk-estimator.fitted:hover .sk-estimator-doc-link.fitted:hover,\n",
       ".sk-estimator-doc-link.fitted:hover,\n",
       "div.sk-label-container:hover .sk-estimator-doc-link.fitted:hover,\n",
       ".sk-estimator-doc-link.fitted:hover {\n",
       "  /* fitted */\n",
       "  background-color: var(--sklearn-color-fitted-level-3);\n",
       "  color: var(--sklearn-color-background);\n",
       "  text-decoration: none;\n",
       "}\n",
       "\n",
       "/* Span, style for the box shown on hovering the info icon */\n",
       ".sk-estimator-doc-link span {\n",
       "  display: none;\n",
       "  z-index: 9999;\n",
       "  position: relative;\n",
       "  font-weight: normal;\n",
       "  right: .2ex;\n",
       "  padding: .5ex;\n",
       "  margin: .5ex;\n",
       "  width: min-content;\n",
       "  min-width: 20ex;\n",
       "  max-width: 50ex;\n",
       "  color: var(--sklearn-color-text);\n",
       "  box-shadow: 2pt 2pt 4pt #999;\n",
       "  /* unfitted */\n",
       "  background: var(--sklearn-color-unfitted-level-0);\n",
       "  border: .5pt solid var(--sklearn-color-unfitted-level-3);\n",
       "}\n",
       "\n",
       ".sk-estimator-doc-link.fitted span {\n",
       "  /* fitted */\n",
       "  background: var(--sklearn-color-fitted-level-0);\n",
       "  border: var(--sklearn-color-fitted-level-3);\n",
       "}\n",
       "\n",
       ".sk-estimator-doc-link:hover span {\n",
       "  display: block;\n",
       "}\n",
       "\n",
       "/* \"?\"-specific style due to the `<a>` HTML tag */\n",
       "\n",
       "#sk-container-id-6 a.estimator_doc_link {\n",
       "  float: right;\n",
       "  font-size: 1rem;\n",
       "  line-height: 1em;\n",
       "  font-family: monospace;\n",
       "  background-color: var(--sklearn-color-background);\n",
       "  border-radius: 1rem;\n",
       "  height: 1rem;\n",
       "  width: 1rem;\n",
       "  text-decoration: none;\n",
       "  /* unfitted */\n",
       "  color: var(--sklearn-color-unfitted-level-1);\n",
       "  border: var(--sklearn-color-unfitted-level-1) 1pt solid;\n",
       "}\n",
       "\n",
       "#sk-container-id-6 a.estimator_doc_link.fitted {\n",
       "  /* fitted */\n",
       "  border: var(--sklearn-color-fitted-level-1) 1pt solid;\n",
       "  color: var(--sklearn-color-fitted-level-1);\n",
       "}\n",
       "\n",
       "/* On hover */\n",
       "#sk-container-id-6 a.estimator_doc_link:hover {\n",
       "  /* unfitted */\n",
       "  background-color: var(--sklearn-color-unfitted-level-3);\n",
       "  color: var(--sklearn-color-background);\n",
       "  text-decoration: none;\n",
       "}\n",
       "\n",
       "#sk-container-id-6 a.estimator_doc_link.fitted:hover {\n",
       "  /* fitted */\n",
       "  background-color: var(--sklearn-color-fitted-level-3);\n",
       "}\n",
       "</style><div id=\"sk-container-id-6\" class=\"sk-top-container\"><div class=\"sk-text-repr-fallback\"><pre>SVR(C=100, epsilon=0.5)</pre><b>In a Jupyter environment, please rerun this cell to show the HTML representation or trust the notebook. <br />On GitHub, the HTML representation is unable to render, please try loading this page with nbviewer.org.</b></div><div class=\"sk-container\" hidden><div class=\"sk-item\"><div class=\"sk-estimator fitted sk-toggleable\"><input class=\"sk-toggleable__control sk-hidden--visually\" id=\"sk-estimator-id-6\" type=\"checkbox\" checked><label for=\"sk-estimator-id-6\" class=\"sk-toggleable__label fitted sk-toggleable__label-arrow fitted\">&nbsp;&nbsp;SVR<a class=\"sk-estimator-doc-link fitted\" rel=\"noreferrer\" target=\"_blank\" href=\"https://scikit-learn.org/1.5/modules/generated/sklearn.svm.SVR.html\">?<span>Documentation for SVR</span></a><span class=\"sk-estimator-doc-link fitted\">i<span>Fitted</span></span></label><div class=\"sk-toggleable__content fitted\"><pre>SVR(C=100, epsilon=0.5)</pre></div> </div></div></div></div>"
      ],
      "text/plain": [
       "SVR(C=100, epsilon=0.5)"
      ]
     },
     "execution_count": 85,
     "metadata": {},
     "output_type": "execute_result"
    }
   ],
   "source": [
    "# membuat model svr tuning\n",
    "model_svr_tuning = svm.SVR(C = 100, kernel='rbf', epsilon = 0.5)\n",
    "\n",
    "# melakukan pelatihan ulang\n",
    "model_svr_tuning.fit(X_train, y_train)"
   ]
  },
  {
   "cell_type": "markdown",
   "id": "1414f67e",
   "metadata": {},
   "source": [
    "Mari kita lihat performa model hasil tuning untuk memprediksi data train."
   ]
  },
  {
   "cell_type": "code",
   "execution_count": 86,
   "id": "5cb49d12",
   "metadata": {},
   "outputs": [],
   "source": [
    "# prediksi data train menggunakan model hasil tuning\n",
    "y_pred_train_tuning = model_svr_tuning.predict(X_train)\n",
    "\n",
    "# evaluasi model\n",
    "mae_train_tuning = mean_absolute_error(y_train, y_pred_train_tuning)"
   ]
  },
  {
   "cell_type": "markdown",
   "id": "7ca27b93",
   "metadata": {},
   "source": [
    "Mari kita lihat performa model hasil tuning untuk memprediksi data test."
   ]
  },
  {
   "cell_type": "code",
   "execution_count": 87,
   "id": "42a74312",
   "metadata": {},
   "outputs": [],
   "source": [
    "# prediksi data test menggunakan model hasil tuning\n",
    "y_pred_test_tuning = model_svr_tuning.predict(X_test)\n",
    "\n",
    "# evaluasi model\n",
    "mae_test_tuning = mean_absolute_error(y_test, y_pred_test_tuning)"
   ]
  },
  {
   "cell_type": "code",
   "execution_count": 88,
   "id": "666bc59d",
   "metadata": {},
   "outputs": [],
   "source": [
    "# menghitung rentang nilai data train\n",
    "mae_train_tuning_percent = round(mae_train_tuning / range_train * 100, 2)\n",
    "\n",
    "# menghitung rentang nilai data test\n",
    "mae_test_tuning_percent = round(mae_test_tuning / range_test * 100, 2)"
   ]
  },
  {
   "cell_type": "markdown",
   "id": "466233b4",
   "metadata": {},
   "source": [
    "Mari kita lihat perbandingan performa model data data train dan test sebelum dan sesudah tuning."
   ]
  },
  {
   "cell_type": "code",
   "execution_count": 89,
   "id": "3cf3d71e",
   "metadata": {},
   "outputs": [
    {
     "data": {
      "text/html": [
       "<div>\n",
       "<style scoped>\n",
       "    .dataframe tbody tr th:only-of-type {\n",
       "        vertical-align: middle;\n",
       "    }\n",
       "\n",
       "    .dataframe tbody tr th {\n",
       "        vertical-align: top;\n",
       "    }\n",
       "\n",
       "    .dataframe thead th {\n",
       "        text-align: right;\n",
       "    }\n",
       "</style>\n",
       "<table border=\"1\" class=\"dataframe\">\n",
       "  <thead>\n",
       "    <tr style=\"text-align: right;\">\n",
       "      <th></th>\n",
       "      <th>MAE Train</th>\n",
       "      <th>MAE Train (%)</th>\n",
       "      <th>MAE Test</th>\n",
       "      <th>MAE Test (%)</th>\n",
       "    </tr>\n",
       "  </thead>\n",
       "  <tbody>\n",
       "    <tr>\n",
       "      <th>Base Model</th>\n",
       "      <td>2813.136735</td>\n",
       "      <td>15.30</td>\n",
       "      <td>760.812519</td>\n",
       "      <td>4.14</td>\n",
       "    </tr>\n",
       "    <tr>\n",
       "      <th>Tuning Model</th>\n",
       "      <td>2374.814377</td>\n",
       "      <td>14.24</td>\n",
       "      <td>612.254974</td>\n",
       "      <td>3.67</td>\n",
       "    </tr>\n",
       "  </tbody>\n",
       "</table>\n",
       "</div>"
      ],
      "text/plain": [
       "                MAE Train  MAE Train (%)    MAE Test  MAE Test (%)\n",
       "Base Model    2813.136735          15.30  760.812519          4.14\n",
       "Tuning Model  2374.814377          14.24  612.254974          3.67"
      ]
     },
     "execution_count": 89,
     "metadata": {},
     "output_type": "execute_result"
    }
   ],
   "source": [
    "# Menampilkan perbandingan evaluasi model hasil tuning pada data train dan data test\n",
    "pd.DataFrame(data = {\"MAE Train\": [mae_train, mae_test],\n",
    "                     \"MAE Train (%)\": [mae_train_percent, mae_test_percent],\n",
    "                     \"MAE Test\": [mae_train_tuning, mae_test_tuning],\n",
    "                     \"MAE Test (%)\": [mae_train_tuning_percent, mae_test_tuning_percent]},\n",
    "             index = [\"Base Model\", 'Tuning Model'])"
   ]
  },
  {
   "cell_type": "markdown",
   "id": "3a72ba23",
   "metadata": {},
   "source": [
    "**✨ INSIGHT ✨**\n",
    "> - Setelah tuning, hasilnya lebih baik. Model sudah baik karena MAE < 10%. "
   ]
  },
  {
   "cell_type": "markdown",
   "id": "fd9ca654",
   "metadata": {},
   "source": [
    "# Conclusion"
   ]
  },
  {
   "cell_type": "markdown",
   "id": "06caa4d7",
   "metadata": {},
   "source": [
    "## Kelebihan SVM\n",
    "* Sangat efektif bahkan untuk data yang berdimensi tinggi (memiliki banyak kolom).\n",
    "* SVM juga dapat bekerja dalam situasi ketika terdapat lebih banyak fitur dalam kumpulan data daripada jumlah baris data.\n",
    "* SVM berkinerja sangat efektif ketika kelas-kelas dalam data dipisahkan dengan baik berdasarkan support vector.\n",
    "* SVM dapat diterapkan pada masalah klasifikasi dan regresi.\n",
    "\n",
    "## Kelemahan SVM\n",
    "\n",
    "* SVM tidak bekerja secara efektif ketika kelas-kelas dalam data tidak terpisah dengan baik satu sama lain, yang menandakan adanya kelas-kelas yang tumpang tindih.\n",
    "* Pemilihan kernel terbaik untuk SVM merupakan pekerjaan yang menantang.\n",
    "* Sebagai perbandingan, pelatihan SVM pada kumpulan data besar memerlukan lebih banyak waktu."
   ]
  },
  {
   "cell_type": "markdown",
   "id": "58b16246",
   "metadata": {},
   "source": [
    "# Additional: Others Machine Learning Model"
   ]
  },
  {
   "cell_type": "markdown",
   "id": "7a7f4f49",
   "metadata": {},
   "source": [
    "Creating a model in Python using sklearn is relatively easy and involves a few lines of code. The library offers a consistent API that allows developers to switch between different algorithms with minimal effort. Moreover, sklearn offers a range of preprocessing and evaluation tools that can streamline the entire machine learning pipeline from data preparation to model evaluation.\n",
    "\n",
    "Some of the popular supervised learning algorithms available in sklearn include linear regression, logistic regression, decision trees, random forests, support vector machines, and neural networks. Each of these algorithms has its strengths and weaknesses and is suitable for different types of problems. For example, linear regression is often used for regression tasks with a continuous target variable, while decision trees are commonly used for classification tasks. Here are some popular supervised learning algorithms in sklearn Python library:"
   ]
  },
  {
   "cell_type": "markdown",
   "id": "f708f03d",
   "metadata": {},
   "source": [
    "1. **Linear Regression**\n",
    "\n",
    "Linear regression is a popular supervised learning algorithm that is widely used in machine learning. It is a simple algorithm that models the **linear relationship between a dependent variable and one or more independent variables**. \n",
    "\n",
    "In Python, linear regression can be easily implemented using the Scikit-Learn library, also known as sklearn. The library provides several classes for implementing linear regression models, including LinearRegression, Lasso, and Ridge.\n",
    "\n",
    "To implement linear regression in sklearn, we first need to split our data into training and testing sets. We can then create an instance of the LinearRegression class and fit the model to the training data using the `fit()` method. Once the model is trained, we can use it to make predictions on the testing data using the `predict()` method.\n",
    "\n",
    "One of the key advantages of using linear regression is its **interpretability**. It allows us to easily understand the relationship between the dependent variable and independent variables. For example, in a simple linear regression model with one independent variable, the slope of the line represents the change in the dependent variable for a one-unit change in the independent variable.\n",
    "\n",
    "Linear regression is widely used in a variety of applications, such as predicting housing prices, stock prices, and sales revenue. However, it is important to note that linear regression assumes a linear relationship between the dependent and independent variables, which may not always be the case in real-world scenarios. Therefore, it is important to evaluate the performance of the model and consider other algorithms if necessary."
   ]
  },
  {
   "cell_type": "code",
   "execution_count": null,
   "id": "55d3ab49",
   "metadata": {},
   "outputs": [],
   "source": [
    "# import library untuk regresi linier\n",
    "from sklearn.linear_model import LinearRegression\n",
    "\n",
    "# buat objek model\n",
    "model_linear = LinearRegression()\n",
    "\n",
    "# proses fit (belajar)\n",
    "model_linear.fit(X_train, y_train)"
   ]
  },
  {
   "cell_type": "code",
   "execution_count": null,
   "id": "b6792e73",
   "metadata": {},
   "outputs": [],
   "source": [
    "# proses prediksi\n",
    "model_linear.predict(X_test)"
   ]
  },
  {
   "cell_type": "markdown",
   "id": "ceed2d05",
   "metadata": {},
   "source": [
    "2. **Logistic Regression**\n",
    "\n",
    "Logistic regression is a popular classification algorithm that predicts the **probability of an input belonging to a particular class**. It is a supervised learning algorithm that is widely used in various fields such as finance, healthcare, marketing, and more. \n",
    "\n",
    "In scikit-learn (sklearn), logistic regression can be implemented using the `LogisticRegression` class. The model works by fitting a logistic function to the input data, which maps the input features to the predicted probabilities of the output classes. The logistic function used in logistic regression is called the sigmoid function, which takes any real-valued number as input and outputs a probability between 0 and 1.\n",
    "\n",
    "To use logistic regression in sklearn, we first import the `LogisticRegression` class from the `linear_model` module. We can then create an instance of the class and fit the model to our training data using the `fit` method. Once the model is trained, we can use it to predict the class probabilities of new input data using the `predict_proba` method or directly predict the class labels using the `predict` method.\n",
    "\n",
    "In addition to the basic logistic regression algorithm, sklearn also provides various extensions to logistic regression, such as regularized logistic regression, multi-class logistic regression, and imbalanced classification using weighted logistic regression. These extensions can be helpful in dealing with more complex classification problems."
   ]
  },
  {
   "cell_type": "code",
   "execution_count": null,
   "id": "1c0bd9b0",
   "metadata": {},
   "outputs": [],
   "source": [
    "# import library untuk klasifikasi menggunakan regresi logistik\n",
    "from sklearn.linear_model import LogisticRegression\n",
    "\n",
    "# buat objek model\n",
    "model_logistic = LogisticRegression()\n",
    "\n",
    "# proses fit (belajar)\n",
    "model_logistic.fit(X_train, y_train)"
   ]
  },
  {
   "cell_type": "code",
   "execution_count": null,
   "id": "7caa6ca9",
   "metadata": {},
   "outputs": [],
   "source": [
    "# proses prediksi\n",
    "model_logistic.predict(X_test)"
   ]
  },
  {
   "cell_type": "markdown",
   "id": "35da2bdc",
   "metadata": {},
   "source": [
    "3. **Decision Tree**\n",
    "\n",
    "Decision tree is a popular machine learning algorithm used for both classification and regression tasks. The algorithm creates a tree-like model of decisions and their possible consequences based on a set of input features. Each internal node of the tree represents a decision based on a particular feature, and each leaf node represents a classification or regression value.\n",
    "\n",
    "In sklearn, the DecisionTreeClassifier and DecisionTreeRegressor classes are used for classification and regression tasks, respectively. The algorithm works by recursively splitting the data based on the feature that provides the best split, which is determined by maximizing a criterion such as information gain or Gini impurity. The process continues until the tree is fully grown, or until a stopping criterion is met, such as reaching a maximum depth or a minimum number of samples required to split a node.\n",
    "\n",
    "One advantage of decision trees is their interpretability, as the resulting model can be visualized and easily understood. However, decision trees can also be prone to overfitting, which can be mitigated by tuning hyperparameters such as the maximum depth, minimum number of samples required to split a node, and the criterion used for splitting. Additionally, ensemble methods such as random forests and gradient boosting can be used to improve the performance of decision trees."
   ]
  },
  {
   "cell_type": "code",
   "execution_count": null,
   "id": "3b76ee08",
   "metadata": {},
   "outputs": [],
   "source": [
    "# import library untuk klasifikasi menggunakan Decision Tree\n",
    "from sklearn.tree import DecisionTreeClassifier\n",
    "\n",
    "# buat objek model\n",
    "model_tree = DecisionTreeClassifier()\n",
    "\n",
    "# proses fit (belajar)\n",
    "model_tree.fit(X_train, y_train)"
   ]
  },
  {
   "cell_type": "code",
   "execution_count": null,
   "id": "4ffeceae",
   "metadata": {},
   "outputs": [],
   "source": [
    "# proses prediksi\n",
    "model_tree.predict(X_test)"
   ]
  },
  {
   "cell_type": "markdown",
   "id": "aad3b501",
   "metadata": {},
   "source": [
    "> And etc, reference for all model in `sklearn`: https://scikit-learn.org/stable/supervised_learning.html"
   ]
  },
  {
   "cell_type": "markdown",
   "id": "d699c863",
   "metadata": {},
   "source": [
    "# Reference\n",
    "\n",
    "1.   Practical Statistics For Data Scientists 50 Essential Concepts, Peter Bruce, Andrew Bruce, O'Reilly, 2017, Edition 2\n",
    "2.   Hastie, T., Friedman, J., &amp; Tisbshirani, R. (2017). The elements of Statistical Learning: Data Mining, Inference, and prediction. Springer. \n",
    "3. Müller Andreas C., &amp; Guido, S. (2018). Introduction to machine learning with python: A guide for data scientists. O'Reilly Media, Inc. \n",
    "4. Master Machine Learning Algorithms: Discover How They Work and Implement Them From Scratch. 2016. Jason Brownlee. Machine Learning Mastery, http://machinelearningmastery.com/\n",
    "5. Materials for scikit-learn Tutorial. 2019. Jake Vanderplas. https://github.com/jakevdp/sklearn_tutorial/, BSD-3-Clause license, Google (Oakland CA)\n"
   ]
  }
 ],
 "metadata": {
  "kernelspec": {
   "display_name": "Python 3 (ipykernel)",
   "language": "python",
   "name": "python3"
  },
  "language_info": {
   "codemirror_mode": {
    "name": "ipython",
    "version": 3
   },
   "file_extension": ".py",
   "mimetype": "text/x-python",
   "name": "python",
   "nbconvert_exporter": "python",
   "pygments_lexer": "ipython3",
   "version": "3.10.14"
  }
 },
 "nbformat": 4,
 "nbformat_minor": 5
}
